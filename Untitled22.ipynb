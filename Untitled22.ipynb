{
 "cells": [
  {
   "cell_type": "code",
   "execution_count": null,
   "id": "de720c1c-9472-4e9e-83f4-2e275110c0d6",
   "metadata": {},
   "outputs": [],
   "source": [
    "from multiprocessing import Pool\n",
    "from multiprocessing import cpu_count\n",
    "\n",
    "def f(x):\n",
    "    import time\n",
    "    t_end = time.time() + 60 * 15\n",
    "    while time.time() < t_end:\n",
    "        x*x\n",
    "\n",
    "if __name__ == '__main__':\n",
    "    processes = cpu_count()\n",
    "    pool = Pool(processes)\n",
    "    pool.map(f, range(processes))"
   ]
  },
  {
   "cell_type": "code",
   "execution_count": null,
   "id": "3919bc65-9379-4c5b-b4b2-6bcac46dfb7b",
   "metadata": {},
   "outputs": [],
   "source": []
  }
 ],
 "metadata": {
  "kernelspec": {
   "display_name": "Python 3",
   "language": "python",
   "name": "python3"
  },
  "language_info": {
   "codemirror_mode": {
    "name": "ipython",
    "version": 3
   },
   "file_extension": ".py",
   "mimetype": "text/x-python",
   "name": "python",
   "nbconvert_exporter": "python",
   "pygments_lexer": "ipython3",
   "version": "3.7.10"
  }
 },
 "nbformat": 4,
 "nbformat_minor": 5
}
