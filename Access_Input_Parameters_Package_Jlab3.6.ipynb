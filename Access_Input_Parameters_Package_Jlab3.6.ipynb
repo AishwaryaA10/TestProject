{
 "cells": [
  {
   "cell_type": "code",
   "execution_count": 1,
   "id": "7de1287c",
   "metadata": {},
   "outputs": [],
   "source": [
    "import os"
   ]
  },
  {
   "cell_type": "code",
   "execution_count": null,
   "id": "c02ee1ed",
   "metadata": {},
   "outputs": [],
   "source": []
  },
  {
   "cell_type": "code",
   "execution_count": 2,
   "id": "618283dd",
   "metadata": {},
   "outputs": [
    {
     "ename": "AssertionError",
     "evalue": "",
     "output_type": "error",
     "traceback": [
      "\u001b[0;31m---------------------------------------------------------------------------\u001b[0m",
      "\u001b[0;31mAssertionError\u001b[0m                            Traceback (most recent call last)",
      "Cell \u001b[0;32mIn[2], line 1\u001b[0m\n\u001b[0;32m----> 1\u001b[0m \u001b[38;5;28;01massert\u001b[39;00m os\u001b[38;5;241m.\u001b[39menviron\u001b[38;5;241m.\u001b[39mget(\u001b[38;5;124m'\u001b[39m\u001b[38;5;124mUser_Level_NormalV\u001b[39m\u001b[38;5;124m'\u001b[39m) \u001b[38;5;241m==\u001b[39m \u001b[38;5;124m'\u001b[39m\u001b[38;5;124mUser_Level_Normal_Value\u001b[39m\u001b[38;5;124m'\u001b[39m\n\u001b[1;32m      2\u001b[0m \u001b[38;5;28;01massert\u001b[39;00m os\u001b[38;5;241m.\u001b[39menviron\u001b[38;5;241m.\u001b[39mget(\u001b[38;5;124m'\u001b[39m\u001b[38;5;124mUser_Level_SecureV\u001b[39m\u001b[38;5;124m'\u001b[39m) \u001b[38;5;241m==\u001b[39m \u001b[38;5;124m'\u001b[39m\u001b[38;5;124mUser_Level_Secure_Value\u001b[39m\u001b[38;5;124m'\u001b[39m\n\u001b[1;32m      3\u001b[0m \u001b[38;5;28;01massert\u001b[39;00m os\u001b[38;5;241m.\u001b[39menviron\u001b[38;5;241m.\u001b[39mget(\u001b[38;5;124m'\u001b[39m\u001b[38;5;124mProject_Level_NormalV\u001b[39m\u001b[38;5;124m'\u001b[39m) \u001b[38;5;241m==\u001b[39m \u001b[38;5;124m'\u001b[39m\u001b[38;5;124mProject_Level_Normal_Value\u001b[39m\u001b[38;5;124m'\u001b[39m\n",
      "\u001b[0;31mAssertionError\u001b[0m: "
     ]
    }
   ],
   "source": [
    "assert os.environ.get('User_Level_NormalV') == 'User_Level_Normal_Value'\n",
    "assert os.environ.get('User_Level_SecureV') == 'User_Level_Secure_Value'\n",
    "assert os.environ.get('Project_Level_NormalV') == 'Project_Level_Normal_Value'\n",
    "assert os.environ.get('Project_Level_SecureV') == 'Project_Level_Secure_Value'\n",
    "assert os.environ.get('Template_Level_Normal') == 'Template_Level_Normal_Value'\n",
    "assert os.environ.get('Template_Level_Secure') == 'Template_Level_Secured_Value'"
   ]
  },
  {
   "cell_type": "code",
   "execution_count": 1,
   "id": "b12eee84",
   "metadata": {},
   "outputs": [],
   "source": [
    "import category_encoders\n",
    "import sklearn\n",
    "import sanic"
   ]
  },
  {
   "cell_type": "code",
   "execution_count": null,
   "id": "898cbfa5",
   "metadata": {},
   "outputs": [],
   "source": [
    "assert category_encoders.__version__ == \"2.4.0\"\n",
    "assert sklearn.__version__ == \"0.24.2\"\n",
    "assert sanic.__version__ == \"20.9.1\""
   ]
  },
  {
   "cell_type": "code",
   "execution_count": null,
   "id": "6904590e",
   "metadata": {},
   "outputs": [],
   "source": [
    "assert \"/tmp\" in category_encoders.__file__\n",
    "assert \"/tmp\" in sklearn.__file__\n",
    "assert \"/Jupyterlab-3.6\" in sanic.__file__"
   ]
  },
  {
   "cell_type": "code",
   "execution_count": null,
   "id": "79e7d605-607c-49c9-a5b6-15c74641aba6",
   "metadata": {},
   "outputs": [],
   "source": [
    "print(\"Hello\")"
   ]
  }
 ],
 "metadata": {
  "kernelspec": {
   "display_name": "base",
   "language": "python",
   "name": "python3"
  },
  "language_info": {
   "codemirror_mode": {
    "name": "ipython",
    "version": 3
   },
   "file_extension": ".py",
   "mimetype": "text/x-python",
   "name": "python",
   "nbconvert_exporter": "python",
   "pygments_lexer": "ipython3",
   "version": "3.10.15"
  }
 },
 "nbformat": 4,
 "nbformat_minor": 5
}
