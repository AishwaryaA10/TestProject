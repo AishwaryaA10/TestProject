{
 "cells": [
  {
   "cell_type": "code",
   "execution_count": null,
   "id": "19de00fe-38a2-4d1d-bc02-eb0f7eaa5697",
   "metadata": {},
   "outputs": [
    {
     "name": "stdout",
     "output_type": "stream",
     "text": [
      "Collecting fosforml\n",
      "  Downloading fosforml-1.1.9-py3-none-any.whl.metadata (10 kB)\n",
      "Collecting cloudpickle==2.2.1 (from fosforml)\n",
      "  Downloading cloudpickle-2.2.1-py3-none-any.whl.metadata (6.9 kB)\n",
      "Collecting snowflake-ml-python==1.5.1 (from fosforml)\n",
      "  Downloading snowflake_ml_python-1.5.1-py3-none-any.whl.metadata (52 kB)\n",
      "Collecting scikit-learn==1.3.2 (from fosforml)\n",
      "  Downloading scikit_learn-1.3.2-cp310-cp310-manylinux_2_17_x86_64.manylinux2014_x86_64.whl.metadata (11 kB)\n",
      "Collecting numpy<2.0,>=1.17.3 (from scikit-learn==1.3.2->fosforml)\n",
      "  Downloading numpy-1.26.4-cp310-cp310-manylinux_2_17_x86_64.manylinux2014_x86_64.whl.metadata (61 kB)\n",
      "Collecting scipy>=1.5.0 (from scikit-learn==1.3.2->fosforml)\n",
      "  Downloading scipy-1.15.1-cp310-cp310-manylinux_2_17_x86_64.manylinux2014_x86_64.whl.metadata (61 kB)\n",
      "Collecting joblib>=1.1.1 (from scikit-learn==1.3.2->fosforml)\n",
      "  Downloading joblib-1.4.2-py3-none-any.whl.metadata (5.4 kB)\n",
      "Collecting threadpoolctl>=2.0.0 (from scikit-learn==1.3.2->fosforml)\n",
      "  Downloading threadpoolctl-3.5.0-py3-none-any.whl.metadata (13 kB)\n",
      "Collecting absl-py<2,>=0.15 (from snowflake-ml-python==1.5.1->fosforml)\n",
      "  Downloading absl_py-1.4.0-py3-none-any.whl.metadata (2.3 kB)\n",
      "Collecting anyio<4,>=3.5.0 (from snowflake-ml-python==1.5.1->fosforml)\n",
      "  Downloading anyio-3.7.1-py3-none-any.whl.metadata (4.7 kB)\n",
      "Collecting cachetools<6,>=3.1.1 (from snowflake-ml-python==1.5.1->fosforml)\n",
      "  Downloading cachetools-5.5.0-py3-none-any.whl.metadata (5.3 kB)\n",
      "Collecting fsspec<2024,>=2022.11 (from fsspec[http]<2024,>=2022.11->snowflake-ml-python==1.5.1->fosforml)\n",
      "  Downloading fsspec-2023.12.2-py3-none-any.whl.metadata (6.8 kB)\n",
      "Collecting importlib-resources<7,>=6.1.1 (from snowflake-ml-python==1.5.1->fosforml)\n",
      "  Downloading importlib_resources-6.5.2-py3-none-any.whl.metadata (3.9 kB)\n",
      "Collecting packaging<24,>=20.9 (from snowflake-ml-python==1.5.1->fosforml)\n",
      "  Downloading packaging-23.2-py3-none-any.whl.metadata (3.2 kB)\n",
      "Collecting pandas<3,>=1.0.0 (from snowflake-ml-python==1.5.1->fosforml)\n",
      "  Downloading pandas-2.2.3-cp310-cp310-manylinux_2_17_x86_64.manylinux2014_x86_64.whl.metadata (89 kB)\n",
      "Collecting pyarrow (from snowflake-ml-python==1.5.1->fosforml)\n",
      "  Downloading pyarrow-19.0.0-cp310-cp310-manylinux_2_28_x86_64.whl.metadata (3.3 kB)\n",
      "Collecting pytimeparse<2,>=1.1.8 (from snowflake-ml-python==1.5.1->fosforml)\n",
      "  Downloading pytimeparse-1.1.8-py2.py3-none-any.whl.metadata (3.4 kB)\n",
      "Collecting pyyaml<7,>=6.0 (from snowflake-ml-python==1.5.1->fosforml)\n",
      "  Downloading PyYAML-6.0.2-cp310-cp310-manylinux_2_17_x86_64.manylinux2014_x86_64.whl.metadata (2.1 kB)\n",
      "Collecting retrying<2,>=1.3.3 (from snowflake-ml-python==1.5.1->fosforml)\n",
      "  Downloading retrying-1.3.4-py3-none-any.whl.metadata (6.9 kB)\n",
      "Collecting s3fs<2024,>=2022.11 (from snowflake-ml-python==1.5.1->fosforml)\n",
      "  Downloading s3fs-2023.12.2-py3-none-any.whl.metadata (1.6 kB)\n",
      "Collecting snowflake-connector-python<4,>=3.5.0 (from snowflake-connector-python[pandas]<4,>=3.5.0->snowflake-ml-python==1.5.1->fosforml)\n",
      "  Downloading snowflake_connector_python-3.12.4-cp310-cp310-manylinux_2_17_x86_64.manylinux2014_x86_64.whl.metadata (65 kB)\n",
      "Collecting snowflake-snowpark-python!=1.12.0,<2,>=1.11.1 (from snowflake-ml-python==1.5.1->fosforml)\n",
      "  Downloading snowflake_snowpark_python-1.26.0-py3-none-any.whl.metadata (113 kB)\n",
      "Collecting sqlparse<1,>=0.4 (from snowflake-ml-python==1.5.1->fosforml)\n",
      "  Downloading sqlparse-0.5.3-py3-none-any.whl.metadata (3.9 kB)\n",
      "Collecting typing-extensions<5,>=4.1.0 (from snowflake-ml-python==1.5.1->fosforml)\n",
      "  Downloading typing_extensions-4.12.2-py3-none-any.whl.metadata (3.0 kB)\n",
      "Collecting xgboost<2,>=1.7.3 (from snowflake-ml-python==1.5.1->fosforml)\n",
      "  Downloading xgboost-1.7.6-py3-none-manylinux2014_x86_64.whl.metadata (1.9 kB)\n",
      "Collecting idna>=2.8 (from anyio<4,>=3.5.0->snowflake-ml-python==1.5.1->fosforml)\n",
      "  Downloading idna-3.10-py3-none-any.whl.metadata (10 kB)\n",
      "Collecting sniffio>=1.1 (from anyio<4,>=3.5.0->snowflake-ml-python==1.5.1->fosforml)\n",
      "  Downloading sniffio-1.3.1-py3-none-any.whl.metadata (3.9 kB)\n",
      "Collecting exceptiongroup (from anyio<4,>=3.5.0->snowflake-ml-python==1.5.1->fosforml)\n",
      "  Downloading exceptiongroup-1.2.2-py3-none-any.whl.metadata (6.6 kB)\n",
      "Collecting requests (from fsspec[http]<2024,>=2022.11->snowflake-ml-python==1.5.1->fosforml)\n",
      "  Downloading requests-2.32.3-py3-none-any.whl.metadata (4.6 kB)\n",
      "Collecting aiohttp!=4.0.0a0,!=4.0.0a1 (from fsspec[http]<2024,>=2022.11->snowflake-ml-python==1.5.1->fosforml)\n",
      "  Downloading aiohttp-3.11.11-cp310-cp310-manylinux_2_17_x86_64.manylinux2014_x86_64.whl.metadata (7.7 kB)\n",
      "Collecting python-dateutil>=2.8.2 (from pandas<3,>=1.0.0->snowflake-ml-python==1.5.1->fosforml)\n",
      "  Downloading python_dateutil-2.9.0.post0-py2.py3-none-any.whl.metadata (8.4 kB)\n",
      "Collecting pytz>=2020.1 (from pandas<3,>=1.0.0->snowflake-ml-python==1.5.1->fosforml)\n",
      "  Downloading pytz-2024.2-py2.py3-none-any.whl.metadata (22 kB)\n",
      "Collecting tzdata>=2022.7 (from pandas<3,>=1.0.0->snowflake-ml-python==1.5.1->fosforml)\n",
      "  Downloading tzdata-2024.2-py2.py3-none-any.whl.metadata (1.4 kB)\n",
      "Collecting six>=1.7.0 (from retrying<2,>=1.3.3->snowflake-ml-python==1.5.1->fosforml)\n",
      "  Downloading six-1.17.0-py2.py3-none-any.whl.metadata (1.7 kB)\n",
      "Collecting aiobotocore<3.0.0,>=2.5.4 (from s3fs<2024,>=2022.11->snowflake-ml-python==1.5.1->fosforml)\n",
      "  Downloading aiobotocore-2.18.0-py3-none-any.whl.metadata (23 kB)\n",
      "Collecting asn1crypto<2.0.0,>0.24.0 (from snowflake-connector-python<4,>=3.5.0->snowflake-connector-python[pandas]<4,>=3.5.0->snowflake-ml-python==1.5.1->fosforml)\n",
      "  Downloading asn1crypto-1.5.1-py2.py3-none-any.whl.metadata (13 kB)\n",
      "Collecting cffi<2.0.0,>=1.9 (from snowflake-connector-python<4,>=3.5.0->snowflake-connector-python[pandas]<4,>=3.5.0->snowflake-ml-python==1.5.1->fosforml)\n",
      "  Downloading cffi-1.17.1-cp310-cp310-manylinux_2_17_x86_64.manylinux2014_x86_64.whl.metadata (1.5 kB)\n",
      "Collecting cryptography>=3.1.0 (from snowflake-connector-python<4,>=3.5.0->snowflake-connector-python[pandas]<4,>=3.5.0->snowflake-ml-python==1.5.1->fosforml)\n",
      "  Downloading cryptography-44.0.0-cp39-abi3-manylinux_2_28_x86_64.whl.metadata (5.7 kB)\n",
      "Collecting pyOpenSSL<25.0.0,>=22.0.0 (from snowflake-connector-python<4,>=3.5.0->snowflake-connector-python[pandas]<4,>=3.5.0->snowflake-ml-python==1.5.1->fosforml)\n",
      "  Downloading pyOpenSSL-24.3.0-py3-none-any.whl.metadata (15 kB)\n",
      "Collecting pyjwt<3.0.0 (from snowflake-connector-python<4,>=3.5.0->snowflake-connector-python[pandas]<4,>=3.5.0->snowflake-ml-python==1.5.1->fosforml)\n",
      "  Downloading PyJWT-2.10.1-py3-none-any.whl.metadata (4.0 kB)\n",
      "Collecting charset_normalizer<4,>=2 (from snowflake-connector-python<4,>=3.5.0->snowflake-connector-python[pandas]<4,>=3.5.0->snowflake-ml-python==1.5.1->fosforml)\n",
      "  Downloading charset_normalizer-3.4.1-cp310-cp310-manylinux_2_17_x86_64.manylinux2014_x86_64.whl.metadata (35 kB)\n",
      "Collecting certifi>=2017.4.17 (from snowflake-connector-python<4,>=3.5.0->snowflake-connector-python[pandas]<4,>=3.5.0->snowflake-ml-python==1.5.1->fosforml)\n",
      "  Downloading certifi-2024.12.14-py3-none-any.whl.metadata (2.3 kB)\n",
      "Collecting filelock<4,>=3.5 (from snowflake-connector-python<4,>=3.5.0->snowflake-connector-python[pandas]<4,>=3.5.0->snowflake-ml-python==1.5.1->fosforml)\n",
      "  Downloading filelock-3.16.1-py3-none-any.whl.metadata (2.9 kB)\n",
      "Collecting sortedcontainers>=2.4.0 (from snowflake-connector-python<4,>=3.5.0->snowflake-connector-python[pandas]<4,>=3.5.0->snowflake-ml-python==1.5.1->fosforml)\n",
      "  Downloading sortedcontainers-2.4.0-py2.py3-none-any.whl.metadata (10 kB)\n",
      "Collecting platformdirs<5.0.0,>=2.6.0 (from snowflake-connector-python<4,>=3.5.0->snowflake-connector-python[pandas]<4,>=3.5.0->snowflake-ml-python==1.5.1->fosforml)\n",
      "  Downloading platformdirs-4.3.6-py3-none-any.whl.metadata (11 kB)\n",
      "Collecting tomlkit (from snowflake-connector-python<4,>=3.5.0->snowflake-connector-python[pandas]<4,>=3.5.0->snowflake-ml-python==1.5.1->fosforml)\n",
      "  Downloading tomlkit-0.13.2-py3-none-any.whl.metadata (2.7 kB)\n",
      "Collecting setuptools>=40.6.0 (from snowflake-snowpark-python!=1.12.0,<2,>=1.11.1->snowflake-ml-python==1.5.1->fosforml)\n",
      "  Downloading setuptools-75.8.0-py3-none-any.whl.metadata (6.7 kB)\n",
      "Collecting wheel (from snowflake-snowpark-python!=1.12.0,<2,>=1.11.1->snowflake-ml-python==1.5.1->fosforml)\n",
      "  Downloading wheel-0.45.1-py3-none-any.whl.metadata (2.3 kB)\n",
      "Collecting protobuf<6,>=3.20 (from snowflake-snowpark-python!=1.12.0,<2,>=1.11.1->snowflake-ml-python==1.5.1->fosforml)\n",
      "  Downloading protobuf-5.29.3-cp38-abi3-manylinux2014_x86_64.whl.metadata (592 bytes)\n",
      "Collecting tzlocal (from snowflake-snowpark-python!=1.12.0,<2,>=1.11.1->snowflake-ml-python==1.5.1->fosforml)\n",
      "  Downloading tzlocal-5.2-py3-none-any.whl.metadata (7.8 kB)\n",
      "Collecting aioitertools<1.0.0,>=0.5.1 (from aiobotocore<3.0.0,>=2.5.4->s3fs<2024,>=2022.11->snowflake-ml-python==1.5.1->fosforml)\n",
      "  Downloading aioitertools-0.12.0-py3-none-any.whl.metadata (3.8 kB)\n",
      "Collecting botocore<1.36.2,>=1.36.0 (from aiobotocore<3.0.0,>=2.5.4->s3fs<2024,>=2022.11->snowflake-ml-python==1.5.1->fosforml)\n",
      "  Downloading botocore-1.36.1-py3-none-any.whl.metadata (5.7 kB)\n"
     ]
    }
   ],
   "source": [
    "pip install fosforml"
   ]
  },
  {
   "cell_type": "code",
   "execution_count": null,
   "id": "faf8bdc6-6edf-462a-ad7a-1ad706ac594b",
   "metadata": {},
   "outputs": [],
   "source": [
    "pip show fosforml"
   ]
  },
  {
   "cell_type": "code",
   "execution_count": 1,
   "id": "50b98d50",
   "metadata": {},
   "outputs": [],
   "source": [
    "from fosforml.model_manager.snowflakesession import get_session\n",
    "session = get_session()"
   ]
  },
  {
   "cell_type": "code",
   "execution_count": 2,
   "id": "68fac18e",
   "metadata": {},
   "outputs": [],
   "source": [
    "from snowflake.snowpark.session import Session,col\n",
    "import snowflake.snowpark.functions\n",
    "from snowflake.ml.modeling.metrics import confusion_matrix, accuracy_score, f1_score, recall_score,precision_score\n",
    "from snowflake.ml.modeling.preprocessing import LabelEncoder, StandardScaler\n",
    "from snowflake.ml.modeling.impute import SimpleImputer\n",
    "from snowflake.ml.modeling.ensemble import RandomForestRegressor\n",
    "from snowflake.ml.modeling.pipeline import Pipeline\n",
    "import snowflake"
   ]
  },
  {
   "cell_type": "code",
   "execution_count": 3,
   "id": "49d41f5e",
   "metadata": {},
   "outputs": [],
   "source": [
    "def apply_label_encoding(input_data_frame):\n",
    "    for i in input_data_frame.dtypes:\n",
    "        if i[1].find('string') >= 0:\n",
    "            label_encoder = LabelEncoder(input_cols=i[0],output_cols=i[0],drop_input_cols=True)\n",
    "            input_data_frame = label_encoder.fit(input_data_frame).transform(input_data_frame)\n",
    "    return input_data_frame"
   ]
  },
  {
   "cell_type": "code",
   "execution_count": 4,
   "id": "d4fdf4b9",
   "metadata": {},
   "outputs": [],
   "source": [
    "# import pandas as pd\n",
    "# df = pd.read_csv(\"/notebooks/notebooks/Data/HR_CHURN.csv\")\n",
    "# snow_df = session.create_dataframe(df)\n",
    "# input_data_frame, test_df = snow_df.randomSplit([0.75, 0.25])"
   ]
  },
  {
   "cell_type": "code",
   "execution_count": 4,
   "id": "ae7f5cbe",
   "metadata": {},
   "outputs": [],
   "source": [
    "import pandas as pd\n",
    "df = pd.read_csv(\"/notebooks/notebooks/HR_CHURN_LATEST.csv\")\n",
    "snow_df = session.create_dataframe(df)\n",
    "input_data_frame, test_df = snow_df.randomSplit([0.75, 0.25])"
   ]
  },
  {
   "cell_type": "code",
   "execution_count": 5,
   "id": "1f02d4b3",
   "metadata": {
    "scrolled": true
   },
   "outputs": [
    {
     "name": "stdout",
     "output_type": "stream",
     "text": [
      "-----------------------------------------------------------------------------------------------------------------------------------------------------------------------------------------------------------------------\n",
      "|\"SALARY\"  |\"DEPARTMENT\"  |\"Unnamed: 0\"  |\"SATISFACTION_LEVEL\"  |\"LAST_EVALUATION\"  |\"NUMBER_PROJECTS\"  |\"AVERAGE_MONTHLY_HOURS\"  |\"TIME_SPEND_COMPANY\"  |\"WORK_ACCIDENT\"  |\"LEFT_COMPANY\"  |\"PROMOTION_LAST_5YEARS\"  |\n",
      "-----------------------------------------------------------------------------------------------------------------------------------------------------------------------------------------------------------------------\n",
      "|1.0       |7.0           |0             |0.38                  |0.53               |2                  |157                      |3                     |0                |1               |0                        |\n",
      "|2.0       |7.0           |1             |0.8                   |0.86               |5                  |262                      |6                     |0                |1               |0                        |\n",
      "|2.0       |7.0           |2             |0.11                  |0.88               |7                  |272                      |4                     |0                |1               |0                        |\n",
      "|1.0       |7.0           |4             |0.37                  |0.52               |2                  |159                      |3                     |0                |1               |0                        |\n",
      "|1.0       |7.0           |5             |0.41                  |0.5                |2                  |153                      |3                     |0                |1               |0                        |\n",
      "|1.0       |7.0           |6             |0.1                   |0.77               |6                  |247                      |4                     |0                |1               |0                        |\n",
      "|1.0       |7.0           |7             |0.92                  |0.85               |5                  |259                      |5                     |0                |1               |0                        |\n",
      "|1.0       |7.0           |8             |0.89                  |1.0                |5                  |224                      |5                     |0                |1               |0                        |\n",
      "|1.0       |7.0           |9             |0.42                  |0.53               |2                  |142                      |3                     |0                |1               |0                        |\n",
      "|1.0       |7.0           |10            |0.45                  |0.54               |2                  |135                      |3                     |0                |1               |0                        |\n",
      "-----------------------------------------------------------------------------------------------------------------------------------------------------------------------------------------------------------------------\n",
      "\n"
     ]
    }
   ],
   "source": [
    "label_encoder_column = []     \n",
    "input_data_frame = apply_label_encoding(input_data_frame)\n",
    "feature_cols = input_data_frame.columns\n",
    "target_col = \"SALARY\"\n",
    "feature_cols.remove(target_col)\n",
    "OUTPUT_COLS = [target_col + '_PREDICTION']\n",
    "input_data_frame.show()"
   ]
  },
  {
   "cell_type": "code",
   "execution_count": 6,
   "id": "2d08d49c",
   "metadata": {},
   "outputs": [
    {
     "name": "stderr",
     "output_type": "stream",
     "text": [
      "The version of package 'snowflake-snowpark-python' in the local environment is 1.26.0, which does not fit the criteria for the requirement 'snowflake-snowpark-python'. Your UDF might not work when the package version is different between the server and your local environment.\n",
      "The version of package 'scikit-learn' in the local environment is 1.3.2, which does not fit the criteria for the requirement 'scikit-learn==1.3.0'. Your UDF might not work when the package version is different between the server and your local environment.\n"
     ]
    },
    {
     "data": {
      "text/plain": [
       "<snowflake.ml.modeling.ensemble.random_forest_regressor.RandomForestRegressor at 0x7fa7048df5b0>"
      ]
     },
     "execution_count": 6,
     "metadata": {},
     "output_type": "execute_result"
    }
   ],
   "source": [
    "pipeline = RandomForestRegressor(input_cols=feature_cols, label_cols=target_col)\n",
    "pipeline.fit(input_data_frame)"
   ]
  },
  {
   "cell_type": "code",
   "execution_count": 7,
   "id": "d0e05f10",
   "metadata": {},
   "outputs": [
    {
     "name": "stderr",
     "output_type": "stream",
     "text": [
      "The version of package 'scikit-learn' in the local environment is 1.3.2, which does not fit the criteria for the requirement 'scikit-learn==1.3.0'. Your UDF might not work when the package version is different between the server and your local environment.\n"
     ]
    }
   ],
   "source": [
    "pred_snow_df = pipeline.predict(apply_label_encoding(test_df))"
   ]
  },
  {
   "cell_type": "code",
   "execution_count": 8,
   "id": "1cc192e6",
   "metadata": {},
   "outputs": [],
   "source": [
    "from fosforml import register_model"
   ]
  },
  {
   "cell_type": "code",
   "execution_count": 9,
   "id": "cf512a51",
   "metadata": {},
   "outputs": [
    {
     "name": "stdout",
     "output_type": "stream",
     "text": [
      "Calculating build time metrics\n",
      "\n",
      "Progress: ██████████████████                                                     25.0%\n"
     ]
    },
    {
     "name": "stderr",
     "output_type": "stream",
     "text": [
      "The version of package 'scikit-learn' in the local environment is 1.3.2, which does not fit the criteria for the requirement 'scikit-learn==1.3.*'. Your UDF might not work when the package version is different between the server and your local environment.\n",
      "The version of package 'snowflake-snowpark-python' in the local environment is 1.26.0, which does not fit the criteria for the requirement 'snowflake-snowpark-python'. Your UDF might not work when the package version is different between the server and your local environment.\n"
     ]
    },
    {
     "name": "stdout",
     "output_type": "stream",
     "text": [
      "Calculating build time metrics\n",
      "\n",
      "Progress: ███████████████████████████████████                                    50.0%\n",
      "Calculating build time metrics\n",
      "\n",
      "Progress: ████████████████████████████████████████████████████                   75.0%\n",
      "Calculating build time metrics\n",
      "\n",
      "Progress: ██████████████████████████████████████████████████████████████████████ 100.0%\n"
     ]
    },
    {
     "data": {
      "text/plain": [
       "\"Model 'MODEL_6FE87D1A_0347_44B8_8A78_A94759C49908_FDC_HR_CHURN_1_3_10' registered successfully.\""
      ]
     },
     "execution_count": 9,
     "metadata": {},
     "output_type": "execute_result"
    }
   ],
   "source": [
    "register_model(\n",
    "  model_obj=pipeline,\n",
    "  session=session,\n",
    "  snowflake_df=pred_snow_df,\n",
    "  name=\"HR_Churn_1_3_10\",\n",
    "  description=\"This is a test model\",\n",
    "  flavour=\"snowflake\",\n",
    "    dataset_source=\"HR_CHURN\",\n",
    "  dataset_name=\"Hr_churn\",\n",
    "  datasource_name=\"Hr_churn\",\n",
    "  model_type=\"regression\",\n",
    "  conda_dependencies=[\"scikit-learn==1.3.2\"],\n",
    "  source=\"Notebook\"\n",
    ")"
   ]
  },
  {
   "cell_type": "code",
   "execution_count": null,
   "id": "d151bb10",
   "metadata": {},
   "outputs": [],
   "source": [
    "register_model(\n",
    "  model_obj=pipeline,\n",
    "  session=session,\n",
    "  snowflake_df=pred_snow_df,\n",
    "  name=\"HR_Churn_2_3_10\",\n",
    "  description=\"This is a test model\",\n",
    "  flavour=\"snowflake\",\n",
    "    dataset_source=\"HR_CHURN\",\n",
    "  dataset_name=\"Hr_churn\",\n",
    "  datasource_name=\"Hr_churn\",\n",
    "  model_type=\"regression\",\n",
    "  conda_dependencies=[\"scikit-learn==1.3.2\"],\n",
    "  source=\"Notebook\"\n",
    ")"
   ]
  },
  {
   "cell_type": "code",
   "execution_count": null,
   "id": "4f0da57e",
   "metadata": {},
   "outputs": [],
   "source": [
    "register_model(\n",
    "  model_obj=pipeline,\n",
    "  session=session,\n",
    "  snowflake_df=pred_snow_df,\n",
    "  name=\"HR_Churn_3_3_10\",\n",
    "  description=\"This is a test model\",\n",
    "  flavour=\"snowflake\",\n",
    "    dataset_source=\"HR_CHURN\",\n",
    "  dataset_name=\"Hr_churn\",\n",
    "  datasource_name=\"Hr_churn\",\n",
    "  model_type=\"regression\",\n",
    "  conda_dependencies=[\"scikit-learn==1.3.2\"],\n",
    "  source=\"Notebook\"\n",
    ")"
   ]
  },
  {
   "cell_type": "code",
   "execution_count": null,
   "id": "4255d32d",
   "metadata": {},
   "outputs": [],
   "source": [
    "register_model(\n",
    "  model_obj=pipeline,\n",
    "  session=session,\n",
    "  snowflake_df=pred_snow_df,\n",
    "  name=\"HR_Churn_4_3_10\",\n",
    "  description=\"This is a test model\",\n",
    "  flavour=\"snowflake\",\n",
    "    dataset_source=\"HR_CHURN\",\n",
    "  dataset_name=\"Hr_churn\",\n",
    "  datasource_name=\"Hr_churn\",\n",
    "  model_type=\"regression\",\n",
    "  conda_dependencies=[\"scikit-learn==1.3.2\"],\n",
    "  source=\"Notebook\"\n",
    ")"
   ]
  },
  {
   "cell_type": "code",
   "execution_count": null,
   "id": "b5f4d3e8",
   "metadata": {},
   "outputs": [],
   "source": [
    "register_model(\n",
    "  model_obj=pipeline,\n",
    "  session=session,\n",
    "  snowflake_df=pred_snow_df,\n",
    "  name=\"HR_Churn_5_3_10\",\n",
    "  description=\"This is a test model\",\n",
    "  flavour=\"snowflake\",\n",
    "    dataset_source=\"HR_CHURN\",\n",
    "  dataset_name=\"Hr_churn\",\n",
    "  datasource_name=\"Hr_churn\",\n",
    "  model_type=\"regression\",\n",
    "  conda_dependencies=[\"scikit-learn==1.3.2\"],\n",
    "  source=\"Notebook\"\n",
    ")"
   ]
  }
 ],
 "metadata": {
  "kernelspec": {
   "display_name": "base",
   "language": "python",
   "name": "python3"
  },
  "language_info": {
   "codemirror_mode": {
    "name": "ipython",
    "version": 3
   },
   "file_extension": ".py",
   "mimetype": "text/x-python",
   "name": "python",
   "nbconvert_exporter": "python",
   "pygments_lexer": "ipython3",
   "version": "3.10.15"
  }
 },
 "nbformat": 4,
 "nbformat_minor": 5
}
