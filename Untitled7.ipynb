{
 "cells": [
  {
   "cell_type": "code",
   "execution_count": 1,
   "id": "49abd343",
   "metadata": {},
   "outputs": [
    {
     "name": "stdout",
     "output_type": "stream",
     "text": [
      "Hello\n"
     ]
    }
   ],
   "source": [
    "print (\"Hello\")"
   ]
  },
  {
   "cell_type": "code",
   "execution_count": 1,
   "id": "68059bbc-b800-4b58-84bb-361c468af6b3",
   "metadata": {},
   "outputs": [
    {
     "name": "stdout",
     "output_type": "stream",
     "text": [
      "auto commit\n"
     ]
    }
   ],
   "source": [
    "print(\"auto commit\")"
   ]
  },
  {
   "cell_type": "code",
   "execution_count": 2,
   "id": "052ca07f",
   "metadata": {},
   "outputs": [
    {
     "name": "stdout",
     "output_type": "stream",
     "text": [
      "Test\n"
     ]
    }
   ],
   "source": [
    "print (\"Test\")"
   ]
  },
  {
   "cell_type": "code",
   "execution_count": 2,
   "id": "8eaef5fd-9010-4b31-a109-a5a0818ce47f",
   "metadata": {},
   "outputs": [
    {
     "name": "stdout",
     "output_type": "stream",
     "text": [
      "manual commit\n"
     ]
    }
   ],
   "source": [
    "print(\"manual commit\")"
   ]
  },
  {
   "cell_type": "code",
   "execution_count": null,
   "id": "769d6a6f-253c-47b9-ae88-4bd0fbecd734",
   "metadata": {},
   "outputs": [],
   "source": []
  }
 ],
 "metadata": {
  "kernelspec": {
   "display_name": "Python 3",
   "language": "python",
   "name": "python3"
  },
  "language_info": {
   "codemirror_mode": {
    "name": "ipython",
    "version": 3
   },
   "file_extension": ".py",
   "mimetype": "text/x-python",
   "name": "python",
   "nbconvert_exporter": "python",
   "pygments_lexer": "ipython3",
   "version": "3.7.12"
  }
 },
 "nbformat": 4,
 "nbformat_minor": 5
}
