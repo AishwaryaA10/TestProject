{
 "cells": [
  {
   "cell_type": "code",
   "execution_count": 1,
   "id": "b1618fe3",
   "metadata": {},
   "outputs": [],
   "source": [
    "import matplotlib\n"
   ]
  },
  {
   "cell_type": "code",
   "execution_count": 4,
   "id": "ee4143b9",
   "metadata": {},
   "outputs": [
    {
     "data": {
      "text/plain": [
       "'/testPVC/zdrivepackages1/Python/301c8c5f-72b4-47a5-b370-e730b93753bb/3.7/matplotlib/__init__.py'"
      ]
     },
     "execution_count": 4,
     "metadata": {},
     "output_type": "execute_result"
    }
   ],
   "source": [
    "matplotlib.__file__"
   ]
  },
  {
   "cell_type": "code",
   "execution_count": null,
   "id": "4de88381",
   "metadata": {},
   "outputs": [],
   "source": [
    "print(\"auto commit\")"
   ]
  }
 ],
 "metadata": {
  "kernelspec": {
   "display_name": "Python 3",
   "language": "python",
   "name": "python3"
  },
  "language_info": {
   "codemirror_mode": {
    "name": "ipython",
    "version": 3
   },
   "file_extension": ".py",
   "mimetype": "text/x-python",
   "name": "python",
   "nbconvert_exporter": "python",
   "pygments_lexer": "ipython3",
   "version": "3.7.12"
  }
 },
 "nbformat": 4,
 "nbformat_minor": 5
}
