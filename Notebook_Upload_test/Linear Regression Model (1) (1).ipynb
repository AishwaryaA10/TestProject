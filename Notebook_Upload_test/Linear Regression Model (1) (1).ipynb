{
 "cells": [
  {
   "cell_type": "code",
   "execution_count": 1,
   "id": "cccbb54a-e091-45d8-918c-b864f0aaf8a6",
   "metadata": {},
   "outputs": [],
   "source": [
    "import numpy as np\n",
    "import pandas as pd\n",
    "from snowflake.ml.modeling.xgboost import XGBClassifier, XGBRegressor\n",
    "from snowflake.ml.modeling.linear_model import LinearRegression\n",
    "import snowflake.snowpark.functions as F\n",
    "from snowflake.snowpark.types import StructType, StructField, DoubleType, StringType, DecimalType\n",
    "from snowflake.ml.modeling.pipeline import Pipeline\n",
    "from snowflake.ml.modeling.metrics.correlation import correlation"
   ]
  },
  {
   "cell_type": "code",
   "execution_count": 2,
   "id": "d4fad89a-b45c-43b0-aab0-ff04240ea684",
   "metadata": {},
   "outputs": [
    {
     "data": {
      "text/plain": [
       "<snowflake.snowpark.session.Session at 0x7f528881d360>"
      ]
     },
     "execution_count": 2,
     "metadata": {},
     "output_type": "execute_result"
    }
   ],
   "source": [
    "from fosforml.model_manager.snowflakesession import get_session\n",
    "session = get_session()\n",
    "session"
   ]
  },
  {
   "cell_type": "code",
   "execution_count": null,
   "id": "a26f32cc-5b23-4d06-ac35-6ece919ea390",
   "metadata": {},
   "outputs": [
    {
     "ename": "FileNotFoundError",
     "evalue": "[Errno 2] No such file or directory: 'Notebooks/Notebooks/Notebook_Upload_test/diamonds.csv'",
     "output_type": "error",
     "traceback": [
      "\u001b[0;31m---------------------------------------------------------------------------\u001b[0m",
      "\u001b[0;31mFileNotFoundError\u001b[0m                         Traceback (most recent call last)",
      "Cell \u001b[0;32mIn[4], line 1\u001b[0m\n\u001b[0;32m----> 1\u001b[0m diamonds \u001b[38;5;241m=\u001b[39m \u001b[43mpd\u001b[49m\u001b[38;5;241;43m.\u001b[39;49m\u001b[43mread_csv\u001b[49m\u001b[43m(\u001b[49m\u001b[38;5;124;43m'\u001b[39;49m\u001b[38;5;124;43mNotebooks/Notebooks/Notebook_Upload_test/diamonds.csv\u001b[39;49m\u001b[38;5;124;43m'\u001b[39;49m\u001b[43m)\u001b[49m\n",
      "File \u001b[0;32m/opt/conda/lib/python3.10/site-packages/pandas/io/parsers/readers.py:1026\u001b[0m, in \u001b[0;36mread_csv\u001b[0;34m(filepath_or_buffer, sep, delimiter, header, names, index_col, usecols, dtype, engine, converters, true_values, false_values, skipinitialspace, skiprows, skipfooter, nrows, na_values, keep_default_na, na_filter, verbose, skip_blank_lines, parse_dates, infer_datetime_format, keep_date_col, date_parser, date_format, dayfirst, cache_dates, iterator, chunksize, compression, thousands, decimal, lineterminator, quotechar, quoting, doublequote, escapechar, comment, encoding, encoding_errors, dialect, on_bad_lines, delim_whitespace, low_memory, memory_map, float_precision, storage_options, dtype_backend)\u001b[0m\n\u001b[1;32m   1013\u001b[0m kwds_defaults \u001b[38;5;241m=\u001b[39m _refine_defaults_read(\n\u001b[1;32m   1014\u001b[0m     dialect,\n\u001b[1;32m   1015\u001b[0m     delimiter,\n\u001b[0;32m   (...)\u001b[0m\n\u001b[1;32m   1022\u001b[0m     dtype_backend\u001b[38;5;241m=\u001b[39mdtype_backend,\n\u001b[1;32m   1023\u001b[0m )\n\u001b[1;32m   1024\u001b[0m kwds\u001b[38;5;241m.\u001b[39mupdate(kwds_defaults)\n\u001b[0;32m-> 1026\u001b[0m \u001b[38;5;28;01mreturn\u001b[39;00m \u001b[43m_read\u001b[49m\u001b[43m(\u001b[49m\u001b[43mfilepath_or_buffer\u001b[49m\u001b[43m,\u001b[49m\u001b[43m \u001b[49m\u001b[43mkwds\u001b[49m\u001b[43m)\u001b[49m\n",
      "File \u001b[0;32m/opt/conda/lib/python3.10/site-packages/pandas/io/parsers/readers.py:620\u001b[0m, in \u001b[0;36m_read\u001b[0;34m(filepath_or_buffer, kwds)\u001b[0m\n\u001b[1;32m    617\u001b[0m _validate_names(kwds\u001b[38;5;241m.\u001b[39mget(\u001b[38;5;124m\"\u001b[39m\u001b[38;5;124mnames\u001b[39m\u001b[38;5;124m\"\u001b[39m, \u001b[38;5;28;01mNone\u001b[39;00m))\n\u001b[1;32m    619\u001b[0m \u001b[38;5;66;03m# Create the parser.\u001b[39;00m\n\u001b[0;32m--> 620\u001b[0m parser \u001b[38;5;241m=\u001b[39m \u001b[43mTextFileReader\u001b[49m\u001b[43m(\u001b[49m\u001b[43mfilepath_or_buffer\u001b[49m\u001b[43m,\u001b[49m\u001b[43m \u001b[49m\u001b[38;5;241;43m*\u001b[39;49m\u001b[38;5;241;43m*\u001b[39;49m\u001b[43mkwds\u001b[49m\u001b[43m)\u001b[49m\n\u001b[1;32m    622\u001b[0m \u001b[38;5;28;01mif\u001b[39;00m chunksize \u001b[38;5;129;01mor\u001b[39;00m iterator:\n\u001b[1;32m    623\u001b[0m     \u001b[38;5;28;01mreturn\u001b[39;00m parser\n",
      "File \u001b[0;32m/opt/conda/lib/python3.10/site-packages/pandas/io/parsers/readers.py:1620\u001b[0m, in \u001b[0;36mTextFileReader.__init__\u001b[0;34m(self, f, engine, **kwds)\u001b[0m\n\u001b[1;32m   1617\u001b[0m     \u001b[38;5;28mself\u001b[39m\u001b[38;5;241m.\u001b[39moptions[\u001b[38;5;124m\"\u001b[39m\u001b[38;5;124mhas_index_names\u001b[39m\u001b[38;5;124m\"\u001b[39m] \u001b[38;5;241m=\u001b[39m kwds[\u001b[38;5;124m\"\u001b[39m\u001b[38;5;124mhas_index_names\u001b[39m\u001b[38;5;124m\"\u001b[39m]\n\u001b[1;32m   1619\u001b[0m \u001b[38;5;28mself\u001b[39m\u001b[38;5;241m.\u001b[39mhandles: IOHandles \u001b[38;5;241m|\u001b[39m \u001b[38;5;28;01mNone\u001b[39;00m \u001b[38;5;241m=\u001b[39m \u001b[38;5;28;01mNone\u001b[39;00m\n\u001b[0;32m-> 1620\u001b[0m \u001b[38;5;28mself\u001b[39m\u001b[38;5;241m.\u001b[39m_engine \u001b[38;5;241m=\u001b[39m \u001b[38;5;28;43mself\u001b[39;49m\u001b[38;5;241;43m.\u001b[39;49m\u001b[43m_make_engine\u001b[49m\u001b[43m(\u001b[49m\u001b[43mf\u001b[49m\u001b[43m,\u001b[49m\u001b[43m \u001b[49m\u001b[38;5;28;43mself\u001b[39;49m\u001b[38;5;241;43m.\u001b[39;49m\u001b[43mengine\u001b[49m\u001b[43m)\u001b[49m\n",
      "File \u001b[0;32m/opt/conda/lib/python3.10/site-packages/pandas/io/parsers/readers.py:1880\u001b[0m, in \u001b[0;36mTextFileReader._make_engine\u001b[0;34m(self, f, engine)\u001b[0m\n\u001b[1;32m   1878\u001b[0m     \u001b[38;5;28;01mif\u001b[39;00m \u001b[38;5;124m\"\u001b[39m\u001b[38;5;124mb\u001b[39m\u001b[38;5;124m\"\u001b[39m \u001b[38;5;129;01mnot\u001b[39;00m \u001b[38;5;129;01min\u001b[39;00m mode:\n\u001b[1;32m   1879\u001b[0m         mode \u001b[38;5;241m+\u001b[39m\u001b[38;5;241m=\u001b[39m \u001b[38;5;124m\"\u001b[39m\u001b[38;5;124mb\u001b[39m\u001b[38;5;124m\"\u001b[39m\n\u001b[0;32m-> 1880\u001b[0m \u001b[38;5;28mself\u001b[39m\u001b[38;5;241m.\u001b[39mhandles \u001b[38;5;241m=\u001b[39m \u001b[43mget_handle\u001b[49m\u001b[43m(\u001b[49m\n\u001b[1;32m   1881\u001b[0m \u001b[43m    \u001b[49m\u001b[43mf\u001b[49m\u001b[43m,\u001b[49m\n\u001b[1;32m   1882\u001b[0m \u001b[43m    \u001b[49m\u001b[43mmode\u001b[49m\u001b[43m,\u001b[49m\n\u001b[1;32m   1883\u001b[0m \u001b[43m    \u001b[49m\u001b[43mencoding\u001b[49m\u001b[38;5;241;43m=\u001b[39;49m\u001b[38;5;28;43mself\u001b[39;49m\u001b[38;5;241;43m.\u001b[39;49m\u001b[43moptions\u001b[49m\u001b[38;5;241;43m.\u001b[39;49m\u001b[43mget\u001b[49m\u001b[43m(\u001b[49m\u001b[38;5;124;43m\"\u001b[39;49m\u001b[38;5;124;43mencoding\u001b[39;49m\u001b[38;5;124;43m\"\u001b[39;49m\u001b[43m,\u001b[49m\u001b[43m \u001b[49m\u001b[38;5;28;43;01mNone\u001b[39;49;00m\u001b[43m)\u001b[49m\u001b[43m,\u001b[49m\n\u001b[1;32m   1884\u001b[0m \u001b[43m    \u001b[49m\u001b[43mcompression\u001b[49m\u001b[38;5;241;43m=\u001b[39;49m\u001b[38;5;28;43mself\u001b[39;49m\u001b[38;5;241;43m.\u001b[39;49m\u001b[43moptions\u001b[49m\u001b[38;5;241;43m.\u001b[39;49m\u001b[43mget\u001b[49m\u001b[43m(\u001b[49m\u001b[38;5;124;43m\"\u001b[39;49m\u001b[38;5;124;43mcompression\u001b[39;49m\u001b[38;5;124;43m\"\u001b[39;49m\u001b[43m,\u001b[49m\u001b[43m \u001b[49m\u001b[38;5;28;43;01mNone\u001b[39;49;00m\u001b[43m)\u001b[49m\u001b[43m,\u001b[49m\n\u001b[1;32m   1885\u001b[0m \u001b[43m    \u001b[49m\u001b[43mmemory_map\u001b[49m\u001b[38;5;241;43m=\u001b[39;49m\u001b[38;5;28;43mself\u001b[39;49m\u001b[38;5;241;43m.\u001b[39;49m\u001b[43moptions\u001b[49m\u001b[38;5;241;43m.\u001b[39;49m\u001b[43mget\u001b[49m\u001b[43m(\u001b[49m\u001b[38;5;124;43m\"\u001b[39;49m\u001b[38;5;124;43mmemory_map\u001b[39;49m\u001b[38;5;124;43m\"\u001b[39;49m\u001b[43m,\u001b[49m\u001b[43m \u001b[49m\u001b[38;5;28;43;01mFalse\u001b[39;49;00m\u001b[43m)\u001b[49m\u001b[43m,\u001b[49m\n\u001b[1;32m   1886\u001b[0m \u001b[43m    \u001b[49m\u001b[43mis_text\u001b[49m\u001b[38;5;241;43m=\u001b[39;49m\u001b[43mis_text\u001b[49m\u001b[43m,\u001b[49m\n\u001b[1;32m   1887\u001b[0m \u001b[43m    \u001b[49m\u001b[43merrors\u001b[49m\u001b[38;5;241;43m=\u001b[39;49m\u001b[38;5;28;43mself\u001b[39;49m\u001b[38;5;241;43m.\u001b[39;49m\u001b[43moptions\u001b[49m\u001b[38;5;241;43m.\u001b[39;49m\u001b[43mget\u001b[49m\u001b[43m(\u001b[49m\u001b[38;5;124;43m\"\u001b[39;49m\u001b[38;5;124;43mencoding_errors\u001b[39;49m\u001b[38;5;124;43m\"\u001b[39;49m\u001b[43m,\u001b[49m\u001b[43m \u001b[49m\u001b[38;5;124;43m\"\u001b[39;49m\u001b[38;5;124;43mstrict\u001b[39;49m\u001b[38;5;124;43m\"\u001b[39;49m\u001b[43m)\u001b[49m\u001b[43m,\u001b[49m\n\u001b[1;32m   1888\u001b[0m \u001b[43m    \u001b[49m\u001b[43mstorage_options\u001b[49m\u001b[38;5;241;43m=\u001b[39;49m\u001b[38;5;28;43mself\u001b[39;49m\u001b[38;5;241;43m.\u001b[39;49m\u001b[43moptions\u001b[49m\u001b[38;5;241;43m.\u001b[39;49m\u001b[43mget\u001b[49m\u001b[43m(\u001b[49m\u001b[38;5;124;43m\"\u001b[39;49m\u001b[38;5;124;43mstorage_options\u001b[39;49m\u001b[38;5;124;43m\"\u001b[39;49m\u001b[43m,\u001b[49m\u001b[43m \u001b[49m\u001b[38;5;28;43;01mNone\u001b[39;49;00m\u001b[43m)\u001b[49m\u001b[43m,\u001b[49m\n\u001b[1;32m   1889\u001b[0m \u001b[43m\u001b[49m\u001b[43m)\u001b[49m\n\u001b[1;32m   1890\u001b[0m \u001b[38;5;28;01massert\u001b[39;00m \u001b[38;5;28mself\u001b[39m\u001b[38;5;241m.\u001b[39mhandles \u001b[38;5;129;01mis\u001b[39;00m \u001b[38;5;129;01mnot\u001b[39;00m \u001b[38;5;28;01mNone\u001b[39;00m\n\u001b[1;32m   1891\u001b[0m f \u001b[38;5;241m=\u001b[39m \u001b[38;5;28mself\u001b[39m\u001b[38;5;241m.\u001b[39mhandles\u001b[38;5;241m.\u001b[39mhandle\n",
      "File \u001b[0;32m/opt/conda/lib/python3.10/site-packages/pandas/io/common.py:873\u001b[0m, in \u001b[0;36mget_handle\u001b[0;34m(path_or_buf, mode, encoding, compression, memory_map, is_text, errors, storage_options)\u001b[0m\n\u001b[1;32m    868\u001b[0m \u001b[38;5;28;01melif\u001b[39;00m \u001b[38;5;28misinstance\u001b[39m(handle, \u001b[38;5;28mstr\u001b[39m):\n\u001b[1;32m    869\u001b[0m     \u001b[38;5;66;03m# Check whether the filename is to be opened in binary mode.\u001b[39;00m\n\u001b[1;32m    870\u001b[0m     \u001b[38;5;66;03m# Binary mode does not support 'encoding' and 'newline'.\u001b[39;00m\n\u001b[1;32m    871\u001b[0m     \u001b[38;5;28;01mif\u001b[39;00m ioargs\u001b[38;5;241m.\u001b[39mencoding \u001b[38;5;129;01mand\u001b[39;00m \u001b[38;5;124m\"\u001b[39m\u001b[38;5;124mb\u001b[39m\u001b[38;5;124m\"\u001b[39m \u001b[38;5;129;01mnot\u001b[39;00m \u001b[38;5;129;01min\u001b[39;00m ioargs\u001b[38;5;241m.\u001b[39mmode:\n\u001b[1;32m    872\u001b[0m         \u001b[38;5;66;03m# Encoding\u001b[39;00m\n\u001b[0;32m--> 873\u001b[0m         handle \u001b[38;5;241m=\u001b[39m \u001b[38;5;28;43mopen\u001b[39;49m\u001b[43m(\u001b[49m\n\u001b[1;32m    874\u001b[0m \u001b[43m            \u001b[49m\u001b[43mhandle\u001b[49m\u001b[43m,\u001b[49m\n\u001b[1;32m    875\u001b[0m \u001b[43m            \u001b[49m\u001b[43mioargs\u001b[49m\u001b[38;5;241;43m.\u001b[39;49m\u001b[43mmode\u001b[49m\u001b[43m,\u001b[49m\n\u001b[1;32m    876\u001b[0m \u001b[43m            \u001b[49m\u001b[43mencoding\u001b[49m\u001b[38;5;241;43m=\u001b[39;49m\u001b[43mioargs\u001b[49m\u001b[38;5;241;43m.\u001b[39;49m\u001b[43mencoding\u001b[49m\u001b[43m,\u001b[49m\n\u001b[1;32m    877\u001b[0m \u001b[43m            \u001b[49m\u001b[43merrors\u001b[49m\u001b[38;5;241;43m=\u001b[39;49m\u001b[43merrors\u001b[49m\u001b[43m,\u001b[49m\n\u001b[1;32m    878\u001b[0m \u001b[43m            \u001b[49m\u001b[43mnewline\u001b[49m\u001b[38;5;241;43m=\u001b[39;49m\u001b[38;5;124;43m\"\u001b[39;49m\u001b[38;5;124;43m\"\u001b[39;49m\u001b[43m,\u001b[49m\n\u001b[1;32m    879\u001b[0m \u001b[43m        \u001b[49m\u001b[43m)\u001b[49m\n\u001b[1;32m    880\u001b[0m     \u001b[38;5;28;01melse\u001b[39;00m:\n\u001b[1;32m    881\u001b[0m         \u001b[38;5;66;03m# Binary mode\u001b[39;00m\n\u001b[1;32m    882\u001b[0m         handle \u001b[38;5;241m=\u001b[39m \u001b[38;5;28mopen\u001b[39m(handle, ioargs\u001b[38;5;241m.\u001b[39mmode)\n",
      "\u001b[0;31mFileNotFoundError\u001b[0m: [Errno 2] No such file or directory: 'Notebooks/Notebooks/Notebook_Upload_test/diamonds.csv'"
     ]
    }
   ],
   "source": [
    "diamonds = pd.read_csv(\"Notebooks/Notebooks/Notebook_Upload_test/diamonds.csv\")"
   ]
  },
  {
   "cell_type": "code",
   "execution_count": 4,
   "id": "18047e94-a599-4e34-be89-5f18b8866850",
   "metadata": {},
   "outputs": [
    {
     "data": {
      "text/html": [
       "<div>\n",
       "<style scoped>\n",
       "    .dataframe tbody tr th:only-of-type {\n",
       "        vertical-align: middle;\n",
       "    }\n",
       "\n",
       "    .dataframe tbody tr th {\n",
       "        vertical-align: top;\n",
       "    }\n",
       "\n",
       "    .dataframe thead th {\n",
       "        text-align: right;\n",
       "    }\n",
       "</style>\n",
       "<table border=\"1\" class=\"dataframe\">\n",
       "  <thead>\n",
       "    <tr style=\"text-align: right;\">\n",
       "      <th></th>\n",
       "      <th>Unnamed: 0</th>\n",
       "      <th>carat</th>\n",
       "      <th>cut</th>\n",
       "      <th>color</th>\n",
       "      <th>clarity</th>\n",
       "      <th>depth</th>\n",
       "      <th>table</th>\n",
       "      <th>price</th>\n",
       "      <th>x</th>\n",
       "      <th>y</th>\n",
       "      <th>z</th>\n",
       "    </tr>\n",
       "  </thead>\n",
       "  <tbody>\n",
       "    <tr>\n",
       "      <th>0</th>\n",
       "      <td>1</td>\n",
       "      <td>0.23</td>\n",
       "      <td>Ideal</td>\n",
       "      <td>E</td>\n",
       "      <td>SI2</td>\n",
       "      <td>61.5</td>\n",
       "      <td>55.0</td>\n",
       "      <td>326</td>\n",
       "      <td>3.95</td>\n",
       "      <td>3.98</td>\n",
       "      <td>2.43</td>\n",
       "    </tr>\n",
       "    <tr>\n",
       "      <th>1</th>\n",
       "      <td>2</td>\n",
       "      <td>0.21</td>\n",
       "      <td>Premium</td>\n",
       "      <td>E</td>\n",
       "      <td>SI1</td>\n",
       "      <td>59.8</td>\n",
       "      <td>61.0</td>\n",
       "      <td>326</td>\n",
       "      <td>3.89</td>\n",
       "      <td>3.84</td>\n",
       "      <td>2.31</td>\n",
       "    </tr>\n",
       "    <tr>\n",
       "      <th>2</th>\n",
       "      <td>3</td>\n",
       "      <td>0.23</td>\n",
       "      <td>Good</td>\n",
       "      <td>E</td>\n",
       "      <td>VS1</td>\n",
       "      <td>56.9</td>\n",
       "      <td>65.0</td>\n",
       "      <td>327</td>\n",
       "      <td>4.05</td>\n",
       "      <td>4.07</td>\n",
       "      <td>2.31</td>\n",
       "    </tr>\n",
       "    <tr>\n",
       "      <th>3</th>\n",
       "      <td>4</td>\n",
       "      <td>0.29</td>\n",
       "      <td>Premium</td>\n",
       "      <td>I</td>\n",
       "      <td>VS2</td>\n",
       "      <td>62.4</td>\n",
       "      <td>58.0</td>\n",
       "      <td>334</td>\n",
       "      <td>4.20</td>\n",
       "      <td>4.23</td>\n",
       "      <td>2.63</td>\n",
       "    </tr>\n",
       "    <tr>\n",
       "      <th>4</th>\n",
       "      <td>5</td>\n",
       "      <td>0.31</td>\n",
       "      <td>Good</td>\n",
       "      <td>J</td>\n",
       "      <td>SI2</td>\n",
       "      <td>63.3</td>\n",
       "      <td>58.0</td>\n",
       "      <td>335</td>\n",
       "      <td>4.34</td>\n",
       "      <td>4.35</td>\n",
       "      <td>2.75</td>\n",
       "    </tr>\n",
       "    <tr>\n",
       "      <th>...</th>\n",
       "      <td>...</td>\n",
       "      <td>...</td>\n",
       "      <td>...</td>\n",
       "      <td>...</td>\n",
       "      <td>...</td>\n",
       "      <td>...</td>\n",
       "      <td>...</td>\n",
       "      <td>...</td>\n",
       "      <td>...</td>\n",
       "      <td>...</td>\n",
       "      <td>...</td>\n",
       "    </tr>\n",
       "    <tr>\n",
       "      <th>53935</th>\n",
       "      <td>53936</td>\n",
       "      <td>0.72</td>\n",
       "      <td>Ideal</td>\n",
       "      <td>D</td>\n",
       "      <td>SI1</td>\n",
       "      <td>60.8</td>\n",
       "      <td>57.0</td>\n",
       "      <td>2757</td>\n",
       "      <td>5.75</td>\n",
       "      <td>5.76</td>\n",
       "      <td>3.50</td>\n",
       "    </tr>\n",
       "    <tr>\n",
       "      <th>53936</th>\n",
       "      <td>53937</td>\n",
       "      <td>0.72</td>\n",
       "      <td>Good</td>\n",
       "      <td>D</td>\n",
       "      <td>SI1</td>\n",
       "      <td>63.1</td>\n",
       "      <td>55.0</td>\n",
       "      <td>2757</td>\n",
       "      <td>5.69</td>\n",
       "      <td>5.75</td>\n",
       "      <td>3.61</td>\n",
       "    </tr>\n",
       "    <tr>\n",
       "      <th>53937</th>\n",
       "      <td>53938</td>\n",
       "      <td>0.70</td>\n",
       "      <td>Very Good</td>\n",
       "      <td>D</td>\n",
       "      <td>SI1</td>\n",
       "      <td>62.8</td>\n",
       "      <td>60.0</td>\n",
       "      <td>2757</td>\n",
       "      <td>5.66</td>\n",
       "      <td>5.68</td>\n",
       "      <td>3.56</td>\n",
       "    </tr>\n",
       "    <tr>\n",
       "      <th>53938</th>\n",
       "      <td>53939</td>\n",
       "      <td>0.86</td>\n",
       "      <td>Premium</td>\n",
       "      <td>H</td>\n",
       "      <td>SI2</td>\n",
       "      <td>61.0</td>\n",
       "      <td>58.0</td>\n",
       "      <td>2757</td>\n",
       "      <td>6.15</td>\n",
       "      <td>6.12</td>\n",
       "      <td>3.74</td>\n",
       "    </tr>\n",
       "    <tr>\n",
       "      <th>53939</th>\n",
       "      <td>53940</td>\n",
       "      <td>0.75</td>\n",
       "      <td>Ideal</td>\n",
       "      <td>D</td>\n",
       "      <td>SI2</td>\n",
       "      <td>62.2</td>\n",
       "      <td>55.0</td>\n",
       "      <td>2757</td>\n",
       "      <td>5.83</td>\n",
       "      <td>5.87</td>\n",
       "      <td>3.64</td>\n",
       "    </tr>\n",
       "  </tbody>\n",
       "</table>\n",
       "<p>53940 rows × 11 columns</p>\n",
       "</div>"
      ],
      "text/plain": [
       "       Unnamed: 0  carat        cut color clarity  depth  table  price     x  \\\n",
       "0               1   0.23      Ideal     E     SI2   61.5   55.0    326  3.95   \n",
       "1               2   0.21    Premium     E     SI1   59.8   61.0    326  3.89   \n",
       "2               3   0.23       Good     E     VS1   56.9   65.0    327  4.05   \n",
       "3               4   0.29    Premium     I     VS2   62.4   58.0    334  4.20   \n",
       "4               5   0.31       Good     J     SI2   63.3   58.0    335  4.34   \n",
       "...           ...    ...        ...   ...     ...    ...    ...    ...   ...   \n",
       "53935       53936   0.72      Ideal     D     SI1   60.8   57.0   2757  5.75   \n",
       "53936       53937   0.72       Good     D     SI1   63.1   55.0   2757  5.69   \n",
       "53937       53938   0.70  Very Good     D     SI1   62.8   60.0   2757  5.66   \n",
       "53938       53939   0.86    Premium     H     SI2   61.0   58.0   2757  6.15   \n",
       "53939       53940   0.75      Ideal     D     SI2   62.2   55.0   2757  5.83   \n",
       "\n",
       "          y     z  \n",
       "0      3.98  2.43  \n",
       "1      3.84  2.31  \n",
       "2      4.07  2.31  \n",
       "3      4.23  2.63  \n",
       "4      4.35  2.75  \n",
       "...     ...   ...  \n",
       "53935  5.76  3.50  \n",
       "53936  5.75  3.61  \n",
       "53937  5.68  3.56  \n",
       "53938  6.12  3.74  \n",
       "53939  5.87  3.64  \n",
       "\n",
       "[53940 rows x 11 columns]"
      ]
     },
     "execution_count": 4,
     "metadata": {},
     "output_type": "execute_result"
    }
   ],
   "source": [
    "diamonds"
   ]
  },
  {
   "cell_type": "code",
   "execution_count": 5,
   "id": "24b14133-3b13-40f0-81ad-beff19c06aa7",
   "metadata": {},
   "outputs": [],
   "source": [
    "diamonds_df = session.create_dataframe(diamonds)"
   ]
  },
  {
   "cell_type": "code",
   "execution_count": 10,
   "id": "562f894b-e396-4a1e-8671-0844f5262a7a",
   "metadata": {},
   "outputs": [],
   "source": [
    "for colname in diamonds_df.columns:\n",
    "    if colname == \"TABLE\":\n",
    "        new_colname = \"TABLE_PCT\"\n",
    "    else:\n",
    "        new_colname = str.upper(colname)\n",
    "    diamonds_df = diamonds_df.with_column_renamed(colname, new_colname)"
   ]
  },
  {
   "cell_type": "code",
   "execution_count": 11,
   "id": "bad6ebcb-27e3-4047-8dfa-d4dddd874d20",
   "metadata": {},
   "outputs": [],
   "source": [
    "def fix_values(column):\n",
    "    return F.upper(F.regexp_replace(F.col(column), '[^a-zA-Z0-9]+', '_'))"
   ]
  },
  {
   "cell_type": "code",
   "execution_count": 12,
   "id": "b68e7964-6a44-46ed-a7a9-c2bee854b76e",
   "metadata": {},
   "outputs": [],
   "source": [
    "for col in [\"CUT\"]:\n",
    "    diamonds_df = diamonds_df.with_column(col, fix_values(col))"
   ]
  },
  {
   "cell_type": "code",
   "execution_count": 13,
   "id": "e3ba5ce6-5071-4363-9324-e8ead6126497",
   "metadata": {},
   "outputs": [
    {
     "name": "stdout",
     "output_type": "stream",
     "text": [
      "-------------------------------------------------------------------------------------------------------------------\n",
      "|\"UNNAMED: 0\"  |\"CARAT\"  |\"COLOR\"  |\"CLARITY\"  |\"DEPTH\"  |\"TABLE_PCT\"  |\"PRICE\"  |\"X\"   |\"Y\"   |\"Z\"   |\"CUT\"      |\n",
      "-------------------------------------------------------------------------------------------------------------------\n",
      "|1             |0.23     |E        |SI2        |61.5     |55.0         |326      |3.95  |3.98  |2.43  |IDEAL      |\n",
      "|2             |0.21     |E        |SI1        |59.8     |61.0         |326      |3.89  |3.84  |2.31  |PREMIUM    |\n",
      "|3             |0.23     |E        |VS1        |56.9     |65.0         |327      |4.05  |4.07  |2.31  |GOOD       |\n",
      "|4             |0.29     |I        |VS2        |62.4     |58.0         |334      |4.2   |4.23  |2.63  |PREMIUM    |\n",
      "|5             |0.31     |J        |SI2        |63.3     |58.0         |335      |4.34  |4.35  |2.75  |GOOD       |\n",
      "|6             |0.24     |J        |VVS2       |62.8     |57.0         |336      |3.94  |3.96  |2.48  |VERY_GOOD  |\n",
      "|7             |0.24     |I        |VVS1       |62.3     |57.0         |336      |3.95  |3.98  |2.47  |VERY_GOOD  |\n",
      "|8             |0.26     |H        |SI1        |61.9     |55.0         |337      |4.07  |4.11  |2.53  |VERY_GOOD  |\n",
      "|9             |0.22     |E        |VS2        |65.1     |61.0         |337      |3.87  |3.78  |2.49  |FAIR       |\n",
      "|10            |0.23     |H        |VS1        |59.4     |61.0         |338      |4.0   |4.05  |2.39  |VERY_GOOD  |\n",
      "-------------------------------------------------------------------------------------------------------------------\n",
      "\n"
     ]
    }
   ],
   "source": [
    "diamonds_df.show()"
   ]
  },
  {
   "cell_type": "code",
   "execution_count": 14,
   "id": "ee2ce1f3-6565-4db0-b475-b8a895632e01",
   "metadata": {},
   "outputs": [],
   "source": [
    "diamonds_df = diamonds_df.drop(\"UNNAMED: 0\")"
   ]
  },
  {
   "cell_type": "code",
   "execution_count": 15,
   "id": "99ac78c4-9deb-4a13-8e2d-4e5e5c60627a",
   "metadata": {},
   "outputs": [
    {
     "name": "stdout",
     "output_type": "stream",
     "text": [
      "----------------------------------------------------------------------------------------------------\n",
      "|\"CARAT\"  |\"COLOR\"  |\"CLARITY\"  |\"DEPTH\"  |\"TABLE_PCT\"  |\"PRICE\"  |\"X\"   |\"Y\"   |\"Z\"   |\"CUT\"      |\n",
      "----------------------------------------------------------------------------------------------------\n",
      "|0.23     |E        |SI2        |61.5     |55.0         |326      |3.95  |3.98  |2.43  |IDEAL      |\n",
      "|0.21     |E        |SI1        |59.8     |61.0         |326      |3.89  |3.84  |2.31  |PREMIUM    |\n",
      "|0.23     |E        |VS1        |56.9     |65.0         |327      |4.05  |4.07  |2.31  |GOOD       |\n",
      "|0.29     |I        |VS2        |62.4     |58.0         |334      |4.2   |4.23  |2.63  |PREMIUM    |\n",
      "|0.31     |J        |SI2        |63.3     |58.0         |335      |4.34  |4.35  |2.75  |GOOD       |\n",
      "|0.24     |J        |VVS2       |62.8     |57.0         |336      |3.94  |3.96  |2.48  |VERY_GOOD  |\n",
      "|0.24     |I        |VVS1       |62.3     |57.0         |336      |3.95  |3.98  |2.47  |VERY_GOOD  |\n",
      "|0.26     |H        |SI1        |61.9     |55.0         |337      |4.07  |4.11  |2.53  |VERY_GOOD  |\n",
      "|0.22     |E        |VS2        |65.1     |61.0         |337      |3.87  |3.78  |2.49  |FAIR       |\n",
      "|0.23     |H        |VS1        |59.4     |61.0         |338      |4.0   |4.05  |2.39  |VERY_GOOD  |\n",
      "----------------------------------------------------------------------------------------------------\n",
      "\n"
     ]
    }
   ],
   "source": [
    "diamonds_df.show()"
   ]
  },
  {
   "cell_type": "code",
   "execution_count": 16,
   "id": "15f7fc89-6f8a-4c20-8e81-94413fa3815d",
   "metadata": {},
   "outputs": [],
   "source": [
    "for colname in [\"CARAT\", \"DEPTH\", \"TABLE_PCT\", \"X\", \"Y\", \"Z\"]:\n",
    "    diamonds_df = diamonds_df.with_column(colname, diamonds_df[colname].cast(DoubleType()))"
   ]
  },
  {
   "cell_type": "code",
   "execution_count": 17,
   "id": "53a5ea0d-fc44-402e-b98c-141a98d4282c",
   "metadata": {},
   "outputs": [
    {
     "name": "stdout",
     "output_type": "stream",
     "text": [
      "----------------------------------------------------------------------------------------------------\n",
      "|\"COLOR\"  |\"CLARITY\"  |\"PRICE\"  |\"CUT\"      |\"CARAT\"  |\"DEPTH\"  |\"TABLE_PCT\"  |\"X\"   |\"Y\"   |\"Z\"   |\n",
      "----------------------------------------------------------------------------------------------------\n",
      "|E        |SI2        |326      |IDEAL      |0.23     |61.5     |55.0         |3.95  |3.98  |2.43  |\n",
      "|E        |SI1        |326      |PREMIUM    |0.21     |59.8     |61.0         |3.89  |3.84  |2.31  |\n",
      "|E        |VS1        |327      |GOOD       |0.23     |56.9     |65.0         |4.05  |4.07  |2.31  |\n",
      "|I        |VS2        |334      |PREMIUM    |0.29     |62.4     |58.0         |4.2   |4.23  |2.63  |\n",
      "|J        |SI2        |335      |GOOD       |0.31     |63.3     |58.0         |4.34  |4.35  |2.75  |\n",
      "|J        |VVS2       |336      |VERY_GOOD  |0.24     |62.8     |57.0         |3.94  |3.96  |2.48  |\n",
      "|I        |VVS1       |336      |VERY_GOOD  |0.24     |62.3     |57.0         |3.95  |3.98  |2.47  |\n",
      "|H        |SI1        |337      |VERY_GOOD  |0.26     |61.9     |55.0         |4.07  |4.11  |2.53  |\n",
      "|E        |VS2        |337      |FAIR       |0.22     |65.1     |61.0         |3.87  |3.78  |2.49  |\n",
      "|H        |VS1        |338      |VERY_GOOD  |0.23     |59.4     |61.0         |4.0   |4.05  |2.39  |\n",
      "----------------------------------------------------------------------------------------------------\n",
      "\n"
     ]
    }
   ],
   "source": [
    "diamonds_df.show()"
   ]
  },
  {
   "cell_type": "code",
   "execution_count": 18,
   "id": "a3ebee81-83c3-481d-ba20-e7a971d51c36",
   "metadata": {},
   "outputs": [],
   "source": [
    "diamonds_df.write.save_as_table('DIAMONDS_CLEAN_DATA', mode='overwrite')"
   ]
  },
  {
   "cell_type": "code",
   "execution_count": 19,
   "id": "f1e2e178-64d7-405f-81e4-ccb371f672df",
   "metadata": {},
   "outputs": [],
   "source": [
    "import snowflake.ml.modeling.preprocessing as snowml\n",
    "from snowflake.ml.modeling.pipeline import Pipeline\n",
    "from snowflake.ml.modeling.metrics.correlation import correlation\n",
    "import matplotlib.pyplot as plt"
   ]
  },
  {
   "cell_type": "code",
   "execution_count": 20,
   "id": "3c999f84-6fd5-49bb-aaa6-6ca8d6c9fd26",
   "metadata": {},
   "outputs": [],
   "source": [
    "#Normalize carat column\n",
    "snowml_mns = snowml.MinMaxScaler(input_cols=[\"CARAT\"], output_cols=[\"CARAT_NORM\"])\n",
    "normalized_diamonds_df = snowml_mns.fit(diamonds_df).transform(diamonds_df)"
   ]
  },
  {
   "cell_type": "code",
   "execution_count": 21,
   "id": "89646724-75e6-4e64-a95b-d9c4869b78fb",
   "metadata": {},
   "outputs": [
    {
     "name": "stdout",
     "output_type": "stream",
     "text": [
      "-------------------------------------------------------------------------------------------------------------------\n",
      "|\"COLOR\"  |\"CLARITY\"  |\"PRICE\"  |\"CUT\"      |\"CARAT\"  |\"DEPTH\"  |\"TABLE_PCT\"  |\"X\"   |\"Y\"   |\"Z\"   |\"CARAT_NORM\"  |\n",
      "-------------------------------------------------------------------------------------------------------------------\n",
      "|E        |SI2        |326      |IDEAL      |0.23     |61.5     |55.0         |3.95  |3.98  |2.43  |0.006237      |\n",
      "|E        |SI1        |326      |PREMIUM    |0.21     |59.8     |61.0         |3.89  |3.84  |2.31  |0.002079      |\n",
      "|E        |VS1        |327      |GOOD       |0.23     |56.9     |65.0         |4.05  |4.07  |2.31  |0.006237      |\n",
      "|I        |VS2        |334      |PREMIUM    |0.29     |62.4     |58.0         |4.2   |4.23  |2.63  |0.018711      |\n",
      "|J        |SI2        |335      |GOOD       |0.31     |63.3     |58.0         |4.34  |4.35  |2.75  |0.022869      |\n",
      "|J        |VVS2       |336      |VERY_GOOD  |0.24     |62.8     |57.0         |3.94  |3.96  |2.48  |0.008316      |\n",
      "|I        |VVS1       |336      |VERY_GOOD  |0.24     |62.3     |57.0         |3.95  |3.98  |2.47  |0.008316      |\n",
      "|H        |SI1        |337      |VERY_GOOD  |0.26     |61.9     |55.0         |4.07  |4.11  |2.53  |0.012474      |\n",
      "|E        |VS2        |337      |FAIR       |0.22     |65.1     |61.0         |3.87  |3.78  |2.49  |0.004158      |\n",
      "|H        |VS1        |338      |VERY_GOOD  |0.23     |59.4     |61.0         |4.0   |4.05  |2.39  |0.006237      |\n",
      "-------------------------------------------------------------------------------------------------------------------\n",
      "\n"
     ]
    }
   ],
   "source": [
    "#Reduce number of decimals\n",
    "new_col = normalized_diamonds_df.col(\"CARAT_NORM\").cast(DecimalType(7, 6))\n",
    "normalized_diamonds_df = normalized_diamonds_df.with_column(\"CARAT_NORM\", new_col)\n",
    "normalized_diamonds_df.show()"
   ]
  },
  {
   "cell_type": "code",
   "execution_count": 22,
   "id": "7d3a5960-9cca-4301-acde-54078eda8fc4",
   "metadata": {},
   "outputs": [
    {
     "name": "stdout",
     "output_type": "stream",
     "text": [
      "   _COLUMN_NAME  _CATEGORY  _INDEX\n",
      "0           CUT      IDEAL       0\n",
      "1           CUT    PREMIUM       1\n",
      "2           CUT  VERY_GOOD       2\n",
      "3           CUT       GOOD       3\n",
      "4           CUT       FAIR       4\n",
      "5       CLARITY         IF       0\n",
      "6       CLARITY       VVS1       1\n",
      "7       CLARITY       VVS2       2\n",
      "8       CLARITY        VS1       3\n",
      "9       CLARITY        VS2       4\n",
      "10      CLARITY        SI1       5\n",
      "11      CLARITY        SI2       6\n",
      "12      CLARITY         I1       7\n",
      "13      CLARITY         I2       8\n",
      "14      CLARITY         I3       9\n",
      "---------------------------------------------------------------------------------------------------------------------------------------------\n",
      "|\"CUT_OE\"  |\"CLARITY_OE\"  |\"COLOR\"  |\"CLARITY\"  |\"PRICE\"  |\"CUT\"      |\"CARAT\"  |\"DEPTH\"  |\"TABLE_PCT\"  |\"X\"   |\"Y\"   |\"Z\"   |\"CARAT_NORM\"  |\n",
      "---------------------------------------------------------------------------------------------------------------------------------------------\n",
      "|0.0       |6.0           |E        |SI2        |326      |IDEAL      |0.23     |61.5     |55.0         |3.95  |3.98  |2.43  |0.006237      |\n",
      "|1.0       |5.0           |E        |SI1        |326      |PREMIUM    |0.21     |59.8     |61.0         |3.89  |3.84  |2.31  |0.002079      |\n",
      "|3.0       |3.0           |E        |VS1        |327      |GOOD       |0.23     |56.9     |65.0         |4.05  |4.07  |2.31  |0.006237      |\n",
      "|1.0       |4.0           |I        |VS2        |334      |PREMIUM    |0.29     |62.4     |58.0         |4.2   |4.23  |2.63  |0.018711      |\n",
      "|3.0       |6.0           |J        |SI2        |335      |GOOD       |0.31     |63.3     |58.0         |4.34  |4.35  |2.75  |0.022869      |\n",
      "|2.0       |2.0           |J        |VVS2       |336      |VERY_GOOD  |0.24     |62.8     |57.0         |3.94  |3.96  |2.48  |0.008316      |\n",
      "|2.0       |1.0           |I        |VVS1       |336      |VERY_GOOD  |0.24     |62.3     |57.0         |3.95  |3.98  |2.47  |0.008316      |\n",
      "|2.0       |5.0           |H        |SI1        |337      |VERY_GOOD  |0.26     |61.9     |55.0         |4.07  |4.11  |2.53  |0.012474      |\n",
      "|4.0       |4.0           |E        |VS2        |337      |FAIR       |0.22     |65.1     |61.0         |3.87  |3.78  |2.49  |0.004158      |\n",
      "|2.0       |3.0           |H        |VS1        |338      |VERY_GOOD  |0.23     |59.4     |61.0         |4.0   |4.05  |2.39  |0.006237      |\n",
      "---------------------------------------------------------------------------------------------------------------------------------------------\n",
      "\n"
     ]
    }
   ],
   "source": [
    "#Using ordinal encoder to transform color and clarity columns from categorical to numerical values\n",
    "categories = {\n",
    "    \"CUT\": np.array([\"IDEAL\", \"PREMIUM\", \"VERY_GOOD\", \"GOOD\", \"FAIR\"]),\n",
    "    \"CLARITY\": np.array([\"IF\", \"VVS1\", \"VVS2\", \"VS1\", \"VS2\", \"SI1\", \"SI2\", \"I1\", \"I2\", \"I3\"]),\n",
    "}\n",
    "snowml_oe = snowml.OrdinalEncoder(input_cols=[\"CUT\", \"CLARITY\"], output_cols=[\"CUT_OE\", \"CLARITY_OE\"], categories=categories)\n",
    "ord_encoded_diamonds_df = snowml_oe.fit(normalized_diamonds_df).transform(normalized_diamonds_df)\n",
    "print(snowml_oe._state_pandas)\n",
    "ord_encoded_diamonds_df.show()"
   ]
  },
  {
   "cell_type": "code",
   "execution_count": 23,
   "id": "fd8684d6-b185-4f5e-b389-78ded5896265",
   "metadata": {},
   "outputs": [
    {
     "data": {
      "text/plain": [
       "array(['CUT_OHE_FAIR', 'CUT_OHE_GOOD', 'CUT_OHE_IDEAL', 'CUT_OHE_PREMIUM',\n",
       "       'CUT_OHE_VERY_GOOD', 'COLOR_OHE_D', 'COLOR_OHE_E', 'COLOR_OHE_F',\n",
       "       'COLOR_OHE_G', 'COLOR_OHE_H', 'COLOR_OHE_I', 'COLOR_OHE_J',\n",
       "       'CLARITY_OHE_I1', 'CLARITY_OHE_IF', 'CLARITY_OHE_SI1',\n",
       "       'CLARITY_OHE_SI2', 'CLARITY_OHE_VS1', 'CLARITY_OHE_VS2',\n",
       "       'CLARITY_OHE_VVS1', 'CLARITY_OHE_VVS2', 'CUT_OE', 'CLARITY_OE',\n",
       "       'COLOR', 'CLARITY', 'PRICE', 'CUT', 'CARAT', 'DEPTH', 'TABLE_PCT',\n",
       "       'X', 'Y', 'Z', 'CARAT_NORM'], dtype='<U17')"
      ]
     },
     "execution_count": 23,
     "metadata": {},
     "output_type": "execute_result"
    }
   ],
   "source": [
    "#Using OneHotEncoding for categorical columns\n",
    "snowml_ohe = snowml.OneHotEncoder(input_cols=[\"CUT\", \"COLOR\", \"CLARITY\"], output_cols=[\"CUT_OHE\", \"COLOR_OHE\", \"CLARITY_OHE\"])\n",
    "transformed_diamonds_df = snowml_ohe.fit(ord_encoded_diamonds_df).transform(ord_encoded_diamonds_df)\n",
    "np.array(transformed_diamonds_df.columns)"
   ]
  },
  {
   "cell_type": "code",
   "execution_count": 24,
   "id": "89154a60-5844-40b9-8a05-92c9b3416e80",
   "metadata": {},
   "outputs": [],
   "source": [
    "#Categorize all the features for processing\n",
    "CATEGORICAL_COLUMNS = [\"CUT\", \"COLOR\", \"CLARITY\"]\n",
    "CATEGORICAL_COLUMNS_OE = [\"CUT_OE\", \"COLOR_OE\", \"CLARITY_OE\"]\n",
    "NUMERICAL_COLUMNS = [\"CARAT\", \"DEPTH\", \"TABLE_PCT\", \"X\", \"Y\", \"Z\"]"
   ]
  },
  {
   "cell_type": "code",
   "execution_count": 25,
   "id": "eb220799-8b92-47c5-92f0-3f41368bde37",
   "metadata": {},
   "outputs": [],
   "source": [
    "categories = {\n",
    "    \"CUT\": np.array([\"IDEAL\", \"PREMIUM\", \"VERY_GOOD\", \"GOOD\", \"FAIR\"]),\n",
    "    \"CLARITY\": np.array([\"IF\", \"VVS1\", \"VVS2\", \"VS1\", \"VS2\", \"SI1\", \"SI2\", \"I1\", \"I2\", \"I3\"]),\n",
    "    \"COLOR\": np.array(['D', 'E', 'F', 'G', 'H', 'I', 'J']),\n",
    "}"
   ]
  },
  {
   "cell_type": "code",
   "execution_count": 34,
   "id": "4359fd98-7b70-4285-bbeb-86a6e72658e1",
   "metadata": {},
   "outputs": [],
   "source": [
    "preprocessing_pipeline=Pipeline(\n",
    "    steps=[\n",
    "            (\n",
    "                \"OE\",\n",
    "                snowml.OrdinalEncoder(\n",
    "                    input_cols=CATEGORICAL_COLUMNS,\n",
    "                    output_cols=CATEGORICAL_COLUMNS_OE,\n",
    "                    categories=categories,\n",
    "                )\n",
    "            ),\n",
    "            (\n",
    "                \"MMS\",\n",
    "                snowml.MinMaxScaler(\n",
    "                    clip=True,\n",
    "                    input_cols=NUMERICAL_COLUMNS,\n",
    "                    output_cols=NUMERICAL_COLUMNS,\n",
    "                    )\n",
    "            )    \n",
    "        ]\n",
    ")"
   ]
  },
  {
   "cell_type": "code",
   "execution_count": 35,
   "id": "9902f5ff-2f8d-43a3-bcb7-fa500273cef6",
   "metadata": {},
   "outputs": [
    {
     "name": "stdout",
     "output_type": "stream",
     "text": [
      "-------------------------------------------------------------------------------------------------------------------------------------------------------------------------------------------------------------------------\n",
      "|\"CARAT\"               |\"DEPTH\"              |\"TABLE_PCT\"          |\"X\"                  |\"Y\"                  |\"Z\"                  |\"CUT_OE\"  |\"COLOR_OE\"  |\"CLARITY_OE\"  |\"COLOR\"  |\"CLARITY\"  |\"PRICE\"  |\"CUT\"      |\n",
      "-------------------------------------------------------------------------------------------------------------------------------------------------------------------------------------------------------------------------\n",
      "|0.006237006237006237  |0.5138888888888888   |0.23076923076923073  |0.3677839851024209   |0.06757215619694397  |0.07641509433962265  |0.0       |1.0         |6.0           |E        |SI2        |326      |IDEAL      |\n",
      "|0.002079002079002079  |0.46666666666666656  |0.34615384615384615  |0.36219739292364994  |0.06519524617996604  |0.07264150943396226  |1.0       |1.0         |5.0           |E        |SI1        |326      |PREMIUM    |\n",
      "|0.006237006237006237  |0.38611111111111107  |0.423076923076923    |0.37709497206703907  |0.06910016977928693  |0.07264150943396226  |3.0       |1.0         |3.0           |E        |VS1        |327      |GOOD       |\n",
      "|0.018711018711018705  |0.5388888888888888   |0.28846153846153844  |0.3910614525139665   |0.07181663837011885  |0.08270440251572327  |1.0       |5.0         |4.0           |I        |VS2        |334      |PREMIUM    |\n",
      "|0.02286902286902287   |0.5638888888888887   |0.28846153846153844  |0.404096834264432    |0.07385398981324279  |0.08647798742138364  |3.0       |6.0         |6.0           |J        |SI2        |335      |GOOD       |\n",
      "|0.008316008316008316  |0.5499999999999998   |0.2692307692307693   |0.36685288640595903  |0.06723259762308999  |0.0779874213836478   |2.0       |6.0         |2.0           |J        |VVS2       |336      |VERY_GOOD  |\n",
      "|0.008316008316008316  |0.536111111111111    |0.2692307692307693   |0.3677839851024209   |0.06757215619694397  |0.07767295597484278  |2.0       |5.0         |1.0           |I        |VVS1       |336      |VERY_GOOD  |\n",
      "|0.012474012474012475  |0.5249999999999999   |0.23076923076923073  |0.3789571694599628   |0.06977928692699492  |0.07955974842767295  |2.0       |4.0         |5.0           |H        |SI1        |337      |VERY_GOOD  |\n",
      "|0.004158004158004158  |0.6138888888888887   |0.34615384615384615  |0.36033519553072624  |0.06417657045840407  |0.07830188679245284  |4.0       |1.0         |4.0           |E        |VS2        |337      |FAIR       |\n",
      "|0.006237006237006237  |0.4555555555555555   |0.34615384615384615  |0.37243947858473     |0.06876061120543293  |0.07515723270440251  |2.0       |4.0         |3.0           |H        |VS1        |338      |VERY_GOOD  |\n",
      "-------------------------------------------------------------------------------------------------------------------------------------------------------------------------------------------------------------------------\n",
      "\n"
     ]
    }
   ],
   "source": [
    "transformed_diamonds_df = preprocessing_pipeline.fit(diamonds_df).transform(diamonds_df)\n",
    "transformed_diamonds_df.show()"
   ]
  },
  {
   "cell_type": "code",
   "execution_count": 39,
   "id": "4f5e68a8-7934-43dc-8d31-517aea6399cd",
   "metadata": {},
   "outputs": [],
   "source": [
    "from snowflake.ml.modeling.xgboost import XGBRegressor\n",
    "from snowflake.ml.modeling.model_selection import GridSearchCV\n",
    "from snowflake.ml.modeling.metrics import mean_absolute_percentage_error"
   ]
  },
  {
   "cell_type": "code",
   "execution_count": 40,
   "id": "ae8416ee-160c-4957-9ed0-7e422a7e8778",
   "metadata": {},
   "outputs": [],
   "source": [
    "#Categorize all the features for processing\n",
    "CATEGORICAL_COLUMNS = [\"CUT\", \"COLOR\", \"CLARITY\"]\n",
    "CATEGORICAL_COLUMNS_OE = [\"CUT_OE\", \"COLOR_OE\", \"CLARITY_OE\"]\n",
    "NUMERICAL_COLUMNS = [\"CARAT\", \"DEPTH\", \"TABLE_PCT\", \"X\", \"Y\", \"Z\"]\n",
    "\n",
    "LABEL_COLUMNS = ['PRICE']\n",
    "OUTPUT_COLUMNS = ['PREDICTED_PRICE']"
   ]
  },
  {
   "cell_type": "code",
   "execution_count": 41,
   "id": "d42e5ac7-815a-4b58-9240-814778548dbd",
   "metadata": {},
   "outputs": [],
   "source": [
    "#Split training and testing datasets\n",
    "diamonds_train_df, diamonds_test_df = diamonds_df.random_split(weights=[0.9,0.1], seed=0)\n",
    "\n",
    "#Run train and test datasets through preprocessing pipeline\n",
    "train_df = preprocessing_pipeline.fit(diamonds_train_df).transform(diamonds_train_df)\n",
    "test_df = preprocessing_pipeline.transform(diamonds_test_df)"
   ]
  },
  {
   "cell_type": "code",
   "execution_count": 53,
   "id": "8877fb8c-674f-4059-893c-c01d6b0ad927",
   "metadata": {},
   "outputs": [],
   "source": [
    "#Define XGBRegressor\n",
    "# regressor = XGBRegressor(\n",
    "#     input_cols=CATEGORICAL_COLUMNS_OE+NUMERICAL_COLUMNS,\n",
    "#     label_cols=LABEL_COLUMNS,\n",
    "#     output_cols=OUTPUT_COLUMNS\n",
    "# )\n",
    "\n",
    "regressor = LinearRegression(\n",
    "    input_cols=CATEGORICAL_COLUMNS_OE+NUMERICAL_COLUMNS,\n",
    "    label_cols=LABEL_COLUMNS,\n",
    "    output_cols=OUTPUT_COLUMNS\n",
    ")"
   ]
  },
  {
   "cell_type": "code",
   "execution_count": 45,
   "id": "fe1a6d90-cbb1-4d88-9008-eb1e1d02e1f9",
   "metadata": {},
   "outputs": [
    {
     "name": "stdout",
     "output_type": "stream",
     "text": [
      "Requirement already satisfied: scikit-learn in /opt/conda/lib/python3.9/site-packages (1.3.2)\n",
      "Requirement already satisfied: numpy<2.0,>=1.17.3 in /opt/conda/lib/python3.9/site-packages (from scikit-learn) (1.26.4)\n",
      "Requirement already satisfied: threadpoolctl>=2.0.0 in /opt/conda/lib/python3.9/site-packages (from scikit-learn) (3.5.0)\n",
      "Requirement already satisfied: joblib>=1.1.1 in /opt/conda/lib/python3.9/site-packages (from scikit-learn) (1.4.2)\n",
      "Requirement already satisfied: scipy>=1.5.0 in /opt/conda/lib/python3.9/site-packages (from scikit-learn) (1.13.1)\n",
      "\u001b[33mWARNING: You are using pip version 19.3.1; however, version 24.2 is available.\n",
      "You should consider upgrading via the 'pip install --upgrade pip' command.\u001b[0m\n"
     ]
    }
   ],
   "source": [
    "!pip install scikit-learn"
   ]
  },
  {
   "cell_type": "code",
   "execution_count": 54,
   "id": "00bf0426-1a9e-4c12-b912-91cabf13a535",
   "metadata": {},
   "outputs": [
    {
     "data": {
      "text/plain": [
       "<snowflake.ml.modeling.linear_model.linear_regression.LinearRegression at 0x7fd914793430>"
      ]
     },
     "execution_count": 54,
     "metadata": {},
     "output_type": "execute_result"
    }
   ],
   "source": [
    "#Model training\n",
    "regressor.fit(train_df)"
   ]
  },
  {
   "cell_type": "code",
   "execution_count": 55,
   "id": "f4a07c71-6d83-415e-9ebd-59124c2e559b",
   "metadata": {},
   "outputs": [
    {
     "name": "stderr",
     "output_type": "stream",
     "text": [
      "The version of package 'scikit-learn' in the local environment is 1.3.2, which does not fit the criteria for the requirement 'scikit-learn==1.3.0'. Your UDF might not work when the package version is different between the server and your local environment.\n"
     ]
    }
   ],
   "source": [
    "#Model Prediction\n",
    "result = regressor.predict(test_df)"
   ]
  },
  {
   "cell_type": "code",
   "execution_count": 56,
   "id": "415a22c6-27ec-4f28-bc8a-af7dfd7a0729",
   "metadata": {},
   "outputs": [
    {
     "data": {
      "text/html": [
       "<div>\n",
       "<style scoped>\n",
       "    .dataframe tbody tr th:only-of-type {\n",
       "        vertical-align: middle;\n",
       "    }\n",
       "\n",
       "    .dataframe tbody tr th {\n",
       "        vertical-align: top;\n",
       "    }\n",
       "\n",
       "    .dataframe thead th {\n",
       "        text-align: right;\n",
       "    }\n",
       "</style>\n",
       "<table border=\"1\" class=\"dataframe\">\n",
       "  <thead>\n",
       "    <tr style=\"text-align: right;\">\n",
       "      <th></th>\n",
       "      <th>CUT_OE</th>\n",
       "      <th>COLOR_OE</th>\n",
       "      <th>CLARITY_OE</th>\n",
       "      <th>CARAT</th>\n",
       "      <th>DEPTH</th>\n",
       "      <th>TABLE_PCT</th>\n",
       "      <th>X</th>\n",
       "      <th>Y</th>\n",
       "      <th>Z</th>\n",
       "      <th>PREDICTED_PRICE</th>\n",
       "    </tr>\n",
       "  </thead>\n",
       "  <tbody>\n",
       "    <tr>\n",
       "      <th>0</th>\n",
       "      <td>2.0</td>\n",
       "      <td>6.0</td>\n",
       "      <td>5.0</td>\n",
       "      <td>0.020790</td>\n",
       "      <td>0.547222</td>\n",
       "      <td>0.307692</td>\n",
       "      <td>0.391993</td>\n",
       "      <td>0.072496</td>\n",
       "      <td>0.083648</td>\n",
       "      <td>-1985.185007</td>\n",
       "    </tr>\n",
       "    <tr>\n",
       "      <th>1</th>\n",
       "      <td>2.0</td>\n",
       "      <td>6.0</td>\n",
       "      <td>5.0</td>\n",
       "      <td>0.022869</td>\n",
       "      <td>0.455556</td>\n",
       "      <td>0.365385</td>\n",
       "      <td>0.408752</td>\n",
       "      <td>0.075212</td>\n",
       "      <td>0.082390</td>\n",
       "      <td>-1845.470888</td>\n",
       "    </tr>\n",
       "    <tr>\n",
       "      <th>2</th>\n",
       "      <td>1.0</td>\n",
       "      <td>5.0</td>\n",
       "      <td>3.0</td>\n",
       "      <td>0.008316</td>\n",
       "      <td>0.541667</td>\n",
       "      <td>0.269231</td>\n",
       "      <td>0.369646</td>\n",
       "      <td>0.066893</td>\n",
       "      <td>0.077673</td>\n",
       "      <td>-908.831621</td>\n",
       "    </tr>\n",
       "    <tr>\n",
       "      <th>3</th>\n",
       "      <td>2.0</td>\n",
       "      <td>0.0</td>\n",
       "      <td>4.0</td>\n",
       "      <td>0.006237</td>\n",
       "      <td>0.486111</td>\n",
       "      <td>0.346154</td>\n",
       "      <td>0.368715</td>\n",
       "      <td>0.067402</td>\n",
       "      <td>0.075472</td>\n",
       "      <td>39.567270</td>\n",
       "    </tr>\n",
       "    <tr>\n",
       "      <th>4</th>\n",
       "      <td>1.0</td>\n",
       "      <td>4.0</td>\n",
       "      <td>5.0</td>\n",
       "      <td>0.020790</td>\n",
       "      <td>0.552778</td>\n",
       "      <td>0.307692</td>\n",
       "      <td>0.398510</td>\n",
       "      <td>0.071986</td>\n",
       "      <td>0.084277</td>\n",
       "      <td>-1296.692120</td>\n",
       "    </tr>\n",
       "    <tr>\n",
       "      <th>...</th>\n",
       "      <td>...</td>\n",
       "      <td>...</td>\n",
       "      <td>...</td>\n",
       "      <td>...</td>\n",
       "      <td>...</td>\n",
       "      <td>...</td>\n",
       "      <td>...</td>\n",
       "      <td>...</td>\n",
       "      <td>...</td>\n",
       "      <td>...</td>\n",
       "    </tr>\n",
       "    <tr>\n",
       "      <th>5407</th>\n",
       "      <td>2.0</td>\n",
       "      <td>1.0</td>\n",
       "      <td>5.0</td>\n",
       "      <td>0.103950</td>\n",
       "      <td>0.505556</td>\n",
       "      <td>0.269231</td>\n",
       "      <td>0.528864</td>\n",
       "      <td>0.097284</td>\n",
       "      <td>0.109748</td>\n",
       "      <td>2864.664407</td>\n",
       "    </tr>\n",
       "    <tr>\n",
       "      <th>5408</th>\n",
       "      <td>1.0</td>\n",
       "      <td>5.0</td>\n",
       "      <td>3.0</td>\n",
       "      <td>0.116424</td>\n",
       "      <td>0.452778</td>\n",
       "      <td>0.365385</td>\n",
       "      <td>0.552142</td>\n",
       "      <td>0.099321</td>\n",
       "      <td>0.109748</td>\n",
       "      <td>3140.751336</td>\n",
       "    </tr>\n",
       "    <tr>\n",
       "      <th>5409</th>\n",
       "      <td>2.0</td>\n",
       "      <td>1.0</td>\n",
       "      <td>4.0</td>\n",
       "      <td>0.103950</td>\n",
       "      <td>0.550000</td>\n",
       "      <td>0.326923</td>\n",
       "      <td>0.520484</td>\n",
       "      <td>0.095925</td>\n",
       "      <td>0.111006</td>\n",
       "      <td>3229.459362</td>\n",
       "    </tr>\n",
       "    <tr>\n",
       "      <th>5410</th>\n",
       "      <td>0.0</td>\n",
       "      <td>3.0</td>\n",
       "      <td>3.0</td>\n",
       "      <td>0.106029</td>\n",
       "      <td>0.511111</td>\n",
       "      <td>0.250000</td>\n",
       "      <td>0.536313</td>\n",
       "      <td>0.097284</td>\n",
       "      <td>0.111006</td>\n",
       "      <td>3511.058215</td>\n",
       "    </tr>\n",
       "    <tr>\n",
       "      <th>5411</th>\n",
       "      <td>0.0</td>\n",
       "      <td>0.0</td>\n",
       "      <td>6.0</td>\n",
       "      <td>0.114345</td>\n",
       "      <td>0.533333</td>\n",
       "      <td>0.230769</td>\n",
       "      <td>0.542831</td>\n",
       "      <td>0.099660</td>\n",
       "      <td>0.114465</td>\n",
       "      <td>3307.305417</td>\n",
       "    </tr>\n",
       "  </tbody>\n",
       "</table>\n",
       "<p>5412 rows × 10 columns</p>\n",
       "</div>"
      ],
      "text/plain": [
       "      CUT_OE  COLOR_OE  CLARITY_OE     CARAT     DEPTH  TABLE_PCT         X  \\\n",
       "0        2.0       6.0         5.0  0.020790  0.547222   0.307692  0.391993   \n",
       "1        2.0       6.0         5.0  0.022869  0.455556   0.365385  0.408752   \n",
       "2        1.0       5.0         3.0  0.008316  0.541667   0.269231  0.369646   \n",
       "3        2.0       0.0         4.0  0.006237  0.486111   0.346154  0.368715   \n",
       "4        1.0       4.0         5.0  0.020790  0.552778   0.307692  0.398510   \n",
       "...      ...       ...         ...       ...       ...        ...       ...   \n",
       "5407     2.0       1.0         5.0  0.103950  0.505556   0.269231  0.528864   \n",
       "5408     1.0       5.0         3.0  0.116424  0.452778   0.365385  0.552142   \n",
       "5409     2.0       1.0         4.0  0.103950  0.550000   0.326923  0.520484   \n",
       "5410     0.0       3.0         3.0  0.106029  0.511111   0.250000  0.536313   \n",
       "5411     0.0       0.0         6.0  0.114345  0.533333   0.230769  0.542831   \n",
       "\n",
       "             Y         Z  PREDICTED_PRICE  \n",
       "0     0.072496  0.083648     -1985.185007  \n",
       "1     0.075212  0.082390     -1845.470888  \n",
       "2     0.066893  0.077673      -908.831621  \n",
       "3     0.067402  0.075472        39.567270  \n",
       "4     0.071986  0.084277     -1296.692120  \n",
       "...        ...       ...              ...  \n",
       "5407  0.097284  0.109748      2864.664407  \n",
       "5408  0.099321  0.109748      3140.751336  \n",
       "5409  0.095925  0.111006      3229.459362  \n",
       "5410  0.097284  0.111006      3511.058215  \n",
       "5411  0.099660  0.114465      3307.305417  \n",
       "\n",
       "[5412 rows x 10 columns]"
      ]
     },
     "execution_count": 56,
     "metadata": {},
     "output_type": "execute_result"
    }
   ],
   "source": [
    "#Passing pandas dataframe to snowflake's predict function\n",
    "regressor.predict(test_df[CATEGORICAL_COLUMNS_OE+NUMERICAL_COLUMNS].to_pandas())"
   ]
  },
  {
   "cell_type": "code",
   "execution_count": 58,
   "id": "7c79e95c-c140-453f-8b86-c638a778f3da",
   "metadata": {},
   "outputs": [
    {
     "name": "stdout",
     "output_type": "stream",
     "text": [
      "---------------------------------\n",
      "|\"PRICE\"  |\"PREDICTED_PRICE\"    |\n",
      "---------------------------------\n",
      "|351      |-1985.1850069018783  |\n",
      "|353      |-1845.4708883064613  |\n",
      "|355      |-908.8316211673255   |\n",
      "|357      |39.56727003622473    |\n",
      "|554      |-1296.6921202874037  |\n",
      "|554      |-48.12114064960588   |\n",
      "|2757     |2934.9474331954298   |\n",
      "|2759     |3377.154320464458    |\n",
      "|2759     |3526.044279321387    |\n",
      "|2762     |3424.3370867229837   |\n",
      "---------------------------------\n",
      "\n",
      "Mean absolute percentage error is: 0.44709608200892326\n"
     ]
    }
   ],
   "source": [
    "mape = mean_absolute_percentage_error(\n",
    "    df=result,\n",
    "    y_true_col_names=\"PRICE\",\n",
    "    y_pred_col_names=\"PREDICTED_PRICE\"\n",
    ")\n",
    "result.select(\"PRICE\",\"PREDICTED_PRICE\").show()\n",
    "print(f\"Mean absolute percentage error is: {mape}\")"
   ]
  },
  {
   "cell_type": "code",
   "execution_count": 59,
   "id": "f405d451-b10b-4518-bae1-613627f6dceb",
   "metadata": {},
   "outputs": [],
   "source": [
    "from fosforml import register_model"
   ]
  },
  {
   "cell_type": "code",
   "execution_count": 61,
   "id": "dea2f90d-813b-4174-9246-8b2562f9c7c7",
   "metadata": {},
   "outputs": [
    {
     "name": "stderr",
     "output_type": "stream",
     "text": [
      "Got error object of type 'NoneType' has no len() when trying to read default values from function: <function explained_variance_score.<locals>.explained_variance_score_anon_sproc at 0x7fd9145ac550>. Proceeding without creating optional arguments\n"
     ]
    },
    {
     "name": "stdout",
     "output_type": "stream",
     "text": [
      "Calculating build time metrics\n",
      "\n",
      "Progress: ██████████████████                                                     25.0%\n"
     ]
    },
    {
     "name": "stderr",
     "output_type": "stream",
     "text": [
      "The version of package 'scikit-learn' in the local environment is 1.3.2, which does not fit the criteria for the requirement 'scikit-learn==1.3.*'. Your UDF might not work when the package version is different between the server and your local environment.\n",
      "The version of package 'snowflake-snowpark-python' in the local environment is 1.22.1, which does not fit the criteria for the requirement 'snowflake-snowpark-python'. Your UDF might not work when the package version is different between the server and your local environment.\n"
     ]
    },
    {
     "name": "stdout",
     "output_type": "stream",
     "text": [
      "Calculating build time metrics\n",
      "\n",
      "Progress: ███████████████████████████████████                                    50.0%\n",
      "Calculating build time metrics\n",
      "\n",
      "Progress: ████████████████████████████████████████████████████                   75.0%\n",
      "Calculating build time metrics\n",
      "\n",
      "Progress: ██████████████████████████████████████████████████████████████████████ 100.0%\n"
     ]
    },
    {
     "data": {
      "text/plain": [
       "\"Model 'MODEL_B29E775A_4228_4D47_ADBB_0840C0AE011E_FDC_LINEAR_REGRESSION_MODEL' registered successfully.\""
      ]
     },
     "execution_count": 61,
     "metadata": {},
     "output_type": "execute_result"
    }
   ],
   "source": [
    "register_model(\n",
    "  model_obj=regressor,\n",
    "  session=session,\n",
    "  source=\"Notebook\",\n",
    "  name=\"Linear_Regression_Model\",\n",
    "  snowflake_df=result,\n",
    "  dataset_name=\"Diamond_Regression_dataset\",\n",
    "  dataset_source=\"SnowflakeDataset\",\n",
    "  description=\"This is a test model for Linear Regression\",\n",
    "  flavour=\"snowflake\",\n",
    "  model_type=\"regression\",\n",
    "  conda_dependencies=[\"scikit-learn==1.3.2\"]\n",
    ")"
   ]
  },
  {
   "cell_type": "code",
   "execution_count": 62,
   "id": "44d36927-c9a4-43a6-bc2c-0b65c92f93ca",
   "metadata": {},
   "outputs": [
    {
     "data": {
      "text/plain": [
       "'2024-09-27 01:21:34 PM'"
      ]
     },
     "execution_count": 62,
     "metadata": {},
     "output_type": "execute_result"
    }
   ],
   "source": [
    "session.sql(\"SELECT TO_CHAR(CURRENT_TIMESTAMP,'YYYY-MM-DD HH12:MI:SS PM')\").to_pandas().squeeze()"
   ]
  },
  {
   "cell_type": "code",
   "execution_count": 63,
   "id": "a6ebff50-89f5-4a34-a80c-5ba130fdc341",
   "metadata": {},
   "outputs": [
    {
     "name": "stderr",
     "output_type": "stream",
     "text": [
      "WARNING:snowflake.snowpark.session:The version of package 'scikit-learn' in the local environment is 1.3.2, which does not fit the criteria for the requirement 'scikit-learn==1.3.0'. Your UDF might not work when the package version is different between the server and your local environment.\n",
      "WARNING:snowflake.snowpark.session:The version of package 'scikit-learn' in the local environment is 1.3.2, which does not fit the criteria for the requirement 'scikit-learn==1.3.0'. Your UDF might not work when the package version is different between the server and your local environment.\n"
     ]
    }
   ],
   "source": [
    "current_data = regressor.predict(test_df)\n",
    "predict_col = list(regressor.predict(test_df).to_pandas()['PREDICTED_PRICE'].to_numpy())\n",
    "from snowflake.snowpark.functions import lit\n",
    "current = None\n",
    "for i in range(len(predict_col)):\n",
    "    current = current_data.with_column('PREDICTED_PRICE',lit(predict_col[i]))"
   ]
  },
  {
   "cell_type": "code",
   "execution_count": 64,
   "id": "8a325b44-30cf-4c95-99b9-bcaa30605576",
   "metadata": {},
   "outputs": [
    {
     "data": {
      "text/html": [
       "<div>\n",
       "<style scoped>\n",
       "    .dataframe tbody tr th:only-of-type {\n",
       "        vertical-align: middle;\n",
       "    }\n",
       "\n",
       "    .dataframe tbody tr th {\n",
       "        vertical-align: top;\n",
       "    }\n",
       "\n",
       "    .dataframe thead th {\n",
       "        text-align: right;\n",
       "    }\n",
       "</style>\n",
       "<table border=\"1\" class=\"dataframe\">\n",
       "  <thead>\n",
       "    <tr style=\"text-align: right;\">\n",
       "      <th></th>\n",
       "      <th>CARAT</th>\n",
       "      <th>DEPTH</th>\n",
       "      <th>TABLE_PCT</th>\n",
       "      <th>X</th>\n",
       "      <th>Y</th>\n",
       "      <th>Z</th>\n",
       "      <th>CUT_OE</th>\n",
       "      <th>COLOR_OE</th>\n",
       "      <th>CLARITY_OE</th>\n",
       "      <th>COLOR</th>\n",
       "      <th>CLARITY</th>\n",
       "      <th>PRICE</th>\n",
       "      <th>CUT</th>\n",
       "      <th>PREDICTED_PRICE</th>\n",
       "    </tr>\n",
       "  </thead>\n",
       "  <tbody>\n",
       "    <tr>\n",
       "      <th>0</th>\n",
       "      <td>0.020790</td>\n",
       "      <td>0.547222</td>\n",
       "      <td>0.307692</td>\n",
       "      <td>0.391993</td>\n",
       "      <td>0.072496</td>\n",
       "      <td>0.083648</td>\n",
       "      <td>2.0</td>\n",
       "      <td>6.0</td>\n",
       "      <td>5.0</td>\n",
       "      <td>J</td>\n",
       "      <td>SI1</td>\n",
       "      <td>351</td>\n",
       "      <td>VERY_GOOD</td>\n",
       "      <td>3511.058215</td>\n",
       "    </tr>\n",
       "    <tr>\n",
       "      <th>1</th>\n",
       "      <td>0.022869</td>\n",
       "      <td>0.455556</td>\n",
       "      <td>0.365385</td>\n",
       "      <td>0.408752</td>\n",
       "      <td>0.075212</td>\n",
       "      <td>0.082390</td>\n",
       "      <td>2.0</td>\n",
       "      <td>6.0</td>\n",
       "      <td>5.0</td>\n",
       "      <td>J</td>\n",
       "      <td>SI1</td>\n",
       "      <td>353</td>\n",
       "      <td>VERY_GOOD</td>\n",
       "      <td>3511.058215</td>\n",
       "    </tr>\n",
       "    <tr>\n",
       "      <th>2</th>\n",
       "      <td>0.008316</td>\n",
       "      <td>0.541667</td>\n",
       "      <td>0.269231</td>\n",
       "      <td>0.369646</td>\n",
       "      <td>0.066893</td>\n",
       "      <td>0.077673</td>\n",
       "      <td>1.0</td>\n",
       "      <td>5.0</td>\n",
       "      <td>3.0</td>\n",
       "      <td>I</td>\n",
       "      <td>VS1</td>\n",
       "      <td>355</td>\n",
       "      <td>PREMIUM</td>\n",
       "      <td>3511.058215</td>\n",
       "    </tr>\n",
       "    <tr>\n",
       "      <th>3</th>\n",
       "      <td>0.006237</td>\n",
       "      <td>0.486111</td>\n",
       "      <td>0.346154</td>\n",
       "      <td>0.368715</td>\n",
       "      <td>0.067402</td>\n",
       "      <td>0.075472</td>\n",
       "      <td>2.0</td>\n",
       "      <td>0.0</td>\n",
       "      <td>4.0</td>\n",
       "      <td>D</td>\n",
       "      <td>VS2</td>\n",
       "      <td>357</td>\n",
       "      <td>VERY_GOOD</td>\n",
       "      <td>3511.058215</td>\n",
       "    </tr>\n",
       "    <tr>\n",
       "      <th>4</th>\n",
       "      <td>0.020790</td>\n",
       "      <td>0.552778</td>\n",
       "      <td>0.307692</td>\n",
       "      <td>0.398510</td>\n",
       "      <td>0.071986</td>\n",
       "      <td>0.084277</td>\n",
       "      <td>1.0</td>\n",
       "      <td>4.0</td>\n",
       "      <td>5.0</td>\n",
       "      <td>H</td>\n",
       "      <td>SI1</td>\n",
       "      <td>554</td>\n",
       "      <td>PREMIUM</td>\n",
       "      <td>3511.058215</td>\n",
       "    </tr>\n",
       "  </tbody>\n",
       "</table>\n",
       "</div>"
      ],
      "text/plain": [
       "      CARAT     DEPTH  TABLE_PCT         X         Y         Z  CUT_OE  \\\n",
       "0  0.020790  0.547222   0.307692  0.391993  0.072496  0.083648     2.0   \n",
       "1  0.022869  0.455556   0.365385  0.408752  0.075212  0.082390     2.0   \n",
       "2  0.008316  0.541667   0.269231  0.369646  0.066893  0.077673     1.0   \n",
       "3  0.006237  0.486111   0.346154  0.368715  0.067402  0.075472     2.0   \n",
       "4  0.020790  0.552778   0.307692  0.398510  0.071986  0.084277     1.0   \n",
       "\n",
       "   COLOR_OE  CLARITY_OE COLOR CLARITY  PRICE        CUT  PREDICTED_PRICE  \n",
       "0       6.0         5.0     J     SI1    351  VERY_GOOD      3511.058215  \n",
       "1       6.0         5.0     J     SI1    353  VERY_GOOD      3511.058215  \n",
       "2       5.0         3.0     I     VS1    355    PREMIUM      3511.058215  \n",
       "3       0.0         4.0     D     VS2    357  VERY_GOOD      3511.058215  \n",
       "4       4.0         5.0     H     SI1    554    PREMIUM      3511.058215  "
      ]
     },
     "execution_count": 64,
     "metadata": {},
     "output_type": "execute_result"
    }
   ],
   "source": [
    "current_pandas = current.to_pandas()\n",
    "current_pandas.head()"
   ]
  },
  {
   "cell_type": "code",
   "execution_count": 66,
   "id": "b4448181-b6ff-489b-86b2-ea53b3021781",
   "metadata": {},
   "outputs": [
    {
     "name": "stderr",
     "output_type": "stream",
     "text": [
      "WARNING:snowflake.snowpark.session:The version of package 'scikit-learn' in the local environment is 1.3.2, which does not fit the criteria for the requirement 'scikit-learn==1.3.0'. Your UDF might not work when the package version is different between the server and your local environment.\n",
      "WARNING:snowflake.snowpark.session:The version of package 'scikit-learn' in the local environment is 1.3.2, which does not fit the criteria for the requirement 'scikit-learn==1.3.0'. Your UDF might not work when the package version is different between the server and your local environment.\n"
     ]
    }
   ],
   "source": [
    "reference_data = regressor.predict(test_df)\n",
    "predict_col = list(regressor.predict(test_df).to_pandas()['PREDICTED_PRICE'].to_numpy())\n",
    "from snowflake.snowpark.functions import lit\n",
    "reference = None\n",
    "for i in range(len(predict_col)):\n",
    "    reference = reference_data.with_column('PREDICTED_PRICE',lit(predict_col[i]))"
   ]
  },
  {
   "cell_type": "code",
   "execution_count": 67,
   "id": "fd098676-23cd-466e-8633-cb7f12264c93",
   "metadata": {},
   "outputs": [
    {
     "data": {
      "text/html": [
       "<div>\n",
       "<style scoped>\n",
       "    .dataframe tbody tr th:only-of-type {\n",
       "        vertical-align: middle;\n",
       "    }\n",
       "\n",
       "    .dataframe tbody tr th {\n",
       "        vertical-align: top;\n",
       "    }\n",
       "\n",
       "    .dataframe thead th {\n",
       "        text-align: right;\n",
       "    }\n",
       "</style>\n",
       "<table border=\"1\" class=\"dataframe\">\n",
       "  <thead>\n",
       "    <tr style=\"text-align: right;\">\n",
       "      <th></th>\n",
       "      <th>CARAT</th>\n",
       "      <th>DEPTH</th>\n",
       "      <th>TABLE_PCT</th>\n",
       "      <th>X</th>\n",
       "      <th>Y</th>\n",
       "      <th>Z</th>\n",
       "      <th>CUT_OE</th>\n",
       "      <th>COLOR_OE</th>\n",
       "      <th>CLARITY_OE</th>\n",
       "      <th>COLOR</th>\n",
       "      <th>CLARITY</th>\n",
       "      <th>PRICE</th>\n",
       "      <th>CUT</th>\n",
       "      <th>PREDICTED_PRICE</th>\n",
       "    </tr>\n",
       "  </thead>\n",
       "  <tbody>\n",
       "    <tr>\n",
       "      <th>0</th>\n",
       "      <td>0.020790</td>\n",
       "      <td>0.547222</td>\n",
       "      <td>0.307692</td>\n",
       "      <td>0.391993</td>\n",
       "      <td>0.072496</td>\n",
       "      <td>0.083648</td>\n",
       "      <td>2.0</td>\n",
       "      <td>6.0</td>\n",
       "      <td>5.0</td>\n",
       "      <td>J</td>\n",
       "      <td>SI1</td>\n",
       "      <td>351</td>\n",
       "      <td>VERY_GOOD</td>\n",
       "      <td>4314.199339</td>\n",
       "    </tr>\n",
       "    <tr>\n",
       "      <th>1</th>\n",
       "      <td>0.022869</td>\n",
       "      <td>0.455556</td>\n",
       "      <td>0.365385</td>\n",
       "      <td>0.408752</td>\n",
       "      <td>0.075212</td>\n",
       "      <td>0.082390</td>\n",
       "      <td>2.0</td>\n",
       "      <td>6.0</td>\n",
       "      <td>5.0</td>\n",
       "      <td>J</td>\n",
       "      <td>SI1</td>\n",
       "      <td>353</td>\n",
       "      <td>VERY_GOOD</td>\n",
       "      <td>4314.199339</td>\n",
       "    </tr>\n",
       "    <tr>\n",
       "      <th>2</th>\n",
       "      <td>0.008316</td>\n",
       "      <td>0.541667</td>\n",
       "      <td>0.269231</td>\n",
       "      <td>0.369646</td>\n",
       "      <td>0.066893</td>\n",
       "      <td>0.077673</td>\n",
       "      <td>1.0</td>\n",
       "      <td>5.0</td>\n",
       "      <td>3.0</td>\n",
       "      <td>I</td>\n",
       "      <td>VS1</td>\n",
       "      <td>355</td>\n",
       "      <td>PREMIUM</td>\n",
       "      <td>4314.199339</td>\n",
       "    </tr>\n",
       "    <tr>\n",
       "      <th>3</th>\n",
       "      <td>0.006237</td>\n",
       "      <td>0.486111</td>\n",
       "      <td>0.346154</td>\n",
       "      <td>0.368715</td>\n",
       "      <td>0.067402</td>\n",
       "      <td>0.075472</td>\n",
       "      <td>2.0</td>\n",
       "      <td>0.0</td>\n",
       "      <td>4.0</td>\n",
       "      <td>D</td>\n",
       "      <td>VS2</td>\n",
       "      <td>357</td>\n",
       "      <td>VERY_GOOD</td>\n",
       "      <td>4314.199339</td>\n",
       "    </tr>\n",
       "    <tr>\n",
       "      <th>4</th>\n",
       "      <td>0.020790</td>\n",
       "      <td>0.552778</td>\n",
       "      <td>0.307692</td>\n",
       "      <td>0.398510</td>\n",
       "      <td>0.071986</td>\n",
       "      <td>0.084277</td>\n",
       "      <td>1.0</td>\n",
       "      <td>4.0</td>\n",
       "      <td>5.0</td>\n",
       "      <td>H</td>\n",
       "      <td>SI1</td>\n",
       "      <td>554</td>\n",
       "      <td>PREMIUM</td>\n",
       "      <td>4314.199339</td>\n",
       "    </tr>\n",
       "  </tbody>\n",
       "</table>\n",
       "</div>"
      ],
      "text/plain": [
       "      CARAT     DEPTH  TABLE_PCT         X         Y         Z  CUT_OE  \\\n",
       "0  0.020790  0.547222   0.307692  0.391993  0.072496  0.083648     2.0   \n",
       "1  0.022869  0.455556   0.365385  0.408752  0.075212  0.082390     2.0   \n",
       "2  0.008316  0.541667   0.269231  0.369646  0.066893  0.077673     1.0   \n",
       "3  0.006237  0.486111   0.346154  0.368715  0.067402  0.075472     2.0   \n",
       "4  0.020790  0.552778   0.307692  0.398510  0.071986  0.084277     1.0   \n",
       "\n",
       "   COLOR_OE  CLARITY_OE COLOR CLARITY  PRICE        CUT  PREDICTED_PRICE  \n",
       "0       6.0         5.0     J     SI1    351  VERY_GOOD      4314.199339  \n",
       "1       6.0         5.0     J     SI1    353  VERY_GOOD      4314.199339  \n",
       "2       5.0         3.0     I     VS1    355    PREMIUM      4314.199339  \n",
       "3       0.0         4.0     D     VS2    357  VERY_GOOD      4314.199339  \n",
       "4       4.0         5.0     H     SI1    554    PREMIUM      4314.199339  "
      ]
     },
     "execution_count": 67,
     "metadata": {},
     "output_type": "execute_result"
    }
   ],
   "source": [
    "reference_pandas = reference.to_pandas()\n",
    "reference_pandas.head()"
   ]
  },
  {
   "cell_type": "code",
   "execution_count": 68,
   "id": "063ddce1-6146-4c65-946c-813151de9c26",
   "metadata": {},
   "outputs": [],
   "source": [
    "inference_pandas_data = test_df.to_pandas()"
   ]
  },
  {
   "cell_type": "code",
   "execution_count": 69,
   "id": "f3e9ed4e-e461-4cc8-9da7-400e2d5e08a9",
   "metadata": {},
   "outputs": [
    {
     "name": "stdout",
     "output_type": "stream",
     "text": [
      "---------------------------------------------------------------------------------------------------------------------------------------------------------------------------------------------------------------------------------------------\n",
      "|\"CARAT\"               |\"DEPTH\"              |\"TABLE_PCT\"          |\"X\"                  |\"Y\"                  |\"Z\"                  |\"CUT_OE\"  |\"COLOR_OE\"  |\"CLARITY_OE\"  |\"COLOR\"  |\"CLARITY\"  |\"PRICE\"  |\"CUT\"      |\"PREDICTED_PRICE\"  |\n",
      "---------------------------------------------------------------------------------------------------------------------------------------------------------------------------------------------------------------------------------------------\n",
      "|0.02079002079002079   |0.5472222222222223   |0.3076923076923076   |0.3919925512104283   |0.07249575551782682  |0.08364779874213837  |2.0       |6.0         |5.0           |J        |SI1        |351      |VERY_GOOD  |4314.199339116703  |\n",
      "|0.02286902286902287   |0.4555555555555555   |0.3653846153846153   |0.40875232774674114  |0.07521222410865874  |0.08238993710691825  |2.0       |6.0         |5.0           |J        |SI1        |353      |VERY_GOOD  |4314.199339116703  |\n",
      "|0.008316008316008316  |0.5416666666666665   |0.2692307692307693   |0.36964618249534453  |0.06689303904923599  |0.07767295597484278  |1.0       |5.0         |3.0           |I        |VS1        |355      |PREMIUM    |4314.199339116703  |\n",
      "|0.006237006237006237  |0.48611111111111094  |0.34615384615384615  |0.3687150837988827   |0.06740237691001698  |0.07547169811320754  |2.0       |0.0         |4.0           |D        |VS2        |357      |VERY_GOOD  |4314.199339116703  |\n",
      "|0.02079002079002079   |0.5527777777777776   |0.3076923076923076   |0.3985102420856611   |0.07198641765704585  |0.08427672955974844  |1.0       |4.0         |5.0           |H        |SI1        |554      |PREMIUM    |4314.199339116703  |\n",
      "|0.008316008316008316  |0.4916666666666667   |0.28846153846153844  |0.3789571694599628   |0.06859083191850594  |0.07735849056603773  |1.0       |4.0         |2.0           |H        |VVS2       |554      |PREMIUM    |4314.199339116703  |\n",
      "|0.10395010395010396   |0.5166666666666666   |0.2500000000000001   |0.5307262569832403   |0.09626485568760612  |0.11006289308176101  |0.0       |3.0         |4.0           |G        |VS2        |2757     |IDEAL      |4314.199339116703  |\n",
      "|0.10602910602910603   |0.5388888888888888   |0.2692307692307693   |0.5288640595903166   |0.0972835314091681   |0.1119496855345912   |2.0       |1.0         |4.0           |E        |VS2        |2759     |VERY_GOOD  |4314.199339116703  |\n",
      "|0.158004158004158     |0.6472222222222221   |0.3653846153846153   |0.5837988826815642   |0.10101867572156198  |0.1279874213836478   |4.0       |2.0         |6.0           |F        |SI2        |2759     |FAIR       |4314.199339116703  |\n",
      "|0.11226611226611227   |0.536111111111111    |0.21153846153846156  |0.5400372439478585   |0.09898132427843803  |0.11383647798742139  |0.0       |1.0         |5.0           |E        |SI1        |2762     |IDEAL      |4314.199339116703  |\n",
      "---------------------------------------------------------------------------------------------------------------------------------------------------------------------------------------------------------------------------------------------\n",
      "\n"
     ]
    }
   ],
   "source": [
    "session.write_pandas(reference_pandas,table_name=\"LINEAR_REG_REFERENCE_DATA\",overwrite=True).show()"
   ]
  },
  {
   "cell_type": "code",
   "execution_count": 70,
   "id": "6eb1caf6-a762-495f-a923-0ea5ddf5f2da",
   "metadata": {},
   "outputs": [
    {
     "name": "stdout",
     "output_type": "stream",
     "text": [
      "---------------------------------------------------------------------------------------------------------------------------------------------------------------------------------------------------------------------------------------------\n",
      "|\"CARAT\"               |\"DEPTH\"              |\"TABLE_PCT\"          |\"X\"                  |\"Y\"                  |\"Z\"                  |\"CUT_OE\"  |\"COLOR_OE\"  |\"CLARITY_OE\"  |\"COLOR\"  |\"CLARITY\"  |\"PRICE\"  |\"CUT\"      |\"PREDICTED_PRICE\"  |\n",
      "---------------------------------------------------------------------------------------------------------------------------------------------------------------------------------------------------------------------------------------------\n",
      "|0.02079002079002079   |0.5472222222222223   |0.3076923076923076   |0.3919925512104283   |0.07249575551782682  |0.08364779874213837  |2.0       |6.0         |5.0           |J        |SI1        |351      |VERY_GOOD  |3511.05821533032   |\n",
      "|0.02286902286902287   |0.4555555555555555   |0.3653846153846153   |0.40875232774674114  |0.07521222410865874  |0.08238993710691825  |2.0       |6.0         |5.0           |J        |SI1        |353      |VERY_GOOD  |3511.05821533032   |\n",
      "|0.008316008316008316  |0.5416666666666665   |0.2692307692307693   |0.36964618249534453  |0.06689303904923599  |0.07767295597484278  |1.0       |5.0         |3.0           |I        |VS1        |355      |PREMIUM    |3511.05821533032   |\n",
      "|0.006237006237006237  |0.48611111111111094  |0.34615384615384615  |0.3687150837988827   |0.06740237691001698  |0.07547169811320754  |2.0       |0.0         |4.0           |D        |VS2        |357      |VERY_GOOD  |3511.05821533032   |\n",
      "|0.02079002079002079   |0.5527777777777776   |0.3076923076923076   |0.3985102420856611   |0.07198641765704585  |0.08427672955974844  |1.0       |4.0         |5.0           |H        |SI1        |554      |PREMIUM    |3511.05821533032   |\n",
      "|0.008316008316008316  |0.4916666666666667   |0.28846153846153844  |0.3789571694599628   |0.06859083191850594  |0.07735849056603773  |1.0       |4.0         |2.0           |H        |VVS2       |554      |PREMIUM    |3511.05821533032   |\n",
      "|0.10395010395010396   |0.5166666666666666   |0.2500000000000001   |0.5307262569832403   |0.09626485568760612  |0.11006289308176101  |0.0       |3.0         |4.0           |G        |VS2        |2757     |IDEAL      |3511.05821533032   |\n",
      "|0.10602910602910603   |0.5388888888888888   |0.2692307692307693   |0.5288640595903166   |0.0972835314091681   |0.1119496855345912   |2.0       |1.0         |4.0           |E        |VS2        |2759     |VERY_GOOD  |3511.05821533032   |\n",
      "|0.158004158004158     |0.6472222222222221   |0.3653846153846153   |0.5837988826815642   |0.10101867572156198  |0.1279874213836478   |4.0       |2.0         |6.0           |F        |SI2        |2759     |FAIR       |3511.05821533032   |\n",
      "|0.11226611226611227   |0.536111111111111    |0.21153846153846156  |0.5400372439478585   |0.09898132427843803  |0.11383647798742139  |0.0       |1.0         |5.0           |E        |SI1        |2762     |IDEAL      |3511.05821533032   |\n",
      "---------------------------------------------------------------------------------------------------------------------------------------------------------------------------------------------------------------------------------------------\n",
      "\n"
     ]
    }
   ],
   "source": [
    "session.write_pandas(current_pandas,table_name=\"LINEAR_REG_CURRENT_DATA\",overwrite=True).show()"
   ]
  },
  {
   "cell_type": "code",
   "execution_count": 71,
   "id": "f494c8bf-531e-4ff3-8101-509b5be4cc38",
   "metadata": {},
   "outputs": [
    {
     "name": "stdout",
     "output_type": "stream",
     "text": [
      "-------------------------------------------------------------------------------------------------------------------------------------------------------------------------------------------------------------------------\n",
      "|\"CARAT\"               |\"DEPTH\"              |\"TABLE_PCT\"          |\"X\"                  |\"Y\"                  |\"Z\"                  |\"CUT_OE\"  |\"COLOR_OE\"  |\"CLARITY_OE\"  |\"COLOR\"  |\"CLARITY\"  |\"PRICE\"  |\"CUT\"      |\n",
      "-------------------------------------------------------------------------------------------------------------------------------------------------------------------------------------------------------------------------\n",
      "|0.02079002079002079   |0.5472222222222223   |0.3076923076923076   |0.3919925512104283   |0.07249575551782682  |0.08364779874213837  |2.0       |6.0         |5.0           |J        |SI1        |351      |VERY_GOOD  |\n",
      "|0.02286902286902287   |0.4555555555555555   |0.3653846153846153   |0.40875232774674114  |0.07521222410865874  |0.08238993710691825  |2.0       |6.0         |5.0           |J        |SI1        |353      |VERY_GOOD  |\n",
      "|0.008316008316008316  |0.5416666666666665   |0.2692307692307693   |0.36964618249534453  |0.06689303904923599  |0.07767295597484278  |1.0       |5.0         |3.0           |I        |VS1        |355      |PREMIUM    |\n",
      "|0.006237006237006237  |0.48611111111111094  |0.34615384615384615  |0.3687150837988827   |0.06740237691001698  |0.07547169811320754  |2.0       |0.0         |4.0           |D        |VS2        |357      |VERY_GOOD  |\n",
      "|0.02079002079002079   |0.5527777777777776   |0.3076923076923076   |0.3985102420856611   |0.07198641765704585  |0.08427672955974844  |1.0       |4.0         |5.0           |H        |SI1        |554      |PREMIUM    |\n",
      "|0.008316008316008316  |0.4916666666666667   |0.28846153846153844  |0.3789571694599628   |0.06859083191850594  |0.07735849056603773  |1.0       |4.0         |2.0           |H        |VVS2       |554      |PREMIUM    |\n",
      "|0.10395010395010396   |0.5166666666666666   |0.2500000000000001   |0.5307262569832403   |0.09626485568760612  |0.11006289308176101  |0.0       |3.0         |4.0           |G        |VS2        |2757     |IDEAL      |\n",
      "|0.10602910602910603   |0.5388888888888888   |0.2692307692307693   |0.5288640595903166   |0.0972835314091681   |0.1119496855345912   |2.0       |1.0         |4.0           |E        |VS2        |2759     |VERY_GOOD  |\n",
      "|0.158004158004158     |0.6472222222222221   |0.3653846153846153   |0.5837988826815642   |0.10101867572156198  |0.1279874213836478   |4.0       |2.0         |6.0           |F        |SI2        |2759     |FAIR       |\n",
      "|0.11226611226611227   |0.536111111111111    |0.21153846153846156  |0.5400372439478585   |0.09898132427843803  |0.11383647798742139  |0.0       |1.0         |5.0           |E        |SI1        |2762     |IDEAL      |\n",
      "-------------------------------------------------------------------------------------------------------------------------------------------------------------------------------------------------------------------------\n",
      "\n"
     ]
    }
   ],
   "source": [
    "session.write_pandas(inference_pandas_data,table_name=\"LINEAR_REG_INFERENCE_DATA\",overwrite=True).show()"
   ]
  },
  {
   "cell_type": "code",
   "execution_count": null,
   "id": "062eaae3-080a-4cd8-a7a0-73bbb0868b22",
   "metadata": {},
   "outputs": [],
   "source": []
  }
 ],
 "metadata": {
  "kernelspec": {
   "display_name": "base",
   "language": "python",
   "name": "python3"
  },
  "language_info": {
   "codemirror_mode": {
    "name": "ipython",
    "version": 3
   },
   "file_extension": ".py",
   "mimetype": "text/x-python",
   "name": "python",
   "nbconvert_exporter": "python",
   "pygments_lexer": "ipython3",
   "version": "3.10.15"
  }
 },
 "nbformat": 4,
 "nbformat_minor": 5
}
