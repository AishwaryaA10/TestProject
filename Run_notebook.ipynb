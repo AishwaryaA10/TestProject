{
 "cells": [
  {
   "cell_type": "code",
   "execution_count": 1,
   "id": "93a71638",
   "metadata": {},
   "outputs": [
    {
     "name": "stderr",
     "output_type": "stream",
     "text": [
      "/opt/conda/lib/python3.7/site-packages/_distutils_hack/__init__.py:33: UserWarning: Setuptools is replacing distutils.\n",
      "  warnings.warn(\"Setuptools is replacing distutils.\")\n"
     ]
    },
    {
     "name": "stdout",
     "output_type": "stream",
     "text": [
      "Launching Spark Session! ...\n",
      "\n"
     ]
    },
    {
     "data": {
      "text/html": [
       "\n",
       "            <div>\n",
       "                <p><b>SparkSession - in-memory</b></p>\n",
       "                \n",
       "        <div>\n",
       "            <p><b>SparkContext</b></p>\n",
       "\n",
       "            <p><a href=\"http://jy-b7e8b61e-e014-4cf7-8b00-473a6a352f23-datauserlntinfotechc.test-ai-logistics.svc.cluster.local:4040\">Spark UI</a></p>\n",
       "\n",
       "            <dl>\n",
       "              <dt>Version</dt>\n",
       "                <dd><code>v3.1.1</code></dd>\n",
       "              <dt>Master</dt>\n",
       "                <dd><code>k8s://https://kubernetes.default.svc.cluster.local</code></dd>\n",
       "              <dt>AppName</dt>\n",
       "                <dd><code>jy-spark-executor</code></dd>\n",
       "            </dl>\n",
       "        </div>\n",
       "        \n",
       "            </div>\n",
       "        "
      ],
      "text/plain": [
       "<pyspark.sql.session.SparkSession at 0x7efde8919e90>"
      ]
     },
     "execution_count": 1,
     "metadata": {},
     "output_type": "execute_result"
    }
   ],
   "source": [
    "import os;os.environ['executor_pod_image'] = os.getenv('DOCKER_REGISTRY', 'registry.lti-aiq.in:443') + '/mosaic-ai-logistics/mosaic-notebooks-manager/mosaic-docker-build/spark-executor:1.0.2'\n",
    "\n",
    "from spark_distributed.spark_distributed_session import spark, config\n",
    "spark"
   ]
  },
  {
   "cell_type": "code",
   "execution_count": 2,
   "id": "e26c4c45",
   "metadata": {},
   "outputs": [],
   "source": [
    "spark_df = spark.read.option(\"header\", True).csv(\"/data/Acc_closed_dp_829.csv\")"
   ]
  },
  {
   "cell_type": "code",
   "execution_count": 3,
   "id": "5f395fd0",
   "metadata": {},
   "outputs": [
    {
     "name": "stdout",
     "output_type": "stream",
     "text": [
      "The Dataframe size is: 184\n",
      "spark_df.head(): Row(acc_closed_id='12214', ACCT_CLOSE_DATE='2019-02-01')\n",
      "spark_df.dtypes: [('acc_closed_id', 'string'), ('ACCT_CLOSE_DATE', 'string')]\n"
     ]
    }
   ],
   "source": [
    "print(f\"The Dataframe size is: {spark_df.count()}\")\n",
    "print(f\"spark_df.head(): {spark_df.head()}\")\n",
    "print(f\"spark_df.dtypes: {spark_df.dtypes}\")"
   ]
  },
  {
   "cell_type": "code",
   "execution_count": 4,
   "id": "6d47bcfd",
   "metadata": {},
   "outputs": [
    {
     "name": "stdout",
     "output_type": "stream",
     "text": [
      "+----------------+---------------+\n",
      "|   acc_closed_id|ACCT_CLOSE_DATE|\n",
      "+----------------+---------------+\n",
      "|           12214|     2019-02-01|\n",
      "|1028579786500002|     2019-04-08|\n",
      "|           12216|     2019-02-01|\n",
      "|1028579786500004|     2019-04-10|\n",
      "|1001549786500002|     2019-05-29|\n",
      "|1028579786500006|     2019-04-12|\n",
      "|1001689781001002|     2019-05-22|\n",
      "|1033339781001002|     2019-04-19|\n",
      "|1001690022001003|     2019-02-01|\n",
      "|1033339781001003|     2019-04-29|\n",
      "|1001709786500001|     2019-03-01|\n",
      "|1033339781001004|     2019-05-01|\n",
      "|1001889786500001|     2019-05-02|\n",
      "|1033339786001002|     2019-04-19|\n",
      "|1002058402001001|     2019-02-01|\n",
      "|1033339786500007|     2019-06-03|\n",
      "|1002749786500001|     2019-03-04|\n",
      "|1033339786500008|     2019-05-27|\n",
      "|1003609786500001|     2019-01-30|\n",
      "|1033339786500010|     2019-05-27|\n",
      "+----------------+---------------+\n",
      "only showing top 20 rows\n",
      "\n"
     ]
    }
   ],
   "source": [
    "spark_df.show()"
   ]
  },
  {
   "cell_type": "code",
   "execution_count": null,
   "id": "1e2153e2",
   "metadata": {},
   "outputs": [
    {
     "name": "stdout",
     "output_type": "stream",
     "text": [
      "Sleeping for 100 seconds!!\n"
     ]
    }
   ],
   "source": [
    "print(\"Sleeping for 100 seconds!!\")\n",
    "import time\n",
    "time.sleep(100)"
   ]
  },
  {
   "cell_type": "code",
   "execution_count": null,
   "id": "c302f589",
   "metadata": {},
   "outputs": [],
   "source": [
    "spark.stop()"
   ]
  },
  {
   "cell_type": "code",
   "execution_count": null,
   "id": "301afc6a",
   "metadata": {},
   "outputs": [],
   "source": []
  }
 ],
 "metadata": {
  "kernelspec": {
   "display_name": "Python 3",
   "language": "python",
   "name": "python3"
  },
  "language_info": {
   "codemirror_mode": {
    "name": "ipython",
    "version": 3
   },
   "file_extension": ".py",
   "mimetype": "text/x-python",
   "name": "python",
   "nbconvert_exporter": "python",
   "pygments_lexer": "ipython3",
   "version": "3.7.12"
  }
 },
 "nbformat": 4,
 "nbformat_minor": 5
}
