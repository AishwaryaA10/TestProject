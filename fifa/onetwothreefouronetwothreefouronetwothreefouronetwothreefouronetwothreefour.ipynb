{
 "cells": [
  {
   "cell_type": "code",
   "execution_count": 1,
   "id": "6ff5d222",
   "metadata": {},
   "outputs": [
    {
     "name": "stdout",
     "output_type": "stream",
     "text": [
      "The factorial of 7 is 5040\n"
     ]
    }
   ],
   "source": [
    "# Python program to find the factorial of a number provided by the user.\n",
    "\n",
    " \n",
    "\n",
    "# change the value for a different result\n",
    "\n",
    "num = 7\n",
    "\n",
    " \n",
    "\n",
    "# To take input from the user\n",
    "\n",
    "#num = int(input(\"Enter a number: \"))\n",
    "\n",
    " \n",
    "\n",
    "factorial = 1\n",
    "\n",
    " \n",
    "\n",
    "# check if the number is negative, positive or zero\n",
    "\n",
    "if num < 0:\n",
    "\n",
    "   print(\"Sorry, factorial does not exist for negative numbers\")\n",
    "\n",
    "elif num == 0:\n",
    "\n",
    "   print(\"The factorial of 0 is 1\")\n",
    "\n",
    "else:\n",
    "\n",
    "   for i in range(1,num + 1):\n",
    "\n",
    "       factorial = factorial*i\n",
    "\n",
    "   print(\"The factorial of\",num,\"is\",factorial)"
   ]
  },
  {
   "cell_type": "code",
   "execution_count": null,
   "id": "d0fab477",
   "metadata": {},
   "outputs": [],
   "source": []
  }
 ],
 "metadata": {
  "kernelspec": {
   "display_name": "Python 3",
   "language": "python",
   "name": "python3"
  },
  "language_info": {
   "codemirror_mode": {
    "name": "ipython",
    "version": 3
   },
   "file_extension": ".py",
   "mimetype": "text/x-python",
   "name": "python",
   "nbconvert_exporter": "python",
   "pygments_lexer": "ipython3",
   "version": "3.7.10"
  }
 },
 "nbformat": 4,
 "nbformat_minor": 5
}
