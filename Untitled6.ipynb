{
 "cells": [
  {
   "cell_type": "code",
   "execution_count": 2,
   "id": "ed41f8ab",
   "metadata": {},
   "outputs": [],
   "source": [
    "import os "
   ]
  },
  {
   "cell_type": "code",
   "execution_count": 3,
   "id": "7f57f8c1",
   "metadata": {},
   "outputs": [
    {
     "name": "stdout",
     "output_type": "stream",
     "text": [
      "Project_Normal_value\n",
      "Project_Secure_value\n"
     ]
    }
   ],
   "source": [
    "print(os.environ.get('Project_Normal')) \n",
    "\n",
    "print(os.environ.get('Project_Secure')) "
   ]
  },
  {
   "cell_type": "code",
   "execution_count": 4,
   "id": "8cb40884",
   "metadata": {},
   "outputs": [
    {
     "name": "stdout",
     "output_type": "stream",
     "text": [
      "Template_Normal_Value\n",
      "Template_Secure_value\n"
     ]
    }
   ],
   "source": [
    "print(os.environ.get('Template_Normal')) \n",
    "\n",
    "print(os.environ.get('Template_Secure')) "
   ]
  },
  {
   "cell_type": "code",
   "execution_count": 5,
   "id": "6ab80046",
   "metadata": {},
   "outputs": [
    {
     "name": "stdout",
     "output_type": "stream",
     "text": [
      "User_Normal_Value\n",
      "User_Secure_Value\n"
     ]
    }
   ],
   "source": [
    "print(os.environ.get('User_Normal')) \n",
    "\n",
    "print(os.environ.get('User_Secure')) "
   ]
  }
 ],
 "metadata": {
  "kernelspec": {
   "display_name": "Python 3",
   "language": "python",
   "name": "python3"
  },
  "language_info": {
   "codemirror_mode": {
    "name": "ipython",
    "version": 3
   },
   "file_extension": ".py",
   "mimetype": "text/x-python",
   "name": "python",
   "nbconvert_exporter": "python",
   "pygments_lexer": "ipython3",
   "version": "3.6.13"
  }
 },
 "nbformat": 4,
 "nbformat_minor": 5
}
