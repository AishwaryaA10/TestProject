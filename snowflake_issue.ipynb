{
 "cells": [
  {
   "cell_type": "code",
   "execution_count": 5,
   "id": "6930f629",
   "metadata": {},
   "outputs": [],
   "source": [
    "from refractio import manager, snowflake"
   ]
  },
  {
   "cell_type": "code",
   "execution_count": 7,
   "id": "81ab3ff7",
   "metadata": {},
   "outputs": [],
   "source": [
    "connection_details = manager.get_conn_details_from_conn_name(\"abhishek_gcp\", \"snowflake\")"
   ]
  },
  {
   "cell_type": "code",
   "execution_count": 10,
   "id": "c3779c73",
   "metadata": {},
   "outputs": [],
   "source": [
    "import snowflake.connector"
   ]
  },
  {
   "cell_type": "code",
   "execution_count": 17,
   "id": "1b6c3210",
   "metadata": {},
   "outputs": [],
   "source": [
    "con = snowflake.connector.connect(\n",
    "        user=connection_details[\"params\"][\"READER\"].get(\"dbUserName\"),\n",
    "        password=connection_details[\"params\"][\"READER\"].get(\"dbPassword\"),\n",
    "        account=connection_details[\"params\"][\"READER\"].get(\"accountName\"),\n",
    "        database=connection_details[\"params\"][\"READER\"].get(\"database\"),\n",
    "        role=connection_details[\"params\"][\"READER\"][\"role\"],\n",
    "        cloudPlatform=connection_details[\"params\"][\"READER\"][\"cloudPlatform\"],\n",
    "        schema=connection_details[\"params\"][\"READER\"].get(\"schema\"),\n",
    "        wareHouse=connection_details[\"params\"][\"READER\"][\"wareHouse\"],\n",
    "        region=connection_details[\"params\"][\"READER\"][\"region\"] + \".gcp\"\n",
    "    )"
   ]
  },
  {
   "cell_type": "code",
   "execution_count": null,
   "id": "89ef3fe0",
   "metadata": {},
   "outputs": [],
   "source": [
    "cur = con.cursor()\n",
    "cur.execute(f\"use warehouse {connection_details['params']['READER']['wareHouse']};\")\n",
    "cur.execute(query)\n",
    "data_frame = cur.fetch_pandas_all()\n",
    "cur.close()\n",
    "con.close()"
   ]
  },
  {
   "cell_type": "code",
   "execution_count": null,
   "id": "0e119afc",
   "metadata": {},
   "outputs": [],
   "source": []
  }
 ],
 "metadata": {
  "kernelspec": {
   "display_name": "Python 3",
   "language": "python",
   "name": "python3"
  },
  "language_info": {
   "codemirror_mode": {
    "name": "ipython",
    "version": 3
   },
   "file_extension": ".py",
   "mimetype": "text/x-python",
   "name": "python",
   "nbconvert_exporter": "python",
   "pygments_lexer": "ipython3",
   "version": "3.8.18"
  }
 },
 "nbformat": 4,
 "nbformat_minor": 5
}
