{
 "cells": [
  {
   "cell_type": "code",
   "execution_count": 1,
   "id": "6930f629",
   "metadata": {},
   "outputs": [
    {
     "name": "stdout",
     "output_type": "stream",
     "text": [
      "Connection manager service url initialised to http://fdc-project-manager:80/project-manager\n",
      "If you need to update its value then update the variable CONNECTION_MANAGER_BASE_URL in os env.\n"
     ]
    }
   ],
   "source": [
    "from refractio import manager, snowflake\n",
    "import snowflake.connector"
   ]
  },
  {
   "cell_type": "code",
   "execution_count": 2,
   "id": "81ab3ff7",
   "metadata": {},
   "outputs": [],
   "source": [
    "connection_details = manager.get_conn_details_from_ds_name(\"HR_DATA\", \"4e7e1922-7f1d-4369-9fa7-c4245af57b71\")"
   ]
  },
  {
   "cell_type": "code",
   "execution_count": 4,
   "id": "bce5dac3",
   "metadata": {},
   "outputs": [],
   "source": [
    "con = snowflake.connector.connect(\n",
    "        user=connection_details[\"params\"][\"READER\"][\"user\"],\n",
    "        password=connection_details[\"params\"][\"READER\"][\"password\"],\n",
    "        account=connection_details[\"params\"][\"READER\"][\"accountId\"],\n",
    "        database=connection_details[\"params\"][\"READER\"][\"database\"],\n",
    "        role=connection_details[\"params\"][\"READER\"][\"role\"],\n",
    "        cloudPlatform=connection_details[\"params\"][\"READER\"][\"cloudPlatform\"],\n",
    "        schema=connection_details[\"params\"][\"READER\"][\"schema\"],\n",
    "        wareHouse=connection_details[\"params\"][\"READER\"][\"wareHouse\"],\n",
    "        region=connection_details[\"params\"][\"READER\"][\"region\"] + \".gcp\" if connection_details[\"params\"][\"READER\"][\"cloudPlatform\"] == \"gcp\" else connection_details[\"params\"][\"READER\"][\"region\"]\n",
    "    )"
   ]
  },
  {
   "cell_type": "code",
   "execution_count": 5,
   "id": "a328c9c5",
   "metadata": {},
   "outputs": [
    {
     "data": {
      "text/plain": [
       "True"
      ]
     },
     "execution_count": 5,
     "metadata": {},
     "output_type": "execute_result"
    }
   ],
   "source": [
    "cur = con.cursor()\n",
    "cur.execute(f\"use warehouse {connection_details['params']['READER']['wareHouse']};\")\n",
    "cur.execute(\"SELECT * FROM HR_DATA\")\n",
    "data_frame = cur.fetch_pandas_all()\n",
    "cur.close()\n"
   ]
  },
  {
   "cell_type": "code",
   "execution_count": 6,
   "id": "e2b04a5d",
   "metadata": {},
   "outputs": [],
   "source": [
    "con.close()"
   ]
  },
  {
   "cell_type": "code",
   "execution_count": 3,
   "id": "e0c0fe9f",
   "metadata": {},
   "outputs": [
    {
     "data": {
      "text/plain": [
       "{'params': {'READER': {'schema': 'PUBLIC',\n",
       "   'cloudPlatform': 'gcp',\n",
       "   'role': '\"ABHISHEK\"',\n",
       "   'clientId': None,\n",
       "   'tokenUrl': None,\n",
       "   'scopeUrl': None,\n",
       "   'type': 'RDBMS',\n",
       "   'wareHouse': 'FOSFOR_INSIGHT_WH',\n",
       "   'accountId': 'ug94937',\n",
       "   'privateKey': None,\n",
       "   'password': 'Newuser@#123',\n",
       "   'database': 'FDC_DEV_ABHISHEK',\n",
       "   'tables': 'HR_DATA',\n",
       "   'sub_type': 'SNOWFLAKE',\n",
       "   'subType': 'SNOWFLAKE',\n",
       "   'clientSecret': None,\n",
       "   'authenticationType': 'dbPassword',\n",
       "   'rowCount': 10,\n",
       "   'region': 'us-east4',\n",
       "   'user': 'ABHISHEK',\n",
       "   'applicationName': 'FOSFOR',\n",
       "   'passPhrase': 'ABHISHEK'}},\n",
       " 'url': 'http://connectors-backend-service/connectors/v1/connectors/metadata',\n",
       " 'access': True,\n",
       " 'errorMsg': None,\n",
       " 'values': {}}"
      ]
     },
     "execution_count": 3,
     "metadata": {},
     "output_type": "execute_result"
    }
   ],
   "source": [
    "connection_details"
   ]
  },
  {
   "cell_type": "code",
   "execution_count": null,
   "id": "5fa2e004",
   "metadata": {},
   "outputs": [],
   "source": []
  },
  {
   "cell_type": "code",
   "execution_count": null,
   "id": "652c1248",
   "metadata": {},
   "outputs": [],
   "source": []
  }
 ],
 "metadata": {
  "kernelspec": {
   "display_name": "Python 3",
   "language": "python",
   "name": "python3"
  },
  "language_info": {
   "codemirror_mode": {
    "name": "ipython",
    "version": 3
   },
   "file_extension": ".py",
   "mimetype": "text/x-python",
   "name": "python",
   "nbconvert_exporter": "python",
   "pygments_lexer": "ipython3",
   "version": "3.8.18"
  }
 },
 "nbformat": 4,
 "nbformat_minor": 5
}
