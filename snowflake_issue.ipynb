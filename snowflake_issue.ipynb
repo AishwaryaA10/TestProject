{
 "cells": [
  {
   "cell_type": "code",
   "execution_count": 5,
   "id": "6930f629",
   "metadata": {},
   "outputs": [],
   "source": [
    "from refractio import manager, snowflake"
   ]
  },
  {
   "cell_type": "code",
   "execution_count": 4,
   "id": "81ab3ff7",
   "metadata": {},
   "outputs": [
    {
     "data": {
      "text/plain": [
       "<function refractio.manager.get_conn_details_from_conn_name(connection_name, connection_type)>"
      ]
     },
     "execution_count": 4,
     "metadata": {},
     "output_type": "execute_result"
    }
   ],
   "source": [
    "manager.get_conn_details_from_conn_name()"
   ]
  },
  {
   "cell_type": "code",
   "execution_count": null,
   "id": "c3779c73",
   "metadata": {},
   "outputs": [],
   "source": []
  }
 ],
 "metadata": {
  "kernelspec": {
   "display_name": "Python 3",
   "language": "python",
   "name": "python3"
  },
  "language_info": {
   "codemirror_mode": {
    "name": "ipython",
    "version": 3
   },
   "file_extension": ".py",
   "mimetype": "text/x-python",
   "name": "python",
   "nbconvert_exporter": "python",
   "pygments_lexer": "ipython3",
   "version": "3.8.18"
  }
 },
 "nbformat": 4,
 "nbformat_minor": 5
}
