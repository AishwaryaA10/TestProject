{
 "cells": [
  {
   "cell_type": "code",
   "execution_count": 2,
   "id": "67f3de49",
   "metadata": {},
   "outputs": [
    {
     "name": "stdout",
     "output_type": "stream",
     "text": [
      "Calculating build time metrics\n",
      "\n",
      "Progress: ██████████████████████████████████████████████████████████████████████ 100.0%\n"
     ]
    },
    {
     "data": {
      "application/vnd.jupyter.widget-view+json": {
       "model_id": "a0c9d8a4dd284ec6ab55936de0637319",
       "version_major": 2,
       "version_minor": 0
      },
      "text/plain": [
       "VBox(children=(HTML(value='<style>.grad_1{background: #2468a4;} .grad_2{ color:white; background: #2468a4;}</s…"
      ]
     },
     "metadata": {},
     "output_type": "display_data"
    }
   ],
   "source": [
    "import pickle\n",
    "import pandas as pd\n",
    "import numpy as np\n",
    "import matplotlib.pyplot as plt\n",
    "\n",
    "from sklearn.ensemble import GradientBoostingRegressor\n",
    "from sklearn.ensemble import RandomForestRegressor\n",
    "from sklearn import preprocessing\n",
    "\n",
    "from mosaicml import *\n",
    "from mosaicml.constants import MLModelFlavours\n",
    "# Load the data\n",
    "from connector.mosaicio import MosaicioConnector\n",
    "ioConnector = MosaicioConnector()\n",
    "\n",
    "df = pd.read_csv('/data/winequality.csv')\n",
    "df.head(10)\n",
    "\n",
    "# The target variable is 'quality'.\n",
    "Y = df['quality']\n",
    "X = df[['fixed acidity', 'volatile acidity', 'citric acid', 'residual sugar','chlorides', 'free sulfur dioxide', 'total sulfur dioxide', 'density','pH', 'sulphates', 'alcohol']]\n",
    "\n",
    "# Split the data into train and test data:\n",
    "from sklearn.model_selection import train_test_split\n",
    "import os\n",
    "\n",
    "# split_percentage = float(os.getenv(\"split_percentage\"))\n",
    "split_percentage = 0.2\n",
    "X_train, X_test, Y_train, Y_test = train_test_split(X, Y, test_size = split_percentage)\n",
    "X_train = X_train.to_numpy()\n",
    "Y_train = Y_train.to_numpy()\n",
    "# Use ML Algorithm\n",
    "from sklearn.ensemble import RandomForestClassifier\n",
    "\n",
    "my_model = RandomForestClassifier()\n",
    "my_model.fit(X_train,Y_train)\n",
    "\n",
    "Y_true = Y_test\n",
    "Y_pred = my_model.predict(X_test)\n",
    "\n",
    "@scoring_func\n",
    "def score(model, request):\n",
    "    payload = request.json[\"payload\"]\n",
    "    data_list = payload\n",
    "    data_array = np.asarray(data_list)\n",
    "    try:\n",
    "        prediction = model.predict(data_array)\n",
    "    except:\n",
    "        prediction = model.predict(data_array.reshape(1, -1))\n",
    "    return prediction.tolist()\n",
    "import requests\n",
    "req = requests.Request()\n",
    "req.json = {\"payload\":[7.3, 0.32, 0.23, 2.3, 0.066, 35.0, 70.0, 0.99588, 3.43, 0.62, 10.1]}\n",
    "\n",
    "score(my_model,req)\n",
    "\n",
    "register_model(my_model,\n",
    "                score,\n",
    "                \"wine_quality_diff_name_same_model\",\n",
    "                \"wine quality multiclass classification model made using the randomforest classifier algorithm\",\n",
    "                MLModelFlavours.sklearn,\n",
    "                init_script=\"mkdir abc \\\\n cd abc \\\\n touch abc.txt\",\n",
    "                input_type=\"json\"\n",
    "               )"
   ]
  },
  {
   "cell_type": "code",
   "execution_count": 4,
   "id": "73e16c29",
   "metadata": {},
   "outputs": [
    {
     "data": {
      "text/plain": [
       "2"
      ]
     },
     "execution_count": 4,
     "metadata": {},
     "output_type": "execute_result"
    }
   ],
   "source": [
    "1+1"
   ]
  },
  {
   "cell_type": "code",
   "execution_count": null,
   "id": "17956c4a",
   "metadata": {},
   "outputs": [],
   "source": []
  }
 ],
 "metadata": {
  "kernelspec": {
   "display_name": "Python 3",
   "language": "python",
   "name": "python3"
  },
  "language_info": {
   "codemirror_mode": {
    "name": "ipython",
    "version": 3
   },
   "file_extension": ".py",
   "mimetype": "text/x-python",
   "name": "python",
   "nbconvert_exporter": "python",
   "pygments_lexer": "ipython3",
   "version": "3.6.13"
  }
 },
 "nbformat": 4,
 "nbformat_minor": 5
}
