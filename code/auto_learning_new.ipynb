{
 "cells": [
  {
   "cell_type": "code",
   "execution_count": 1,
   "metadata": {},
   "outputs": [],
   "source": [
    "# !pip install scikit-learn==0.22"
   ]
  },
  {
   "cell_type": "code",
   "execution_count": 2,
   "metadata": {
    "ExecuteTime": {
     "end_time": "2021-06-14T04:32:21.226406Z",
     "start_time": "2021-06-14T04:32:18.207644Z"
    }
   },
   "outputs": [],
   "source": [
    "import configparser\n",
    "import ast\n",
    "import pandas as pd\n",
    "from sklearn.ensemble import RandomForestClassifier\n",
    "from pycaret.datasets import get_data \n",
    "from pycaret.classification import *\n",
    "import copy\n",
    "import os\n",
    "import requests\n",
    "from auto_learning_utility import *\n",
    "import mlflow\n",
    "from mosaicml import *\n",
    "from mosaicml.constants import MLModelFlavours\n",
    "# from plots import roc_confusion_matrix_plot, feature_imp_plot\n",
    "# from db_connection import connection_string,db_engine\n",
    "from pycaret.internal.tabular import _calculate_metrics_supervised"
   ]
  },
  {
   "cell_type": "code",
   "execution_count": 3,
   "metadata": {},
   "outputs": [],
   "source": [
    "# !pip install xlrd==1.1.0"
   ]
  },
  {
   "cell_type": "code",
   "execution_count": 4,
   "metadata": {
    "ExecuteTime": {
     "end_time": "2021-06-14T04:32:21.241409Z",
     "start_time": "2021-06-14T04:32:21.229340Z"
    }
   },
   "outputs": [
    {
     "data": {
      "text/plain": [
       "['/notebooks/notebooks/code/config_autolearning.ini']"
      ]
     },
     "execution_count": 4,
     "metadata": {},
     "output_type": "execute_result"
    }
   ],
   "source": [
    "config = configparser.ConfigParser()\n",
    "config.read('/notebooks/notebooks/code/config_autolearning.ini')"
   ]
  },
  {
   "cell_type": "code",
   "execution_count": 5,
   "metadata": {},
   "outputs": [],
   "source": [
    "# base_path = config.get('BASE_PATH','base_path')"
   ]
  },
  {
   "cell_type": "code",
   "execution_count": 6,
   "metadata": {
    "ExecuteTime": {
     "end_time": "2021-06-14T04:32:23.509142Z",
     "start_time": "2021-06-14T04:32:21.243564Z"
    }
   },
   "outputs": [],
   "source": [
    "feedback_data = config.get('FEEDBACK_DATA','feedback_data')\n",
    "# df = pd.read_excel(os.path.join(base_path, feedback_data))"
   ]
  },
  {
   "cell_type": "code",
   "execution_count": 7,
   "metadata": {},
   "outputs": [],
   "source": [
    "df = pd.read_excel(feedback_data)"
   ]
  },
  {
   "cell_type": "code",
   "execution_count": 8,
   "metadata": {
    "ExecuteTime": {
     "end_time": "2021-06-14T04:32:23.520450Z",
     "start_time": "2021-06-14T04:32:23.511232Z"
    }
   },
   "outputs": [],
   "source": [
    "train_y_column = ast.literal_eval(config.get(\"COLUMNS\", \"train_y_column\"))\n",
    "config.set('COLUMNS', 'train_x_column_list', str(df.drop(train_y_column,axis=1).columns.to_list())) ##whatever list we can enter here\n",
    "with open('config.ini', 'w') as configfile:\n",
    "    config.write(configfile)\n",
    "train_x_column_list = ast.literal_eval(config.get(\"COLUMNS\", \"train_x_column_list\"))\n",
    "ai = config.get('LEARNING_TYPE','ai')\n",
    "save_model_path = config.get('SAVE_MODEL_PATH','save_model_path')"
   ]
  },
  {
   "cell_type": "code",
   "execution_count": 9,
   "metadata": {
    "ExecuteTime": {
     "end_time": "2021-06-14T04:32:25.831486Z",
     "start_time": "2021-06-14T04:32:23.523876Z"
    }
   },
   "outputs": [],
   "source": [
    "if ai == 'base_ai':\n",
    "    df = pd.DataFrame(columns = df.columns.to_list(),index=[0])\n",
    "    df.iloc[0] = 0\n",
    "    df.ci_distance.iloc[0] = 99\n",
    "    df = df.astype('int')\n",
    "else:\n",
    "    df = pd.read_excel(feedback_data)\n",
    "#     df = pd.read_excel(os.path.join(base_path, feedback_data))"
   ]
  },
  {
   "cell_type": "code",
   "execution_count": 10,
   "metadata": {
    "ExecuteTime": {
     "end_time": "2021-06-14T04:32:25.846261Z",
     "start_time": "2021-06-14T04:32:25.841382Z"
    }
   },
   "outputs": [],
   "source": [
    "train_columns = ['ci_distance',\n",
    "       'time_diff', 'time_diff_s', 'application_service', 'u_business_service',\n",
    "       'service_comp', 'domain_comp', 'data_center_comp', 'ci_similarity',\n",
    "       'cr_comp', 'ci_pred', 'alert_pred', 'weighted_proba', 'kb']"
   ]
  },
  {
   "cell_type": "code",
   "execution_count": 11,
   "metadata": {
    "ExecuteTime": {
     "end_time": "2021-06-14T04:32:25.861059Z",
     "start_time": "2021-06-14T04:32:25.848176Z"
    }
   },
   "outputs": [],
   "source": [
    "total_columns = copy.deepcopy(train_columns)\n",
    "total_columns.append(train_y_column)"
   ]
  },
  {
   "cell_type": "markdown",
   "metadata": {},
   "source": [
    "# 1. Setup dataset"
   ]
  },
  {
   "cell_type": "code",
   "execution_count": 12,
   "metadata": {
    "ExecuteTime": {
     "end_time": "2021-06-14T04:32:25.877215Z",
     "start_time": "2021-06-14T04:32:25.873221Z"
    }
   },
   "outputs": [],
   "source": [
    "#categorical_features_name = ['ci_distance','application_service','u_business_service','cr_comp']"
   ]
  },
  {
   "cell_type": "code",
   "execution_count": 13,
   "metadata": {},
   "outputs": [],
   "source": [
    "df= df[df.time_diff <= 15].reset_index().drop(columns='index')"
   ]
  },
  {
   "cell_type": "code",
   "execution_count": 14,
   "metadata": {},
   "outputs": [],
   "source": [
    "## this need to be added in config\n",
    "num_col = ['ci_distance', 'time_diff', 'time_diff_s','ci_similarity','ci_pred', 'alert_pred', 'weighted_proba']\n",
    "cat_col = ['application_service','u_business_service', 'service_comp', 'domain_comp', 'data_center_comp', 'cr_comp','kb']"
   ]
  },
  {
   "cell_type": "code",
   "execution_count": 15,
   "metadata": {},
   "outputs": [],
   "source": [
    "exp_name='ns3_hybrid_model'"
   ]
  },
  {
   "cell_type": "code",
   "execution_count": 16,
   "metadata": {
    "ExecuteTime": {
     "end_time": "2021-06-14T04:32:27.482687Z",
     "start_time": "2021-06-14T04:32:25.880597Z"
    }
   },
   "outputs": [
    {
     "data": {
      "text/html": [
       "<style  type=\"text/css\" >\n",
       "</style><table id=\"T_ca0cdb4e_20e1_11ec_abc7_0ad74e6664af\" ><thead>    <tr>        <th class=\"blank level0\" ></th>        <th class=\"col_heading level0 col0\" >Description</th>        <th class=\"col_heading level0 col1\" >Value</th>    </tr></thead><tbody>\n",
       "                <tr>\n",
       "                        <th id=\"T_ca0cdb4e_20e1_11ec_abc7_0ad74e6664aflevel0_row0\" class=\"row_heading level0 row0\" >0</th>\n",
       "                        <td id=\"T_ca0cdb4e_20e1_11ec_abc7_0ad74e6664afrow0_col0\" class=\"data row0 col0\" >session_id</td>\n",
       "                        <td id=\"T_ca0cdb4e_20e1_11ec_abc7_0ad74e6664afrow0_col1\" class=\"data row0 col1\" >6089</td>\n",
       "            </tr>\n",
       "            <tr>\n",
       "                        <th id=\"T_ca0cdb4e_20e1_11ec_abc7_0ad74e6664aflevel0_row1\" class=\"row_heading level0 row1\" >1</th>\n",
       "                        <td id=\"T_ca0cdb4e_20e1_11ec_abc7_0ad74e6664afrow1_col0\" class=\"data row1 col0\" >Target</td>\n",
       "                        <td id=\"T_ca0cdb4e_20e1_11ec_abc7_0ad74e6664afrow1_col1\" class=\"data row1 col1\" >Actual (Validated)</td>\n",
       "            </tr>\n",
       "            <tr>\n",
       "                        <th id=\"T_ca0cdb4e_20e1_11ec_abc7_0ad74e6664aflevel0_row2\" class=\"row_heading level0 row2\" >2</th>\n",
       "                        <td id=\"T_ca0cdb4e_20e1_11ec_abc7_0ad74e6664afrow2_col0\" class=\"data row2 col0\" >Target Type</td>\n",
       "                        <td id=\"T_ca0cdb4e_20e1_11ec_abc7_0ad74e6664afrow2_col1\" class=\"data row2 col1\" >Binary</td>\n",
       "            </tr>\n",
       "            <tr>\n",
       "                        <th id=\"T_ca0cdb4e_20e1_11ec_abc7_0ad74e6664aflevel0_row3\" class=\"row_heading level0 row3\" >3</th>\n",
       "                        <td id=\"T_ca0cdb4e_20e1_11ec_abc7_0ad74e6664afrow3_col0\" class=\"data row3 col0\" >Label Encoded</td>\n",
       "                        <td id=\"T_ca0cdb4e_20e1_11ec_abc7_0ad74e6664afrow3_col1\" class=\"data row3 col1\" >correlated: 0, non-correlated: 1</td>\n",
       "            </tr>\n",
       "            <tr>\n",
       "                        <th id=\"T_ca0cdb4e_20e1_11ec_abc7_0ad74e6664aflevel0_row4\" class=\"row_heading level0 row4\" >4</th>\n",
       "                        <td id=\"T_ca0cdb4e_20e1_11ec_abc7_0ad74e6664afrow4_col0\" class=\"data row4 col0\" >Original Data</td>\n",
       "                        <td id=\"T_ca0cdb4e_20e1_11ec_abc7_0ad74e6664afrow4_col1\" class=\"data row4 col1\" >(210, 15)</td>\n",
       "            </tr>\n",
       "            <tr>\n",
       "                        <th id=\"T_ca0cdb4e_20e1_11ec_abc7_0ad74e6664aflevel0_row5\" class=\"row_heading level0 row5\" >5</th>\n",
       "                        <td id=\"T_ca0cdb4e_20e1_11ec_abc7_0ad74e6664afrow5_col0\" class=\"data row5 col0\" >Missing Values</td>\n",
       "                        <td id=\"T_ca0cdb4e_20e1_11ec_abc7_0ad74e6664afrow5_col1\" class=\"data row5 col1\" >False</td>\n",
       "            </tr>\n",
       "            <tr>\n",
       "                        <th id=\"T_ca0cdb4e_20e1_11ec_abc7_0ad74e6664aflevel0_row6\" class=\"row_heading level0 row6\" >6</th>\n",
       "                        <td id=\"T_ca0cdb4e_20e1_11ec_abc7_0ad74e6664afrow6_col0\" class=\"data row6 col0\" >Numeric Features</td>\n",
       "                        <td id=\"T_ca0cdb4e_20e1_11ec_abc7_0ad74e6664afrow6_col1\" class=\"data row6 col1\" >7</td>\n",
       "            </tr>\n",
       "            <tr>\n",
       "                        <th id=\"T_ca0cdb4e_20e1_11ec_abc7_0ad74e6664aflevel0_row7\" class=\"row_heading level0 row7\" >7</th>\n",
       "                        <td id=\"T_ca0cdb4e_20e1_11ec_abc7_0ad74e6664afrow7_col0\" class=\"data row7 col0\" >Categorical Features</td>\n",
       "                        <td id=\"T_ca0cdb4e_20e1_11ec_abc7_0ad74e6664afrow7_col1\" class=\"data row7 col1\" >7</td>\n",
       "            </tr>\n",
       "            <tr>\n",
       "                        <th id=\"T_ca0cdb4e_20e1_11ec_abc7_0ad74e6664aflevel0_row8\" class=\"row_heading level0 row8\" >8</th>\n",
       "                        <td id=\"T_ca0cdb4e_20e1_11ec_abc7_0ad74e6664afrow8_col0\" class=\"data row8 col0\" >Transformed Train Set</td>\n",
       "                        <td id=\"T_ca0cdb4e_20e1_11ec_abc7_0ad74e6664afrow8_col1\" class=\"data row8 col1\" >(146, 14)</td>\n",
       "            </tr>\n",
       "            <tr>\n",
       "                        <th id=\"T_ca0cdb4e_20e1_11ec_abc7_0ad74e6664aflevel0_row9\" class=\"row_heading level0 row9\" >9</th>\n",
       "                        <td id=\"T_ca0cdb4e_20e1_11ec_abc7_0ad74e6664afrow9_col0\" class=\"data row9 col0\" >Transformed Test Set</td>\n",
       "                        <td id=\"T_ca0cdb4e_20e1_11ec_abc7_0ad74e6664afrow9_col1\" class=\"data row9 col1\" >(64, 14)</td>\n",
       "            </tr>\n",
       "            <tr>\n",
       "                        <th id=\"T_ca0cdb4e_20e1_11ec_abc7_0ad74e6664aflevel0_row10\" class=\"row_heading level0 row10\" >10</th>\n",
       "                        <td id=\"T_ca0cdb4e_20e1_11ec_abc7_0ad74e6664afrow10_col0\" class=\"data row10 col0\" >Shuffle Train-Test</td>\n",
       "                        <td id=\"T_ca0cdb4e_20e1_11ec_abc7_0ad74e6664afrow10_col1\" class=\"data row10 col1\" >True</td>\n",
       "            </tr>\n",
       "            <tr>\n",
       "                        <th id=\"T_ca0cdb4e_20e1_11ec_abc7_0ad74e6664aflevel0_row11\" class=\"row_heading level0 row11\" >11</th>\n",
       "                        <td id=\"T_ca0cdb4e_20e1_11ec_abc7_0ad74e6664afrow11_col0\" class=\"data row11 col0\" >Stratify Train-Test</td>\n",
       "                        <td id=\"T_ca0cdb4e_20e1_11ec_abc7_0ad74e6664afrow11_col1\" class=\"data row11 col1\" >False</td>\n",
       "            </tr>\n",
       "            <tr>\n",
       "                        <th id=\"T_ca0cdb4e_20e1_11ec_abc7_0ad74e6664aflevel0_row12\" class=\"row_heading level0 row12\" >12</th>\n",
       "                        <td id=\"T_ca0cdb4e_20e1_11ec_abc7_0ad74e6664afrow12_col0\" class=\"data row12 col0\" >Fold Generator</td>\n",
       "                        <td id=\"T_ca0cdb4e_20e1_11ec_abc7_0ad74e6664afrow12_col1\" class=\"data row12 col1\" >StratifiedKFold</td>\n",
       "            </tr>\n",
       "            <tr>\n",
       "                        <th id=\"T_ca0cdb4e_20e1_11ec_abc7_0ad74e6664aflevel0_row13\" class=\"row_heading level0 row13\" >13</th>\n",
       "                        <td id=\"T_ca0cdb4e_20e1_11ec_abc7_0ad74e6664afrow13_col0\" class=\"data row13 col0\" >Fold Number</td>\n",
       "                        <td id=\"T_ca0cdb4e_20e1_11ec_abc7_0ad74e6664afrow13_col1\" class=\"data row13 col1\" >10</td>\n",
       "            </tr>\n",
       "            <tr>\n",
       "                        <th id=\"T_ca0cdb4e_20e1_11ec_abc7_0ad74e6664aflevel0_row14\" class=\"row_heading level0 row14\" >14</th>\n",
       "                        <td id=\"T_ca0cdb4e_20e1_11ec_abc7_0ad74e6664afrow14_col0\" class=\"data row14 col0\" >CPU Jobs</td>\n",
       "                        <td id=\"T_ca0cdb4e_20e1_11ec_abc7_0ad74e6664afrow14_col1\" class=\"data row14 col1\" >-1</td>\n",
       "            </tr>\n",
       "            <tr>\n",
       "                        <th id=\"T_ca0cdb4e_20e1_11ec_abc7_0ad74e6664aflevel0_row15\" class=\"row_heading level0 row15\" >15</th>\n",
       "                        <td id=\"T_ca0cdb4e_20e1_11ec_abc7_0ad74e6664afrow15_col0\" class=\"data row15 col0\" >Use GPU</td>\n",
       "                        <td id=\"T_ca0cdb4e_20e1_11ec_abc7_0ad74e6664afrow15_col1\" class=\"data row15 col1\" >False</td>\n",
       "            </tr>\n",
       "            <tr>\n",
       "                        <th id=\"T_ca0cdb4e_20e1_11ec_abc7_0ad74e6664aflevel0_row16\" class=\"row_heading level0 row16\" >16</th>\n",
       "                        <td id=\"T_ca0cdb4e_20e1_11ec_abc7_0ad74e6664afrow16_col0\" class=\"data row16 col0\" >Log Experiment</td>\n",
       "                        <td id=\"T_ca0cdb4e_20e1_11ec_abc7_0ad74e6664afrow16_col1\" class=\"data row16 col1\" >False</td>\n",
       "            </tr>\n",
       "            <tr>\n",
       "                        <th id=\"T_ca0cdb4e_20e1_11ec_abc7_0ad74e6664aflevel0_row17\" class=\"row_heading level0 row17\" >17</th>\n",
       "                        <td id=\"T_ca0cdb4e_20e1_11ec_abc7_0ad74e6664afrow17_col0\" class=\"data row17 col0\" >Experiment Name</td>\n",
       "                        <td id=\"T_ca0cdb4e_20e1_11ec_abc7_0ad74e6664afrow17_col1\" class=\"data row17 col1\" >ns3_hybrid_model</td>\n",
       "            </tr>\n",
       "            <tr>\n",
       "                        <th id=\"T_ca0cdb4e_20e1_11ec_abc7_0ad74e6664aflevel0_row18\" class=\"row_heading level0 row18\" >18</th>\n",
       "                        <td id=\"T_ca0cdb4e_20e1_11ec_abc7_0ad74e6664afrow18_col0\" class=\"data row18 col0\" >USI</td>\n",
       "                        <td id=\"T_ca0cdb4e_20e1_11ec_abc7_0ad74e6664afrow18_col1\" class=\"data row18 col1\" >647e</td>\n",
       "            </tr>\n",
       "            <tr>\n",
       "                        <th id=\"T_ca0cdb4e_20e1_11ec_abc7_0ad74e6664aflevel0_row19\" class=\"row_heading level0 row19\" >19</th>\n",
       "                        <td id=\"T_ca0cdb4e_20e1_11ec_abc7_0ad74e6664afrow19_col0\" class=\"data row19 col0\" >Fix Imbalance</td>\n",
       "                        <td id=\"T_ca0cdb4e_20e1_11ec_abc7_0ad74e6664afrow19_col1\" class=\"data row19 col1\" >False</td>\n",
       "            </tr>\n",
       "            <tr>\n",
       "                        <th id=\"T_ca0cdb4e_20e1_11ec_abc7_0ad74e6664aflevel0_row20\" class=\"row_heading level0 row20\" >20</th>\n",
       "                        <td id=\"T_ca0cdb4e_20e1_11ec_abc7_0ad74e6664afrow20_col0\" class=\"data row20 col0\" >Fix Imbalance Method</td>\n",
       "                        <td id=\"T_ca0cdb4e_20e1_11ec_abc7_0ad74e6664afrow20_col1\" class=\"data row20 col1\" >SMOTE</td>\n",
       "            </tr>\n",
       "    </tbody></table>"
      ],
      "text/plain": [
       "<pandas.io.formats.style.Styler at 0x7f55788bdc10>"
      ]
     },
     "metadata": {},
     "output_type": "display_data"
    }
   ],
   "source": [
    "clf1 = setup(data = df[total_columns],numeric_features = num_col,categorical_features=cat_col, target = train_y_column, log_experiment=False, experiment_name=exp_name,silent=True,preprocess=False)"
   ]
  },
  {
   "cell_type": "markdown",
   "metadata": {},
   "source": [
    "# 2. Create Model"
   ]
  },
  {
   "cell_type": "code",
   "execution_count": 17,
   "metadata": {
    "ExecuteTime": {
     "end_time": "2021-06-14T04:32:27.490779Z",
     "start_time": "2021-06-14T04:32:27.486165Z"
    },
    "scrolled": true
   },
   "outputs": [],
   "source": [
    "# #rf = create_model('rf',X_train_data=train_X,y_train_data=train_y)\n",
    "#rf = create_model('rf')"
   ]
  },
  {
   "cell_type": "code",
   "execution_count": 18,
   "metadata": {
    "ExecuteTime": {
     "start_time": "2021-06-14T04:30:23.020Z"
    }
   },
   "outputs": [
    {
     "data": {
      "text/html": [
       "<style  type=\"text/css\" >\n",
       "    #T_cff01314_20e1_11ec_abc7_0ad74e6664af th {\n",
       "          text-align: left;\n",
       "    }#T_cff01314_20e1_11ec_abc7_0ad74e6664afrow0_col0,#T_cff01314_20e1_11ec_abc7_0ad74e6664afrow0_col3,#T_cff01314_20e1_11ec_abc7_0ad74e6664afrow1_col0,#T_cff01314_20e1_11ec_abc7_0ad74e6664afrow1_col1,#T_cff01314_20e1_11ec_abc7_0ad74e6664afrow1_col2,#T_cff01314_20e1_11ec_abc7_0ad74e6664afrow1_col3,#T_cff01314_20e1_11ec_abc7_0ad74e6664afrow1_col4,#T_cff01314_20e1_11ec_abc7_0ad74e6664afrow1_col5,#T_cff01314_20e1_11ec_abc7_0ad74e6664afrow1_col6,#T_cff01314_20e1_11ec_abc7_0ad74e6664afrow1_col7,#T_cff01314_20e1_11ec_abc7_0ad74e6664afrow2_col0,#T_cff01314_20e1_11ec_abc7_0ad74e6664afrow2_col1,#T_cff01314_20e1_11ec_abc7_0ad74e6664afrow2_col2,#T_cff01314_20e1_11ec_abc7_0ad74e6664afrow2_col4,#T_cff01314_20e1_11ec_abc7_0ad74e6664afrow2_col5,#T_cff01314_20e1_11ec_abc7_0ad74e6664afrow2_col6,#T_cff01314_20e1_11ec_abc7_0ad74e6664afrow2_col7{\n",
       "            text-align:  left;\n",
       "            text-align:  left;\n",
       "        }#T_cff01314_20e1_11ec_abc7_0ad74e6664afrow0_col1,#T_cff01314_20e1_11ec_abc7_0ad74e6664afrow0_col2,#T_cff01314_20e1_11ec_abc7_0ad74e6664afrow0_col4,#T_cff01314_20e1_11ec_abc7_0ad74e6664afrow0_col5,#T_cff01314_20e1_11ec_abc7_0ad74e6664afrow0_col6,#T_cff01314_20e1_11ec_abc7_0ad74e6664afrow0_col7,#T_cff01314_20e1_11ec_abc7_0ad74e6664afrow2_col3{\n",
       "            text-align:  left;\n",
       "            text-align:  left;\n",
       "            background-color:  yellow;\n",
       "        }#T_cff01314_20e1_11ec_abc7_0ad74e6664afrow0_col8,#T_cff01314_20e1_11ec_abc7_0ad74e6664afrow1_col8{\n",
       "            text-align:  left;\n",
       "            text-align:  left;\n",
       "            background-color:  lightgrey;\n",
       "        }#T_cff01314_20e1_11ec_abc7_0ad74e6664afrow2_col8{\n",
       "            text-align:  left;\n",
       "            text-align:  left;\n",
       "            background-color:  yellow;\n",
       "            background-color:  lightgrey;\n",
       "        }</style><table id=\"T_cff01314_20e1_11ec_abc7_0ad74e6664af\" ><thead>    <tr>        <th class=\"blank level0\" ></th>        <th class=\"col_heading level0 col0\" >Model</th>        <th class=\"col_heading level0 col1\" >Accuracy</th>        <th class=\"col_heading level0 col2\" >AUC</th>        <th class=\"col_heading level0 col3\" >Recall</th>        <th class=\"col_heading level0 col4\" >Prec.</th>        <th class=\"col_heading level0 col5\" >F1</th>        <th class=\"col_heading level0 col6\" >Kappa</th>        <th class=\"col_heading level0 col7\" >MCC</th>        <th class=\"col_heading level0 col8\" >TT (Sec)</th>    </tr></thead><tbody>\n",
       "                <tr>\n",
       "                        <th id=\"T_cff01314_20e1_11ec_abc7_0ad74e6664aflevel0_row0\" class=\"row_heading level0 row0\" >rf</th>\n",
       "                        <td id=\"T_cff01314_20e1_11ec_abc7_0ad74e6664afrow0_col0\" class=\"data row0 col0\" >Random Forest Classifier</td>\n",
       "                        <td id=\"T_cff01314_20e1_11ec_abc7_0ad74e6664afrow0_col1\" class=\"data row0 col1\" >0.9590</td>\n",
       "                        <td id=\"T_cff01314_20e1_11ec_abc7_0ad74e6664afrow0_col2\" class=\"data row0 col2\" >0.9942</td>\n",
       "                        <td id=\"T_cff01314_20e1_11ec_abc7_0ad74e6664afrow0_col3\" class=\"data row0 col3\" >0.9659</td>\n",
       "                        <td id=\"T_cff01314_20e1_11ec_abc7_0ad74e6664afrow0_col4\" class=\"data row0 col4\" >0.9826</td>\n",
       "                        <td id=\"T_cff01314_20e1_11ec_abc7_0ad74e6664afrow0_col5\" class=\"data row0 col5\" >0.9739</td>\n",
       "                        <td id=\"T_cff01314_20e1_11ec_abc7_0ad74e6664afrow0_col6\" class=\"data row0 col6\" >0.8789</td>\n",
       "                        <td id=\"T_cff01314_20e1_11ec_abc7_0ad74e6664afrow0_col7\" class=\"data row0 col7\" >0.8817</td>\n",
       "                        <td id=\"T_cff01314_20e1_11ec_abc7_0ad74e6664afrow0_col8\" class=\"data row0 col8\" >0.3540</td>\n",
       "            </tr>\n",
       "            <tr>\n",
       "                        <th id=\"T_cff01314_20e1_11ec_abc7_0ad74e6664aflevel0_row1\" class=\"row_heading level0 row1\" >et</th>\n",
       "                        <td id=\"T_cff01314_20e1_11ec_abc7_0ad74e6664afrow1_col0\" class=\"data row1 col0\" >Extra Trees Classifier</td>\n",
       "                        <td id=\"T_cff01314_20e1_11ec_abc7_0ad74e6664afrow1_col1\" class=\"data row1 col1\" >0.9457</td>\n",
       "                        <td id=\"T_cff01314_20e1_11ec_abc7_0ad74e6664afrow1_col2\" class=\"data row1 col2\" >0.9831</td>\n",
       "                        <td id=\"T_cff01314_20e1_11ec_abc7_0ad74e6664afrow1_col3\" class=\"data row1 col3\" >0.9659</td>\n",
       "                        <td id=\"T_cff01314_20e1_11ec_abc7_0ad74e6664afrow1_col4\" class=\"data row1 col4\" >0.9672</td>\n",
       "                        <td id=\"T_cff01314_20e1_11ec_abc7_0ad74e6664afrow1_col5\" class=\"data row1 col5\" >0.9659</td>\n",
       "                        <td id=\"T_cff01314_20e1_11ec_abc7_0ad74e6664afrow1_col6\" class=\"data row1 col6\" >0.8313</td>\n",
       "                        <td id=\"T_cff01314_20e1_11ec_abc7_0ad74e6664afrow1_col7\" class=\"data row1 col7\" >0.8386</td>\n",
       "                        <td id=\"T_cff01314_20e1_11ec_abc7_0ad74e6664afrow1_col8\" class=\"data row1 col8\" >0.4690</td>\n",
       "            </tr>\n",
       "            <tr>\n",
       "                        <th id=\"T_cff01314_20e1_11ec_abc7_0ad74e6664aflevel0_row2\" class=\"row_heading level0 row2\" >lr</th>\n",
       "                        <td id=\"T_cff01314_20e1_11ec_abc7_0ad74e6664afrow2_col0\" class=\"data row2 col0\" >Logistic Regression</td>\n",
       "                        <td id=\"T_cff01314_20e1_11ec_abc7_0ad74e6664afrow2_col1\" class=\"data row2 col1\" >0.9243</td>\n",
       "                        <td id=\"T_cff01314_20e1_11ec_abc7_0ad74e6664afrow2_col2\" class=\"data row2 col2\" >0.9597</td>\n",
       "                        <td id=\"T_cff01314_20e1_11ec_abc7_0ad74e6664afrow2_col3\" class=\"data row2 col3\" >0.9667</td>\n",
       "                        <td id=\"T_cff01314_20e1_11ec_abc7_0ad74e6664afrow2_col4\" class=\"data row2 col4\" >0.9436</td>\n",
       "                        <td id=\"T_cff01314_20e1_11ec_abc7_0ad74e6664afrow2_col5\" class=\"data row2 col5\" >0.9532</td>\n",
       "                        <td id=\"T_cff01314_20e1_11ec_abc7_0ad74e6664afrow2_col6\" class=\"data row2 col6\" >0.7460</td>\n",
       "                        <td id=\"T_cff01314_20e1_11ec_abc7_0ad74e6664afrow2_col7\" class=\"data row2 col7\" >0.7652</td>\n",
       "                        <td id=\"T_cff01314_20e1_11ec_abc7_0ad74e6664afrow2_col8\" class=\"data row2 col8\" >0.0160</td>\n",
       "            </tr>\n",
       "    </tbody></table>"
      ],
      "text/plain": [
       "<pandas.io.formats.style.Styler at 0x7f557ab1fcd0>"
      ]
     },
     "metadata": {},
     "output_type": "display_data"
    }
   ],
   "source": [
    "#best = compare_models(include=['ada', 'et', 'gbc', 'rf','lr'],sort='AUC')\n",
    "best = compare_models(include=['et','rf','lr'],sort='Prec.')\n",
    "best_model_name = pull()"
   ]
  },
  {
   "cell_type": "code",
   "execution_count": 19,
   "metadata": {},
   "outputs": [],
   "source": [
    "best_model_name = {k: v for k, v in best_model_name.iloc[0,0:1].items()}"
   ]
  },
  {
   "cell_type": "code",
   "execution_count": 20,
   "metadata": {},
   "outputs": [],
   "source": [
    "# tune hyperparameters with custom_grid\n",
    "params = {\"max_depth\": np.random.randint(1, (len(df[train_columns].columns)*.85),20),\n",
    "         \"max_features\": [\"auto\"],\n",
    "          \"min_samples_leaf\": [1,2,3,4,5,6], #remove 1 after more data\n",
    "          \"max_leaf_nodes\" : [None],\n",
    "          \"max_samples\" : [None],\n",
    "          \"min_impurity_decrease\": [0.0], \n",
    "          \"min_impurity_split\": [None],\n",
    "          \"min_samples_split\":[2,4,6],\n",
    "          \"n_estimators\":[100],      \n",
    "          \"criterion\": [\"gini\", \"entropy\"]}"
   ]
  },
  {
   "cell_type": "code",
   "execution_count": 21,
   "metadata": {},
   "outputs": [
    {
     "data": {
      "image/png": "[encoded data removed]",
      "text/plain": [
       "<Figure size 576x396 with 1 Axes>"
      ]
     },
     "metadata": {},
     "output_type": "display_data"
    }
   ],
   "source": [
    "plot_model(best, plot = 'confusion_matrix')"
   ]
  },
  {
   "cell_type": "markdown",
   "metadata": {},
   "source": [
    "# 3. Tune Hyperparameters"
   ]
  },
  {
   "cell_type": "code",
   "execution_count": 22,
   "metadata": {
    "scrolled": false
   },
   "outputs": [
    {
     "data": {
      "text/html": [
       "<style  type=\"text/css\" >\n",
       "#T_e547eb92_20e1_11ec_abc7_0ad74e6664afrow10_col0,#T_e547eb92_20e1_11ec_abc7_0ad74e6664afrow10_col1,#T_e547eb92_20e1_11ec_abc7_0ad74e6664afrow10_col2,#T_e547eb92_20e1_11ec_abc7_0ad74e6664afrow10_col3,#T_e547eb92_20e1_11ec_abc7_0ad74e6664afrow10_col4,#T_e547eb92_20e1_11ec_abc7_0ad74e6664afrow10_col5,#T_e547eb92_20e1_11ec_abc7_0ad74e6664afrow10_col6{\n",
       "            background:  yellow;\n",
       "        }</style><table id=\"T_e547eb92_20e1_11ec_abc7_0ad74e6664af\" ><thead>    <tr>        <th class=\"blank level0\" ></th>        <th class=\"col_heading level0 col0\" >Accuracy</th>        <th class=\"col_heading level0 col1\" >AUC</th>        <th class=\"col_heading level0 col2\" >Recall</th>        <th class=\"col_heading level0 col3\" >Prec.</th>        <th class=\"col_heading level0 col4\" >F1</th>        <th class=\"col_heading level0 col5\" >Kappa</th>        <th class=\"col_heading level0 col6\" >MCC</th>    </tr></thead><tbody>\n",
       "                <tr>\n",
       "                        <th id=\"T_e547eb92_20e1_11ec_abc7_0ad74e6664aflevel0_row0\" class=\"row_heading level0 row0\" >0</th>\n",
       "                        <td id=\"T_e547eb92_20e1_11ec_abc7_0ad74e6664afrow0_col0\" class=\"data row0 col0\" >0.9333</td>\n",
       "                        <td id=\"T_e547eb92_20e1_11ec_abc7_0ad74e6664afrow0_col1\" class=\"data row0 col1\" >0.9583</td>\n",
       "                        <td id=\"T_e547eb92_20e1_11ec_abc7_0ad74e6664afrow0_col2\" class=\"data row0 col2\" >0.9167</td>\n",
       "                        <td id=\"T_e547eb92_20e1_11ec_abc7_0ad74e6664afrow0_col3\" class=\"data row0 col3\" >1.0000</td>\n",
       "                        <td id=\"T_e547eb92_20e1_11ec_abc7_0ad74e6664afrow0_col4\" class=\"data row0 col4\" >0.9565</td>\n",
       "                        <td id=\"T_e547eb92_20e1_11ec_abc7_0ad74e6664afrow0_col5\" class=\"data row0 col5\" >0.8148</td>\n",
       "                        <td id=\"T_e547eb92_20e1_11ec_abc7_0ad74e6664afrow0_col6\" class=\"data row0 col6\" >0.8292</td>\n",
       "            </tr>\n",
       "            <tr>\n",
       "                        <th id=\"T_e547eb92_20e1_11ec_abc7_0ad74e6664aflevel0_row1\" class=\"row_heading level0 row1\" >1</th>\n",
       "                        <td id=\"T_e547eb92_20e1_11ec_abc7_0ad74e6664afrow1_col0\" class=\"data row1 col0\" >0.9333</td>\n",
       "                        <td id=\"T_e547eb92_20e1_11ec_abc7_0ad74e6664afrow1_col1\" class=\"data row1 col1\" >0.9583</td>\n",
       "                        <td id=\"T_e547eb92_20e1_11ec_abc7_0ad74e6664afrow1_col2\" class=\"data row1 col2\" >0.9167</td>\n",
       "                        <td id=\"T_e547eb92_20e1_11ec_abc7_0ad74e6664afrow1_col3\" class=\"data row1 col3\" >1.0000</td>\n",
       "                        <td id=\"T_e547eb92_20e1_11ec_abc7_0ad74e6664afrow1_col4\" class=\"data row1 col4\" >0.9565</td>\n",
       "                        <td id=\"T_e547eb92_20e1_11ec_abc7_0ad74e6664afrow1_col5\" class=\"data row1 col5\" >0.8148</td>\n",
       "                        <td id=\"T_e547eb92_20e1_11ec_abc7_0ad74e6664afrow1_col6\" class=\"data row1 col6\" >0.8292</td>\n",
       "            </tr>\n",
       "            <tr>\n",
       "                        <th id=\"T_e547eb92_20e1_11ec_abc7_0ad74e6664aflevel0_row2\" class=\"row_heading level0 row2\" >2</th>\n",
       "                        <td id=\"T_e547eb92_20e1_11ec_abc7_0ad74e6664afrow2_col0\" class=\"data row2 col0\" >1.0000</td>\n",
       "                        <td id=\"T_e547eb92_20e1_11ec_abc7_0ad74e6664afrow2_col1\" class=\"data row2 col1\" >1.0000</td>\n",
       "                        <td id=\"T_e547eb92_20e1_11ec_abc7_0ad74e6664afrow2_col2\" class=\"data row2 col2\" >1.0000</td>\n",
       "                        <td id=\"T_e547eb92_20e1_11ec_abc7_0ad74e6664afrow2_col3\" class=\"data row2 col3\" >1.0000</td>\n",
       "                        <td id=\"T_e547eb92_20e1_11ec_abc7_0ad74e6664afrow2_col4\" class=\"data row2 col4\" >1.0000</td>\n",
       "                        <td id=\"T_e547eb92_20e1_11ec_abc7_0ad74e6664afrow2_col5\" class=\"data row2 col5\" >1.0000</td>\n",
       "                        <td id=\"T_e547eb92_20e1_11ec_abc7_0ad74e6664afrow2_col6\" class=\"data row2 col6\" >1.0000</td>\n",
       "            </tr>\n",
       "            <tr>\n",
       "                        <th id=\"T_e547eb92_20e1_11ec_abc7_0ad74e6664aflevel0_row3\" class=\"row_heading level0 row3\" >3</th>\n",
       "                        <td id=\"T_e547eb92_20e1_11ec_abc7_0ad74e6664afrow3_col0\" class=\"data row3 col0\" >0.8667</td>\n",
       "                        <td id=\"T_e547eb92_20e1_11ec_abc7_0ad74e6664afrow3_col1\" class=\"data row3 col1\" >0.9167</td>\n",
       "                        <td id=\"T_e547eb92_20e1_11ec_abc7_0ad74e6664afrow3_col2\" class=\"data row3 col2\" >0.8333</td>\n",
       "                        <td id=\"T_e547eb92_20e1_11ec_abc7_0ad74e6664afrow3_col3\" class=\"data row3 col3\" >1.0000</td>\n",
       "                        <td id=\"T_e547eb92_20e1_11ec_abc7_0ad74e6664afrow3_col4\" class=\"data row3 col4\" >0.9091</td>\n",
       "                        <td id=\"T_e547eb92_20e1_11ec_abc7_0ad74e6664afrow3_col5\" class=\"data row3 col5\" >0.6667</td>\n",
       "                        <td id=\"T_e547eb92_20e1_11ec_abc7_0ad74e6664afrow3_col6\" class=\"data row3 col6\" >0.7071</td>\n",
       "            </tr>\n",
       "            <tr>\n",
       "                        <th id=\"T_e547eb92_20e1_11ec_abc7_0ad74e6664aflevel0_row4\" class=\"row_heading level0 row4\" >4</th>\n",
       "                        <td id=\"T_e547eb92_20e1_11ec_abc7_0ad74e6664afrow4_col0\" class=\"data row4 col0\" >1.0000</td>\n",
       "                        <td id=\"T_e547eb92_20e1_11ec_abc7_0ad74e6664afrow4_col1\" class=\"data row4 col1\" >1.0000</td>\n",
       "                        <td id=\"T_e547eb92_20e1_11ec_abc7_0ad74e6664afrow4_col2\" class=\"data row4 col2\" >1.0000</td>\n",
       "                        <td id=\"T_e547eb92_20e1_11ec_abc7_0ad74e6664afrow4_col3\" class=\"data row4 col3\" >1.0000</td>\n",
       "                        <td id=\"T_e547eb92_20e1_11ec_abc7_0ad74e6664afrow4_col4\" class=\"data row4 col4\" >1.0000</td>\n",
       "                        <td id=\"T_e547eb92_20e1_11ec_abc7_0ad74e6664afrow4_col5\" class=\"data row4 col5\" >1.0000</td>\n",
       "                        <td id=\"T_e547eb92_20e1_11ec_abc7_0ad74e6664afrow4_col6\" class=\"data row4 col6\" >1.0000</td>\n",
       "            </tr>\n",
       "            <tr>\n",
       "                        <th id=\"T_e547eb92_20e1_11ec_abc7_0ad74e6664aflevel0_row5\" class=\"row_heading level0 row5\" >5</th>\n",
       "                        <td id=\"T_e547eb92_20e1_11ec_abc7_0ad74e6664afrow5_col0\" class=\"data row5 col0\" >1.0000</td>\n",
       "                        <td id=\"T_e547eb92_20e1_11ec_abc7_0ad74e6664afrow5_col1\" class=\"data row5 col1\" >1.0000</td>\n",
       "                        <td id=\"T_e547eb92_20e1_11ec_abc7_0ad74e6664afrow5_col2\" class=\"data row5 col2\" >1.0000</td>\n",
       "                        <td id=\"T_e547eb92_20e1_11ec_abc7_0ad74e6664afrow5_col3\" class=\"data row5 col3\" >1.0000</td>\n",
       "                        <td id=\"T_e547eb92_20e1_11ec_abc7_0ad74e6664afrow5_col4\" class=\"data row5 col4\" >1.0000</td>\n",
       "                        <td id=\"T_e547eb92_20e1_11ec_abc7_0ad74e6664afrow5_col5\" class=\"data row5 col5\" >1.0000</td>\n",
       "                        <td id=\"T_e547eb92_20e1_11ec_abc7_0ad74e6664afrow5_col6\" class=\"data row5 col6\" >1.0000</td>\n",
       "            </tr>\n",
       "            <tr>\n",
       "                        <th id=\"T_e547eb92_20e1_11ec_abc7_0ad74e6664aflevel0_row6\" class=\"row_heading level0 row6\" >6</th>\n",
       "                        <td id=\"T_e547eb92_20e1_11ec_abc7_0ad74e6664afrow6_col0\" class=\"data row6 col0\" >1.0000</td>\n",
       "                        <td id=\"T_e547eb92_20e1_11ec_abc7_0ad74e6664afrow6_col1\" class=\"data row6 col1\" >1.0000</td>\n",
       "                        <td id=\"T_e547eb92_20e1_11ec_abc7_0ad74e6664afrow6_col2\" class=\"data row6 col2\" >1.0000</td>\n",
       "                        <td id=\"T_e547eb92_20e1_11ec_abc7_0ad74e6664afrow6_col3\" class=\"data row6 col3\" >1.0000</td>\n",
       "                        <td id=\"T_e547eb92_20e1_11ec_abc7_0ad74e6664afrow6_col4\" class=\"data row6 col4\" >1.0000</td>\n",
       "                        <td id=\"T_e547eb92_20e1_11ec_abc7_0ad74e6664afrow6_col5\" class=\"data row6 col5\" >1.0000</td>\n",
       "                        <td id=\"T_e547eb92_20e1_11ec_abc7_0ad74e6664afrow6_col6\" class=\"data row6 col6\" >1.0000</td>\n",
       "            </tr>\n",
       "            <tr>\n",
       "                        <th id=\"T_e547eb92_20e1_11ec_abc7_0ad74e6664aflevel0_row7\" class=\"row_heading level0 row7\" >7</th>\n",
       "                        <td id=\"T_e547eb92_20e1_11ec_abc7_0ad74e6664afrow7_col0\" class=\"data row7 col0\" >0.9286</td>\n",
       "                        <td id=\"T_e547eb92_20e1_11ec_abc7_0ad74e6664afrow7_col1\" class=\"data row7 col1\" >0.9697</td>\n",
       "                        <td id=\"T_e547eb92_20e1_11ec_abc7_0ad74e6664afrow7_col2\" class=\"data row7 col2\" >0.9091</td>\n",
       "                        <td id=\"T_e547eb92_20e1_11ec_abc7_0ad74e6664afrow7_col3\" class=\"data row7 col3\" >1.0000</td>\n",
       "                        <td id=\"T_e547eb92_20e1_11ec_abc7_0ad74e6664afrow7_col4\" class=\"data row7 col4\" >0.9524</td>\n",
       "                        <td id=\"T_e547eb92_20e1_11ec_abc7_0ad74e6664afrow7_col5\" class=\"data row7 col5\" >0.8108</td>\n",
       "                        <td id=\"T_e547eb92_20e1_11ec_abc7_0ad74e6664afrow7_col6\" class=\"data row7 col6\" >0.8257</td>\n",
       "            </tr>\n",
       "            <tr>\n",
       "                        <th id=\"T_e547eb92_20e1_11ec_abc7_0ad74e6664aflevel0_row8\" class=\"row_heading level0 row8\" >8</th>\n",
       "                        <td id=\"T_e547eb92_20e1_11ec_abc7_0ad74e6664afrow8_col0\" class=\"data row8 col0\" >1.0000</td>\n",
       "                        <td id=\"T_e547eb92_20e1_11ec_abc7_0ad74e6664afrow8_col1\" class=\"data row8 col1\" >1.0000</td>\n",
       "                        <td id=\"T_e547eb92_20e1_11ec_abc7_0ad74e6664afrow8_col2\" class=\"data row8 col2\" >1.0000</td>\n",
       "                        <td id=\"T_e547eb92_20e1_11ec_abc7_0ad74e6664afrow8_col3\" class=\"data row8 col3\" >1.0000</td>\n",
       "                        <td id=\"T_e547eb92_20e1_11ec_abc7_0ad74e6664afrow8_col4\" class=\"data row8 col4\" >1.0000</td>\n",
       "                        <td id=\"T_e547eb92_20e1_11ec_abc7_0ad74e6664afrow8_col5\" class=\"data row8 col5\" >1.0000</td>\n",
       "                        <td id=\"T_e547eb92_20e1_11ec_abc7_0ad74e6664afrow8_col6\" class=\"data row8 col6\" >1.0000</td>\n",
       "            </tr>\n",
       "            <tr>\n",
       "                        <th id=\"T_e547eb92_20e1_11ec_abc7_0ad74e6664aflevel0_row9\" class=\"row_heading level0 row9\" >9</th>\n",
       "                        <td id=\"T_e547eb92_20e1_11ec_abc7_0ad74e6664afrow9_col0\" class=\"data row9 col0\" >0.9286</td>\n",
       "                        <td id=\"T_e547eb92_20e1_11ec_abc7_0ad74e6664afrow9_col1\" class=\"data row9 col1\" >0.9375</td>\n",
       "                        <td id=\"T_e547eb92_20e1_11ec_abc7_0ad74e6664afrow9_col2\" class=\"data row9 col2\" >0.9167</td>\n",
       "                        <td id=\"T_e547eb92_20e1_11ec_abc7_0ad74e6664afrow9_col3\" class=\"data row9 col3\" >1.0000</td>\n",
       "                        <td id=\"T_e547eb92_20e1_11ec_abc7_0ad74e6664afrow9_col4\" class=\"data row9 col4\" >0.9565</td>\n",
       "                        <td id=\"T_e547eb92_20e1_11ec_abc7_0ad74e6664afrow9_col5\" class=\"data row9 col5\" >0.7586</td>\n",
       "                        <td id=\"T_e547eb92_20e1_11ec_abc7_0ad74e6664afrow9_col6\" class=\"data row9 col6\" >0.7817</td>\n",
       "            </tr>\n",
       "            <tr>\n",
       "                        <th id=\"T_e547eb92_20e1_11ec_abc7_0ad74e6664aflevel0_row10\" class=\"row_heading level0 row10\" >Mean</th>\n",
       "                        <td id=\"T_e547eb92_20e1_11ec_abc7_0ad74e6664afrow10_col0\" class=\"data row10 col0\" >0.9590</td>\n",
       "                        <td id=\"T_e547eb92_20e1_11ec_abc7_0ad74e6664afrow10_col1\" class=\"data row10 col1\" >0.9741</td>\n",
       "                        <td id=\"T_e547eb92_20e1_11ec_abc7_0ad74e6664afrow10_col2\" class=\"data row10 col2\" >0.9492</td>\n",
       "                        <td id=\"T_e547eb92_20e1_11ec_abc7_0ad74e6664afrow10_col3\" class=\"data row10 col3\" >1.0000</td>\n",
       "                        <td id=\"T_e547eb92_20e1_11ec_abc7_0ad74e6664afrow10_col4\" class=\"data row10 col4\" >0.9731</td>\n",
       "                        <td id=\"T_e547eb92_20e1_11ec_abc7_0ad74e6664afrow10_col5\" class=\"data row10 col5\" >0.8866</td>\n",
       "                        <td id=\"T_e547eb92_20e1_11ec_abc7_0ad74e6664afrow10_col6\" class=\"data row10 col6\" >0.8973</td>\n",
       "            </tr>\n",
       "            <tr>\n",
       "                        <th id=\"T_e547eb92_20e1_11ec_abc7_0ad74e6664aflevel0_row11\" class=\"row_heading level0 row11\" >SD</th>\n",
       "                        <td id=\"T_e547eb92_20e1_11ec_abc7_0ad74e6664afrow11_col0\" class=\"data row11 col0\" >0.0448</td>\n",
       "                        <td id=\"T_e547eb92_20e1_11ec_abc7_0ad74e6664afrow11_col1\" class=\"data row11 col1\" >0.0292</td>\n",
       "                        <td id=\"T_e547eb92_20e1_11ec_abc7_0ad74e6664afrow11_col2\" class=\"data row11 col2\" >0.0558</td>\n",
       "                        <td id=\"T_e547eb92_20e1_11ec_abc7_0ad74e6664afrow11_col3\" class=\"data row11 col3\" >0.0000</td>\n",
       "                        <td id=\"T_e547eb92_20e1_11ec_abc7_0ad74e6664afrow11_col4\" class=\"data row11 col4\" >0.0299</td>\n",
       "                        <td id=\"T_e547eb92_20e1_11ec_abc7_0ad74e6664afrow11_col5\" class=\"data row11 col5\" >0.1205</td>\n",
       "                        <td id=\"T_e547eb92_20e1_11ec_abc7_0ad74e6664afrow11_col6\" class=\"data row11 col6\" >0.1080</td>\n",
       "            </tr>\n",
       "    </tbody></table>"
      ],
      "text/plain": [
       "<pandas.io.formats.style.Styler at 0x7f557aba17d0>"
      ]
     },
     "metadata": {},
     "output_type": "display_data"
    }
   ],
   "source": [
    "tuned_best_model = tune_model(best,optimize='Prec.')\n",
    "#tuned_best_model = tune_model(best_model,optimize='Prec.',custom_grid=params)"
   ]
  },
  {
   "cell_type": "code",
   "execution_count": 23,
   "metadata": {},
   "outputs": [
    {
     "data": {
      "image/png": "[encoded data removed]",
      "text/plain": [
       "<Figure size 576x396 with 1 Axes>"
      ]
     },
     "metadata": {},
     "output_type": "display_data"
    }
   ],
   "source": [
    "# plotting a model\n",
    "plot_model(tuned_best_model)"
   ]
  },
  {
   "cell_type": "code",
   "execution_count": 24,
   "metadata": {},
   "outputs": [
    {
     "data": {
      "image/png": "[encoded data removed]",
      "text/plain": [
       "<Figure size 576x396 with 1 Axes>"
      ]
     },
     "metadata": {},
     "output_type": "display_data"
    }
   ],
   "source": [
    "plot_model(tuned_best_model, plot = 'confusion_matrix')"
   ]
  },
  {
   "cell_type": "code",
   "execution_count": 25,
   "metadata": {},
   "outputs": [
    {
     "data": {
      "image/png": "[encoded data removed]",
      "text/plain": [
       "<Figure size 576x396 with 1 Axes>"
      ]
     },
     "metadata": {},
     "output_type": "display_data"
    }
   ],
   "source": [
    "plot_model(tuned_best_model, plot = 'boundary')"
   ]
  },
  {
   "cell_type": "code",
   "execution_count": 26,
   "metadata": {
    "scrolled": true
   },
   "outputs": [
    {
     "data": {
      "image/png": "[encoded data removed]",
      "text/plain": [
       "<Figure size 800x500 with 1 Axes>"
      ]
     },
     "metadata": {},
     "output_type": "display_data"
    }
   ],
   "source": [
    "plot_model(tuned_best_model, plot = 'feature')"
   ]
  },
  {
   "cell_type": "code",
   "execution_count": 27,
   "metadata": {},
   "outputs": [
    {
     "data": {
      "image/png": "[encoded data removed]",
      "text/plain": [
       "<Figure size 576x396 with 1 Axes>"
      ]
     },
     "metadata": {},
     "output_type": "display_data"
    }
   ],
   "source": [
    "plot_model(tuned_best_model, plot = 'pr')"
   ]
  },
  {
   "cell_type": "code",
   "execution_count": null,
   "metadata": {},
   "outputs": [],
   "source": [
    "plot_model(tuned_best_model, plot = 'class_report',)"
   ]
  },
  {
   "cell_type": "markdown",
   "metadata": {},
   "source": [
    "# 4. Interpret Model"
   ]
  },
  {
   "cell_type": "code",
   "execution_count": null,
   "metadata": {},
   "outputs": [],
   "source": [
    "# !pip install shap"
   ]
  },
  {
   "cell_type": "code",
   "execution_count": null,
   "metadata": {
    "scrolled": true
   },
   "outputs": [],
   "source": [
    "if best_model_name['Model'] in ['Logistic Regression','Ada Boost Classifier','Gradient Boosting Classifier']:\n",
    "    print('This function only supports tree based models for binary classification: xgboost, catboost, dt, lightgbm, et, rf.')\n",
    "else:\n",
    "    interpret_model(tuned_best_model)"
   ]
  },
  {
   "cell_type": "code",
   "execution_count": null,
   "metadata": {},
   "outputs": [],
   "source": [
    "if best_model_name['Model'] in ['Logistic Regression','Ada Boost Classifier','Gradient Boosting Classifier']:\n",
    "    print('This function only supports tree based models for binary classification: xgboost, catboost, dt, lightgbm, et, rf.')\n",
    "else:\n",
    "    interpret_model(best, plot = 'correlation')"
   ]
  },
  {
   "cell_type": "code",
   "execution_count": null,
   "metadata": {},
   "outputs": [],
   "source": [
    "if best_model_name['Model'] in ['Logistic Regression','Ada Boost Classifier','Gradient Boosting Classifier']:\n",
    "    print('This function only supports tree based models for binary classification: xgboost, catboost, dt, lightgbm, et, rf.')\n",
    "else:\n",
    "    interpret_model(best, plot = 'reason', observation = 21)"
   ]
  },
  {
   "cell_type": "markdown",
   "metadata": {},
   "source": [
    "# 5. Test Model"
   ]
  },
  {
   "cell_type": "code",
   "execution_count": null,
   "metadata": {},
   "outputs": [],
   "source": [
    "tuned_best_model"
   ]
  },
  {
   "cell_type": "code",
   "execution_count": null,
   "metadata": {
    "scrolled": false
   },
   "outputs": [],
   "source": [
    "predictions = predict_model(tuned_best_model)\n",
    "predictions.head()"
   ]
  },
  {
   "cell_type": "code",
   "execution_count": null,
   "metadata": {},
   "outputs": [],
   "source": [
    "## Save this in database with timestamp and show on UI\n",
    "results = pull()"
   ]
  },
  {
   "cell_type": "markdown",
   "metadata": {},
   "source": [
    "# 6. Finalize model"
   ]
  },
  {
   "cell_type": "code",
   "execution_count": null,
   "metadata": {},
   "outputs": [],
   "source": [
    "finalize_model(tuned_best_model)"
   ]
  },
  {
   "cell_type": "code",
   "execution_count": null,
   "metadata": {},
   "outputs": [],
   "source": [
    "final_model = finalize_model(tuned_best_model)"
   ]
  },
  {
   "cell_type": "code",
   "execution_count": null,
   "metadata": {},
   "outputs": [],
   "source": [
    "## because of this model explainability will not work\n",
    "#plot_model(final_model, plot='calibration')\n",
    "#calibrated_model = calibrate_model(final_model, method = 'isotonic')\n",
    "#plot_model(calibrated_model, plot='calibration')"
   ]
  },
  {
   "cell_type": "code",
   "execution_count": null,
   "metadata": {},
   "outputs": [],
   "source": [
    "hybrid_model = RuleAugmentedEstimator(final_model,[ai])"
   ]
  },
  {
   "cell_type": "code",
   "execution_count": null,
   "metadata": {},
   "outputs": [],
   "source": [
    "#train_columns = ['ci_distance', 'kb', 'application_service', 'time_diff', 'u_business_service', 'time_diff_s', 'cr_comp', 'ci_similarity', 'weighted_proba']\n",
    "# train_X = df[train_columns]\n",
    "# train_y = df[train_y_column].values"
   ]
  },
  {
   "cell_type": "code",
   "execution_count": null,
   "metadata": {},
   "outputs": [],
   "source": [
    "hybrid_model.fit(df[train_columns], df[train_y_column].values)"
   ]
  },
  {
   "cell_type": "code",
   "execution_count": null,
   "metadata": {},
   "outputs": [],
   "source": [
    "predictions = hybrid_model.predict(df[train_columns])\n",
    "#predictions_proba = final_model.predict_proba(df,trained_columns=train_columns)\n",
    "# x = train_X.copy()\n",
    "# x['predicted'] = predictions\n",
    "# x['actual'] = df['final_class_of_prediction']"
   ]
  },
  {
   "cell_type": "markdown",
   "metadata": {},
   "source": [
    "# 7. Register Model"
   ]
  },
  {
   "cell_type": "code",
   "execution_count": null,
   "metadata": {},
   "outputs": [],
   "source": []
  },
  {
   "cell_type": "code",
   "execution_count": null,
   "metadata": {},
   "outputs": [],
   "source": [
    "@scoring_func\n",
    "def score(model, payload):\n",
    "#     payload = request.json[\"payload\"]\n",
    "    payload = payload[\"payload\"]\n",
    "    data = pd.DataFrame(eval(payload))\n",
    "    result= model.predict(data)\n",
    "#     result = 1- result[:,0]\n",
    "#     result = np.float64(result)\n",
    "    result = result.tolist()\n",
    "    return result"
   ]
  },
  {
   "cell_type": "code",
   "execution_count": null,
   "metadata": {},
   "outputs": [],
   "source": [
    "# tenant_id = os.getenv('tenant_id')\n",
    "tenant_id = 'python_3_7_test1_new1'\n",
    "model_name = 'Hybrid_Model' + \"_\" + str(tenant_id)"
   ]
  },
  {
   "cell_type": "code",
   "execution_count": null,
   "metadata": {},
   "outputs": [],
   "source": [
    "register_model_output = register_model(hybrid_model, score, name=model_name, \n",
    "                description=\"Predict correlation\",\n",
    "                flavour=MLModelFlavours.sklearn, pretty_output=False)"
   ]
  },
  {
   "cell_type": "code",
   "execution_count": null,
   "metadata": {},
   "outputs": [],
   "source": [
    "register_model_output['versions'] = sorted(register_model_output['versions'], key=lambda x : x['created_on'], reverse=True)\n",
    "register_model_output_version = register_model_output['versions'][0]['id']"
   ]
  },
  {
   "cell_type": "code",
   "execution_count": null,
   "metadata": {},
   "outputs": [],
   "source": [
    "register_model_output_id = register_model_output['id']"
   ]
  },
  {
   "cell_type": "code",
   "execution_count": null,
   "metadata": {},
   "outputs": [],
   "source": [
    "hardware_id = 'df2109b5-66fb-4b89-b249-5d1731e3e91e'"
   ]
  },
  {
   "cell_type": "code",
   "execution_count": null,
   "metadata": {},
   "outputs": [],
   "source": [
    "## deploy model \n",
    "model_deploy = deploy_model(register_model_output_id, register_model_output_version, hardware_id)"
   ]
  },
  {
   "cell_type": "code",
   "execution_count": null,
   "metadata": {},
   "outputs": [],
   "source": [
    "requests.json = {\"payload\": df[train_columns].loc[1:3].to_json()}"
   ]
  },
  {
   "cell_type": "code",
   "execution_count": null,
   "metadata": {},
   "outputs": [],
   "source": [
    "print(requests.json)"
   ]
  },
  {
   "cell_type": "code",
   "execution_count": null,
   "metadata": {},
   "outputs": [],
   "source": [
    "js = requests.json"
   ]
  },
  {
   "cell_type": "code",
   "execution_count": null,
   "metadata": {},
   "outputs": [],
   "source": [
    "score(hybrid_model,js)"
   ]
  },
  {
   "cell_type": "markdown",
   "metadata": {},
   "source": [
    "## 8. Save Artifacts and Metrics"
   ]
  },
  {
   "cell_type": "markdown",
   "metadata": {},
   "source": [
    "#### 8.1 Save plot artifacts"
   ]
  },
  {
   "cell_type": "code",
   "execution_count": null,
   "metadata": {},
   "outputs": [],
   "source": [
    "# ### save plots\n",
    "# confusion_mat_path= roc_confusion_matrix_plot(estimator=final_model,x_test=get_config('X_test'),y_test=get_config('y_test'),plot_type='confusion_matrix',plot_name='confusion_matrix.jpg')\n",
    "# roc_path= roc_confusion_matrix_plot(estimator=final_model,x_test=get_config('X_test'),y_test=get_config('y_test'),plot_type='roc_curve',plot_name='roc_curve.jpg')\n",
    "# #feature_imp_path= feature_imp_plot(estimator=final_model,data=get_config('X_train'),plot_name='feature_importance.jpg')"
   ]
  },
  {
   "cell_type": "markdown",
   "metadata": {},
   "source": [
    "#### 8.2 save params and metrics"
   ]
  },
  {
   "cell_type": "code",
   "execution_count": null,
   "metadata": {},
   "outputs": [],
   "source": [
    "# score_results = {k: v for k, v in results.iloc[0,1:].items()}\n",
    "# final_params = final_model.get_params()"
   ]
  },
  {
   "cell_type": "markdown",
   "metadata": {},
   "source": [
    "#### 8.3 build DB connection string & set tracking"
   ]
  },
  {
   "cell_type": "code",
   "execution_count": null,
   "metadata": {},
   "outputs": [],
   "source": [
    "# db_uri = connection_string(config_path='config.ini')"
   ]
  },
  {
   "cell_type": "code",
   "execution_count": null,
   "metadata": {},
   "outputs": [],
   "source": [
    "# mlflow.set_tracking_uri(db_uri)"
   ]
  },
  {
   "cell_type": "markdown",
   "metadata": {},
   "source": [
    "#### 8.4 add saving artifact location"
   ]
  },
  {
   "cell_type": "code",
   "execution_count": null,
   "metadata": {},
   "outputs": [],
   "source": [
    "# artifact_path= os.path.join(base_path, config.get('MLFLOW','artifacts_location'))\n",
    "# artifact_string = config.get('MLFLOW','artifact_path_string')\n",
    "# artifacts_location = artifact_string.format(**dict(base_path=artifact_path))"
   ]
  },
  {
   "cell_type": "markdown",
   "metadata": {},
   "source": [
    "### 8.5 Run mlflow to store all artifacts with versioning and metrics to DB"
   ]
  },
  {
   "cell_type": "code",
   "execution_count": null,
   "metadata": {},
   "outputs": [],
   "source": [
    "# try:\n",
    "#     mlflow.create_experiment(name=exp_name,artifact_location=artifacts_location)\n",
    "# except:\n",
    "#     mlflow.set_experiment(exp_name)\n",
    "\n",
    "#     with mlflow.start_run():\n",
    "#         mlflow.sklearn.log_model(sk_model=final_model,\n",
    "#                                  artifact_path='')\n",
    "#         mlflow.log_params(final_params)\n",
    "#         mlflow.log_metrics(score_results)\n",
    "#         mlflow.log_artifact(confusion_mat_path, artifact_path='plots')\n",
    "#         mlflow.log_artifact(roc_path, artifact_path='plots')\n",
    "#         run_id = mlflow.active_run().info.run_id\n",
    "#         #mlflow.log_artifact(feature_imp_path, artifact_path='plots')\n",
    "#         mlflow.end_run()"
   ]
  },
  {
   "cell_type": "markdown",
   "metadata": {},
   "source": [
    "## 9. Model Deployment"
   ]
  },
  {
   "cell_type": "markdown",
   "metadata": {},
   "source": [
    "#### 9. Register a model if not register or get list of registered model"
   ]
  },
  {
   "cell_type": "code",
   "execution_count": null,
   "metadata": {},
   "outputs": [],
   "source": [
    "# stage='Staging'\n",
    "# client = mlflow.tracking.MlflowClient()\n",
    "# if not client.list_registered_models():\n",
    "#     model_uri = os.path.join(artifact_path,run_id,'artifacts')\n",
    "#     try:\n",
    "#         client.create_registered_model(name=model_name,description=best_model_name['Model'])\n",
    "#         model_details = client.create_model_version(name=model_name,run_id=run_id,source=model_uri,description=best_model_name['Model'])\n",
    "#         client.transition_model_version_stage(name=model_name,stage=stage,version=model_details.version) \n",
    "#     except:\n",
    "#         model_details = client.create_model_version(name=model_name,run_id=run_id,source=model_uri,description=best_model_name['Model'])\n",
    "#         client.transition_model_version_stage(name=model_name,stage=stage,version=model_details.version) \n",
    "#     print(\"No registered model found, registering model by name: {n}, version no: {v}, stage: {s}\".format(n=model_name, v=model_details.version, s=stage))\n",
    "# else:\n",
    "#     registered_model_list= client.list_registered_models()\n",
    "#     print(\"Total {r} registered models found\".format(r=len(registered_model_list)))"
   ]
  },
  {
   "cell_type": "markdown",
   "metadata": {},
   "source": [
    "#### 9.2 Get registered model details"
   ]
  },
  {
   "cell_type": "code",
   "execution_count": null,
   "metadata": {},
   "outputs": [],
   "source": [
    "# ### create a dict of registered model with run id, model path to read model and model description\n",
    "# reg_details = dict()\n",
    "# for i in registered_model_list:\n",
    "#     for v in i.latest_versions:\n",
    "#         reg_details['run_id'] = v.run_id\n",
    "#         reg_details['model_path'] = v.source\n",
    "#         reg_details['model_description'] = v.description"
   ]
  },
  {
   "cell_type": "markdown",
   "metadata": {},
   "source": [
    "#### 9.3 Get registered model metrics "
   ]
  },
  {
   "cell_type": "code",
   "execution_count": null,
   "metadata": {},
   "outputs": [],
   "source": [
    "# query = \"select key,value from mlflow_db_aiops.public.metrics where run_uuid='{}'\".format(reg_details['run_id'])\n",
    "# engine = db_engine(config_path='config.ini')\n",
    "# metrics_df = pd.read_sql_query(sql=query,con=engine)\n",
    "# reg_details.update(dict(zip(metrics_df.key,metrics_df.value))) ## update metrics to reg_details dict"
   ]
  },
  {
   "cell_type": "markdown",
   "metadata": {},
   "source": [
    "#### 9.4 Load registered model and test on new test data "
   ]
  },
  {
   "cell_type": "code",
   "execution_count": null,
   "metadata": {},
   "outputs": [],
   "source": [
    "# reg_model_ = pd.read_pickle(os.path.join(reg_details['model_path'],'model.pkl'))"
   ]
  },
  {
   "cell_type": "code",
   "execution_count": null,
   "metadata": {},
   "outputs": [],
   "source": [
    "# yhat = reg_model_.predict_proba(get_config('X_test'))\n",
    "# y = reg_model_.predict(get_config('X_test'))\n",
    "# pos_probs = yhat[:, 1]\n",
    "# # calculate metrics\n",
    "# reg_new_df_metrics= _calculate_metrics_supervised(y_test=get_config('y_test'),pred=y,pred_prob=pos_probs)"
   ]
  },
  {
   "cell_type": "code",
   "execution_count": null,
   "metadata": {},
   "outputs": [],
   "source": [
    "# auc_diff = (score_results['AUC']-reg_new_df_metrics['AUC'])/score_results['AUC']"
   ]
  },
  {
   "cell_type": "code",
   "execution_count": null,
   "metadata": {},
   "outputs": [],
   "source": [
    "# if auc_diff.round(4) <= -0.05:\n",
    "#     print(\"Keep old model, Required human retraining\")\n",
    "# else:\n",
    "#     model_uri = os.path.join(artifact_path,run_id,'artifacts')\n",
    "#     model_details = client.create_model_version(name=model_name,run_id=run_id,source=model_uri,description=best_model_name['Model'])\n",
    "#     client.transition_model_version_stage(name=model_name,stage=stage,version=model_details.version) "
   ]
  }
 ],
 "metadata": {
  "hide_input": false,
  "kernelspec": {
   "display_name": "Python 3",
   "language": "python",
   "name": "python3"
  },
  "language_info": {
   "codemirror_mode": {
    "name": "ipython",
    "version": 3
   },
   "file_extension": ".py",
   "mimetype": "text/x-python",
   "name": "python",
   "nbconvert_exporter": "python",
   "pygments_lexer": "ipython3",
   "version": "3.7.10"
  },
  "toc": {
   "base_numbering": 1,
   "nav_menu": {},
   "number_sections": true,
   "sideBar": true,
   "skip_h1_title": false,
   "title_cell": "Table of Contents",
   "title_sidebar": "Contents",
   "toc_cell": false,
   "toc_position": {},
   "toc_section_display": true,
   "toc_window_display": false
  },
  "varInspector": {
   "cols": {
    "lenName": 16,
    "lenType": 16,
    "lenVar": 40
   },
   "kernels_config": {
    "python": {
     "delete_cmd_postfix": "",
     "delete_cmd_prefix": "del ",
     "library": "var_list.py",
     "varRefreshCmd": "print(var_dic_list())"
    },
    "r": {
     "delete_cmd_postfix": ") ",
     "delete_cmd_prefix": "rm(",
     "library": "var_list.r",
     "varRefreshCmd": "cat(var_dic_list()) "
    }
   },
   "types_to_exclude": [
    "module",
    "function",
    "builtin_function_or_method",
    "instance",
    "_Feature"
   ],
   "window_display": false
  }
 },
 "nbformat": 4,
 "nbformat_minor": 2
}
