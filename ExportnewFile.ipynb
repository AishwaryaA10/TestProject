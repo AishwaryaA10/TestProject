from snowflake.snowpark.session import Session
 
def get_session():
   """
   Method creates snowflake session object.
   :return:
   """
   try:
       CONNECTION_PARAMETERS = {
           "account": 'ug94937.us-east4.gcp',
           "user": 'RAJENDRAMISAL',
           "password": password,
           "role": 'RAJENDRAMISAL',
           "database": 'FDC_E2E_MANUFACTURING_DATA',
           "warehouse": 'FOSFOR_QA_WH',
           "schema": '
       }
       return Session.builder.configs(CONNECTION_PARAMETERS).create()
   except Exception as ex:
       print("Error while creating snowflake session", ex)
       return ex
 
session = get_session()
import pandas as pd
my_data = pd.read_csv('sample_submission.csv')
my_data.columns = map(lambda x: str(x).upper(), my_data.columns)
my_data.columns = my_data.columns.str.replace(' ', '_')
my_data = my_data.loc[:, ~my_data.columns.str.contains('^Unnamed')]
my_data.head()
session.write_pandas(my_data, table_name="sample_submission", auto_create_table=True, overwrite=True)