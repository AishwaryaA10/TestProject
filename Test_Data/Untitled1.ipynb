{
 "cells": [
  {
   "cell_type": "code",
   "execution_count": 1,
   "id": "62e3abd1",
   "metadata": {},
   "outputs": [
    {
     "name": "stdout",
     "output_type": "stream",
     "text": [
      "Collecting scipy\n",
      "\u001b[?25l  Downloading https://files.pythonhosted.org/packages/58/4f/11f34cfc57ead25752a7992b069c36f5d18421958ebd6466ecd849aeaf86/scipy-1.7.3-cp37-cp37m-manylinux_2_12_x86_64.manylinux2010_x86_64.whl (38.1MB)\n",
      "\u001b[K     |████████████████████████████████| 38.1MB 196kB/s eta 0:00:01\n",
      "\u001b[?25hCollecting numpy<1.23.0,>=1.16.5\n",
      "\u001b[?25l  Downloading https://files.pythonhosted.org/packages/6d/ad/ff3b21ebfe79a4d25b4a4f8e5cf9fd44a204adb6b33c09010f566f51027a/numpy-1.21.6-cp37-cp37m-manylinux_2_12_x86_64.manylinux2010_x86_64.whl (15.7MB)\n",
      "\u001b[K     |████████████████████████████████| 15.7MB 57.1MB/s eta 0:00:01\n",
      "\u001b[31mERROR: mosaic-utils 1.0.2 has requirement scikit-learn==0.21.3; python_version <= \"3.7\", but you'll have scikit-learn 1.0.2 which is incompatible.\u001b[0m\n",
      "\u001b[31mERROR: mosaic-connector-python 1.0.0 has requirement numpy==1.16.1, but you'll have numpy 1.21.6 which is incompatible.\u001b[0m\n",
      "\u001b[31mERROR: mosaic-connector-python 1.0.0 has requirement pandas==1.0.4, but you'll have pandas 1.3.5 which is incompatible.\u001b[0m\n",
      "\u001b[?25hInstalling collected packages: numpy, scipy\n",
      "Successfully installed numpy-1.21.6 scipy-1.7.3\n",
      "\u001b[33mWARNING: You are using pip version 19.3.1; however, version 23.3.1 is available.\n",
      "You should consider upgrading via the 'pip install --upgrade pip' command.\u001b[0m\n",
      "Note: you may need to restart the kernel to use updated packages.\n"
     ]
    }
   ],
   "source": [
    "pip install scipy"
   ]
  },
  {
   "cell_type": "code",
   "execution_count": 2,
   "id": "21f143c2",
   "metadata": {},
   "outputs": [],
   "source": [
    "import scipy"
   ]
  },
  {
   "cell_type": "code",
   "execution_count": 3,
   "id": "9bca173b",
   "metadata": {},
   "outputs": [
    {
     "data": {
      "text/plain": [
       "'1.7.3'"
      ]
     },
     "execution_count": 3,
     "metadata": {},
     "output_type": "execute_result"
    }
   ],
   "source": [
    "scipy.__version__"
   ]
  },
  {
   "cell_type": "code",
   "execution_count": null,
   "id": "ccfb400d",
   "metadata": {},
   "outputs": [],
   "source": [
    "scipy."
   ]
  }
 ],
 "metadata": {
  "kernelspec": {
   "display_name": "Python 3",
   "language": "python",
   "name": "python3"
  },
  "language_info": {
   "codemirror_mode": {
    "name": "ipython",
    "version": 3
   },
   "file_extension": ".py",
   "mimetype": "text/x-python",
   "name": "python",
   "nbconvert_exporter": "python",
   "pygments_lexer": "ipython3",
   "version": "3.7.10"
  }
 },
 "nbformat": 4,
 "nbformat_minor": 5
}
