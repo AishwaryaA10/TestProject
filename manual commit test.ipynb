{
 "cells": [
  {
   "cell_type": "code",
   "execution_count": null,
   "id": "542a883e-db88-44e2-b4b4-73419cfe157e",
   "metadata": {},
   "outputs": [],
   "source": [
    "# Taking kilometers input from the user- manual commit test\n",
    "kilometers = 500\n",
    "\n",
    "\n",
    "# conversion factor\n",
    "conv_fac = 0.621371\n",
    "\n",
    "# calculate miles\n",
    "miles = kilometers * conv_fac\n",
    "print('%0.2f kilometers is equal to %0.2f miles' %(kilometers,miles))"
   ]
  }
 ],
 "metadata": {
  "kernelspec": {
   "display_name": "Python 3",
   "language": "python",
   "name": "python3"
  },
  "language_info": {
   "codemirror_mode": {
    "name": "ipython",
    "version": 3
   },
   "file_extension": ".py",
   "mimetype": "text/x-python",
   "name": "python",
   "nbconvert_exporter": "python",
   "pygments_lexer": "ipython3",
   "version": "3.6.13"
  }
 },
 "nbformat": 4,
 "nbformat_minor": 5
}
