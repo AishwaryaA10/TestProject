{
 "cells": [
  {
   "cell_type": "markdown",
   "metadata": {},
   "source": [
    "# Import mosaic and spacy libraries"
   ]
  },
  {
   "cell_type": "code",
   "execution_count": 1,
   "metadata": {},
   "outputs": [
    {
     "name": "stderr",
     "output_type": "stream",
     "text": [
      "Using TensorFlow backend.\n",
      "/home/pcadmin/Desktop/project/AILogistics/mosaic-ai-client/env/lib/python3.6/site-packages/tensorflow/python/framework/dtypes.py:516: FutureWarning: Passing (type, 1) or '1type' as a synonym of type is deprecated; in a future version of numpy, it will be understood as (type, (1,)) / '(1,)type'.\n",
      "  _np_qint8 = np.dtype([(\"qint8\", np.int8, 1)])\n",
      "/home/pcadmin/Desktop/project/AILogistics/mosaic-ai-client/env/lib/python3.6/site-packages/tensorflow/python/framework/dtypes.py:517: FutureWarning: Passing (type, 1) or '1type' as a synonym of type is deprecated; in a future version of numpy, it will be understood as (type, (1,)) / '(1,)type'.\n",
      "  _np_quint8 = np.dtype([(\"quint8\", np.uint8, 1)])\n",
      "/home/pcadmin/Desktop/project/AILogistics/mosaic-ai-client/env/lib/python3.6/site-packages/tensorflow/python/framework/dtypes.py:518: FutureWarning: Passing (type, 1) or '1type' as a synonym of type is deprecated; in a future version of numpy, it will be understood as (type, (1,)) / '(1,)type'.\n",
      "  _np_qint16 = np.dtype([(\"qint16\", np.int16, 1)])\n",
      "/home/pcadmin/Desktop/project/AILogistics/mosaic-ai-client/env/lib/python3.6/site-packages/tensorflow/python/framework/dtypes.py:519: FutureWarning: Passing (type, 1) or '1type' as a synonym of type is deprecated; in a future version of numpy, it will be understood as (type, (1,)) / '(1,)type'.\n",
      "  _np_quint16 = np.dtype([(\"quint16\", np.uint16, 1)])\n",
      "/home/pcadmin/Desktop/project/AILogistics/mosaic-ai-client/env/lib/python3.6/site-packages/tensorflow/python/framework/dtypes.py:520: FutureWarning: Passing (type, 1) or '1type' as a synonym of type is deprecated; in a future version of numpy, it will be understood as (type, (1,)) / '(1,)type'.\n",
      "  _np_qint32 = np.dtype([(\"qint32\", np.int32, 1)])\n",
      "/home/pcadmin/Desktop/project/AILogistics/mosaic-ai-client/env/lib/python3.6/site-packages/tensorflow/python/framework/dtypes.py:525: FutureWarning: Passing (type, 1) or '1type' as a synonym of type is deprecated; in a future version of numpy, it will be understood as (type, (1,)) / '(1,)type'.\n",
      "  np_resource = np.dtype([(\"resource\", np.ubyte, 1)])\n",
      "/home/pcadmin/Desktop/project/AILogistics/mosaic-ai-client/env/lib/python3.6/site-packages/tensorboard/compat/tensorflow_stub/dtypes.py:541: FutureWarning: Passing (type, 1) or '1type' as a synonym of type is deprecated; in a future version of numpy, it will be understood as (type, (1,)) / '(1,)type'.\n",
      "  _np_qint8 = np.dtype([(\"qint8\", np.int8, 1)])\n",
      "/home/pcadmin/Desktop/project/AILogistics/mosaic-ai-client/env/lib/python3.6/site-packages/tensorboard/compat/tensorflow_stub/dtypes.py:542: FutureWarning: Passing (type, 1) or '1type' as a synonym of type is deprecated; in a future version of numpy, it will be understood as (type, (1,)) / '(1,)type'.\n",
      "  _np_quint8 = np.dtype([(\"quint8\", np.uint8, 1)])\n",
      "/home/pcadmin/Desktop/project/AILogistics/mosaic-ai-client/env/lib/python3.6/site-packages/tensorboard/compat/tensorflow_stub/dtypes.py:543: FutureWarning: Passing (type, 1) or '1type' as a synonym of type is deprecated; in a future version of numpy, it will be understood as (type, (1,)) / '(1,)type'.\n",
      "  _np_qint16 = np.dtype([(\"qint16\", np.int16, 1)])\n",
      "/home/pcadmin/Desktop/project/AILogistics/mosaic-ai-client/env/lib/python3.6/site-packages/tensorboard/compat/tensorflow_stub/dtypes.py:544: FutureWarning: Passing (type, 1) or '1type' as a synonym of type is deprecated; in a future version of numpy, it will be understood as (type, (1,)) / '(1,)type'.\n",
      "  _np_quint16 = np.dtype([(\"quint16\", np.uint16, 1)])\n",
      "/home/pcadmin/Desktop/project/AILogistics/mosaic-ai-client/env/lib/python3.6/site-packages/tensorboard/compat/tensorflow_stub/dtypes.py:545: FutureWarning: Passing (type, 1) or '1type' as a synonym of type is deprecated; in a future version of numpy, it will be understood as (type, (1,)) / '(1,)type'.\n",
      "  _np_qint32 = np.dtype([(\"qint32\", np.int32, 1)])\n",
      "/home/pcadmin/Desktop/project/AILogistics/mosaic-ai-client/env/lib/python3.6/site-packages/tensorboard/compat/tensorflow_stub/dtypes.py:550: FutureWarning: Passing (type, 1) or '1type' as a synonym of type is deprecated; in a future version of numpy, it will be understood as (type, (1,)) / '(1,)type'.\n",
      "  np_resource = np.dtype([(\"resource\", np.ubyte, 1)])\n"
     ]
    }
   ],
   "source": [
    "from __future__ import unicode_literals, print_function\n",
    "from mosaicml import *\n",
    "from mosaicml.constants import MLModelFlavours\n",
    "import json\n",
    "import sys\n",
    "import logging\n",
    "import argparse\n",
    "import os\n",
    "import cloudpickle\n",
    "import plac\n",
    "import random\n",
    "from pathlib import Path\n",
    "import spacy\n",
    "from spacy.util import minibatch, compounding\n"
   ]
  },
  {
   "cell_type": "markdown",
   "metadata": {},
   "source": [
    "# Creating Dataset"
   ]
  },
  {
   "cell_type": "raw",
   "metadata": {},
   "source": [
    "We will be using the ner_dataset.csv file and train only on 260 sentences.\n",
    "eg in file are of the following type:\n",
    "Sentence #,Word,POS,Tag\n",
    "Sentence: 1,Thousands,NNS,O\n",
    "            of,IN,O\n",
    "            demonstrators,NNS,O\n",
    "            have,VBP,O\n",
    "            marched,VBN,O\n",
    "            through,IN,O\n",
    "The dataset consists of the following tags-\n",
    "    geo = Geographical Entity\n",
    "    org = Organization\n",
    "    per = Person\n",
    "    gpe = Geopolitical Entity\n",
    "    tim = Time indicator\n",
    "    art = Artifact\n",
    "    eve = Event\n",
    "    nat = Natural Phenomenon            "
   ]
  },
  {
   "cell_type": "code",
   "execution_count": 2,
   "metadata": {},
   "outputs": [],
   "source": [
    "# Convert .tsv file to json format. \n",
    "\n",
    "def tsv_to_json_format(input_path,output_path,unknown_label):\n",
    "    try:\n",
    "        f=open(input_path,'r') # input file\n",
    "        fp=open(output_path, 'w') # output file\n",
    "        data_dict={}\n",
    "        annotations =[]\n",
    "        label_dict={}\n",
    "        s=''\n",
    "        start=0\n",
    "        for line in f:\n",
    "            if line[0:len(line)-1]!='.\\tO':\n",
    "                word,entity=line.split('\\t')\n",
    "                s+=word+\" \"\n",
    "                entity=entity[:len(entity)-1]\n",
    "                if entity!=unknown_label:\n",
    "                    if len(entity) != 1:\n",
    "                        d={}\n",
    "                        d['text']=word\n",
    "                        d['start']=start\n",
    "                        d['end']=start+len(word)-1  \n",
    "                        try:\n",
    "                            label_dict[entity].append(d)\n",
    "                        except:\n",
    "                            label_dict[entity]=[]\n",
    "                            label_dict[entity].append(d) \n",
    "                start+=len(word)+1\n",
    "            else:\n",
    "                data_dict['content']=s\n",
    "                s=''\n",
    "                label_list=[]\n",
    "                for ents in list(label_dict.keys()):\n",
    "                    for i in range(len(label_dict[ents])):\n",
    "                        if(label_dict[ents][i]['text']!=''):\n",
    "                            l=[ents,label_dict[ents][i]]\n",
    "                            for j in range(i+1,len(label_dict[ents])): \n",
    "                                if(label_dict[ents][i]['text']==label_dict[ents][j]['text']):  \n",
    "                                    di={}\n",
    "                                    di['start']=label_dict[ents][j]['start']\n",
    "                                    di['end']=label_dict[ents][j]['end']\n",
    "                                    di['text']=label_dict[ents][i]['text']\n",
    "                                    l.append(di)\n",
    "                                    label_dict[ents][j]['text']=''\n",
    "                            label_list.append(l)                          \n",
    "                            \n",
    "                for entities in label_list:\n",
    "                    label={}\n",
    "                    label['label']=[entities[0]]\n",
    "                    label['points']=entities[1:]\n",
    "                    annotations.append(label)\n",
    "                data_dict['annotation']=annotations\n",
    "                annotations=[]\n",
    "                json.dump(data_dict, fp)\n",
    "                fp.write('\\n')\n",
    "                data_dict={}\n",
    "                start=0\n",
    "                label_dict={}\n",
    "    except Exception as e:\n",
    "        logging.exception(\"Unable to process file\" + \"\\n\" + \"error = \" + str(e))\n",
    "        return None\n",
    "\n",
    "tsv_to_json_format(\"spacy/spacy.tsv\",'spacy/spacy.json','abc')"
   ]
  },
  {
   "cell_type": "code",
   "execution_count": 3,
   "metadata": {},
   "outputs": [
    {
     "name": "stdout",
     "output_type": "stream",
     "text": [
      "[('Thousands of demonstrators have marched through London to protest the war in Iraq and demand the withdrawal of British troops from that country ', {'entities': [(48, 54, 'B-geo'), (77, 81, 'B-geo'), (111, 118, 'B-gpe')]}), ('Families of soldiers killed in the conflict joined the protesters who carried banners with such slogans as \" Bush Number One Terrorist \" and \" Stop the Bombings ', {'entities': [(109, 113, 'B-per')]}), ('\" They marched from the Houses of Parliament to a rally in Hyde Park ', {'entities': [(59, 63, 'B-geo'), (64, 68, 'I-geo')]}), ('Police put the number of marchers at 10000 while organizers claimed it was 1,00,000 ', {'entities': []}), (\"The protest comes on the eve of the annual conference of Britain 's ruling Labor Party in the southern English seaside resort of Brighton \", {'entities': [(57, 64, 'B-geo'), (129, 137, 'B-geo'), (75, 80, 'B-org'), (81, 86, 'I-org'), (103, 110, 'B-gpe')]}), (\"The party is divided over Britain 's participation in the Iraq conflict and the continued deployment of 8500 British troops in that country \", {'entities': [(26, 33, 'B-gpe'), (109, 116, 'B-gpe'), (58, 62, 'B-geo')]}), ('The London march came ahead of anti-war protests today in other cities , including Rome , Paris , and Madrid ', {'entities': [(4, 10, 'B-geo'), (83, 87, 'B-geo'), (90, 95, 'B-geo'), (102, 108, 'B-geo')]}), (\"The International Atomic Energy Agency is to hold second day of talks in Vienna Wednesday on how to respond to Iran 's resumption of low-level uranium conversion \", {'entities': [(4, 17, 'B-org'), (18, 24, 'I-org'), (25, 31, 'I-org'), (32, 38, 'I-org'), (73, 79, 'B-geo'), (80, 89, 'B-tim'), (111, 115, 'B-gpe')]}), ('Iran this week restarted parts of the conversion process at its Isfahan nuclear plant ', {'entities': [(0, 4, 'B-gpe'), (64, 71, 'B-geo')]}), ('Iranian officials say they expect to get access to sealed sensitive parts of the plant Wednesday , after an IAEA surveillance system begins functioning ', {'entities': [(0, 7, 'B-gpe'), (87, 96, 'B-tim'), (108, 112, 'B-org')]}), ('The step will allow the facility to operate at full capacity ', {'entities': []}), ('The European Union , with U.S. backing , has threatened to refer Iran to the U.N. Security Council , which could impose sanctions if it finds Tehran has violated the Nuclear Non-Proliferation treaty ', {'entities': [(4, 12, 'B-org'), (77, 81, 'B-org'), (13, 18, 'I-org'), (82, 90, 'I-org'), (91, 98, 'I-org'), (26, 30, 'B-gpe'), (65, 69, 'B-gpe'), (142, 148, 'B-gpe'), (166, 173, 'B-art'), (174, 191, 'I-art')]}), (\"Iran 's new President Mahmoud Ahmadinejad said Tuesday that European incentives aimed at persuading Iran to end its nuclear fuel program are an insult to the Iranian nation \", {'entities': [(0, 4, 'B-gpe'), (60, 68, 'B-gpe'), (158, 165, 'B-gpe'), (12, 21, 'B-per'), (22, 29, 'I-per'), (30, 41, 'I-per'), (47, 54, 'B-tim')]}), (\"Two Germans and four Nigerian oil workers were kidnapped by armed militants during a raid on a boat in Nigeria 's southern oil-rich Delta region \", {'entities': [(4, 11, 'B-gpe'), (21, 29, 'B-gpe'), (103, 110, 'B-geo'), (132, 137, 'B-geo')]}), ('An official with the German firm Bilfinger Berger , Thomas Horbach , said the gunmen stopped the supply boat Wednesday as it sailed from Delta State to Bayelsa State to inspect an offshore oil field owned by Royal-Dutch Shell ', {'entities': [(21, 27, 'B-gpe'), (33, 42, 'B-org'), (208, 219, 'B-org'), (43, 49, 'I-org'), (220, 225, 'I-org'), (52, 58, 'B-per'), (59, 66, 'I-per'), (109, 118, 'B-tim'), (137, 142, 'B-geo'), (152, 159, 'B-geo'), (143, 148, 'I-geo')]}), ('The German firm works as a sub-contractor for Shell ', {'entities': [(4, 10, 'B-gpe'), (46, 51, 'B-org')]}), ('Militant groups frequently attack oil operations in the Niger Delta to demand social services and better job opportunities from multinational companies ', {'entities': [(56, 61, 'B-geo'), (62, 67, 'I-geo')]}), (\"Poor residents often complain they have been cheated out of the huge riches extracted from their tribal lands - where the bulk of Nigeria 's 2.3 million barrels of petroleum are pumped daily \", {'entities': [(130, 137, 'B-gpe')]}), (\"Suspected Islamist rebels have fired mortar shells at the palace used by Somalia 's interim President Abdullahi Yusuf Ahmad \", {'entities': [(73, 80, 'B-geo'), (92, 101, 'B-per'), (102, 111, 'I-per'), (112, 117, 'I-per'), (118, 123, 'I-per')]}), ('It was not immediately clear if the president was in the palace in Mogadishu when the attack occurred or if anyone was hurt ', {'entities': [(67, 76, 'B-geo')]}), ('Local news reports said at least five mortar shells hit the palace compound and other mortars were fired elsewhere in Mogadishu Wednesday ', {'entities': [(118, 127, 'B-geo'), (128, 137, 'B-tim')]}), ('The attacks occurred after the government said it will go ahead with a reconciliation conference to which more than 1300 Somali elders , warlords and politicians are invited ', {'entities': [(121, 127, 'B-gpe')]}), ('Iraqi military officials say tanks and troops have arrived in the northern city Mosul for a new offensive against al Qaida in Iraq fighters ', {'entities': [(0, 5, 'B-gpe'), (80, 85, 'B-geo'), (114, 116, 'B-org'), (117, 122, 'I-org'), (123, 125, 'I-org'), (126, 130, 'I-org')]}), ('Officials will not say how many troops have arrived in the Sunni Arab and Kurdish city , where bombings last week killed at least 34 people and wounded more than 200 ', {'entities': [(59, 64, 'B-geo'), (74, 81, 'B-geo'), (65, 69, 'I-geo')]}), ('U.S. commanders have not explained how American forces will participate in the offensive ', {'entities': [(0, 4, 'B-gpe'), (39, 47, 'B-gpe')]}), ('Officials say al Qaida in Iraq fighters have fled successful campaigns against them in Anbar province and Baghdad to other northern provinces ', {'entities': [(14, 16, 'B-org'), (17, 22, 'I-org'), (23, 25, 'I-org'), (26, 30, 'I-org'), (87, 92, 'B-geo'), (106, 113, 'B-geo')]}), ('Mosul is the largest city north of Baghdad and has long been a stronghold of Sunni militant fighters ', {'entities': [(0, 5, 'B-geo'), (35, 42, 'B-geo'), (77, 82, 'B-org')]}), ('In other violence , U.S. officials said one American soldier was killed while on patrol in Baghdad Sunday ', {'entities': [(20, 24, 'B-gpe'), (44, 52, 'B-gpe'), (91, 98, 'B-geo'), (99, 105, 'B-tim')]}), ('Egyptian police have arrested at least 16 members of the opposition Muslim Brotherhood as parts of the country prepare for parliamentary runoff elections Saturday ', {'entities': [(0, 8, 'B-gpe'), (68, 74, 'B-org'), (75, 86, 'I-org'), (154, 162, 'B-tim')]}), ('The arrests occurred Friday in Alexandria ', {'entities': [(21, 27, 'B-tim'), (31, 41, 'B-geo')]}), ('A spokesman for the Brotherhood said the arrests are an attempt to cut the Brotherhood off from its supporters and punishment for winning parliamentary seats in earlier elections ', {'entities': [(20, 31, 'B-org')]}), (\"The Muslim Brotherhood has tripled its strength in parliament in recent elections , raising the party 's total to 47 seats \", {'entities': [(4, 10, 'B-org'), (11, 22, 'I-org')]}), (\"In Saturday 's elections , voters will cast ballots in nine provinces where no candidate won a majority in the previous round of voting \", {'entities': [(3, 11, 'B-tim')]}), ('The Muslim Brotherhood is banned as a political party , but it endorses so-called independent candidates whose allegiance to the party is known to voters ', {'entities': [(4, 10, 'B-org'), (11, 22, 'I-org')]}), ('Hardline lawmakers in Pakistan \\'s North West Frontier Province have pushed through a law that aims to ensure \" Islamic correctness \" in public places and establishes a morality police to enforce decent behavior ', {'entities': [(22, 30, 'B-geo'), (34, 39, 'B-geo'), (40, 44, 'I-geo'), (45, 53, 'I-geo'), (54, 62, 'I-geo')]}), ('A six-party coalition of religious based parties , the Mutahida Majlis-e-Amal , dominates the provincial assembly , so the bill was easily passed Thursday by a vote of 68-34 ', {'entities': [(55, 63, 'B-org'), (64, 77, 'I-org'), (146, 154, 'B-tim')]}), ('The provincial governor must still sign the bill before it becomes law , a step seen only as a formality ', {'entities': []}), ('The proposed law calls for setting up a \" religious police force \" to make sure people adhere to Islamic values in public places , and entertainment outlets close during weekly Friday prayers ', {'entities': [(177, 183, 'B-tim')]}), ('Violators could be jailed for up to six months ', {'entities': []}), ('The opposition has denounced the measure , comparing it to the draconian rule of the former Taleban in neighboring Afghanistan ', {'entities': [(92, 99, 'B-org'), (115, 126, 'B-geo')]}), (\"British police say they have arrested a man who dressed as suicide bomber at a demonstration against the publication of cartoons depicting Islam 's Prophet Muhammad \", {'entities': [(0, 7, 'B-gpe'), (139, 144, 'B-org'), (148, 155, 'B-per'), (156, 164, 'I-per')]}), ('Bedfordshire police said Tuesday that Omar Khayam was arrested in Bedford for breaching the conditions of his parole ', {'entities': [(0, 12, 'B-gpe'), (25, 32, 'B-tim'), (38, 42, 'B-per'), (43, 49, 'I-per'), (66, 73, 'B-geo')]}), (\"Police said the British Home Office sought an investigation of Khayam 's behavior after he was photographed last week at a demonstration dressed in fatigues , a black cap , and a bulky belt \", {'entities': [(16, 23, 'B-org'), (24, 28, 'I-org'), (29, 35, 'I-org'), (63, 69, 'B-per')]}), ('A Home Office spokesman told the Associated Press that if the behavior of a paroled offender gives cause for concern , he can be sent back to prison ', {'entities': [(2, 6, 'B-org'), (33, 43, 'B-org'), (7, 13, 'I-org'), (44, 49, 'I-org')]}), ('The AP also reports Khayam has been on parole from prison since last year after serving half his six-year sentence for drug dealing ', {'entities': [(4, 6, 'B-org'), (20, 26, 'B-per')]}), ('Pakistani officials say unidentified gunmen have killed three people , including a former government minister , in a semi-autonomous tribal region bordering Afghanistan ', {'entities': [(0, 9, 'B-gpe'), (157, 168, 'B-geo')]}), ('The officials say prominent tribal leader Malik Faridullah Khan was traveling in South Waziristan Sunday when his vehicle was ambushed in the Kani Wam area ', {'entities': [(42, 47, 'B-per'), (48, 58, 'I-per'), (59, 63, 'I-per'), (81, 86, 'B-geo'), (142, 146, 'B-geo'), (87, 97, 'I-geo'), (147, 150, 'I-geo'), (98, 104, 'B-tim')]}), ('His driver and a tribal elder were also killed ', {'entities': []}), ('No one has claimed responsibility for the killings ', {'entities': []}), ('The ambush came a day after a commander of Pakistani troops said the army has almost completely eliminated militants in South Waziristan ', {'entities': [(43, 52, 'B-gpe'), (120, 125, 'B-geo'), (126, 136, 'I-geo')]}), ('The area became a refuge for many al-Qaida and Taleban fighters after the Taleban government was ousted in Afghanistan in 2001 ', {'entities': [(34, 42, 'B-org'), (47, 54, 'B-org'), (107, 118, 'B-geo'), (122, 126, 'B-tim')]}), ('A senior Pakistani military official says Pakistan wants to put what he calls the \" sordid chapter \" of proliferation by one of its top scientists behind it and build civilian nuclear ties with the United States ', {'entities': [(9, 18, 'B-gpe'), (42, 50, 'B-gpe'), (198, 204, 'B-gpe'), (205, 211, 'I-gpe')]}), ('But he says Pakistan is not ready to make the nuclear scientist , Abdul Qadeer Khan , available for direct questioning over his sale of nuclear parts and secrets to states including Iran , Libya and North Korea ', {'entities': [(12, 20, 'B-gpe'), (182, 186, 'B-gpe'), (189, 194, 'B-gpe'), (199, 204, 'B-gpe'), (66, 71, 'B-per'), (72, 78, 'I-per'), (79, 83, 'I-per'), (205, 210, 'I-gpe')]}), ('He said there are reasons of national sensitivities for not making him available ', {'entities': []}), ('The Pakistani official was giving a background briefing to a small group of reporters in Washington ', {'entities': [(4, 13, 'B-gpe'), (89, 99, 'B-geo')]}), ('Khan admitted in 2004 that he operated a worldwide clandestine network to sell nuclear technology in the black market ', {'entities': [(0, 4, 'B-per'), (17, 21, 'B-tim')]}), (\"He was placed under house arrest in Islamabad , but not jailed because he is considered the father of Pakistan 's nuclear bomb \", {'entities': [(36, 45, 'B-geo'), (102, 110, 'B-geo')]}), ('U.S. Army officials said Wednesday that they will not renew a controversial multi-billion dollar contract with the Halliburton company to provide logistical support to U.S. troops in Iraq and elsewhere ', {'entities': [(0, 4, 'B-gpe'), (5, 9, 'B-org'), (115, 126, 'B-org'), (25, 34, 'B-tim'), (183, 187, 'B-geo')]}), ('Halliburton has been providing a long list of services , from meals to communication , for the military for several years ', {'entities': [(0, 11, 'B-org')]}), ('Critics of Halliburton include auditors and congressional Democrats ', {'entities': [(11, 22, 'B-org')]}), ('They say the company has produced some shoddy work and charges too much money ', {'entities': []}), ('The company strongly denies the allegations ', {'entities': []}), ('When the huge contract is put out for re-bidding , several companies will get a chance to compete for portions of the work ', {'entities': []}), ('Representatives from the Asia Pacific Economic Cooperation Business Advisory Council are holding meetings this week to finalize their annual report for APEC leaders who will hold a summit on September 8 and 9 ', {'entities': [(25, 29, 'B-org'), (152, 156, 'B-org'), (30, 37, 'I-org'), (38, 46, 'I-org'), (47, 58, 'I-org'), (59, 67, 'I-org'), (68, 76, 'I-org'), (77, 84, 'I-org'), (191, 200, 'B-tim'), (207, 208, 'B-tim'), (201, 202, 'I-tim')]}), (\"VOA 's Nancy-Amelia Collins reports from Sydney \", {'entities': [(0, 3, 'B-org'), (7, 19, 'B-per'), (20, 27, 'I-per'), (41, 47, 'B-geo')]}), (\"Energy , security , climate change , the World Trade Organization 's stalled negotiations , and investment are all expected to be among the major topics in the annual report of the APEC Business Advisory Council , known as ABAC \", {'entities': [(41, 46, 'B-org'), (181, 185, 'B-org'), (223, 227, 'B-org'), (47, 52, 'I-org'), (53, 65, 'I-org'), (186, 194, 'I-org'), (195, 203, 'I-org'), (204, 211, 'I-org')]}), ('Tim Harcourt , the chief economist of the Australian Trade Commission , says ABAC plays an important role by informing governments where there are problems ', {'entities': [(0, 3, 'B-per'), (4, 12, 'I-per'), (42, 52, 'B-org'), (77, 81, 'B-org'), (53, 58, 'I-org'), (59, 69, 'I-org')]}), ('\" The most important thing the business groups can do is to tell the governments where there are logjams , where there are obstacles , where things can improve , \" Harcourt said ', {'entities': [(164, 172, 'B-per')]}), ('\" I think actually ABAC has played a pretty good leadership on that in talking about trade facilitation and basically making sure standards are consistent and harmonious across the region ', {'entities': [(19, 23, 'B-org')]}), ('\" ABAC comprises up to three members of the private sector of each of the 21 economies that make up APEC ', {'entities': [(2, 6, 'B-org'), (100, 104, 'B-org')]}), ('It meets three times a year ', {'entities': []}), ('It was made a permanent body in 1995 to provide an independent business perspective within APEC ', {'entities': [(32, 36, 'B-tim'), (91, 95, 'B-org')]}), ('Members represent a range of business sectors , including medium and small businesses ', {'entities': []}), ('ABAC says there is a need for businesses to improve energy efficiency and to encourage conservation practices , and is expected to include this in its annual report ', {'entities': [(0, 4, 'B-org')]}), ('Harcourt , of the Australian Trade Commission , says the ABAC report will also discuss ways to enhance regional cooperation ', {'entities': [(0, 8, 'B-per'), (18, 28, 'B-org'), (57, 61, 'B-org'), (29, 34, 'I-org'), (35, 45, 'I-org')]}), ('\" I reckon they \\'ll talk a little bit about customs and quarantine , a little bit about having consistent security arrangements around the region , \" Harcourt said ', {'entities': [(150, 158, 'B-per')]}), ('\" And I think they \\'ll want a one-stop shop in terms of combining security , immigration , customs , and quarantine together � just to make sure it \\'s more streamlined and provides more certainty ', {'entities': []}), ('\" ABAC is the only non-governmental body that has an official role and formal dialogue with the leaders of the APEC economies ', {'entities': [(2, 6, 'B-org'), (111, 115, 'B-org')]}), ('It will present its annual report at the APEC leaders meeting on Saturday ', {'entities': [(41, 45, 'B-org'), (65, 73, 'B-tim')]}), (\"Sudan 's government says it will order troops to end attacks immediately in Darfur , and is asking rebels to do the same \", {'entities': [(0, 5, 'B-gpe'), (76, 82, 'B-geo')]}), ('Foreign Minister Mustafa Osman Ismail says Sudanese troops will also withdraw to positions held before an April cease-fire , if rebels in the western region agree to stop attacks ', {'entities': [(0, 7, 'B-per'), (8, 16, 'I-per'), (17, 24, 'I-per'), (25, 30, 'I-per'), (31, 37, 'I-per'), (43, 51, 'B-gpe'), (106, 111, 'B-tim')]}), ('Mr. Ismail announced the decision after meeting with officials from the United Nations and African Union in Khartoum Sunday ', {'entities': [(0, 3, 'B-per'), (4, 10, 'I-per'), (72, 78, 'B-org'), (91, 98, 'B-org'), (79, 86, 'I-org'), (99, 104, 'I-org'), (108, 116, 'B-geo'), (117, 123, 'B-tim')]}), ('In recent weeks , AU officials say Sudanese troops and rebels have repeatedly violated the April truce ', {'entities': [(18, 20, 'B-org'), (35, 43, 'B-gpe'), (91, 96, 'B-tim')]}), ('Saturday , the head of AU forces in Darfur accused Sudanese government helicopters of bombing rebel sites in the South Darfur village of Labado ', {'entities': [(0, 8, 'B-tim'), (23, 25, 'B-org'), (36, 42, 'B-geo'), (113, 118, 'B-geo'), (137, 143, 'B-geo'), (51, 59, 'B-gpe'), (119, 125, 'I-geo')]}), ('Khartoum says troops were defending their positions from rebel attacks ', {'entities': [(0, 8, 'B-gpe')]}), ('Aid workers say some relief efforts have been suspended in South Darfur due to recent attacks ', {'entities': [(59, 64, 'B-geo'), (65, 71, 'I-geo')]}), ('Indonesian police have arrested three men in connection with the October 1 Bali bombings that left 23 people dead ', {'entities': [(0, 10, 'B-gpe'), (65, 72, 'B-tim'), (73, 74, 'I-tim'), (75, 79, 'B-geo')]}), ('Indonesian police said Wednesday the men were flown to Bali from neighboring Java island for questioning at Bali police headquarters ', {'entities': [(0, 10, 'B-gpe'), (23, 32, 'B-tim'), (55, 59, 'B-geo'), (77, 81, 'B-geo')]}), ('Australian and French news agencies say at least one of the men arrested ( Cholily ) was captured during a series of counter-terrorism raids last week in Indonesia ', {'entities': [(0, 10, 'B-gpe'), (15, 21, 'B-gpe'), (75, 82, 'B-per'), (154, 163, 'B-geo')]}), ('The raids ended with the death of alleged extremist bombmaker Azahari bin Husin ', {'entities': [(62, 69, 'B-per'), (70, 73, 'I-per'), (74, 79, 'I-per')]}), (\"Indonesian authorities blame Azahari bin Husin for orchestrating last month 's attacks in Bali as well as the 2002 Bali bombings that killed more than 200 people \", {'entities': [(0, 10, 'B-gpe'), (29, 36, 'B-per'), (37, 40, 'I-per'), (41, 46, 'I-per'), (90, 94, 'B-geo'), (110, 114, 'B-tim')]}), ('Gunmen have shot and killed a Roman Catholic nun and her bodyguard at the hospital where she worked in Islamist-controlled Mogadishu , Somalia ', {'entities': [(30, 35, 'B-org'), (36, 44, 'I-org'), (123, 132, 'B-geo'), (135, 142, 'B-geo')]}), ('Some witnesses to the Sunday shooting said they feared the attack was linked to Muslim anger toward Pope Benedict ', {'entities': [(22, 28, 'B-tim'), (100, 104, 'B-per'), (105, 113, 'I-per')]}), ('Two men with pistols attacked the nun , Sister Leonella Sgorbati , after she finished teaching a medical school class at the hospital in southern Mogadishu ', {'entities': [(40, 46, 'B-per'), (47, 55, 'I-per'), (56, 64, 'I-per'), (146, 155, 'B-geo')]}), ('Officials say one suspect was arrested ', {'entities': []}), ('In Rome , a Vatican spokesman deplored the attack and said he hoped it was an isolated event , and not irrationality arising from comments made by the Pope which angered some Muslims ', {'entities': [(3, 7, 'B-geo'), (12, 19, 'B-org')]}), ('Authorities in Mogadishu have not determined a motive for the shooting ', {'entities': [(15, 24, 'B-geo')]}), ('The pope has said he meant no offense to Muslims when he quoted a 14 century Byzantine emperor as saying some teachings of the Prophet Muhammed brought evil to the world ', {'entities': [(77, 86, 'B-per'), (127, 134, 'B-per'), (135, 143, 'I-per')]}), ('Pakistani forces have targeted militants in the northwest for a third day , launching airstrikes that they say killed at least nine suspected insurgents ', {'entities': [(0, 9, 'B-gpe')]}), ('Helicopter gunships Saturday pounded militant hideouts in the Orakzai tribal region , where many Taliban militants are believed to have fled to avoid an earlier military offensive in nearby South Waziristan ', {'entities': [(20, 28, 'B-tim'), (62, 69, 'B-geo'), (190, 195, 'B-geo'), (97, 104, 'B-org'), (196, 206, 'I-geo')]}), ('The Pakistani military launched its offensive in Orakzai to hunt Taliban insurgents ', {'entities': [(4, 13, 'B-gpe'), (49, 56, 'B-geo'), (65, 72, 'B-org')]}), ('So far , nearly 100 militants have been reported killed in the region since Thursday ', {'entities': [(76, 84, 'B-tim')]}), ('On Friday , five soldiers were killed when dozens of militants stormed a military checkpoint in Orakzai ', {'entities': [(3, 9, 'B-tim'), (96, 103, 'B-geo')]}), ('At least 32 suspected militants were killed when troops launched a counter-attack ', {'entities': []}), ('Elsewhere in the northwest , authorities on Saturday found the bodies of six people who had been shot dead in the Kurram region along the Afghan border ', {'entities': [(44, 52, 'B-tim'), (114, 120, 'B-geo'), (138, 144, 'B-gpe')]}), ('The six were kidnapped a few days ago ', {'entities': []}), ('The U.S. military in Afghanistan says coalition forces killed 14 Taleban militants in separate clashes this week ', {'entities': [(4, 8, 'B-org'), (65, 72, 'B-org'), (21, 32, 'B-geo')]}), ('The military said Saturday 13 guerrillas were killed in two encounters in the central province of Uruzgan ', {'entities': [(18, 26, 'B-tim'), (98, 105, 'B-geo')]}), ('One Afghan soldier was killed and four others , including a U.S. soldier , were injured in the fighting ', {'entities': [(4, 10, 'B-gpe'), (60, 64, 'B-gpe')]}), ('Another militant was killed by U.S. troops in eastern Paktika province ', {'entities': [(31, 35, 'B-gpe'), (54, 61, 'B-geo')]}), ('Separately , officials say four British soldiers from the NATO-led peacekeeping mission were wounded early Saturday in an attack in the northern city of Mazar-e-Sharif ', {'entities': [(32, 39, 'B-gpe'), (107, 115, 'B-tim'), (153, 167, 'B-geo')]}), ('It was not immediately clear what motivated the attack ', {'entities': []}), ('Taleban rebels are not known to operate in northern Afghanistan and the area has been spared much of the bloodshed that has plagued southern and eastern regions ', {'entities': [(0, 7, 'B-org'), (52, 63, 'B-geo')]}), ('Russian officials say at least five more people have died from a wave of extremely cold weather gripping the nation , bringing the death toll to 43 in the past week ', {'entities': [(0, 7, 'B-gpe')]}), ('Emergency medical officials say the five victims died in Moscow from exposure , and another 19 people are hospitalized with hypothermia ', {'entities': [(57, 63, 'B-geo')]}), (\"Russia 's Itar-Tass news agency quotes a medical official as saying some of the victims were intoxicated or homeless \", {'entities': [(0, 6, 'B-geo'), (10, 19, 'B-org')]}), ('The unusually cold weather is affecting Russia , the Baltic states of Lithuania , Latvia and Estonia , and is moving into the Nordic countries ', {'entities': [(40, 46, 'B-geo'), (53, 59, 'B-geo'), (70, 79, 'B-geo'), (82, 88, 'B-geo'), (93, 100, 'B-geo'), (60, 66, 'I-geo')]}), ('The death toll is expected to rise as temperatures continue to hover around minus 30 degrees Celsius or lower overnight ', {'entities': []}), ('Emergency power rationing has been put into effect around Moscow ', {'entities': [(58, 64, 'B-geo')]}), (\"Health officials in Vietnam say a deadly strain of the bird flu virus has killed a second Vietnamese man this week , raising the country 's death toll from the virus to 50 \", {'entities': [(20, 27, 'B-geo'), (90, 100, 'B-gpe')]}), (\"Officials say the 27-year old man from Vietnam 's northern Ninh Binh province died late Thursday and tested positive for the H5N1 strain of bird flu \", {'entities': [(39, 46, 'B-geo'), (59, 63, 'B-gpe'), (64, 68, 'I-gpe'), (88, 96, 'B-tim'), (125, 129, 'B-nat')]}), ('Officials say the man fell ill after slaughtering two chickens at his home ', {'entities': []}), ('He is the third person to die from avian influenza in Vietnam this year ', {'entities': [(54, 61, 'B-geo')]}), ('Not counting the latest death , the World Health Organization says 227 people around the world have died from bird flu since 2003 ', {'entities': [(36, 41, 'B-org'), (42, 48, 'I-org'), (49, 61, 'I-org'), (125, 129, 'B-tim')]}), (\"Most of the world 's cases , 103 , have occurred in Indonesia \", {'entities': [(52, 61, 'B-geo')]}), ('Witnesses in Somalia say insurgents have burned and dragged the bodies of at least two soldiers through the streets of Mogadishu , after a clash between militants and Ethiopian forces killed seven people ', {'entities': [(13, 20, 'B-geo'), (119, 128, 'B-geo'), (167, 176, 'B-gpe')]}), ('The violence erupted Wednesday after insurgents attacked Ethiopian tanks rolling through an insurgent stronghold near the headquarters of the former Defense Ministry in southern Mogadishu ', {'entities': [(21, 30, 'B-tim'), (57, 66, 'B-gpe'), (149, 156, 'B-org'), (157, 165, 'I-org'), (178, 187, 'B-geo')]}), ('Witnesses say the Ethiopian troops returned heavy fire and that several people were wounded in the fighting ', {'entities': [(18, 27, 'B-gpe')]}), ('Ethiopia deployed soldiers to Somalia last December to help the interim government push an Islamist movement from power ', {'entities': [(0, 8, 'B-gpe'), (30, 37, 'B-geo'), (43, 51, 'B-tim')]}), (\"Somalia 's internationally-recognized government has since been struggling to contain regular outbursts of violence by fighters loyal to the fallen Islamist movement \", {'entities': [(0, 7, 'B-gpe'), (148, 156, 'B-org')]}), ('The African Union has deployed troops to Somalia to replace the Ethiopian forces , which Addis Ababa plans to withdraw ', {'entities': [(4, 11, 'B-org'), (12, 17, 'I-org'), (41, 48, 'B-geo'), (64, 73, 'B-gpe'), (89, 94, 'B-gpe'), (95, 100, 'I-gpe')]}), ('Top Palestinian negotiator Ahmed Qureia says Israeli and Palestinian mediators have agreed to prepare a document outlining their progress toward a peace accord ', {'entities': [(4, 15, 'B-gpe'), (45, 52, 'B-gpe'), (27, 32, 'B-per'), (33, 39, 'I-per')]}), ('In remarks to reporters , Qureia said the two sides agreed during recent meetings to begin writing out their positions on all issues discussed during peace negotiations ', {'entities': [(26, 32, 'B-per')]}), ('He did not elaborate on why negotiators had come to the decision ', {'entities': []}), ('Israeli Prime Minister Ehud Olmert and Palestinian President Mahmoud Abbas resumed U.S.-brokered peace talks last November , but progress has been slow ', {'entities': [(0, 7, 'B-gpe'), (39, 50, 'B-gpe'), (8, 13, 'B-per'), (51, 60, 'B-per'), (14, 22, 'I-per'), (23, 27, 'I-per'), (28, 34, 'I-per'), (61, 68, 'I-per'), (69, 74, 'I-per'), (114, 122, 'B-tim')]}), ('The two sides have expressed hope at reaching a peace deal before U.S. President George Bush leaves office early next year ', {'entities': [(66, 70, 'B-gpe'), (71, 80, 'B-per'), (81, 87, 'I-per'), (88, 92, 'I-per')]}), ('But Qureia said Wednesday that reaching a peace agreement with Israel before Mr. Bush leaves office will take a \" miracle ', {'entities': [(4, 10, 'B-per'), (77, 80, 'B-per'), (16, 25, 'B-tim'), (63, 69, 'B-geo'), (81, 85, 'I-per')]}), ('\" He told reporters in the West Bank that there is still room for progress in Israeli-Palestinian negotiations ', {'entities': [(27, 31, 'B-geo'), (32, 36, 'I-geo')]}), (\"The Israeli military says Major General Udi Adam - the head of the army 's Northern Command - has announced his resignation \", {'entities': [(4, 11, 'B-gpe'), (26, 31, 'B-per'), (32, 39, 'I-per'), (40, 43, 'I-per'), (44, 48, 'I-per'), (75, 83, 'B-org'), (84, 91, 'I-org')]}), ('A military statement Wednesday , said General Adam has asked to leave his post \" as soon as possible , \" and the chief of staff has accepted the request to begin the process of his replacement ', {'entities': [(21, 30, 'B-tim'), (38, 45, 'B-per'), (46, 50, 'I-per')]}), ('Adam was widely expected to leave the army after he was pushed aside near the end of the 34-day war against Hezbollah guerrillas in Lebanon ', {'entities': [(0, 4, 'B-per'), (108, 117, 'B-org'), (132, 139, 'B-geo')]}), ('He was replaced by another general as \" coordinator of operations in Lebanon ', {'entities': [(69, 76, 'B-geo')]}), ('\" Israeli media say Adam had several disagreements with the army chief , Lieutenant General Dan Halutz , over the conduct of the war ', {'entities': [(2, 9, 'B-gpe'), (20, 24, 'B-per'), (73, 83, 'B-per'), (84, 91, 'I-per'), (92, 95, 'I-per'), (96, 102, 'I-per')]}), ('A Washington-based research institute says Pakistan is building a nuclear reactor that could produce enough plutonium for 40 to 50 nuclear weapons a year ', {'entities': [(43, 51, 'B-gpe')]}), ('The Institute for Science and International Security reports that satellite photos show a possible construction site for a larger nuclear reactor near the small one in the Khushab district of Punjab province ', {'entities': [(4, 13, 'B-org'), (14, 17, 'I-org'), (18, 25, 'I-org'), (26, 29, 'I-org'), (30, 43, 'I-org'), (44, 52, 'I-org'), (172, 179, 'B-geo'), (192, 198, 'B-geo')]}), ('The report says such a reactor could produce over 200 kilograms of weapons-grade plutonium , good for 40 to 50 nuclear weapons a year ', {'entities': []}), ('According to some media reports , Pakistan is now capable of producing plutonium for just two warheads a year ', {'entities': [(34, 42, 'B-gpe')]}), (\"Pakistan 's Foreign Ministry spokeswoman Tasnim Aslam declined to say whether a new reactor is being constructed , but she said the presence of a nuclear weapons program and facilities at Khushab are well known \", {'entities': [(0, 8, 'B-geo'), (188, 195, 'B-geo'), (12, 19, 'B-org'), (20, 28, 'I-org'), (41, 47, 'B-per'), (48, 53, 'I-per')]}), ('The American Diabetes Association reports the disease is the leading cause of new cases of blindness among adults ', {'entities': [(4, 12, 'B-org'), (13, 21, 'I-org'), (22, 33, 'I-org')]}), ('It is the leading cause of kidney failure ', {'entities': []}), ('The rate of amputation is 10 times higher among those who suffer from the disease ', {'entities': []}), ('Experts say those who learn how to manage the disease early , can live healthier and more normal lives ', {'entities': []}), (\"VOA 's June Soh found camps that provide children with this chronic disease a positive approach to living with diabetes while letting them just be kids \", {'entities': [(0, 3, 'B-org'), (7, 11, 'B-per'), (12, 15, 'I-per')]}), ('Amy Katz Narrates ', {'entities': [(0, 3, 'B-per'), (4, 8, 'I-per')]}), ('Cuba and Panama have said they will restore consular relations , months after Havana broke ties with Panama City for pardoning four men convicted in connection with an assassination attempt against Cuban President Fidel Castro ', {'entities': [(0, 4, 'B-gpe'), (9, 15, 'B-gpe'), (78, 84, 'B-gpe'), (198, 203, 'B-gpe'), (108, 112, 'I-gpe'), (204, 213, 'B-per'), (214, 219, 'I-per'), (220, 226, 'I-per')]}), ('The countries agreed to reopen their consulates , following a meeting Friday between Panamanian President Martin Torrijos and Cuban Vice President Carlos Lage ', {'entities': [(70, 76, 'B-tim'), (85, 95, 'B-gpe'), (126, 131, 'B-gpe'), (96, 105, 'B-per'), (132, 136, 'B-per'), (106, 112, 'I-per'), (113, 121, 'I-per'), (137, 146, 'I-per'), (147, 153, 'I-per'), (154, 158, 'I-per')]}), ('The meeting took place on the sidelines of the Ibero-American Summit in San Jose , Costa Rica , where heads of state were meeting to discuss a candidate to head the Organization of American States and other regional issues ', {'entities': [(72, 75, 'B-geo'), (83, 88, 'B-geo'), (76, 80, 'I-geo'), (89, 93, 'I-geo'), (165, 177, 'B-org'), (178, 180, 'I-org'), (181, 189, 'I-org'), (190, 196, 'I-org')]}), ('Cuba severed ties with Panama in August , hours after Panamanian President Mireya Moscoso , in her final days in office , pardoned the men , preventing their extradition to Cuba ', {'entities': [(0, 4, 'B-gpe'), (23, 29, 'B-gpe'), (54, 64, 'B-gpe'), (33, 39, 'B-tim'), (65, 74, 'B-per'), (75, 81, 'I-per'), (82, 89, 'I-per'), (173, 177, 'B-geo')]}), ('They were convicted of plotting to kill Mr. Castro during the 2000 Ibero-American summit in Panama City ', {'entities': [(40, 43, 'B-per'), (44, 50, 'I-per'), (62, 66, 'B-tim'), (92, 98, 'B-geo'), (99, 103, 'I-geo')]}), ('The Israeli army has killed a Palestinian youth in the northern Gaza Strip and wounded at least three other people ', {'entities': [(4, 11, 'B-gpe'), (30, 41, 'B-gpe'), (64, 68, 'B-geo'), (69, 74, 'I-geo')]}), ('The army says it targeted a man who was collecting a rocket launcher from an area used to fire rockets at Israel recently ', {'entities': [(106, 112, 'B-geo')]}), ('Palestinian medical sources say the Israeli strike killed a teenager ', {'entities': [(0, 11, 'B-gpe'), (36, 43, 'B-gpe')]}), ('The Israeli military began an offensive in Gaza after militants kidnapped an Israeli soldier in June ', {'entities': [(4, 11, 'B-gpe'), (43, 47, 'B-geo'), (96, 100, 'B-tim')]}), ('More than 200 Palestinians have been killed in the offensive ', {'entities': [(14, 26, 'B-gpe')]}), ('On Sunday , Palestinian Prime Minister Ismail Haniyeh said his Hamas-led government will not recognize Israel ', {'entities': [(3, 9, 'B-tim'), (12, 23, 'B-gpe'), (103, 109, 'B-gpe'), (24, 29, 'B-per'), (30, 38, 'I-per'), (39, 45, 'I-per'), (46, 53, 'I-per')]}), ('He said an Arab peace plan for the region is problematic because it requires Palestinians to recognize Israel in exchange for an Israeli pullout from Palestinian territories ', {'entities': [(11, 15, 'B-gpe'), (77, 89, 'B-gpe'), (103, 109, 'B-gpe'), (129, 136, 'B-gpe'), (150, 161, 'B-gpe')]}), ('He spoke after a week of deadly political infighting between Hamas and the rival Fatah party of President Mahmoud Abbas ', {'entities': [(61, 66, 'B-org'), (81, 86, 'B-org'), (96, 105, 'B-per'), (106, 113, 'I-per'), (114, 119, 'I-per')]}), ('U.S. automaker Chrysler has opened a $ 570 million engine plant in northern Mexico ', {'entities': [(0, 4, 'B-geo'), (76, 82, 'B-geo'), (15, 23, 'B-org')]}), (\"During the ceremonial startup of the Saltillo plant Friday , Mexican President Felipe Calderon said Chrysler 's sixth plant in Mexico will create 700 jobs \", {'entities': [(37, 45, 'B-art'), (52, 58, 'B-tim'), (61, 68, 'B-gpe'), (69, 78, 'B-per'), (79, 85, 'I-per'), (86, 94, 'I-per'), (100, 108, 'B-org'), (127, 133, 'B-geo')]}), ('Mr. Calderon said Mexico has become a worldwide leader in the auto industry ', {'entities': [(0, 3, 'B-per'), (4, 12, 'I-per'), (18, 24, 'B-gpe')]}), ('Chrysler plans to build its new fuel-efficient Pentastar V-6 engine for Chrysler , Dodge , Jeep and Ram vehicles ', {'entities': [(0, 8, 'B-org'), (47, 56, 'B-art'), (72, 80, 'B-art'), (83, 88, 'B-art'), (91, 95, 'B-art'), (100, 103, 'B-art'), (57, 60, 'I-art')]}), ('Mexican officials say the new plant will have the capacity to build 4,40,000 engines per year ', {'entities': [(0, 7, 'B-gpe')]}), ('A U.S. jury has found that drug maker Merck is not liable for the heart attack suffered by a man taking its painkiller Vioxx ', {'entities': [(2, 6, 'B-geo'), (38, 43, 'B-org'), (119, 124, 'B-art')]}), ('The New Jersey jurists agreed with Merck that job stress and health risks caused the 60-year old postal worker to have a heart attack four years ago ', {'entities': [(4, 7, 'B-geo'), (8, 14, 'I-geo'), (35, 40, 'B-org')]}), ('The plaintiff argued Vioxx was responsible ', {'entities': [(21, 26, 'B-org')]}), (\"The jury also rejected the man 's claim that Merck failed to properly warn users about the drug 's risks \", {'entities': [(45, 50, 'B-org')]}), ('Merck withdrew the popular drug last year after a study showed it doubled the risk of heart problems in long-term users ', {'entities': [(0, 5, 'B-org')]}), ('Merck is facing thousands of other lawsuits over Vioxx ', {'entities': [(0, 5, 'B-org'), (49, 54, 'B-art')]}), (\"Thursday 's verdict is only the second in a Vioxx case \", {'entities': [(0, 8, 'B-tim'), (44, 49, 'B-art')]}), ('In the first , Merck was ordered to pay millions of dollars to the widow of a Vioxx user ', {'entities': [(15, 20, 'B-org'), (78, 83, 'B-art')]}), ('Merck is appealing that decision ', {'entities': [(0, 5, 'B-org')]}), ('The rumors are TRUE : Nicole Ritchie is pregnant ', {'entities': [(22, 28, 'B-per'), (29, 36, 'I-per')]}), (\"Speaking to ABC News interviewer Dianne Sawyer , the 25-year-old co-star of TV 's The Simple Life said she is almost four months along in her pregnancy \", {'entities': [(12, 15, 'B-org'), (16, 20, 'I-org'), (33, 39, 'B-per'), (40, 46, 'I-per'), (82, 85, 'B-art'), (86, 92, 'I-art'), (93, 97, 'I-art')]}), ('She said the father is her boyfriend , Joel Madden of the rock band Good Charlotte ', {'entities': [(39, 43, 'B-per'), (44, 50, 'I-per'), (68, 72, 'B-org'), (73, 82, 'I-org')]}), ('Ritchie also spoke about her guilty plea last week to driving under the influence and the resulting four-day jail sentence ', {'entities': [(0, 7, 'B-per')]}), ('\" I have a responsibility and it \\'s something that I did wrong , and if I could personally apologize to every single person that has lost a loved one from drunk driving , I would , \" she said ', {'entities': []}), ('\" And unfortunately I ca n\\'t , but this is my way of paying my dues and taking responsibility and being an adult ', {'entities': []}), ('\" The interview airs August 2 and 3 on Good Morning America , and later August 3 on 20/20 ', {'entities': [(21, 27, 'B-tim'), (34, 35, 'B-tim'), (28, 29, 'I-tim'), (79, 80, 'I-tim'), (39, 43, 'B-art'), (84, 89, 'B-art'), (44, 51, 'I-art'), (52, 59, 'I-art')]}), ('U.S. Senator John Warner of the southeastern state of Virginia , a prominent Republican figure in the debate over the war in Iraq , says he will retire after finishing his term in 2009 ', {'entities': [(0, 4, 'B-gpe'), (5, 12, 'B-per'), (13, 17, 'I-per'), (18, 24, 'I-per'), (54, 62, 'B-geo'), (125, 129, 'B-geo'), (180, 184, 'B-tim')]}), ('Warner told supporters outside of the University of Virginia Friday that he will not seek a sixth term in the 2008 elections ', {'entities': [(0, 6, 'B-per'), (38, 48, 'B-org'), (49, 51, 'I-org'), (52, 60, 'I-org'), (61, 67, 'B-tim'), (110, 114, 'B-tim')]}), (\"The former chairman of the powerful Senate Armed Services Committee has openly criticized President Bush 's handling of the war in Iraq \", {'entities': [(36, 42, 'B-org'), (43, 48, 'I-org'), (49, 57, 'I-org'), (58, 67, 'I-org'), (90, 99, 'B-per'), (100, 104, 'I-per'), (131, 135, 'B-geo')]}), ('He called on Mr. Bush earlier this month to begin withdrawing some U.S. troops from Iraq ', {'entities': [(13, 16, 'B-per'), (17, 21, 'I-per'), (67, 71, 'B-gpe'), (84, 88, 'B-geo')]}), ('His retirement will leave open what would have been a relatively safe seat for Republicans in the fight for Senate control in the elections ', {'entities': [(108, 114, 'B-org')]}), ('Democrats will now have a better chance to protect or expand their one-seat majority in the Senate ', {'entities': [(92, 98, 'B-org')]}), ('When he leaves office , the 80-year-old former Navy secretary will have served 30 years as a U.S. senator ', {'entities': [(47, 51, 'B-org'), (93, 97, 'B-gpe')]}), (\"The United Nations says December 's Indian Ocean tsunami caused around $ 520 million in damage to fishing industries in seven of the worst hit countries \", {'entities': [(4, 10, 'B-org'), (11, 18, 'I-org'), (24, 32, 'B-tim'), (36, 42, 'B-geo'), (43, 48, 'I-geo')]}), (\"The U.N. 's Food and Agricultural Organization ( FAO ) said the tsunami destroyed or damaged more than 1,11,000 fishing vessels in the region \", {'entities': [(4, 8, 'B-org'), (12, 16, 'B-org'), (49, 52, 'B-org'), (17, 20, 'I-org'), (21, 33, 'I-org'), (34, 46, 'I-org')]}), ('It said the loss was significant in a region where fishing provides a vital source of food ', {'entities': []}), (\"The FAO 's estimate includes damage to fishing industries in Indonesia , Maldives , Somalia , Sri Lanka and Thailand \", {'entities': [(4, 7, 'B-org'), (61, 70, 'B-geo'), (73, 81, 'B-geo'), (84, 91, 'B-geo'), (94, 97, 'B-geo'), (108, 116, 'B-geo'), (98, 103, 'I-geo')]}), ('The agency says it has sent experts to help rebuild fishing industry infrastructure lost in the disaster and is developing strategies for long-term recovery in the region ', {'entities': []}), (\"Officials in Indonesia say another person has died from bird flu , bringing the country 's death toll from the disease to 96 since the outbreak started in 2003 \", {'entities': [(13, 22, 'B-geo'), (155, 159, 'B-tim')]}), ('The latest victim was a 16-year-old girl from the town of Bekasi , on the eastern outskirts of Jakarta ', {'entities': [(58, 64, 'B-geo'), (95, 102, 'B-geo')]}), ('Officials say she died Tuesday ', {'entities': [(23, 30, 'B-tim')]}), ('Monday , officials reported that a 32-year-old woman from an area just west of Jakarta died of bird flu last week , at her home in the city of Tangerang ', {'entities': [(0, 6, 'B-tim'), (79, 86, 'B-geo'), (143, 152, 'B-geo')]}), (\"A statement from the health ministry said the woman 's family kept chickens in their backyard \", {'entities': []}), ('Humans are usually infected with bird flu by direct contact with infected poultry , but experts fear the H5N1 virus may mutate into a form easily transmitted between people ', {'entities': [(105, 109, 'B-nat')]}), ('Scientists fear such a mutation could spark a global pandemic with a potential death toll of millions ', {'entities': []}), (\"Thailand says it has photo evidence to prove its claim that Islamic militants responsible for violence in Thailand 's Muslim-majority south are training in neighboring Malaysia \", {'entities': [(0, 8, 'B-gpe'), (60, 67, 'B-org'), (106, 114, 'B-geo'), (168, 176, 'B-geo')]}), (\"Thai Deputy Interior Minister Sutham Saengprathum says the photos show the militants training in Malaysia 's northern Kelantan state , which borders southern Thailand \", {'entities': [(0, 4, 'B-gpe'), (5, 11, 'B-per'), (12, 20, 'I-per'), (21, 29, 'I-per'), (30, 36, 'I-per'), (37, 49, 'I-per'), (97, 105, 'B-geo'), (118, 126, 'B-geo'), (158, 166, 'B-geo')]}), ('He said if Malaysia wants to see the photos , Bangkok will provide them ', {'entities': [(11, 19, 'B-gpe'), (46, 53, 'B-gpe')]}), ('Thai Prime Minister Thaksin Shinawatra has said he believes some of the insurgents have been trained in Malaysia , Indonesia and southern Thailand ', {'entities': [(0, 4, 'B-gpe'), (5, 10, 'B-per'), (11, 19, 'I-per'), (20, 27, 'I-per'), (28, 38, 'I-per'), (104, 112, 'B-geo'), (115, 124, 'B-geo'), (138, 146, 'B-geo')]}), (\"Malaysia and Indonesia have demanded proof of Bangkok 's allegations \", {'entities': [(0, 8, 'B-gpe'), (13, 22, 'B-gpe'), (46, 53, 'B-gpe')]}), ('More than 500 people have been killed this year in an insurgency that some say is supported by extremist Muslims in Indonesia and Malaysia ', {'entities': [(105, 112, 'B-org'), (116, 125, 'B-geo'), (130, 138, 'B-geo')]}), ('Anti-Japanese protests in the western Chinese city of Shanghai turned violent Saturday , with protesters pelting the Japanese consulate with rocks , bottles and eggs ', {'entities': [(38, 45, 'B-gpe'), (117, 125, 'B-gpe'), (54, 62, 'B-geo'), (78, 86, 'B-tim')]}), (\"Several thousand people took to the streets of Shanghai as part of a new wave of anti-Japanese protests over Japan 's bid for a permanent seat on the U.N. Security Council and Tokyo 's alleged downplaying of war atrocities \", {'entities': [(47, 55, 'B-geo'), (109, 114, 'B-gpe'), (176, 181, 'B-gpe'), (150, 154, 'B-org'), (155, 163, 'I-org'), (164, 171, 'I-org')]}), ('In Beijing , police are out in force waiting for protests to begin in the capital ', {'entities': [(3, 10, 'B-geo')]}), (\"State Councilor Tang Jiaxuan told the official Xinhua news agency that China 's government is urging people to protest in a calm and orderly manner \", {'entities': [(0, 5, 'B-per'), (6, 15, 'I-per'), (16, 20, 'I-per'), (21, 28, 'I-per'), (47, 53, 'B-org'), (71, 76, 'B-gpe')]}), (\"Japan 's Foreign Minister , Nobutaka Machimura , arrives Sunday in Beijing for talks with his Chinese counterpart , Li Zhaoxing , to discuss relations between the two countries \", {'entities': [(0, 5, 'B-geo'), (67, 74, 'B-geo'), (9, 16, 'B-per'), (28, 36, 'B-per'), (116, 118, 'B-per'), (17, 25, 'I-per'), (37, 46, 'I-per'), (119, 127, 'I-per'), (57, 63, 'B-tim'), (94, 101, 'B-gpe')]}), ('Organizers of the 2012 Summer Olympics in London have promised the \" greenest games \" in history and sought to soothe concerns about the rising cost of the event ', {'entities': [(18, 22, 'B-eve'), (23, 29, 'I-eve'), (30, 38, 'I-eve'), (42, 48, 'B-geo')]}), ('With 2012 days to go until the Games get under way , organizers said the design would champion low waste , low carbon emissions and environmentally friendly transportation ', {'entities': [(31, 36, 'B-eve')]}), ('The Olympic Delivery Authority has promised to cut emissions 50 percent by generating energy on site and using renewable energy ', {'entities': [(4, 11, 'B-org'), (12, 20, 'I-org'), (21, 30, 'I-org')]}), ('Prime Minister Tony Blair said London is farther ahead in preparations at this stage than any other previous Olympic host city ', {'entities': [(0, 5, 'B-per'), (6, 14, 'I-per'), (15, 19, 'I-per'), (20, 25, 'I-per'), (31, 37, 'B-gpe')]}), ('The British government wants to have the Olympic budget finalized early this year , but costs have already risen substantially since London won the bid in July of 2005 ', {'entities': [(4, 11, 'B-gpe'), (133, 139, 'B-gpe'), (155, 159, 'B-tim'), (160, 162, 'I-tim'), (163, 167, 'I-tim')]}), (\"A select committee report due Wednesday is expected to be highly critical of the government 's financing of the Games \", {'entities': [(30, 39, 'B-tim'), (112, 117, 'B-eve')]}), (\"China 's giant pandas have been on endangered species lists for nearly 30 years \", {'entities': [(0, 5, 'B-geo')]}), ('There are only about 1600 pandas still living in the wild in China ', {'entities': [(61, 66, 'B-geo')]}), ('One of the 2008 Olympic mascots is modeled on a panda called Jing Jing ', {'entities': [(11, 15, 'B-eve'), (16, 23, 'I-eve'), (61, 65, 'B-nat'), (66, 70, 'I-nat')]}), (\"Conservationists hope she will help draw attention to the threats facing the giant panda -- one of China 's national symbols \", {'entities': [(99, 104, 'B-gpe')]}), (\"Sam Beattie reports from Jing Jing 's home in Sichuan province \", {'entities': [(0, 3, 'B-per'), (4, 11, 'I-per'), (25, 29, 'B-nat'), (30, 34, 'I-nat'), (46, 53, 'B-geo')]}), ('British defense officials say 14 British military personnel have been killed in a crash of a NATO aircraft in southern Afghanistan ', {'entities': [(0, 7, 'B-gpe'), (93, 97, 'B-org'), (119, 130, 'B-geo')]}), ('A NATO spokesman says the aircraft went off the radar and crashed in an open area near Kandahar Saturday ', {'entities': [(2, 6, 'B-org'), (87, 95, 'B-geo'), (96, 104, 'B-tim')]}), (\"Officials say the aircraft was supporting a NATO mission in the country 's south , but there is no indication of enemy action causing the crash \", {'entities': [(44, 48, 'B-org')]}), ('The crash comes as NATO forces launched an offensive to drive Taleban remnants out of Kandahar ', {'entities': [(19, 23, 'B-org'), (62, 69, 'B-org'), (86, 94, 'B-geo')]}), ('Officials say \" Operation Medusa \" is aimed at removing the Taleban threat so that stability , reconstruction and development can be achieved in the area ', {'entities': [(16, 25, 'B-eve'), (26, 32, 'I-eve'), (60, 67, 'B-org')]}), ('Sri Lankan authorities say a prominent Tamil journalist was found shot dead Friday in Colombo , hours after he was abducted by several attackers as he left a restaurant ', {'entities': [(0, 3, 'B-geo'), (86, 93, 'B-geo'), (4, 10, 'B-gpe'), (39, 44, 'B-org'), (76, 82, 'B-tim')]}), (\"Dharmeratnam Sivaram was a board member of the pro-rebel TamilNet Web site and a columnist for Sri Lanka 's english newspaper , the Daily Mirror \", {'entities': [(0, 12, 'B-per'), (13, 20, 'I-per'), (57, 65, 'B-org'), (66, 69, 'B-art'), (108, 115, 'B-art'), (132, 137, 'B-art'), (95, 98, 'B-gpe'), (99, 104, 'I-gpe'), (138, 144, 'I-art')]}), (\"Mr. Sivaram 's Web site became popular for ongoing reports on the Sri Lankan civil war and was a prominent supporter of the Tamil Tiger rebel movement \", {'entities': [(0, 3, 'B-per'), (4, 11, 'I-per'), (15, 18, 'B-art'), (66, 69, 'B-org'), (124, 129, 'B-org'), (70, 76, 'B-geo'), (130, 135, 'I-org')]}), ('Mr. Sivaram , who was also brutally attacked in 2001 , was found near a lake gagged with gunshot wounds to the head ', {'entities': [(0, 3, 'B-per'), (4, 11, 'I-per'), (48, 52, 'B-tim')]}), ('No one claimed responsibility for the killing ', {'entities': []}), ('Japan and North Korea say they are considering a resumption of bilateral talks as part of efforts to normalize relations ', {'entities': [(0, 5, 'B-gpe'), (10, 15, 'B-gpe'), (16, 21, 'I-gpe')]}), ('Japanese media reported Monday that the two countries hope to arrange to hold the talks in Beijing in early November ', {'entities': [(0, 8, 'B-gpe'), (24, 30, 'B-tim'), (108, 116, 'B-tim'), (91, 98, 'B-geo')]}), (\"The talks could come before six-party talks on North Korea 's nuclear ambitions resume \", {'entities': [(47, 52, 'B-gpe'), (53, 58, 'I-gpe')]}), ('Japan and North Korea have not had formal bilateral talks for about a year ', {'entities': [(0, 5, 'B-gpe'), (10, 15, 'B-gpe'), (16, 21, 'I-gpe')]}), (\"Tokyo and Pyongyang are at odds over North Korea 's nuclear weapons program and the North 's kidnapping of Japanese citizens in the 1970s and 1980s \", {'entities': [(0, 5, 'B-gpe'), (10, 19, 'B-gpe'), (37, 42, 'B-gpe'), (107, 115, 'B-gpe'), (43, 48, 'I-gpe'), (132, 137, 'B-tim'), (142, 147, 'B-tim')]}), ('A human rights group has accused coalition forces in Iraq of failing to secure evidence considered vital to the upcoming war crimes trial of former Iraqi leader Saddam Hussein ', {'entities': [(53, 57, 'B-geo'), (148, 153, 'B-gpe'), (161, 167, 'B-per'), (168, 175, 'I-per')]}), ('Human Rights Watch , in a report released Thursday , said coalition forces failed to stop people from stealing thousands of Iraqi government documents in the months after the 2003 invasion of Iraq ', {'entities': [(0, 5, 'B-org'), (6, 12, 'I-org'), (13, 18, 'I-org'), (42, 50, 'B-tim'), (175, 179, 'B-tim'), (124, 129, 'B-gpe'), (192, 196, 'B-geo')]}), ('The group also accused troops of failing to stop people from damaging several mass graves in the war-torn country ', {'entities': []}), ('The Associated Press quotes a U.S. Defense Department spokeswoman as saying it has not reviewed the report ', {'entities': [(4, 14, 'B-org'), (35, 42, 'B-org'), (15, 20, 'I-org'), (43, 53, 'I-org'), (30, 34, 'B-gpe')]}), ('Saddam Hussein was arraigned in July at a U.S. military base on the outskirts of Baghdad ', {'entities': [(0, 6, 'B-per'), (7, 14, 'I-per'), (32, 36, 'B-tim'), (42, 46, 'B-gpe'), (81, 88, 'B-geo')]}), ('He faces charges of war crimes , genocide and crimes against humanity ', {'entities': []}), (\"Egypt 's government and the World Health Organization say three Egyptian children have been hospitalized with the deadly form of avian flu \", {'entities': [(0, 5, 'B-gpe'), (64, 72, 'B-gpe'), (28, 33, 'B-org'), (34, 40, 'I-org'), (41, 53, 'I-org')]}), ('The children come from different parts of the country ', {'entities': []}), ('WHO says they are receiving treatment and are in stable condition ', {'entities': [(0, 3, 'B-org')]}), ('The organization says the children had a history of contact with dead birds ', {'entities': []}), ('Thirty two Egyptians have contracted the H5N1 form of avian flu ', {'entities': [(11, 20, 'B-gpe'), (41, 45, 'B-nat')]}), ('Thirteen of them have died ', {'entities': []}), ('Egypt has had the largest number of human bird flu cases outside of Asia ', {'entities': [(0, 5, 'B-geo'), (68, 72, 'B-geo')]}), ('The head of the U.N. investigation into the Iraq oil-for-food program says Saddam Hussein illegally obtained more money from oil smuggling than from corruption in the U.N. program ', {'entities': [(16, 20, 'B-org'), (44, 48, 'B-gpe'), (75, 81, 'B-per'), (82, 89, 'I-per')]}), ('Former U.S. Federal Reserve Chairman Paul Volcker says the smuggling began before the start of the oil-for-food program , and was known to the United Nations Security Council ', {'entities': [(7, 11, 'B-gpe'), (12, 19, 'B-org'), (143, 149, 'B-org'), (20, 27, 'I-org'), (150, 157, 'I-org'), (158, 166, 'I-org'), (167, 174, 'I-org'), (28, 36, 'B-per'), (37, 41, 'I-per'), (42, 49, 'I-per')]}), ('In an interview with the U.S. government-funded alHurra television station , Mr. Volcker said there is a lot of confusion about how much money Saddam obtained from the oil-for-food program itself ', {'entities': [(25, 29, 'B-gpe'), (30, 47, 'B-org'), (48, 55, 'B-art'), (77, 80, 'B-per'), (143, 149, 'B-per'), (81, 88, 'I-per')]})]\n"
     ]
    }
   ],
   "source": [
    "# Convert json file to spaCy format.\n",
    "\n",
    "def json_to_spacy(input_file=None, output_file=None):\n",
    "    try:\n",
    "        training_data = []\n",
    "        lines=[]\n",
    "        with open(input_file, 'r') as f:\n",
    "            lines = f.readlines()\n",
    "\n",
    "        for line in lines:\n",
    "            data = json.loads(line)\n",
    "            text = data['content']\n",
    "            entities = []\n",
    "            for annotation in data['annotation']:\n",
    "                point = annotation['points'][0]\n",
    "                labels = annotation['label']\n",
    "                if not isinstance(labels, list):\n",
    "                    labels = [labels]\n",
    "\n",
    "                for label in labels:\n",
    "                    entities.append((point['start'], point['end'] + 1 ,label))\n",
    "\n",
    "\n",
    "            training_data.append((text, {\"entities\" : entities}))\n",
    "\n",
    "        print(training_data)\n",
    "\n",
    "        with open(output_file, 'wb') as fp:\n",
    "            cloudpickle.dump(training_data, fp)\n",
    "\n",
    "    except Exception as e:\n",
    "        logging.exception(\"Unable to process \" + input_file + \"\\n\" + \"error = \" + str(e))\n",
    "        return None\n",
    "    \n",
    "input_file=\"spacy/spacy.json\"\n",
    "output_file=\"spacy/traindata.json\"  \n",
    "\n",
    "json_to_spacy(input_file,output_file)"
   ]
  },
  {
   "cell_type": "markdown",
   "metadata": {},
   "source": [
    "# New entity label"
   ]
  },
  {
   "cell_type": "code",
   "execution_count": 4,
   "metadata": {},
   "outputs": [],
   "source": [
    "# New entity labels\n",
    "# Specify the new entity labels which you want to add here\n",
    "LABEL = ['I-geo', 'B-geo', 'I-art', 'B-art', 'B-tim', 'B-nat', 'B-eve', 'O', 'I-per', 'I-tim', \n",
    "         'I-nat', 'I-eve', 'B-per', 'I-org', 'B-gpe', 'B-org', 'I-gpe']\n"
   ]
  },
  {
   "cell_type": "markdown",
   "metadata": {},
   "source": [
    "# Loading training data"
   ]
  },
  {
   "cell_type": "code",
   "execution_count": 5,
   "metadata": {},
   "outputs": [],
   "source": [
    "with open (\"spacy/traindata.json\", 'rb') as fp:\n",
    "    TRAIN_DATA = cloudpickle.load(fp)"
   ]
  },
  {
   "cell_type": "markdown",
   "metadata": {},
   "source": [
    "# Creating model"
   ]
  },
  {
   "cell_type": "code",
   "execution_count": 6,
   "metadata": {},
   "outputs": [],
   "source": [
    "def create_model(model=None):\n",
    "    \"\"\"Setting up the pipeline and entity recognizer, and training the new entity.\"\"\"\n",
    "    if model is not None:\n",
    "        nlp = spacy.load(model)  # load existing spacy model\n",
    "        print(\"Loaded model '%s'\" % model)\n",
    "    else:\n",
    "        nlp = spacy.blank('en')  # create blank Language class\n",
    "        print(\"Created blank 'en' model\")\n",
    "    if 'ner' not in nlp.pipe_names:\n",
    "        ner = nlp.create_pipe('ner')\n",
    "        nlp.add_pipe(ner)\n",
    "    else:\n",
    "        ner = nlp.get_pipe('ner')\n",
    "\n",
    "    for i in LABEL:\n",
    "        ner.add_label(i)   # Add new entity labels to entity recognizer\n",
    "\n",
    "    if model is None:\n",
    "        optimizer = nlp.begin_training()\n",
    "    else:\n",
    "        optimizer = nlp.entity.create_optimizer()\n",
    "    return nlp,optimizer    "
   ]
  },
  {
   "cell_type": "code",
   "execution_count": 8,
   "metadata": {},
   "outputs": [
    {
     "name": "stdout",
     "output_type": "stream",
     "text": [
      "Collecting en_core_web_sm==2.2.0\n",
      "\u001b[?25l  Downloading https://github.com/explosion/spacy-models/releases/download/en_core_web_sm-2.2.0/en_core_web_sm-2.2.0.tar.gz (12.0MB)\n",
      "\u001b[K     |████████████████████████████████| 12.0MB 1.2MB/s eta 0:00:01     |██████████████████████████▉     | 10.1MB 8.3MB/s eta 0:00:01\n",
      "\u001b[?25hRequirement already satisfied: spacy>=2.2.0 in /home/pcadmin/Desktop/project/AILogistics/mosaic-ai-client/env/lib/python3.6/site-packages (from en_core_web_sm==2.2.0) (2.2.1)\n",
      "Requirement already satisfied: blis<0.5.0,>=0.4.0 in /home/pcadmin/Desktop/project/AILogistics/mosaic-ai-client/env/lib/python3.6/site-packages (from spacy>=2.2.0->en_core_web_sm==2.2.0) (0.4.1)\n",
      "Requirement already satisfied: requests<3.0.0,>=2.13.0 in /home/pcadmin/Desktop/project/AILogistics/mosaic-ai-client/env/lib/python3.6/site-packages (from spacy>=2.2.0->en_core_web_sm==2.2.0) (2.22.0)\n",
      "Requirement already satisfied: preshed<3.1.0,>=3.0.2 in /home/pcadmin/Desktop/project/AILogistics/mosaic-ai-client/env/lib/python3.6/site-packages (from spacy>=2.2.0->en_core_web_sm==2.2.0) (3.0.2)\n",
      "Requirement already satisfied: thinc<7.2.0,>=7.1.1 in /home/pcadmin/Desktop/project/AILogistics/mosaic-ai-client/env/lib/python3.6/site-packages (from spacy>=2.2.0->en_core_web_sm==2.2.0) (7.1.1)\n",
      "Requirement already satisfied: plac<1.0.0,>=0.9.6 in /home/pcadmin/Desktop/project/AILogistics/mosaic-ai-client/env/lib/python3.6/site-packages (from spacy>=2.2.0->en_core_web_sm==2.2.0) (0.9.6)\n",
      "Requirement already satisfied: srsly<1.1.0,>=0.1.0 in /home/pcadmin/Desktop/project/AILogistics/mosaic-ai-client/env/lib/python3.6/site-packages (from spacy>=2.2.0->en_core_web_sm==2.2.0) (0.2.0)\n",
      "Requirement already satisfied: wasabi<1.1.0,>=0.2.0 in /home/pcadmin/Desktop/project/AILogistics/mosaic-ai-client/env/lib/python3.6/site-packages (from spacy>=2.2.0->en_core_web_sm==2.2.0) (0.4.0)\n",
      "Requirement already satisfied: cymem<2.1.0,>=2.0.2 in /home/pcadmin/Desktop/project/AILogistics/mosaic-ai-client/env/lib/python3.6/site-packages (from spacy>=2.2.0->en_core_web_sm==2.2.0) (2.0.2)\n",
      "Requirement already satisfied: numpy>=1.15.0 in /home/pcadmin/Desktop/project/AILogistics/mosaic-ai-client/env/lib/python3.6/site-packages (from spacy>=2.2.0->en_core_web_sm==2.2.0) (1.17.0)\n",
      "Requirement already satisfied: murmurhash<1.1.0,>=0.28.0 in /home/pcadmin/Desktop/project/AILogistics/mosaic-ai-client/env/lib/python3.6/site-packages (from spacy>=2.2.0->en_core_web_sm==2.2.0) (1.0.2)\n",
      "Requirement already satisfied: idna<2.9,>=2.5 in /home/pcadmin/Desktop/project/AILogistics/mosaic-ai-client/env/lib/python3.6/site-packages (from requests<3.0.0,>=2.13.0->spacy>=2.2.0->en_core_web_sm==2.2.0) (2.8)\n",
      "Requirement already satisfied: chardet<3.1.0,>=3.0.2 in /home/pcadmin/Desktop/project/AILogistics/mosaic-ai-client/env/lib/python3.6/site-packages (from requests<3.0.0,>=2.13.0->spacy>=2.2.0->en_core_web_sm==2.2.0) (3.0.4)\n",
      "Requirement already satisfied: certifi>=2017.4.17 in /home/pcadmin/Desktop/project/AILogistics/mosaic-ai-client/env/lib/python3.6/site-packages (from requests<3.0.0,>=2.13.0->spacy>=2.2.0->en_core_web_sm==2.2.0) (2019.9.11)\n",
      "Requirement already satisfied: urllib3!=1.25.0,!=1.25.1,<1.26,>=1.21.1 in /home/pcadmin/Desktop/project/AILogistics/mosaic-ai-client/env/lib/python3.6/site-packages (from requests<3.0.0,>=2.13.0->spacy>=2.2.0->en_core_web_sm==2.2.0) (1.25.6)\n",
      "Requirement already satisfied: tqdm<5.0.0,>=4.10.0 in /home/pcadmin/Desktop/project/AILogistics/mosaic-ai-client/env/lib/python3.6/site-packages (from thinc<7.2.0,>=7.1.1->spacy>=2.2.0->en_core_web_sm==2.2.0) (4.37.0)\n",
      "Building wheels for collected packages: en-core-web-sm\n",
      "  Building wheel for en-core-web-sm (setup.py) ... \u001b[?25ldone\n",
      "\u001b[?25h  Created wheel for en-core-web-sm: filename=en_core_web_sm-2.2.0-cp36-none-any.whl size=12019124 sha256=957f3dfe538b40ca2b1434f7f40ecdb47417b7b67256c1e9977c37fda213206a\n",
      "  Stored in directory: /tmp/pip-ephem-wheel-cache-i4212unk/wheels/48/5c/1c/15f9d02afc8221a668d2172446dd8467b20cdb9aef80a172a4\n",
      "Successfully built en-core-web-sm\n",
      "Installing collected packages: en-core-web-sm\n",
      "Successfully installed en-core-web-sm-2.2.0\n",
      "\u001b[38;5;2m✔ Download and installation successful\u001b[0m\n",
      "You can now load the model via spacy.load('en_core_web_sm')\n",
      "\u001b[38;5;2m✔ Linking successful\u001b[0m\n",
      "/home/pcadmin/Desktop/project/AILogistics/mosaic-ai-client/env/lib/python3.6/site-packages/en_core_web_sm\n",
      "-->\n",
      "/home/pcadmin/Desktop/project/AILogistics/mosaic-ai-client/env/lib/python3.6/site-packages/spacy/data/en\n",
      "You can now load the model via spacy.load('en')\n"
     ]
    }
   ],
   "source": [
    "# download model\n",
    "! python -m spacy download en"
   ]
  },
  {
   "cell_type": "code",
   "execution_count": 9,
   "metadata": {},
   "outputs": [],
   "source": [
    "# for models other then english we have to donload the model and then link it\n",
    "#!python -m spacy link fr_core_news_sm fr"
   ]
  },
  {
   "cell_type": "code",
   "execution_count": 10,
   "metadata": {},
   "outputs": [
    {
     "name": "stdout",
     "output_type": "stream",
     "text": [
      "Loaded model 'en'\n"
     ]
    }
   ],
   "source": [
    "nlp,optimizer=create_model(model=\"en\")"
   ]
  },
  {
   "cell_type": "markdown",
   "metadata": {},
   "source": [
    "# Train the model"
   ]
  },
  {
   "cell_type": "code",
   "execution_count": 11,
   "metadata": {},
   "outputs": [
    {
     "name": "stdout",
     "output_type": "stream",
     "text": [
      "0 Losses {'ner': 4125.500686168671}\n",
      "1 Losses {'ner': 3338.1041989326477}\n",
      "2 Losses {'ner': 3022.024684906006}\n",
      "3 Losses {'ner': 2817.759494781494}\n",
      "4 Losses {'ner': 2849.693374633789}\n",
      "5 Losses {'ner': 3115.110846042633}\n",
      "6 Losses {'ner': 3265.4912400245667}\n",
      "7 Losses {'ner': 3342.6642713546753}\n",
      "8 Losses {'ner': 3412.3434829711914}\n",
      "9 Losses {'ner': 3191.7587518692017}\n",
      "10 Losses {'ner': 3096.8059997558594}\n",
      "11 Losses {'ner': 3197.781873703003}\n",
      "12 Losses {'ner': 3099.5258235931396}\n",
      "13 Losses {'ner': 3138.420846939087}\n",
      "14 Losses {'ner': 3046.1580834388733}\n",
      "15 Losses {'ner': 3039.970220565796}\n",
      "16 Losses {'ner': 3042.918041229248}\n",
      "17 Losses {'ner': 3078.621211051941}\n",
      "18 Losses {'ner': 3032.7487239837646}\n",
      "19 Losses {'ner': 2919.697310447693}\n",
      "20 Losses {'ner': 2970.0690956115723}\n",
      "21 Losses {'ner': 2929.069356918335}\n",
      "22 Losses {'ner': 2918.2553033828735}\n",
      "23 Losses {'ner': 2859.6253757476807}\n",
      "24 Losses {'ner': 3031.8664956092834}\n",
      "25 Losses {'ner': 2901.8711433410645}\n",
      "26 Losses {'ner': 2898.8430671691895}\n",
      "27 Losses {'ner': 2953.058662414551}\n",
      "28 Losses {'ner': 2880.6244688034058}\n",
      "29 Losses {'ner': 2909.501887321472}\n",
      "30 Losses {'ner': 2824.0849347114563}\n",
      "31 Losses {'ner': 2820.904308319092}\n",
      "32 Losses {'ner': 2830.0293493270874}\n",
      "33 Losses {'ner': 2855.4557514190674}\n",
      "34 Losses {'ner': 2887.0660676956177}\n",
      "35 Losses {'ner': 2839.8975648880005}\n",
      "36 Losses {'ner': 2920.11692237854}\n",
      "37 Losses {'ner': 2803.748522758484}\n",
      "38 Losses {'ner': 2771.402889251709}\n",
      "39 Losses {'ner': 2845.703639984131}\n",
      "40 Losses {'ner': 2789.2170577049255}\n",
      "41 Losses {'ner': 2781.876480102539}\n",
      "42 Losses {'ner': 2772.207534790039}\n",
      "43 Losses {'ner': 2878.0425968170166}\n",
      "44 Losses {'ner': 2846.1308851242065}\n",
      "45 Losses {'ner': 2895.018379211426}\n",
      "46 Losses {'ner': 2821.360134124756}\n",
      "47 Losses {'ner': 2890.529070854187}\n",
      "48 Losses {'ner': 2747.824987888336}\n",
      "49 Losses {'ner': 2807.678062438965}\n",
      "50 Losses {'ner': 2793.275161743164}\n",
      "51 Losses {'ner': 2936.5523080825806}\n",
      "52 Losses {'ner': 2766.8267755508423}\n",
      "53 Losses {'ner': 2792.598825454712}\n",
      "54 Losses {'ner': 2752.6058945655823}\n",
      "55 Losses {'ner': 2811.384962081909}\n",
      "56 Losses {'ner': 2850.2861285209656}\n",
      "57 Losses {'ner': 2815.4762649536133}\n",
      "58 Losses {'ner': 2755.5012283325195}\n",
      "59 Losses {'ner': 2799.2613763809204}\n",
      "60 Losses {'ner': 2729.551483154297}\n",
      "61 Losses {'ner': 2686.857321739197}\n",
      "62 Losses {'ner': 2780.8566284179688}\n",
      "63 Losses {'ner': 2702.331440925598}\n",
      "64 Losses {'ner': 2784.82474899292}\n",
      "65 Losses {'ner': 2762.0920429229736}\n",
      "66 Losses {'ner': 2822.605178833008}\n",
      "67 Losses {'ner': 2779.566764831543}\n",
      "68 Losses {'ner': 2828.1471395492554}\n",
      "69 Losses {'ner': 2694.425148010254}\n",
      "70 Losses {'ner': 2734.19527053833}\n",
      "71 Losses {'ner': 2744.851046562195}\n",
      "72 Losses {'ner': 2806.7458386421204}\n",
      "73 Losses {'ner': 2821.96466255188}\n",
      "74 Losses {'ner': 2722.340229034424}\n",
      "75 Losses {'ner': 2802.763578414917}\n",
      "76 Losses {'ner': 2769.9268836975098}\n",
      "77 Losses {'ner': 2709.521906852722}\n",
      "78 Losses {'ner': 2770.946545600891}\n",
      "79 Losses {'ner': 2842.8180198669434}\n",
      "80 Losses {'ner': 2781.111336708069}\n",
      "81 Losses {'ner': 2661.322726249695}\n",
      "82 Losses {'ner': 2762.364119529724}\n",
      "83 Losses {'ner': 2828.384528160095}\n",
      "84 Losses {'ner': 2760.3062858581543}\n",
      "85 Losses {'ner': 2730.1222429275513}\n",
      "86 Losses {'ner': 2805.15038561821}\n",
      "87 Losses {'ner': 2758.3209252357483}\n",
      "88 Losses {'ner': 2810.178451538086}\n",
      "89 Losses {'ner': 2757.9819021224976}\n",
      "90 Losses {'ner': 2756.5822381973267}\n",
      "91 Losses {'ner': 2760.609874725342}\n",
      "92 Losses {'ner': 2720.4610662460327}\n",
      "93 Losses {'ner': 2724.4943046569824}\n",
      "94 Losses {'ner': 2786.5599040985107}\n",
      "95 Losses {'ner': 2766.3691482543945}\n",
      "96 Losses {'ner': 2715.638538837433}\n",
      "97 Losses {'ner': 2761.609705924988}\n",
      "98 Losses {'ner': 2730.5707302093506}\n",
      "99 Losses {'ner': 2733.3019514083862}\n"
     ]
    }
   ],
   "source": [
    "# Get names of other pipes to disable them during training to train only NER\n",
    "n_iter=100\n",
    "other_pipes = [pipe for pipe in nlp.pipe_names if pipe != 'ner']\n",
    "with nlp.disable_pipes(*other_pipes):  # only train NER\n",
    "    for itn in range(n_iter):\n",
    "        random.shuffle(TRAIN_DATA)\n",
    "        losses = {}\n",
    "        batches = minibatch(TRAIN_DATA, size=50)\n",
    "        for batch in batches:\n",
    "            texts, annotations = zip(*batch)\n",
    "            nlp.update(texts, annotations, sgd=optimizer, drop=0.35,\n",
    "                        losses=losses)\n",
    "        print(itn,'Losses', losses)\n",
    "\n"
   ]
  },
  {
   "cell_type": "markdown",
   "metadata": {},
   "source": [
    "# Test the model on test data"
   ]
  },
  {
   "cell_type": "code",
   "execution_count": 12,
   "metadata": {},
   "outputs": [
    {
     "name": "stdout",
     "output_type": "stream",
     "text": [
      "Entities in 'Gianni Infantino is the president of FIFA.'\n",
      "B-org Gianni\n",
      "I-org Infantino\n",
      "B-org FIFA\n"
     ]
    }
   ],
   "source": [
    "test_text = 'Gianni Infantino is the president of FIFA.'\n",
    "doc = nlp(test_text)\n",
    "print(\"Entities in '%s'\" % test_text)\n",
    "for ent in doc.ents:\n",
    "    print(ent.label_, ent.text)"
   ]
  },
  {
   "cell_type": "markdown",
   "metadata": {},
   "source": [
    "# Define scoring function "
   ]
  },
  {
   "cell_type": "code",
   "execution_count": 13,
   "metadata": {},
   "outputs": [],
   "source": [
    "def score(model, request):\n",
    "    payload = request.json[\"payload\"]\n",
    "    doc = nlp(payload)\n",
    "    prediction={}\n",
    "    for ent in doc.ents:\n",
    "        prediction[ent.label_] = ent.text\n",
    "    return prediction    \n",
    "    "
   ]
  },
  {
   "cell_type": "markdown",
   "metadata": {},
   "source": [
    "# creating payload to test scoring function"
   ]
  },
  {
   "cell_type": "code",
   "execution_count": 14,
   "metadata": {},
   "outputs": [
    {
     "data": {
      "text/plain": [
       "{'B-per': 'Narendra', 'I-per': 'Modi'}"
      ]
     },
     "execution_count": 14,
     "metadata": {},
     "output_type": "execute_result"
    }
   ],
   "source": [
    "import requests\n",
    "req = requests.Request()\n",
    "req.json = {\"payload\":\"I am Narendra Modi\"}\n",
    "score(nlp,req)"
   ]
  },
  {
   "cell_type": "markdown",
   "metadata": {},
   "source": [
    "# Registering the NLP with mosaic"
   ]
  },
  {
   "cell_type": "code",
   "execution_count": 16,
   "metadata": {},
   "outputs": [
    {
     "data": {
      "text/plain": [
       "{'created_by': 'akhil.lawrence',\n",
       " 'created_on': '2019-11-04T11:27:15+00:00',\n",
       " 'description': 'nlp using spacy',\n",
       " 'flavour': 'spacy',\n",
       " 'id': 'b2831372-18b1-4878-8e49-a023232afefc',\n",
       " 'init_script': '',\n",
       " 'last_modified_by': 'akhil.lawrence',\n",
       " 'last_modified_on': '2019-11-04T11:27:15+00:00',\n",
       " 'name': 'spacy_test6',\n",
       " 'project_id': '1',\n",
       " 'versions': [{'created_by': 'akhil.lawrence',\n",
       "   'created_on': '2019-11-04T11:27:16+00:00',\n",
       "   'deployments': [],\n",
       "   'description': None,\n",
       "   'id': '50972500-f8d4-4404-a74c-cff98e7b6a4e',\n",
       "   'last_modified_by': 'akhil.lawrence',\n",
       "   'last_modified_on': '2019-11-04T11:27:24+00:00',\n",
       "   'metadata_info': None,\n",
       "   'ml_model_id': 'b2831372-18b1-4878-8e49-a023232afefc',\n",
       "   'object_url': 'b2831372-18b1-4878-8e49-a023232afefc/50972500-f8d4-4404-a74c-cff98e7b6a4e/ml_model.tar.gz',\n",
       "   'profiling': [],\n",
       "   'schema': None}]}"
      ]
     },
     "execution_count": 16,
     "metadata": {},
     "output_type": "execute_result"
    }
   ],
   "source": [
    "register_model(nlp, score, \"spacy_test6\", \"nlp using spacy\", MLModelFlavours.spacy)"
   ]
  },
  {
   "cell_type": "markdown",
   "metadata": {},
   "source": [
    "# Load registered model back from mosaic"
   ]
  },
  {
   "cell_type": "code",
   "execution_count": 14,
   "metadata": {},
   "outputs": [
    {
     "data": {
      "text/plain": [
       "(<spacy.lang.en.English at 0x7fb5344c9e80>,\n",
       " <function __main__.score(model, request)>)"
      ]
     },
     "execution_count": 14,
     "metadata": {},
     "output_type": "execute_result"
    }
   ],
   "source": [
    "load_model(\"d2288cd9-8ca8-480d-982d-599cf0e41eae\", \"cce596df-f7e8-44aa-a59c-d965c5256651\")"
   ]
  }
 ],
 "metadata": {
  "kernelspec": {
   "display_name": "Python 3",
   "language": "python",
   "name": "python3"
  },
  "language_info": {
   "codemirror_mode": {
    "name": "ipython",
    "version": 3
   },
   "file_extension": ".py",
   "mimetype": "text/x-python",
   "name": "python",
   "nbconvert_exporter": "python",
   "pygments_lexer": "ipython3",
   "version": "3.6.2"
  }
 },
 "nbformat": 4,
 "nbformat_minor": 2
}
