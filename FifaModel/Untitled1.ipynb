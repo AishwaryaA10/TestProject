{
 "cells": [
  {
   "cell_type": "code",
   "execution_count": null,
   "id": "77dea4c8-c8e1-47d4-91da-72587a3e3782",
   "metadata": {},
   "outputs": [],
   "source": [
    "print(\"auto commit\")"
   ]
  },
  {
   "cell_type": "code",
   "execution_count": null,
   "id": "1cf5a093-f4b8-4883-bebd-a11aa68d863d",
   "metadata": {},
   "outputs": [],
   "source": [
    "print(\"manual commit\")"
   ]
  }
 ],
 "metadata": {
  "kernelspec": {
   "display_name": "Python 3",
   "language": "python",
   "name": "python3"
  },
  "language_info": {
   "codemirror_mode": {
    "name": "ipython",
    "version": 3
   },
   "file_extension": ".py",
   "mimetype": "text/x-python",
   "name": "python",
   "nbconvert_exporter": "python",
   "pygments_lexer": "ipython3",
   "version": "3.7.12"
  }
 },
 "nbformat": 4,
 "nbformat_minor": 5
}
