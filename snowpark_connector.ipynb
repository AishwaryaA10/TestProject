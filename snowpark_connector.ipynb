{
 "cells": [
  {
   "cell_type": "code",
   "execution_count": 2,
   "id": "fe676d2d",
   "metadata": {
    "scrolled": true
   },
   "outputs": [],
   "source": [
    "# !pip install scikit-learn\n",
    "# !pip install plotly\n",
    "# !pip install matplotlib\n",
    "# !pip install pyarrow==8.0.0\n",
    "# !pip install refractml "
   ]
  },
  {
   "cell_type": "code",
   "execution_count": 1,
   "id": "228294cf",
   "metadata": {},
   "outputs": [
    {
     "name": "stderr",
     "output_type": "stream",
     "text": [
      "/opt/conda/lib/python3.8/site-packages/snowflake/connector/vendored/requests/__init__.py:109: RequestsDependencyWarning: urllib3 (1.26.10) or chardet (None)/charset_normalizer (3.1.0) doesn't match a supported version!\n",
      "  warnings.warn(\n",
      "/opt/conda/lib/python3.8/site-packages/_distutils_hack/__init__.py:33: UserWarning: Setuptools is replacing distutils.\n",
      "  warnings.warn(\"Setuptools is replacing distutils.\")\n"
     ]
    }
   ],
   "source": [
    "import os\n",
    "from snowflake.snowpark.session import Session\n",
    "import configparser\n",
    "import pandas as pd\n",
    "import snowflake.snowpark.types as T\n",
    "import snowflake.snowpark.functions as F\n",
    "import pandas as pd\n",
    "from sklearn.model_selection import train_test_split\n",
    "import joblib\n",
    "import matplotlib.pyplot as plt\n",
    "from sklearn.metrics import accuracy_score,classification_report,confusion_matrix,confusion_matrix, f1_score\n",
    "from refractml import *\n",
    "from refractml.constants import MLModelFlavours\n",
    "import numpy as np\n",
    "from joblib import load, dump\n",
    "%matplotlib inline\n",
    "import inspect\n",
    "from sklearn.model_selection import train_test_split, GridSearchCV\n",
    "from sklearn.ensemble import RandomForestClassifier, RandomForestRegressor\n",
    "from sklearn.compose import ColumnTransformer\n",
    "from sklearn.preprocessing import StandardScaler, OneHotEncoder\n",
    "from sklearn.impute import SimpleImputer\n",
    "from sklearn.pipeline import Pipeline\n",
    "from sklearn.metrics import confusion_matrix, classification_report\n",
    "from tqdm.auto import tqdm"
   ]
  },
  {
   "cell_type": "markdown",
   "id": "8ca65396",
   "metadata": {},
   "source": [
    "# Connecting to Snowflake"
   ]
  },
  {
   "cell_type": "code",
   "execution_count": 2,
   "id": "0f7d94f4",
   "metadata": {},
   "outputs": [
    {
     "name": "stdout",
     "output_type": "stream",
     "text": [
      "connection successful!\n"
     ]
    }
   ],
   "source": [
    "config = configparser.ConfigParser()\n",
    "config.read(\"snowflake_connection.ini\")\n",
    "\n",
    "connection_parameters = {\n",
    "    \"user\": f'{config[\"Snowflake\"][\"user\"]}',\n",
    "    \"password\": f'{config[\"Snowflake\"][\"password\"]}',\n",
    "    \"account\": f'{config[\"Snowflake\"][\"account\"]}',\n",
    "    \"WAREHOUSE\": f'{config[\"Snowflake\"][\"WAREHOUSE\"]}',\n",
    "    \"DATABASE\": f'{config[\"Snowflake\"][\"DATABASE\"]}',\n",
    "    \"SCHEMA\": f'{config[\"Snowflake\"][\"SCHEMA\"]}'\n",
    "}\n",
    "\n",
    "def snowflake_connector(conn):\n",
    "    try:\n",
    "        session = Session.builder.configs(conn).create()\n",
    "        print(\"connection successful!\")\n",
    "    except:\n",
    "        raise ValueError(\"error while connecting with db\")\n",
    "    return session\n",
    "\n",
    "session = snowflake_connector(connection_parameters)\n",
    "\n",
    "# code to write data to snowflake table\n",
    "# df = pd.read_csv(\"/data/employees_data.csv\")\n",
    "# df.columns = map(str.upper, df.columns)\n",
    "# session.write_pandas(df, table_name=\"ATTRITION\", auto_create_table=True)"
   ]
  },
  {
   "cell_type": "code",
   "execution_count": 7,
   "id": "f2e3e1c1",
   "metadata": {},
   "outputs": [],
   "source": [
    "table_name = 'ATTRITION'\n",
    "df = session.table(f'{table_name}').to_pandas()"
   ]
  },
  {
   "cell_type": "code",
   "execution_count": 11,
   "id": "2c577f39",
   "metadata": {},
   "outputs": [
    {
     "data": {
      "text/html": [
       "<div>\n",
       "<style scoped>\n",
       "    .dataframe tbody tr th:only-of-type {\n",
       "        vertical-align: middle;\n",
       "    }\n",
       "\n",
       "    .dataframe tbody tr th {\n",
       "        vertical-align: top;\n",
       "    }\n",
       "\n",
       "    .dataframe thead th {\n",
       "        text-align: right;\n",
       "    }\n",
       "</style>\n",
       "<table border=\"1\" class=\"dataframe\">\n",
       "  <thead>\n",
       "    <tr style=\"text-align: right;\">\n",
       "      <th></th>\n",
       "      <th>SALARY</th>\n",
       "      <th>SENIORITY</th>\n",
       "      <th>TENURE_MONTHS</th>\n",
       "      <th>MONTHS_AFTER_COLLEGE</th>\n",
       "      <th>BIRTH_YEAR</th>\n",
       "      <th>MAPPED_ROLE_CLEAN</th>\n",
       "      <th>SEX</th>\n",
       "      <th>ETHNICITY</th>\n",
       "      <th>HOSPITAL_TYPE</th>\n",
       "      <th>HOSPITAL_OWNERSHIP</th>\n",
       "      <th>COMPANY_NAME</th>\n",
       "      <th>CITY_STATE</th>\n",
       "      <th>DISTANCE</th>\n",
       "      <th>DEGREE_CLEAN</th>\n",
       "      <th>SCHOOL_ENDDATE</th>\n",
       "      <th>JOB_STARTDATE</th>\n",
       "      <th>JOB_ENDDATE</th>\n",
       "      <th>USER_ID</th>\n",
       "      <th>OVERTIME_HOURS</th>\n",
       "      <th>CHURN</th>\n",
       "    </tr>\n",
       "  </thead>\n",
       "  <tbody>\n",
       "    <tr>\n",
       "      <th>0</th>\n",
       "      <td>37806.933</td>\n",
       "      <td>1</td>\n",
       "      <td>88</td>\n",
       "      <td>3</td>\n",
       "      <td>1983</td>\n",
       "      <td>social</td>\n",
       "      <td>F</td>\n",
       "      <td>White</td>\n",
       "      <td>Psychiatric</td>\n",
       "      <td>Voluntary non-profit - Private</td>\n",
       "      <td>Adventist Health System Sunbelt Healthcare Corp.</td>\n",
       "      <td>Orlando, FL</td>\n",
       "      <td>&lt;2mi</td>\n",
       "      <td>Masters_Degree</td>\n",
       "      <td>2008-01-31</td>\n",
       "      <td>2008-04-01</td>\n",
       "      <td>2015-10-01</td>\n",
       "      <td>870835513</td>\n",
       "      <td>14</td>\n",
       "      <td>False</td>\n",
       "    </tr>\n",
       "    <tr>\n",
       "      <th>1</th>\n",
       "      <td>39922.660</td>\n",
       "      <td>1</td>\n",
       "      <td>7</td>\n",
       "      <td>13</td>\n",
       "      <td>1995</td>\n",
       "      <td>nurse</td>\n",
       "      <td>F</td>\n",
       "      <td>White</td>\n",
       "      <td>Acute Care Hospitals</td>\n",
       "      <td>Proprietary</td>\n",
       "      <td>Tenet Healthcare Corp.</td>\n",
       "      <td>Modesto, CA</td>\n",
       "      <td>&lt;2mi</td>\n",
       "      <td>Bachelors_Degree</td>\n",
       "      <td>2020-01-01</td>\n",
       "      <td>2021-02-01</td>\n",
       "      <td>2021-10-01</td>\n",
       "      <td>18255040</td>\n",
       "      <td>10</td>\n",
       "      <td>True</td>\n",
       "    </tr>\n",
       "    <tr>\n",
       "      <th>2</th>\n",
       "      <td>29633.849</td>\n",
       "      <td>1</td>\n",
       "      <td>25</td>\n",
       "      <td>11</td>\n",
       "      <td>1991</td>\n",
       "      <td>nurse</td>\n",
       "      <td>F</td>\n",
       "      <td>White</td>\n",
       "      <td>Acute Care Hospitals</td>\n",
       "      <td>Voluntary non-profit - Church</td>\n",
       "      <td>Mayo Clinic</td>\n",
       "      <td>Rochester, MN</td>\n",
       "      <td>&lt;2mi</td>\n",
       "      <td>Other</td>\n",
       "      <td>2015-01-01</td>\n",
       "      <td>2015-12-01</td>\n",
       "      <td>None</td>\n",
       "      <td>813877070</td>\n",
       "      <td>3</td>\n",
       "      <td>False</td>\n",
       "    </tr>\n",
       "  </tbody>\n",
       "</table>\n",
       "</div>"
      ],
      "text/plain": [
       "      SALARY  SENIORITY  TENURE_MONTHS  MONTHS_AFTER_COLLEGE  BIRTH_YEAR  \\\n",
       "0  37806.933          1             88                     3        1983   \n",
       "1  39922.660          1              7                    13        1995   \n",
       "2  29633.849          1             25                    11        1991   \n",
       "\n",
       "  MAPPED_ROLE_CLEAN SEX ETHNICITY         HOSPITAL_TYPE  \\\n",
       "0            social   F     White           Psychiatric   \n",
       "1             nurse   F     White  Acute Care Hospitals   \n",
       "2             nurse   F     White  Acute Care Hospitals   \n",
       "\n",
       "               HOSPITAL_OWNERSHIP  \\\n",
       "0  Voluntary non-profit - Private   \n",
       "1                     Proprietary   \n",
       "2   Voluntary non-profit - Church   \n",
       "\n",
       "                                       COMPANY_NAME     CITY_STATE DISTANCE  \\\n",
       "0  Adventist Health System Sunbelt Healthcare Corp.    Orlando, FL     <2mi   \n",
       "1                            Tenet Healthcare Corp.    Modesto, CA     <2mi   \n",
       "2                                       Mayo Clinic  Rochester, MN     <2mi   \n",
       "\n",
       "       DEGREE_CLEAN SCHOOL_ENDDATE JOB_STARTDATE JOB_ENDDATE    USER_ID  \\\n",
       "0    Masters_Degree     2008-01-31    2008-04-01  2015-10-01  870835513   \n",
       "1  Bachelors_Degree     2020-01-01    2021-02-01  2021-10-01   18255040   \n",
       "2             Other     2015-01-01    2015-12-01        None  813877070   \n",
       "\n",
       "   OVERTIME_HOURS  CHURN  \n",
       "0              14  False  \n",
       "1              10   True  \n",
       "2               3  False  "
      ]
     },
     "execution_count": 11,
     "metadata": {},
     "output_type": "execute_result"
    }
   ],
   "source": [
    "df.head(3)"
   ]
  },
  {
   "cell_type": "code",
   "execution_count": null,
   "id": "ba6c3d7d",
   "metadata": {},
   "outputs": [],
   "source": [
    "departments = df[[\"USER_ID\",\"MAPPED_ROLE_CLEAN\",\"HOSPITAL_TYPE\", \"HOSPITAL_OWNERSHIP\",\"COMPANY_NAME\"]]\n",
    "roster = df[[\"USER_ID\",\"JOB_STARTDATE\",\"JOB_ENDDATE\"]]\n",
    "compensation = df[[\"USER_ID\",\"SALARY\"]]\n",
    "tenure = df[[\"USER_ID\",\"TENURE_MONTHS\", \"MONTHS_AFTER_COLLEGE\"]]\n",
    "empolyee_master = df[[\"USER_ID\", \"\"]]\n"
   ]
  },
  {
   "cell_type": "markdown",
   "id": "3c361b43",
   "metadata": {},
   "source": [
    "# Stage Creation"
   ]
  },
  {
   "cell_type": "code",
   "execution_count": 4,
   "id": "a4a85620",
   "metadata": {},
   "outputs": [
    {
     "name": "stdout",
     "output_type": "stream",
     "text": [
      "-------------------------------------------------\n",
      "|\"status\"                                       |\n",
      "-------------------------------------------------\n",
      "|Stage area ML_MODELS_HR successfully created.  |\n",
      "-------------------------------------------------\n",
      "\n"
     ]
    }
   ],
   "source": [
    "#create the stage for storing the ML models\n",
    "session.sql('CREATE OR REPLACE STAGE ML_MODELS_HR').show()"
   ]
  },
  {
   "cell_type": "markdown",
   "id": "7e030ee2",
   "metadata": {},
   "source": [
    "# Model Training"
   ]
  },
  {
   "cell_type": "markdown",
   "id": "cd0e82ec",
   "metadata": {},
   "source": [
    "SENDING PYTHON TRAINING FILE TO SNOWFLAKE STAGE"
   ]
  },
  {
   "cell_type": "code",
   "execution_count": 5,
   "id": "ffe2c67f",
   "metadata": {},
   "outputs": [
    {
     "data": {
      "text/plain": [
       "[PutResult(source='train_model_sp.py', target='train_model_sp.py', source_size=7266, target_size=7280, source_compression='NONE', target_compression='NONE', status='UPLOADED', message='')]"
      ]
     },
     "execution_count": 5,
     "metadata": {},
     "output_type": "execute_result"
    }
   ],
   "source": [
    "f_path = 'train_model_sp.py'\n",
    "ml_stage = 'ML_MODELS_HR'\n",
    "experiment_name = 'HR_CHURN_V2'\n",
    "session.file.put(f_path, f'@{ml_stage}/{experiment_name}', auto_compress=False, overwrite=True)"
   ]
  },
  {
   "cell_type": "markdown",
   "id": "be182733",
   "metadata": {},
   "source": [
    "REGISTRING THE PYTHON TRAINING FILE AS SPROC"
   ]
  },
  {
   "cell_type": "code",
   "execution_count": 6,
   "id": "4c2a9041",
   "metadata": {},
   "outputs": [
    {
     "data": {
      "text/plain": [
       "[Row(status='Function TRAIN_MODEL_SP successfully created.')]"
      ]
     },
     "execution_count": 6,
     "metadata": {},
     "output_type": "execute_result"
    }
   ],
   "source": [
    "sproc_name = 'train_model_sp'\n",
    "sql = f'''\n",
    "    create or replace procedure train_model_sp(\n",
    "        table_name varchar, \n",
    "        target_col varchar,\n",
    "        excluded_cols array,\n",
    "        experiment_name varchar, \n",
    "        stage varchar)\n",
    "    returns variant\n",
    "    language python\n",
    "    runtime_version = '3.8'\n",
    "    packages = ('snowflake-snowpark-python' ,'pandas', 'numpy', 'scikit-learn')\n",
    "    imports = ('@{ml_stage}/{experiment_name}/{sproc_name}.py')\n",
    "    handler = '{sproc_name}.main'\n",
    "    ;\n",
    "'''\n",
    "session.sql(sql).collect()"
   ]
  },
  {
   "cell_type": "markdown",
   "id": "17fd3f11",
   "metadata": {},
   "source": [
    "EXECUTING THE TRAINING SPROC THROUGH SNOWPARK SQL"
   ]
  },
  {
   "cell_type": "code",
   "execution_count": 7,
   "id": "e47ec6d5",
   "metadata": {
    "scrolled": true
   },
   "outputs": [
    {
     "name": "stdout",
     "output_type": "stream",
     "text": [
      "{\n",
      "  \"f1-score\": {\n",
      "    \"False\": 0.8319672131147541,\n",
      "    \"True\": 0.7657142857142858,\n",
      "    \"accuracy\": 0.8042959427207638,\n",
      "    \"macro avg\": 0.79884074941452,\n",
      "    \"weighted avg\": 0.8083280421210309\n",
      "  },\n",
      "  \"precision\": {\n",
      "    \"False\": 0.9290617848970252,\n",
      "    \"True\": 0.6683291770573566,\n",
      "    \"accuracy\": 0.8042959427207638,\n",
      "    \"macro avg\": 0.7986954809771909,\n",
      "    \"weighted avg\": 0.8360318926010099\n",
      "  },\n",
      "  \"recall\": {\n",
      "    \"False\": 0.7532467532467533,\n",
      "    \"True\": 0.8963210702341137,\n",
      "    \"accuracy\": 0.8042959427207638,\n",
      "    \"macro avg\": 0.8247839117404334,\n",
      "    \"weighted avg\": 0.8042959427207638\n",
      "  },\n",
      "  \"support\": {\n",
      "    \"False\": 539,\n",
      "    \"True\": 299,\n",
      "    \"accuracy\": 0.8042959427207638,\n",
      "    \"macro avg\": 838,\n",
      "    \"weighted avg\": 838\n",
      "  }\n",
      "}\n"
     ]
    }
   ],
   "source": [
    "ml_stage = 'ML_MODELS_HR'\n",
    "experiment_name = 'HR_CHURN_V2'\n",
    "target_col = 'CHURN'\n",
    "table_name = \"ATTRITION\"\n",
    "excluded_cols = [\"USER_ID\", \"JOB_STARTDATE\", \"JOB_ENDDATE\", \"SCHOOL_ENDDATE\"]\n",
    "sql = f'''\n",
    "    CALL train_model_sp(\n",
    "        '{table_name}',\n",
    "        '{target_col}',\n",
    "        PARSE_JSON('{str(excluded_cols).replace(\"'\", '\"')}'),\n",
    "        '{experiment_name}',\n",
    "        '{ml_stage}'\n",
    "    )\n",
    "'''\n",
    "\n",
    "\n",
    "train_results = pd.DataFrame(session.sql(sql).collect())['TRAIN_MODEL_SP'][0]\n",
    "print(train_results)"
   ]
  },
  {
   "cell_type": "markdown",
   "id": "2849beaa",
   "metadata": {},
   "source": [
    "DOWNLOADING FILES BACK TO REFRACT"
   ]
  },
  {
   "cell_type": "code",
   "execution_count": 6,
   "id": "6063ad3f",
   "metadata": {},
   "outputs": [
    {
     "data": {
      "application/vnd.jupyter.widget-view+json": {
       "model_id": "cb3966316abb43698f3fa32e3a8bce0a",
       "version_major": 2,
       "version_minor": 0
      },
      "text/plain": [
       "  0%|          | 0/10 [00:00<?, ?it/s]"
      ]
     },
     "metadata": {},
     "output_type": "display_data"
    }
   ],
   "source": [
    "# Downloading files to local storages\n",
    "local_directory = 'snowflake_files'\n",
    "files = ['ml_pipeline.joblib', 'X.csv', 'X_test.csv', 'X_train.csv', 'clf_report.csv', 'cnf_matrix.csv',\n",
    "         'feature_importances.csv', 'y.csv', 'y_test.csv', 'y_train.csv']\n",
    "\n",
    "os.makedirs(local_directory, exist_ok=True)\n",
    "for file in tqdm(files):\n",
    "    session.file.get(f'@{ml_stage}/{experiment_name}/{file}', local_directory)\n",
    "\n",
    "# Load artifacts\n",
    "model = joblib.load(f'{local_directory}/ml_pipeline.joblib')"
   ]
  },
  {
   "cell_type": "code",
   "execution_count": 9,
   "id": "78e86220",
   "metadata": {},
   "outputs": [
    {
     "data": {
      "text/html": [
       "<style>#sk-container-id-1 {color: black;background-color: white;}#sk-container-id-1 pre{padding: 0;}#sk-container-id-1 div.sk-toggleable {background-color: white;}#sk-container-id-1 label.sk-toggleable__label {cursor: pointer;display: block;width: 100%;margin-bottom: 0;padding: 0.3em;box-sizing: border-box;text-align: center;}#sk-container-id-1 label.sk-toggleable__label-arrow:before {content: \"▸\";float: left;margin-right: 0.25em;color: #696969;}#sk-container-id-1 label.sk-toggleable__label-arrow:hover:before {color: black;}#sk-container-id-1 div.sk-estimator:hover label.sk-toggleable__label-arrow:before {color: black;}#sk-container-id-1 div.sk-toggleable__content {max-height: 0;max-width: 0;overflow: hidden;text-align: left;background-color: #f0f8ff;}#sk-container-id-1 div.sk-toggleable__content pre {margin: 0.2em;color: black;border-radius: 0.25em;background-color: #f0f8ff;}#sk-container-id-1 input.sk-toggleable__control:checked~div.sk-toggleable__content {max-height: 200px;max-width: 100%;overflow: auto;}#sk-container-id-1 input.sk-toggleable__control:checked~label.sk-toggleable__label-arrow:before {content: \"▾\";}#sk-container-id-1 div.sk-estimator input.sk-toggleable__control:checked~label.sk-toggleable__label {background-color: #d4ebff;}#sk-container-id-1 div.sk-label input.sk-toggleable__control:checked~label.sk-toggleable__label {background-color: #d4ebff;}#sk-container-id-1 input.sk-hidden--visually {border: 0;clip: rect(1px 1px 1px 1px);clip: rect(1px, 1px, 1px, 1px);height: 1px;margin: -1px;overflow: hidden;padding: 0;position: absolute;width: 1px;}#sk-container-id-1 div.sk-estimator {font-family: monospace;background-color: #f0f8ff;border: 1px dotted black;border-radius: 0.25em;box-sizing: border-box;margin-bottom: 0.5em;}#sk-container-id-1 div.sk-estimator:hover {background-color: #d4ebff;}#sk-container-id-1 div.sk-parallel-item::after {content: \"\";width: 100%;border-bottom: 1px solid gray;flex-grow: 1;}#sk-container-id-1 div.sk-label:hover label.sk-toggleable__label {background-color: #d4ebff;}#sk-container-id-1 div.sk-serial::before {content: \"\";position: absolute;border-left: 1px solid gray;box-sizing: border-box;top: 0;bottom: 0;left: 50%;z-index: 0;}#sk-container-id-1 div.sk-serial {display: flex;flex-direction: column;align-items: center;background-color: white;padding-right: 0.2em;padding-left: 0.2em;position: relative;}#sk-container-id-1 div.sk-item {position: relative;z-index: 1;}#sk-container-id-1 div.sk-parallel {display: flex;align-items: stretch;justify-content: center;background-color: white;position: relative;}#sk-container-id-1 div.sk-item::before, #sk-container-id-1 div.sk-parallel-item::before {content: \"\";position: absolute;border-left: 1px solid gray;box-sizing: border-box;top: 0;bottom: 0;left: 50%;z-index: -1;}#sk-container-id-1 div.sk-parallel-item {display: flex;flex-direction: column;z-index: 1;position: relative;background-color: white;}#sk-container-id-1 div.sk-parallel-item:first-child::after {align-self: flex-end;width: 50%;}#sk-container-id-1 div.sk-parallel-item:last-child::after {align-self: flex-start;width: 50%;}#sk-container-id-1 div.sk-parallel-item:only-child::after {width: 0;}#sk-container-id-1 div.sk-dashed-wrapped {border: 1px dashed gray;margin: 0 0.4em 0.5em 0.4em;box-sizing: border-box;padding-bottom: 0.4em;background-color: white;}#sk-container-id-1 div.sk-label label {font-family: monospace;font-weight: bold;display: inline-block;line-height: 1.2em;}#sk-container-id-1 div.sk-label-container {text-align: center;}#sk-container-id-1 div.sk-container {/* jupyter's `normalize.less` sets `[hidden] { display: none; }` but bootstrap.min.css set `[hidden] { display: none !important; }` so we also need the `!important` here to be able to override the default hidden behavior on the sphinx rendered scikit-learn.org. See: https://github.com/scikit-learn/scikit-learn/issues/21755 */display: inline-block !important;position: relative;}#sk-container-id-1 div.sk-text-repr-fallback {display: none;}</style><div id=\"sk-container-id-1\" class=\"sk-top-container\"><div class=\"sk-text-repr-fallback\"><pre>GridSearchCV(cv=3,\n",
       "             estimator=Pipeline(steps=[(&#x27;preprocessor&#x27;,\n",
       "                                        ColumnTransformer(transformers=[(&#x27;num&#x27;,\n",
       "                                                                         Pipeline(steps=[(&#x27;imputer&#x27;,\n",
       "                                                                                          SimpleImputer(strategy=&#x27;median&#x27;)),\n",
       "                                                                                         (&#x27;scaler&#x27;,\n",
       "                                                                                          StandardScaler())]),\n",
       "                                                                         [&#x27;SALARY&#x27;,\n",
       "                                                                          &#x27;SENIORITY&#x27;,\n",
       "                                                                          &#x27;TENURE_MONTHS&#x27;,\n",
       "                                                                          &#x27;MONTHS_AFTER_COLLEGE&#x27;,\n",
       "                                                                          &#x27;BIRTH_YEAR&#x27;,\n",
       "                                                                          &#x27;OVERTIME_HOURS&#x27;]),\n",
       "                                                                        (&#x27;cat&#x27;,\n",
       "                                                                         Pipeline(steps=[(&#x27;imputer&#x27;,\n",
       "                                                                                          SimpleImputer(fill_value=&#x27;missing...\n",
       "                                                                         [&#x27;MAPPED_ROLE_CLEAN&#x27;,\n",
       "                                                                          &#x27;SEX&#x27;,\n",
       "                                                                          &#x27;ETHNICITY&#x27;,\n",
       "                                                                          &#x27;HOSPITAL_TYPE&#x27;,\n",
       "                                                                          &#x27;HOSPITAL_OWNERSHIP&#x27;,\n",
       "                                                                          &#x27;COMPANY_NAME&#x27;,\n",
       "                                                                          &#x27;CITY_STATE&#x27;,\n",
       "                                                                          &#x27;DISTANCE&#x27;,\n",
       "                                                                          &#x27;DEGREE_CLEAN&#x27;])])),\n",
       "                                       (&#x27;classifier&#x27;,\n",
       "                                        RandomForestClassifier(class_weight=&#x27;balanced_subsample&#x27;,\n",
       "                                                               n_estimators=10,\n",
       "                                                               random_state=123))]),\n",
       "             param_grid={&#x27;classifier__criterion&#x27;: [&#x27;gini&#x27;],\n",
       "                         &#x27;classifier__max_depth&#x27;: [4],\n",
       "                         &#x27;classifier__n_estimators&#x27;: [100]},\n",
       "             scoring=&#x27;f1_micro&#x27;)</pre><b>In a Jupyter environment, please rerun this cell to show the HTML representation or trust the notebook. <br />On GitHub, the HTML representation is unable to render, please try loading this page with nbviewer.org.</b></div><div class=\"sk-container\" hidden><div class=\"sk-item sk-dashed-wrapped\"><div class=\"sk-label-container\"><div class=\"sk-label sk-toggleable\"><input class=\"sk-toggleable__control sk-hidden--visually\" id=\"sk-estimator-id-1\" type=\"checkbox\" ><label for=\"sk-estimator-id-1\" class=\"sk-toggleable__label sk-toggleable__label-arrow\">GridSearchCV</label><div class=\"sk-toggleable__content\"><pre>GridSearchCV(cv=3,\n",
       "             estimator=Pipeline(steps=[(&#x27;preprocessor&#x27;,\n",
       "                                        ColumnTransformer(transformers=[(&#x27;num&#x27;,\n",
       "                                                                         Pipeline(steps=[(&#x27;imputer&#x27;,\n",
       "                                                                                          SimpleImputer(strategy=&#x27;median&#x27;)),\n",
       "                                                                                         (&#x27;scaler&#x27;,\n",
       "                                                                                          StandardScaler())]),\n",
       "                                                                         [&#x27;SALARY&#x27;,\n",
       "                                                                          &#x27;SENIORITY&#x27;,\n",
       "                                                                          &#x27;TENURE_MONTHS&#x27;,\n",
       "                                                                          &#x27;MONTHS_AFTER_COLLEGE&#x27;,\n",
       "                                                                          &#x27;BIRTH_YEAR&#x27;,\n",
       "                                                                          &#x27;OVERTIME_HOURS&#x27;]),\n",
       "                                                                        (&#x27;cat&#x27;,\n",
       "                                                                         Pipeline(steps=[(&#x27;imputer&#x27;,\n",
       "                                                                                          SimpleImputer(fill_value=&#x27;missing...\n",
       "                                                                         [&#x27;MAPPED_ROLE_CLEAN&#x27;,\n",
       "                                                                          &#x27;SEX&#x27;,\n",
       "                                                                          &#x27;ETHNICITY&#x27;,\n",
       "                                                                          &#x27;HOSPITAL_TYPE&#x27;,\n",
       "                                                                          &#x27;HOSPITAL_OWNERSHIP&#x27;,\n",
       "                                                                          &#x27;COMPANY_NAME&#x27;,\n",
       "                                                                          &#x27;CITY_STATE&#x27;,\n",
       "                                                                          &#x27;DISTANCE&#x27;,\n",
       "                                                                          &#x27;DEGREE_CLEAN&#x27;])])),\n",
       "                                       (&#x27;classifier&#x27;,\n",
       "                                        RandomForestClassifier(class_weight=&#x27;balanced_subsample&#x27;,\n",
       "                                                               n_estimators=10,\n",
       "                                                               random_state=123))]),\n",
       "             param_grid={&#x27;classifier__criterion&#x27;: [&#x27;gini&#x27;],\n",
       "                         &#x27;classifier__max_depth&#x27;: [4],\n",
       "                         &#x27;classifier__n_estimators&#x27;: [100]},\n",
       "             scoring=&#x27;f1_micro&#x27;)</pre></div></div></div><div class=\"sk-parallel\"><div class=\"sk-parallel-item\"><div class=\"sk-item\"><div class=\"sk-label-container\"><div class=\"sk-label sk-toggleable\"><input class=\"sk-toggleable__control sk-hidden--visually\" id=\"sk-estimator-id-2\" type=\"checkbox\" ><label for=\"sk-estimator-id-2\" class=\"sk-toggleable__label sk-toggleable__label-arrow\">estimator: Pipeline</label><div class=\"sk-toggleable__content\"><pre>Pipeline(steps=[(&#x27;preprocessor&#x27;,\n",
       "                 ColumnTransformer(transformers=[(&#x27;num&#x27;,\n",
       "                                                  Pipeline(steps=[(&#x27;imputer&#x27;,\n",
       "                                                                   SimpleImputer(strategy=&#x27;median&#x27;)),\n",
       "                                                                  (&#x27;scaler&#x27;,\n",
       "                                                                   StandardScaler())]),\n",
       "                                                  [&#x27;SALARY&#x27;, &#x27;SENIORITY&#x27;,\n",
       "                                                   &#x27;TENURE_MONTHS&#x27;,\n",
       "                                                   &#x27;MONTHS_AFTER_COLLEGE&#x27;,\n",
       "                                                   &#x27;BIRTH_YEAR&#x27;,\n",
       "                                                   &#x27;OVERTIME_HOURS&#x27;]),\n",
       "                                                 (&#x27;cat&#x27;,\n",
       "                                                  Pipeline(steps=[(&#x27;imputer&#x27;,\n",
       "                                                                   SimpleImputer(fill_value=&#x27;missing&#x27;,\n",
       "                                                                                 strategy=&#x27;constant&#x27;)),\n",
       "                                                                  (&#x27;onehot&#x27;,\n",
       "                                                                   OneHotEncoder(handle_unknown=&#x27;ignore&#x27;,\n",
       "                                                                                 sparse=False))]),\n",
       "                                                  [&#x27;MAPPED_ROLE_CLEAN&#x27;, &#x27;SEX&#x27;,\n",
       "                                                   &#x27;ETHNICITY&#x27;, &#x27;HOSPITAL_TYPE&#x27;,\n",
       "                                                   &#x27;HOSPITAL_OWNERSHIP&#x27;,\n",
       "                                                   &#x27;COMPANY_NAME&#x27;, &#x27;CITY_STATE&#x27;,\n",
       "                                                   &#x27;DISTANCE&#x27;,\n",
       "                                                   &#x27;DEGREE_CLEAN&#x27;])])),\n",
       "                (&#x27;classifier&#x27;,\n",
       "                 RandomForestClassifier(class_weight=&#x27;balanced_subsample&#x27;,\n",
       "                                        n_estimators=10, random_state=123))])</pre></div></div></div><div class=\"sk-serial\"><div class=\"sk-item\"><div class=\"sk-serial\"><div class=\"sk-item sk-dashed-wrapped\"><div class=\"sk-label-container\"><div class=\"sk-label sk-toggleable\"><input class=\"sk-toggleable__control sk-hidden--visually\" id=\"sk-estimator-id-3\" type=\"checkbox\" ><label for=\"sk-estimator-id-3\" class=\"sk-toggleable__label sk-toggleable__label-arrow\">preprocessor: ColumnTransformer</label><div class=\"sk-toggleable__content\"><pre>ColumnTransformer(transformers=[(&#x27;num&#x27;,\n",
       "                                 Pipeline(steps=[(&#x27;imputer&#x27;,\n",
       "                                                  SimpleImputer(strategy=&#x27;median&#x27;)),\n",
       "                                                 (&#x27;scaler&#x27;, StandardScaler())]),\n",
       "                                 [&#x27;SALARY&#x27;, &#x27;SENIORITY&#x27;, &#x27;TENURE_MONTHS&#x27;,\n",
       "                                  &#x27;MONTHS_AFTER_COLLEGE&#x27;, &#x27;BIRTH_YEAR&#x27;,\n",
       "                                  &#x27;OVERTIME_HOURS&#x27;]),\n",
       "                                (&#x27;cat&#x27;,\n",
       "                                 Pipeline(steps=[(&#x27;imputer&#x27;,\n",
       "                                                  SimpleImputer(fill_value=&#x27;missing&#x27;,\n",
       "                                                                strategy=&#x27;constant&#x27;)),\n",
       "                                                 (&#x27;onehot&#x27;,\n",
       "                                                  OneHotEncoder(handle_unknown=&#x27;ignore&#x27;,\n",
       "                                                                sparse=False))]),\n",
       "                                 [&#x27;MAPPED_ROLE_CLEAN&#x27;, &#x27;SEX&#x27;, &#x27;ETHNICITY&#x27;,\n",
       "                                  &#x27;HOSPITAL_TYPE&#x27;, &#x27;HOSPITAL_OWNERSHIP&#x27;,\n",
       "                                  &#x27;COMPANY_NAME&#x27;, &#x27;CITY_STATE&#x27;, &#x27;DISTANCE&#x27;,\n",
       "                                  &#x27;DEGREE_CLEAN&#x27;])])</pre></div></div></div><div class=\"sk-parallel\"><div class=\"sk-parallel-item\"><div class=\"sk-item\"><div class=\"sk-label-container\"><div class=\"sk-label sk-toggleable\"><input class=\"sk-toggleable__control sk-hidden--visually\" id=\"sk-estimator-id-4\" type=\"checkbox\" ><label for=\"sk-estimator-id-4\" class=\"sk-toggleable__label sk-toggleable__label-arrow\">num</label><div class=\"sk-toggleable__content\"><pre>[&#x27;SALARY&#x27;, &#x27;SENIORITY&#x27;, &#x27;TENURE_MONTHS&#x27;, &#x27;MONTHS_AFTER_COLLEGE&#x27;, &#x27;BIRTH_YEAR&#x27;, &#x27;OVERTIME_HOURS&#x27;]</pre></div></div></div><div class=\"sk-serial\"><div class=\"sk-item\"><div class=\"sk-serial\"><div class=\"sk-item\"><div class=\"sk-estimator sk-toggleable\"><input class=\"sk-toggleable__control sk-hidden--visually\" id=\"sk-estimator-id-5\" type=\"checkbox\" ><label for=\"sk-estimator-id-5\" class=\"sk-toggleable__label sk-toggleable__label-arrow\">SimpleImputer</label><div class=\"sk-toggleable__content\"><pre>SimpleImputer(strategy=&#x27;median&#x27;)</pre></div></div></div><div class=\"sk-item\"><div class=\"sk-estimator sk-toggleable\"><input class=\"sk-toggleable__control sk-hidden--visually\" id=\"sk-estimator-id-6\" type=\"checkbox\" ><label for=\"sk-estimator-id-6\" class=\"sk-toggleable__label sk-toggleable__label-arrow\">StandardScaler</label><div class=\"sk-toggleable__content\"><pre>StandardScaler()</pre></div></div></div></div></div></div></div></div><div class=\"sk-parallel-item\"><div class=\"sk-item\"><div class=\"sk-label-container\"><div class=\"sk-label sk-toggleable\"><input class=\"sk-toggleable__control sk-hidden--visually\" id=\"sk-estimator-id-7\" type=\"checkbox\" ><label for=\"sk-estimator-id-7\" class=\"sk-toggleable__label sk-toggleable__label-arrow\">cat</label><div class=\"sk-toggleable__content\"><pre>[&#x27;MAPPED_ROLE_CLEAN&#x27;, &#x27;SEX&#x27;, &#x27;ETHNICITY&#x27;, &#x27;HOSPITAL_TYPE&#x27;, &#x27;HOSPITAL_OWNERSHIP&#x27;, &#x27;COMPANY_NAME&#x27;, &#x27;CITY_STATE&#x27;, &#x27;DISTANCE&#x27;, &#x27;DEGREE_CLEAN&#x27;]</pre></div></div></div><div class=\"sk-serial\"><div class=\"sk-item\"><div class=\"sk-serial\"><div class=\"sk-item\"><div class=\"sk-estimator sk-toggleable\"><input class=\"sk-toggleable__control sk-hidden--visually\" id=\"sk-estimator-id-8\" type=\"checkbox\" ><label for=\"sk-estimator-id-8\" class=\"sk-toggleable__label sk-toggleable__label-arrow\">SimpleImputer</label><div class=\"sk-toggleable__content\"><pre>SimpleImputer(fill_value=&#x27;missing&#x27;, strategy=&#x27;constant&#x27;)</pre></div></div></div><div class=\"sk-item\"><div class=\"sk-estimator sk-toggleable\"><input class=\"sk-toggleable__control sk-hidden--visually\" id=\"sk-estimator-id-9\" type=\"checkbox\" ><label for=\"sk-estimator-id-9\" class=\"sk-toggleable__label sk-toggleable__label-arrow\">OneHotEncoder</label><div class=\"sk-toggleable__content\"><pre>OneHotEncoder(handle_unknown=&#x27;ignore&#x27;, sparse=False)</pre></div></div></div></div></div></div></div></div></div></div><div class=\"sk-item\"><div class=\"sk-estimator sk-toggleable\"><input class=\"sk-toggleable__control sk-hidden--visually\" id=\"sk-estimator-id-10\" type=\"checkbox\" ><label for=\"sk-estimator-id-10\" class=\"sk-toggleable__label sk-toggleable__label-arrow\">RandomForestClassifier</label><div class=\"sk-toggleable__content\"><pre>RandomForestClassifier(class_weight=&#x27;balanced_subsample&#x27;, n_estimators=10,\n",
       "                       random_state=123)</pre></div></div></div></div></div></div></div></div></div></div></div></div>"
      ],
      "text/plain": [
       "GridSearchCV(cv=3,\n",
       "             estimator=Pipeline(steps=[('preprocessor',\n",
       "                                        ColumnTransformer(transformers=[('num',\n",
       "                                                                         Pipeline(steps=[('imputer',\n",
       "                                                                                          SimpleImputer(strategy='median')),\n",
       "                                                                                         ('scaler',\n",
       "                                                                                          StandardScaler())]),\n",
       "                                                                         ['SALARY',\n",
       "                                                                          'SENIORITY',\n",
       "                                                                          'TENURE_MONTHS',\n",
       "                                                                          'MONTHS_AFTER_COLLEGE',\n",
       "                                                                          'BIRTH_YEAR',\n",
       "                                                                          'OVERTIME_HOURS']),\n",
       "                                                                        ('cat',\n",
       "                                                                         Pipeline(steps=[('imputer',\n",
       "                                                                                          SimpleImputer(fill_value='missing...\n",
       "                                                                         ['MAPPED_ROLE_CLEAN',\n",
       "                                                                          'SEX',\n",
       "                                                                          'ETHNICITY',\n",
       "                                                                          'HOSPITAL_TYPE',\n",
       "                                                                          'HOSPITAL_OWNERSHIP',\n",
       "                                                                          'COMPANY_NAME',\n",
       "                                                                          'CITY_STATE',\n",
       "                                                                          'DISTANCE',\n",
       "                                                                          'DEGREE_CLEAN'])])),\n",
       "                                       ('classifier',\n",
       "                                        RandomForestClassifier(class_weight='balanced_subsample',\n",
       "                                                               n_estimators=10,\n",
       "                                                               random_state=123))]),\n",
       "             param_grid={'classifier__criterion': ['gini'],\n",
       "                         'classifier__max_depth': [4],\n",
       "                         'classifier__n_estimators': [100]},\n",
       "             scoring='f1_micro')"
      ]
     },
     "metadata": {},
     "output_type": "display_data"
    }
   ],
   "source": [
    "display(model)"
   ]
  },
  {
   "cell_type": "markdown",
   "id": "a8392655",
   "metadata": {},
   "source": [
    "# PREDICTION"
   ]
  },
  {
   "cell_type": "markdown",
   "id": "98ba758d",
   "metadata": {},
   "source": [
    "STORING THE PREDICTION PYTHON FILE IN SNOWFLAKE STAGE"
   ]
  },
  {
   "cell_type": "code",
   "execution_count": 10,
   "id": "52917d2c",
   "metadata": {},
   "outputs": [
    {
     "data": {
      "text/plain": [
       "[PutResult(source='predict_churn_udf.py', target='predict_churn_udf.py', source_size=1008, target_size=1024, source_compression='NONE', target_compression='NONE', status='UPLOADED', message='')]"
      ]
     },
     "execution_count": 10,
     "metadata": {},
     "output_type": "execute_result"
    }
   ],
   "source": [
    "f_path = 'predict_churn_udf.py'\n",
    "session.file.put(f_path, f'@{ml_stage}/{experiment_name}', auto_compress=False, overwrite=True)"
   ]
  },
  {
   "cell_type": "markdown",
   "id": "0d5a6e2e",
   "metadata": {},
   "source": [
    "REGISTERING PREDICTION FILE AS SNOWPARK UDF"
   ]
  },
  {
   "cell_type": "code",
   "execution_count": 11,
   "id": "f2cf9886",
   "metadata": {},
   "outputs": [
    {
     "data": {
      "text/plain": [
       "[Row(status='Function PREDICT_CHURN_UDF successfully created.')]"
      ]
     },
     "execution_count": 11,
     "metadata": {},
     "output_type": "execute_result"
    }
   ],
   "source": [
    "udf_name = 'predict_churn_udf'\n",
    "sql = f'''\n",
    "    create or replace function predict_churn_udf(\n",
    "        args array, \n",
    "        staged_model_f_name varchar,\n",
    "        stage_name varchar\n",
    "        )\n",
    "    returns variant\n",
    "    language python\n",
    "    runtime_version = '3.8'\n",
    "    packages = ('snowflake-snowpark-python' ,'pandas', 'cachetools', 'joblib','scikit-learn')\n",
    "    imports = ('@{ml_stage}/{experiment_name}/predict_churn_udf.py', '@{ml_stage}/{experiment_name}/ml_pipeline.joblib')\n",
    "    handler = 'predict_churn_udf.main'\n",
    "    ;\n",
    "'''\n",
    "session.sql(sql).collect()"
   ]
  },
  {
   "cell_type": "code",
   "execution_count": 7,
   "id": "b15aa61a",
   "metadata": {},
   "outputs": [],
   "source": [
    "table_name = 'ATTRITION'\n",
    "sdf = session.table(f'{table_name}')\n",
    "pdf = sdf.toPandas()"
   ]
  },
  {
   "cell_type": "markdown",
   "id": "d12aaebd",
   "metadata": {},
   "source": [
    "PREDICTING ON THE ENTIRE DATA"
   ]
  },
  {
   "cell_type": "code",
   "execution_count": 8,
   "id": "e8f8eafe",
   "metadata": {},
   "outputs": [
    {
     "name": "stderr",
     "output_type": "stream",
     "text": [
      "Failed to execute query [queryID: 01ac2a2c-0503-5757-0072-f30309ac21b6]  CREATE  OR  REPLACE  TRANSIENT  TABLE  EMPLOYEES_CHURN_PREDICTED AS  SELECT  *  FROM ( SELECT \"SALARY\", \"SENIORITY\", \"TENURE_MONTHS\", \"MONTHS_AFTER_COLLEGE\", \"BIRTH_YEAR\", \"MAPPED_ROLE_CLEAN\", \"SEX\", \"ETHNICITY\", \"HOSPITAL_TYPE\", \"HOSPITAL_OWNERSHIP\", \"COMPANY_NAME\", \"CITY_STATE\", \"DISTANCE\", \"DEGREE_CLEAN\", \"SCHOOL_ENDDATE\", \"JOB_STARTDATE\", \"JOB_ENDDATE\", \"USER_ID\", \"OVERTIME_HOURS\", \"CHURN\", predict_churn_udf(array_construct(\"SALARY\", \"SENIORITY\", \"TENURE_MONTHS\", \"MONTHS_AFTER_COLLEGE\", \"BIRTH_YEAR\", \"OVERTIME_HOURS\", \"MAPPED_ROLE_CLEAN\", \"SEX\", \"ETHNICITY\", \"HOSPITAL_TYPE\", \"HOSPITAL_OWNERSHIP\", \"COMPANY_NAME\", \"CITY_STATE\", \"DISTANCE\", \"DEGREE_CLEAN\"), 'ml_pipeline.joblib', 'ML_MODELS_HR') AS \"CHURN_PREDICT\" FROM ATTRITION)\n",
      "100357 (P0000): Python Interpreter Error:\n",
      "Traceback (most recent call last):\n",
      "  File \"/usr/lib/python_udf/0aba92af4bda7d2cbc536906794153a09bfe8885a9a99157663d4bcb296c9854/lib/python3.8/site-packages/pandas/core/internals/construction.py\", line 969, in _finalize_columns_and_data\n",
      "    columns = _validate_or_indexify_columns(contents, columns)\n",
      "  File \"/usr/lib/python_udf/0aba92af4bda7d2cbc536906794153a09bfe8885a9a99157663d4bcb296c9854/lib/python3.8/site-packages/pandas/core/internals/construction.py\", line 1017, in _validate_or_indexify_columns\n",
      "    raise AssertionError(\n",
      "AssertionError: 5 columns passed, passed data had 15 columns\n",
      "\n",
      "The above exception was the direct cause of the following exception:\n",
      "\n",
      "Traceback (most recent call last):\n",
      "  File \"/home/udf/32355341555708802/predict_churn_udf.py\", line 27, in main\n",
      "    row = pd.DataFrame([args], columns=inputs)\n",
      "  File \"/usr/lib/python_udf/0aba92af4bda7d2cbc536906794153a09bfe8885a9a99157663d4bcb296c9854/lib/python3.8/site-packages/pandas/core/frame.py\", line 746, in __init__\n",
      "    arrays, columns, index = nested_data_to_arrays(\n",
      "  File \"/usr/lib/python_udf/0aba92af4bda7d2cbc536906794153a09bfe8885a9a99157663d4bcb296c9854/lib/python3.8/site-packages/pandas/core/internals/construction.py\", line 510, in nested_data_to_arrays\n",
      "    arrays, columns = to_arrays(data, columns, dtype=dtype)\n",
      "  File \"/usr/lib/python_udf/0aba92af4bda7d2cbc536906794153a09bfe8885a9a99157663d4bcb296c9854/lib/python3.8/site-packages/pandas/core/internals/construction.py\", line 875, in to_arrays\n",
      "    content, columns = _finalize_columns_and_data(arr, columns, dtype)\n",
      "  File \"/usr/lib/python_udf/0aba92af4bda7d2cbc536906794153a09bfe8885a9a99157663d4bcb296c9854/lib/python3.8/site-packages/pandas/core/internals/construction.py\", line 972, in _finalize_columns_and_data\n",
      "    raise ValueError(err) from err\n",
      "ValueError: 5 columns passed, passed data had 15 columns\n",
      " in function PREDICT_CHURN_UDF with handler predict_churn_udf.main\n"
     ]
    },
    {
     "ename": "SnowparkSQLException",
     "evalue": "(1304): 01ac2a2c-0503-5757-0072-f30309ac21b6: 100357 (P0000): Python Interpreter Error:\nTraceback (most recent call last):\n  File \"/usr/lib/python_udf/0aba92af4bda7d2cbc536906794153a09bfe8885a9a99157663d4bcb296c9854/lib/python3.8/site-packages/pandas/core/internals/construction.py\", line 969, in _finalize_columns_and_data\n    columns = _validate_or_indexify_columns(contents, columns)\n  File \"/usr/lib/python_udf/0aba92af4bda7d2cbc536906794153a09bfe8885a9a99157663d4bcb296c9854/lib/python3.8/site-packages/pandas/core/internals/construction.py\", line 1017, in _validate_or_indexify_columns\n    raise AssertionError(\nAssertionError: 5 columns passed, passed data had 15 columns\n\nThe above exception was the direct cause of the following exception:\n\nTraceback (most recent call last):\n  File \"/home/udf/32355341555708802/predict_churn_udf.py\", line 27, in main\n    row = pd.DataFrame([args], columns=inputs)\n  File \"/usr/lib/python_udf/0aba92af4bda7d2cbc536906794153a09bfe8885a9a99157663d4bcb296c9854/lib/python3.8/site-packages/pandas/core/frame.py\", line 746, in __init__\n    arrays, columns, index = nested_data_to_arrays(\n  File \"/usr/lib/python_udf/0aba92af4bda7d2cbc536906794153a09bfe8885a9a99157663d4bcb296c9854/lib/python3.8/site-packages/pandas/core/internals/construction.py\", line 510, in nested_data_to_arrays\n    arrays, columns = to_arrays(data, columns, dtype=dtype)\n  File \"/usr/lib/python_udf/0aba92af4bda7d2cbc536906794153a09bfe8885a9a99157663d4bcb296c9854/lib/python3.8/site-packages/pandas/core/internals/construction.py\", line 875, in to_arrays\n    content, columns = _finalize_columns_and_data(arr, columns, dtype)\n  File \"/usr/lib/python_udf/0aba92af4bda7d2cbc536906794153a09bfe8885a9a99157663d4bcb296c9854/lib/python3.8/site-packages/pandas/core/internals/construction.py\", line 972, in _finalize_columns_and_data\n    raise ValueError(err) from err\nValueError: 5 columns passed, passed data had 15 columns\n in function PREDICT_CHURN_UDF with handler predict_churn_udf.main",
     "output_type": "error",
     "traceback": [
      "\u001b[0;31m---------------------------------------------------------------------------\u001b[0m",
      "\u001b[0;31mSnowparkSQLException\u001b[0m                      Traceback (most recent call last)",
      "Cell \u001b[0;32mIn[8], line 7\u001b[0m\n\u001b[1;32m      1\u001b[0m \u001b[38;5;66;03m# Create Predictions\u001b[39;00m\n\u001b[1;32m      2\u001b[0m pred_sdf \u001b[38;5;241m=\u001b[39m sdf\u001b[38;5;241m.\u001b[39mwith_column(\u001b[38;5;124m'\u001b[39m\u001b[38;5;124mCHURN_PREDICT\u001b[39m\u001b[38;5;124m'\u001b[39m, F\u001b[38;5;241m.\u001b[39mcall_udf(\u001b[38;5;124m'\u001b[39m\u001b[38;5;124mpredict_churn_udf\u001b[39m\u001b[38;5;124m'\u001b[39m, F\u001b[38;5;241m.\u001b[39marray_construct(\n\u001b[1;32m      3\u001b[0m             \u001b[38;5;124m'\u001b[39m\u001b[38;5;124mSALARY\u001b[39m\u001b[38;5;124m'\u001b[39m, \u001b[38;5;124m'\u001b[39m\u001b[38;5;124mSENIORITY\u001b[39m\u001b[38;5;124m'\u001b[39m, \u001b[38;5;124m'\u001b[39m\u001b[38;5;124mTENURE_MONTHS\u001b[39m\u001b[38;5;124m'\u001b[39m, \u001b[38;5;124m'\u001b[39m\u001b[38;5;124mMONTHS_AFTER_COLLEGE\u001b[39m\u001b[38;5;124m'\u001b[39m, \u001b[38;5;124m'\u001b[39m\u001b[38;5;124mBIRTH_YEAR\u001b[39m\u001b[38;5;124m'\u001b[39m, \u001b[38;5;124m'\u001b[39m\u001b[38;5;124mOVERTIME_HOURS\u001b[39m\u001b[38;5;124m'\u001b[39m,\n\u001b[1;32m      4\u001b[0m             \u001b[38;5;124m'\u001b[39m\u001b[38;5;124mMAPPED_ROLE_CLEAN\u001b[39m\u001b[38;5;124m'\u001b[39m, \u001b[38;5;124m'\u001b[39m\u001b[38;5;124mSEX\u001b[39m\u001b[38;5;124m'\u001b[39m, \u001b[38;5;124m'\u001b[39m\u001b[38;5;124mETHNICITY\u001b[39m\u001b[38;5;124m'\u001b[39m, \u001b[38;5;124m'\u001b[39m\u001b[38;5;124mHOSPITAL_TYPE\u001b[39m\u001b[38;5;124m'\u001b[39m, \u001b[38;5;124m'\u001b[39m\u001b[38;5;124mHOSPITAL_OWNERSHIP\u001b[39m\u001b[38;5;124m'\u001b[39m, \u001b[38;5;124m'\u001b[39m\u001b[38;5;124mCOMPANY_NAME\u001b[39m\u001b[38;5;124m'\u001b[39m, \u001b[38;5;124m'\u001b[39m\u001b[38;5;124mCITY_STATE\u001b[39m\u001b[38;5;124m'\u001b[39m, \u001b[38;5;124m'\u001b[39m\u001b[38;5;124mDISTANCE\u001b[39m\u001b[38;5;124m'\u001b[39m, \u001b[38;5;124m'\u001b[39m\u001b[38;5;124mDEGREE_CLEAN\u001b[39m\u001b[38;5;124m'\u001b[39m\n\u001b[1;32m      5\u001b[0m             ), \u001b[38;5;124m'\u001b[39m\u001b[38;5;124mml_pipeline.joblib\u001b[39m\u001b[38;5;124m'\u001b[39m, ml_stage))\n\u001b[0;32m----> 7\u001b[0m \u001b[43mpred_sdf\u001b[49m\u001b[38;5;241;43m.\u001b[39;49m\u001b[43mwrite\u001b[49m\u001b[38;5;241;43m.\u001b[39;49m\u001b[43mmode\u001b[49m\u001b[43m(\u001b[49m\u001b[38;5;124;43m\"\u001b[39;49m\u001b[38;5;124;43moverwrite\u001b[39;49m\u001b[38;5;124;43m\"\u001b[39;49m\u001b[43m)\u001b[49m\u001b[38;5;241;43m.\u001b[39;49m\u001b[43msave_as_table\u001b[49m\u001b[43m(\u001b[49m\u001b[38;5;124;43m\"\u001b[39;49m\u001b[38;5;124;43mEMPLOYEES_CHURN_PREDICTED\u001b[39;49m\u001b[38;5;124;43m\"\u001b[39;49m\u001b[43m,\u001b[49m\u001b[43m \u001b[49m\u001b[43mtable_type\u001b[49m\u001b[38;5;241;43m=\u001b[39;49m\u001b[38;5;124;43m\"\u001b[39;49m\u001b[38;5;124;43mtransient\u001b[39;49m\u001b[38;5;124;43m\"\u001b[39;49m\u001b[43m)\u001b[49m\n\u001b[1;32m      9\u001b[0m pred_df \u001b[38;5;241m=\u001b[39m session\u001b[38;5;241m.\u001b[39mtable(\u001b[38;5;124m'\u001b[39m\u001b[38;5;124mEMPLOYEES_CHURN_PREDICTED\u001b[39m\u001b[38;5;124m'\u001b[39m)\u001b[38;5;241m.\u001b[39mlimit(\u001b[38;5;241m10\u001b[39m)\u001b[38;5;241m.\u001b[39mto_pandas()\n",
      "File \u001b[0;32m/opt/conda/lib/python3.8/site-packages/snowflake/snowpark/_internal/telemetry.py:161\u001b[0m, in \u001b[0;36mdfw_collect_api_telemetry.<locals>.wrap\u001b[0;34m(*args, **kwargs)\u001b[0m\n\u001b[1;32m    158\u001b[0m \u001b[38;5;129m@functools\u001b[39m\u001b[38;5;241m.\u001b[39mwraps(func)\n\u001b[1;32m    159\u001b[0m \u001b[38;5;28;01mdef\u001b[39;00m \u001b[38;5;21mwrap\u001b[39m(\u001b[38;5;241m*\u001b[39margs, \u001b[38;5;241m*\u001b[39m\u001b[38;5;241m*\u001b[39mkwargs):\n\u001b[1;32m    160\u001b[0m     \u001b[38;5;28;01mwith\u001b[39;00m args[\u001b[38;5;241m0\u001b[39m]\u001b[38;5;241m.\u001b[39m_dataframe\u001b[38;5;241m.\u001b[39m_session\u001b[38;5;241m.\u001b[39mquery_history() \u001b[38;5;28;01mas\u001b[39;00m query_history:\n\u001b[0;32m--> 161\u001b[0m         result \u001b[38;5;241m=\u001b[39m \u001b[43mfunc\u001b[49m\u001b[43m(\u001b[49m\u001b[38;5;241;43m*\u001b[39;49m\u001b[43margs\u001b[49m\u001b[43m,\u001b[49m\u001b[43m \u001b[49m\u001b[38;5;241;43m*\u001b[39;49m\u001b[38;5;241;43m*\u001b[39;49m\u001b[43mkwargs\u001b[49m\u001b[43m)\u001b[49m\n\u001b[1;32m    162\u001b[0m     plan \u001b[38;5;241m=\u001b[39m args[\u001b[38;5;241m0\u001b[39m]\u001b[38;5;241m.\u001b[39m_dataframe\u001b[38;5;241m.\u001b[39m_select_statement \u001b[38;5;129;01mor\u001b[39;00m args[\u001b[38;5;241m0\u001b[39m]\u001b[38;5;241m.\u001b[39m_dataframe\u001b[38;5;241m.\u001b[39m_plan\n\u001b[1;32m    163\u001b[0m     api_calls \u001b[38;5;241m=\u001b[39m [\n\u001b[1;32m    164\u001b[0m         \u001b[38;5;241m*\u001b[39mplan\u001b[38;5;241m.\u001b[39mapi_calls,\n\u001b[1;32m    165\u001b[0m         {TelemetryField\u001b[38;5;241m.\u001b[39mNAME\u001b[38;5;241m.\u001b[39mvalue: \u001b[38;5;124mf\u001b[39m\u001b[38;5;124m\"\u001b[39m\u001b[38;5;124mDataFrameWriter.\u001b[39m\u001b[38;5;132;01m{\u001b[39;00mfunc\u001b[38;5;241m.\u001b[39m\u001b[38;5;18m__name__\u001b[39m\u001b[38;5;132;01m}\u001b[39;00m\u001b[38;5;124m\"\u001b[39m},\n\u001b[1;32m    166\u001b[0m     ]\n",
      "File \u001b[0;32m/opt/conda/lib/python3.8/site-packages/snowflake/snowpark/dataframe_writer.py:193\u001b[0m, in \u001b[0;36mDataFrameWriter.save_as_table\u001b[0;34m(self, table_name, mode, column_order, create_temp_table, table_type, statement_params, block)\u001b[0m\n\u001b[1;32m    191\u001b[0m session \u001b[38;5;241m=\u001b[39m \u001b[38;5;28mself\u001b[39m\u001b[38;5;241m.\u001b[39m_dataframe\u001b[38;5;241m.\u001b[39m_session\n\u001b[1;32m    192\u001b[0m snowflake_plan \u001b[38;5;241m=\u001b[39m session\u001b[38;5;241m.\u001b[39m_analyzer\u001b[38;5;241m.\u001b[39mresolve(create_table_logic_plan)\n\u001b[0;32m--> 193\u001b[0m result \u001b[38;5;241m=\u001b[39m \u001b[43msession\u001b[49m\u001b[38;5;241;43m.\u001b[39;49m\u001b[43m_conn\u001b[49m\u001b[38;5;241;43m.\u001b[39;49m\u001b[43mexecute\u001b[49m\u001b[43m(\u001b[49m\n\u001b[1;32m    194\u001b[0m \u001b[43m    \u001b[49m\u001b[43msnowflake_plan\u001b[49m\u001b[43m,\u001b[49m\n\u001b[1;32m    195\u001b[0m \u001b[43m    \u001b[49m\u001b[43m_statement_params\u001b[49m\u001b[38;5;241;43m=\u001b[39;49m\u001b[43mstatement_params\u001b[49m\u001b[43m,\u001b[49m\n\u001b[1;32m    196\u001b[0m \u001b[43m    \u001b[49m\u001b[43mblock\u001b[49m\u001b[38;5;241;43m=\u001b[39;49m\u001b[43mblock\u001b[49m\u001b[43m,\u001b[49m\n\u001b[1;32m    197\u001b[0m \u001b[43m    \u001b[49m\u001b[43mdata_type\u001b[49m\u001b[38;5;241;43m=\u001b[39;49m\u001b[43m_AsyncResultType\u001b[49m\u001b[38;5;241;43m.\u001b[39;49m\u001b[43mNO_RESULT\u001b[49m\u001b[43m,\u001b[49m\n\u001b[1;32m    198\u001b[0m \u001b[43m\u001b[49m\u001b[43m)\u001b[49m\n\u001b[1;32m    199\u001b[0m \u001b[38;5;28;01mreturn\u001b[39;00m result \u001b[38;5;28;01mif\u001b[39;00m \u001b[38;5;129;01mnot\u001b[39;00m block \u001b[38;5;28;01melse\u001b[39;00m \u001b[38;5;28;01mNone\u001b[39;00m\n",
      "File \u001b[0;32m/opt/conda/lib/python3.8/site-packages/snowflake/snowpark/_internal/server_connection.py:406\u001b[0m, in \u001b[0;36mServerConnection.execute\u001b[0;34m(self, plan, to_pandas, to_iter, block, data_type, **kwargs)\u001b[0m\n\u001b[1;32m    402\u001b[0m \u001b[38;5;28;01mif\u001b[39;00m is_in_stored_procedure() \u001b[38;5;129;01mand\u001b[39;00m \u001b[38;5;129;01mnot\u001b[39;00m block:  \u001b[38;5;66;03m# pragma: no cover\u001b[39;00m\n\u001b[1;32m    403\u001b[0m     \u001b[38;5;28;01mraise\u001b[39;00m \u001b[38;5;167;01mNotImplementedError\u001b[39;00m(\n\u001b[1;32m    404\u001b[0m         \u001b[38;5;124m\"\u001b[39m\u001b[38;5;124mAsync query is not supported in stored procedure yet\u001b[39m\u001b[38;5;124m\"\u001b[39m\n\u001b[1;32m    405\u001b[0m     )\n\u001b[0;32m--> 406\u001b[0m result_set, result_meta \u001b[38;5;241m=\u001b[39m \u001b[38;5;28;43mself\u001b[39;49m\u001b[38;5;241;43m.\u001b[39;49m\u001b[43mget_result_set\u001b[49m\u001b[43m(\u001b[49m\n\u001b[1;32m    407\u001b[0m \u001b[43m    \u001b[49m\u001b[43mplan\u001b[49m\u001b[43m,\u001b[49m\u001b[43m \u001b[49m\u001b[43mto_pandas\u001b[49m\u001b[43m,\u001b[49m\u001b[43m \u001b[49m\u001b[43mto_iter\u001b[49m\u001b[43m,\u001b[49m\u001b[43m \u001b[49m\u001b[38;5;241;43m*\u001b[39;49m\u001b[38;5;241;43m*\u001b[39;49m\u001b[43mkwargs\u001b[49m\u001b[43m,\u001b[49m\u001b[43m \u001b[49m\u001b[43mblock\u001b[49m\u001b[38;5;241;43m=\u001b[39;49m\u001b[43mblock\u001b[49m\u001b[43m,\u001b[49m\u001b[43m \u001b[49m\u001b[43mdata_type\u001b[49m\u001b[38;5;241;43m=\u001b[39;49m\u001b[43mdata_type\u001b[49m\n\u001b[1;32m    408\u001b[0m \u001b[43m\u001b[49m\u001b[43m)\u001b[49m\n\u001b[1;32m    409\u001b[0m \u001b[38;5;28;01mif\u001b[39;00m \u001b[38;5;129;01mnot\u001b[39;00m block:\n\u001b[1;32m    410\u001b[0m     \u001b[38;5;28;01mreturn\u001b[39;00m result_set\n",
      "File \u001b[0;32m/opt/conda/lib/python3.8/site-packages/snowflake/snowpark/_internal/analyzer/snowflake_plan.py:154\u001b[0m, in \u001b[0;36mSnowflakePlan.Decorator.wrap_exception.<locals>.wrap\u001b[0;34m(*args, **kwargs)\u001b[0m\n\u001b[1;32m    150\u001b[0m \u001b[38;5;28;01melse\u001b[39;00m:\n\u001b[1;32m    151\u001b[0m     ne \u001b[38;5;241m=\u001b[39m SnowparkClientExceptionMessages\u001b[38;5;241m.\u001b[39mSQL_EXCEPTION_FROM_PROGRAMMING_ERROR(\n\u001b[1;32m    152\u001b[0m         e\n\u001b[1;32m    153\u001b[0m     )\n\u001b[0;32m--> 154\u001b[0m     \u001b[38;5;28;01mraise\u001b[39;00m ne\u001b[38;5;241m.\u001b[39mwith_traceback(tb) \u001b[38;5;28;01mfrom\u001b[39;00m \u001b[38;5;28mNone\u001b[39m\n",
      "File \u001b[0;32m/opt/conda/lib/python3.8/site-packages/snowflake/snowpark/_internal/analyzer/snowflake_plan.py:87\u001b[0m, in \u001b[0;36mSnowflakePlan.Decorator.wrap_exception.<locals>.wrap\u001b[0;34m(*args, **kwargs)\u001b[0m\n\u001b[1;32m     85\u001b[0m \u001b[38;5;28;01mdef\u001b[39;00m \u001b[38;5;21mwrap\u001b[39m(\u001b[38;5;241m*\u001b[39margs, \u001b[38;5;241m*\u001b[39m\u001b[38;5;241m*\u001b[39mkwargs):\n\u001b[1;32m     86\u001b[0m     \u001b[38;5;28;01mtry\u001b[39;00m:\n\u001b[0;32m---> 87\u001b[0m         \u001b[38;5;28;01mreturn\u001b[39;00m \u001b[43mfunc\u001b[49m\u001b[43m(\u001b[49m\u001b[38;5;241;43m*\u001b[39;49m\u001b[43margs\u001b[49m\u001b[43m,\u001b[49m\u001b[43m \u001b[49m\u001b[38;5;241;43m*\u001b[39;49m\u001b[38;5;241;43m*\u001b[39;49m\u001b[43mkwargs\u001b[49m\u001b[43m)\u001b[49m\n\u001b[1;32m     88\u001b[0m     \u001b[38;5;28;01mexcept\u001b[39;00m snowflake\u001b[38;5;241m.\u001b[39mconnector\u001b[38;5;241m.\u001b[39merrors\u001b[38;5;241m.\u001b[39mProgrammingError \u001b[38;5;28;01mas\u001b[39;00m e:\n\u001b[1;32m     89\u001b[0m         tb \u001b[38;5;241m=\u001b[39m sys\u001b[38;5;241m.\u001b[39mexc_info()[\u001b[38;5;241m2\u001b[39m]\n",
      "File \u001b[0;32m/opt/conda/lib/python3.8/site-packages/snowflake/snowpark/_internal/server_connection.py:494\u001b[0m, in \u001b[0;36mServerConnection.get_result_set\u001b[0;34m(self, plan, to_pandas, to_iter, block, data_type, **kwargs)\u001b[0m\n\u001b[1;32m    492\u001b[0m \u001b[38;5;28;01mfor\u001b[39;00m holder, id_ \u001b[38;5;129;01min\u001b[39;00m placeholders\u001b[38;5;241m.\u001b[39mitems():\n\u001b[1;32m    493\u001b[0m     final_query \u001b[38;5;241m=\u001b[39m final_query\u001b[38;5;241m.\u001b[39mreplace(holder, id_)\n\u001b[0;32m--> 494\u001b[0m result \u001b[38;5;241m=\u001b[39m \u001b[38;5;28;43mself\u001b[39;49m\u001b[38;5;241;43m.\u001b[39;49m\u001b[43mrun_query\u001b[49m\u001b[43m(\u001b[49m\n\u001b[1;32m    495\u001b[0m \u001b[43m    \u001b[49m\u001b[43mfinal_query\u001b[49m\u001b[43m,\u001b[49m\n\u001b[1;32m    496\u001b[0m \u001b[43m    \u001b[49m\u001b[43mto_pandas\u001b[49m\u001b[43m,\u001b[49m\n\u001b[1;32m    497\u001b[0m \u001b[43m    \u001b[49m\u001b[43mto_iter\u001b[49m\u001b[43m \u001b[49m\u001b[38;5;129;43;01mand\u001b[39;49;00m\u001b[43m \u001b[49m\u001b[43m(\u001b[49m\u001b[43mi\u001b[49m\u001b[43m \u001b[49m\u001b[38;5;241;43m==\u001b[39;49m\u001b[43m \u001b[49m\u001b[38;5;28;43mlen\u001b[39;49m\u001b[43m(\u001b[49m\u001b[43mplan\u001b[49m\u001b[38;5;241;43m.\u001b[39;49m\u001b[43mqueries\u001b[49m\u001b[43m)\u001b[49m\u001b[43m \u001b[49m\u001b[38;5;241;43m-\u001b[39;49m\u001b[43m \u001b[49m\u001b[38;5;241;43m1\u001b[39;49m\u001b[43m)\u001b[49m\u001b[43m,\u001b[49m\n\u001b[1;32m    498\u001b[0m \u001b[43m    \u001b[49m\u001b[43mis_ddl_on_temp_object\u001b[49m\u001b[38;5;241;43m=\u001b[39;49m\u001b[43mquery\u001b[49m\u001b[38;5;241;43m.\u001b[39;49m\u001b[43mis_ddl_on_temp_object\u001b[49m\u001b[43m,\u001b[49m\n\u001b[1;32m    499\u001b[0m \u001b[43m    \u001b[49m\u001b[43mblock\u001b[49m\u001b[38;5;241;43m=\u001b[39;49m\u001b[38;5;129;43;01mnot\u001b[39;49;00m\u001b[43m \u001b[49m\u001b[43mis_last\u001b[49m\u001b[43m,\u001b[49m\n\u001b[1;32m    500\u001b[0m \u001b[43m    \u001b[49m\u001b[43mdata_type\u001b[49m\u001b[38;5;241;43m=\u001b[39;49m\u001b[43mdata_type\u001b[49m\u001b[43m,\u001b[49m\n\u001b[1;32m    501\u001b[0m \u001b[43m    \u001b[49m\u001b[43masync_job_plan\u001b[49m\u001b[38;5;241;43m=\u001b[39;49m\u001b[43mplan\u001b[49m\u001b[43m,\u001b[49m\n\u001b[1;32m    502\u001b[0m \u001b[43m    \u001b[49m\u001b[38;5;241;43m*\u001b[39;49m\u001b[38;5;241;43m*\u001b[39;49m\u001b[43mkwargs\u001b[49m\u001b[43m,\u001b[49m\n\u001b[1;32m    503\u001b[0m \u001b[43m\u001b[49m\u001b[43m)\u001b[49m\n\u001b[1;32m    504\u001b[0m placeholders[query\u001b[38;5;241m.\u001b[39mquery_id_place_holder] \u001b[38;5;241m=\u001b[39m (\n\u001b[1;32m    505\u001b[0m     result[\u001b[38;5;124m\"\u001b[39m\u001b[38;5;124msfqid\u001b[39m\u001b[38;5;124m\"\u001b[39m] \u001b[38;5;28;01mif\u001b[39;00m \u001b[38;5;129;01mnot\u001b[39;00m is_last \u001b[38;5;28;01melse\u001b[39;00m result\u001b[38;5;241m.\u001b[39mquery_id\n\u001b[1;32m    506\u001b[0m )\n\u001b[1;32m    507\u001b[0m result_meta \u001b[38;5;241m=\u001b[39m \u001b[38;5;28mself\u001b[39m\u001b[38;5;241m.\u001b[39m_cursor\u001b[38;5;241m.\u001b[39mdescription\n",
      "File \u001b[0;32m/opt/conda/lib/python3.8/site-packages/snowflake/snowpark/_internal/server_connection.py:104\u001b[0m, in \u001b[0;36mServerConnection._Decorator.wrap_exception.<locals>.wrap\u001b[0;34m(*args, **kwargs)\u001b[0m\n\u001b[1;32m    100\u001b[0m     \u001b[38;5;28;01mraise\u001b[39;00m SnowparkClientExceptionMessages\u001b[38;5;241m.\u001b[39mSERVER_SESSION_EXPIRED(\n\u001b[1;32m    101\u001b[0m         ex\u001b[38;5;241m.\u001b[39mcause\n\u001b[1;32m    102\u001b[0m     )\n\u001b[1;32m    103\u001b[0m \u001b[38;5;28;01mexcept\u001b[39;00m \u001b[38;5;167;01mException\u001b[39;00m \u001b[38;5;28;01mas\u001b[39;00m ex:\n\u001b[0;32m--> 104\u001b[0m     \u001b[38;5;28;01mraise\u001b[39;00m ex\n",
      "File \u001b[0;32m/opt/conda/lib/python3.8/site-packages/snowflake/snowpark/_internal/server_connection.py:98\u001b[0m, in \u001b[0;36mServerConnection._Decorator.wrap_exception.<locals>.wrap\u001b[0;34m(*args, **kwargs)\u001b[0m\n\u001b[1;32m     96\u001b[0m     \u001b[38;5;28;01mraise\u001b[39;00m SnowparkClientExceptionMessages\u001b[38;5;241m.\u001b[39mSERVER_SESSION_HAS_BEEN_CLOSED()\n\u001b[1;32m     97\u001b[0m \u001b[38;5;28;01mtry\u001b[39;00m:\n\u001b[0;32m---> 98\u001b[0m     \u001b[38;5;28;01mreturn\u001b[39;00m \u001b[43mfunc\u001b[49m\u001b[43m(\u001b[49m\u001b[38;5;241;43m*\u001b[39;49m\u001b[43margs\u001b[49m\u001b[43m,\u001b[49m\u001b[43m \u001b[49m\u001b[38;5;241;43m*\u001b[39;49m\u001b[38;5;241;43m*\u001b[39;49m\u001b[43mkwargs\u001b[49m\u001b[43m)\u001b[49m\n\u001b[1;32m     99\u001b[0m \u001b[38;5;28;01mexcept\u001b[39;00m ReauthenticationRequest \u001b[38;5;28;01mas\u001b[39;00m ex:\n\u001b[1;32m    100\u001b[0m     \u001b[38;5;28;01mraise\u001b[39;00m SnowparkClientExceptionMessages\u001b[38;5;241m.\u001b[39mSERVER_SESSION_EXPIRED(\n\u001b[1;32m    101\u001b[0m         ex\u001b[38;5;241m.\u001b[39mcause\n\u001b[1;32m    102\u001b[0m     )\n",
      "File \u001b[0;32m/opt/conda/lib/python3.8/site-packages/snowflake/snowpark/_internal/server_connection.py:333\u001b[0m, in \u001b[0;36mServerConnection.run_query\u001b[0;34m(self, query, to_pandas, to_iter, is_ddl_on_temp_object, block, data_type, async_job_plan, **kwargs)\u001b[0m\n\u001b[1;32m    331\u001b[0m     query_id_log \u001b[38;5;241m=\u001b[39m \u001b[38;5;124mf\u001b[39m\u001b[38;5;124m\"\u001b[39m\u001b[38;5;124m [queryID: \u001b[39m\u001b[38;5;132;01m{\u001b[39;00mex\u001b[38;5;241m.\u001b[39msfqid\u001b[38;5;132;01m}\u001b[39;00m\u001b[38;5;124m]\u001b[39m\u001b[38;5;124m\"\u001b[39m \u001b[38;5;28;01mif\u001b[39;00m \u001b[38;5;28mhasattr\u001b[39m(ex, \u001b[38;5;124m\"\u001b[39m\u001b[38;5;124msfqid\u001b[39m\u001b[38;5;124m\"\u001b[39m) \u001b[38;5;28;01melse\u001b[39;00m \u001b[38;5;124m\"\u001b[39m\u001b[38;5;124m\"\u001b[39m\n\u001b[1;32m    332\u001b[0m     logger\u001b[38;5;241m.\u001b[39merror(\u001b[38;5;124mf\u001b[39m\u001b[38;5;124m\"\u001b[39m\u001b[38;5;124mFailed to execute query\u001b[39m\u001b[38;5;132;01m{\u001b[39;00mquery_id_log\u001b[38;5;132;01m}\u001b[39;00m\u001b[38;5;124m \u001b[39m\u001b[38;5;132;01m{\u001b[39;00mquery\u001b[38;5;132;01m}\u001b[39;00m\u001b[38;5;130;01m\\n\u001b[39;00m\u001b[38;5;132;01m{\u001b[39;00mex\u001b[38;5;132;01m}\u001b[39;00m\u001b[38;5;124m\"\u001b[39m)\n\u001b[0;32m--> 333\u001b[0m     \u001b[38;5;28;01mraise\u001b[39;00m ex\n\u001b[1;32m    335\u001b[0m \u001b[38;5;66;03m# fetch_pandas_all/batches() only works for SELECT statements\u001b[39;00m\n\u001b[1;32m    336\u001b[0m \u001b[38;5;66;03m# We call fetchall() if fetch_pandas_all/batches() fails,\u001b[39;00m\n\u001b[1;32m    337\u001b[0m \u001b[38;5;66;03m# because when the query plan has multiple queries, it will\u001b[39;00m\n\u001b[1;32m    338\u001b[0m \u001b[38;5;66;03m# have non-select statements, and it shouldn't fail if the user\u001b[39;00m\n\u001b[1;32m    339\u001b[0m \u001b[38;5;66;03m# calls to_pandas() to execute the query.\u001b[39;00m\n\u001b[1;32m    340\u001b[0m \u001b[38;5;28;01mif\u001b[39;00m block:\n",
      "File \u001b[0;32m/opt/conda/lib/python3.8/site-packages/snowflake/snowpark/_internal/server_connection.py:317\u001b[0m, in \u001b[0;36mServerConnection.run_query\u001b[0;34m(self, query, to_pandas, to_iter, is_ddl_on_temp_object, block, data_type, async_job_plan, **kwargs)\u001b[0m\n\u001b[1;32m    315\u001b[0m     kwargs[\u001b[38;5;124m\"\u001b[39m\u001b[38;5;124m_statement_params\u001b[39m\u001b[38;5;124m\"\u001b[39m][\u001b[38;5;124m\"\u001b[39m\u001b[38;5;124mSNOWPARK_SKIP_TXN_COMMIT_IN_DDL\u001b[39m\u001b[38;5;124m\"\u001b[39m] \u001b[38;5;241m=\u001b[39m \u001b[38;5;28;01mTrue\u001b[39;00m\n\u001b[1;32m    316\u001b[0m \u001b[38;5;28;01mif\u001b[39;00m block:\n\u001b[0;32m--> 317\u001b[0m     results_cursor \u001b[38;5;241m=\u001b[39m \u001b[38;5;28;43mself\u001b[39;49m\u001b[38;5;241;43m.\u001b[39;49m\u001b[43m_cursor\u001b[49m\u001b[38;5;241;43m.\u001b[39;49m\u001b[43mexecute\u001b[49m\u001b[43m(\u001b[49m\u001b[43mquery\u001b[49m\u001b[43m,\u001b[49m\u001b[43m \u001b[49m\u001b[38;5;241;43m*\u001b[39;49m\u001b[38;5;241;43m*\u001b[39;49m\u001b[43mkwargs\u001b[49m\u001b[43m)\u001b[49m\n\u001b[1;32m    318\u001b[0m     \u001b[38;5;28mself\u001b[39m\u001b[38;5;241m.\u001b[39mnotify_query_listeners(\n\u001b[1;32m    319\u001b[0m         QueryRecord(results_cursor\u001b[38;5;241m.\u001b[39msfqid, results_cursor\u001b[38;5;241m.\u001b[39mquery)\n\u001b[1;32m    320\u001b[0m     )\n\u001b[1;32m    321\u001b[0m     logger\u001b[38;5;241m.\u001b[39mdebug(\u001b[38;5;124mf\u001b[39m\u001b[38;5;124m\"\u001b[39m\u001b[38;5;124mExecute query [queryID: \u001b[39m\u001b[38;5;132;01m{\u001b[39;00mresults_cursor\u001b[38;5;241m.\u001b[39msfqid\u001b[38;5;132;01m}\u001b[39;00m\u001b[38;5;124m] \u001b[39m\u001b[38;5;132;01m{\u001b[39;00mquery\u001b[38;5;132;01m}\u001b[39;00m\u001b[38;5;124m\"\u001b[39m)\n",
      "File \u001b[0;32m/opt/conda/lib/python3.8/site-packages/snowflake/connector/cursor.py:827\u001b[0m, in \u001b[0;36mSnowflakeCursor.execute\u001b[0;34m(self, command, params, _bind_stage, timeout, _exec_async, _no_retry, _do_reset, _put_callback, _put_azure_callback, _put_callback_output_stream, _get_callback, _get_azure_callback, _get_callback_output_stream, _show_progress_bar, _statement_params, _is_internal, _describe_only, _no_results, _is_put_get, _raise_put_get_error, _force_put_overwrite, file_stream, num_statements)\u001b[0m\n\u001b[1;32m    823\u001b[0m     is_integrity_error \u001b[38;5;241m=\u001b[39m (\n\u001b[1;32m    824\u001b[0m         code \u001b[38;5;241m==\u001b[39m \u001b[38;5;124m\"\u001b[39m\u001b[38;5;124m100072\u001b[39m\u001b[38;5;124m\"\u001b[39m\n\u001b[1;32m    825\u001b[0m     )  \u001b[38;5;66;03m# NULL result in a non-nullable column\u001b[39;00m\n\u001b[1;32m    826\u001b[0m     error_class \u001b[38;5;241m=\u001b[39m IntegrityError \u001b[38;5;28;01mif\u001b[39;00m is_integrity_error \u001b[38;5;28;01melse\u001b[39;00m ProgrammingError\n\u001b[0;32m--> 827\u001b[0m     \u001b[43mError\u001b[49m\u001b[38;5;241;43m.\u001b[39;49m\u001b[43merrorhandler_wrapper\u001b[49m\u001b[43m(\u001b[49m\u001b[38;5;28;43mself\u001b[39;49m\u001b[38;5;241;43m.\u001b[39;49m\u001b[43mconnection\u001b[49m\u001b[43m,\u001b[49m\u001b[43m \u001b[49m\u001b[38;5;28;43mself\u001b[39;49m\u001b[43m,\u001b[49m\u001b[43m \u001b[49m\u001b[43merror_class\u001b[49m\u001b[43m,\u001b[49m\u001b[43m \u001b[49m\u001b[43merrvalue\u001b[49m\u001b[43m)\u001b[49m\n\u001b[1;32m    828\u001b[0m \u001b[38;5;28;01mreturn\u001b[39;00m \u001b[38;5;28mself\u001b[39m\n",
      "File \u001b[0;32m/opt/conda/lib/python3.8/site-packages/snowflake/connector/errors.py:275\u001b[0m, in \u001b[0;36mError.errorhandler_wrapper\u001b[0;34m(connection, cursor, error_class, error_value)\u001b[0m\n\u001b[1;32m    252\u001b[0m \u001b[38;5;129m@staticmethod\u001b[39m\n\u001b[1;32m    253\u001b[0m \u001b[38;5;28;01mdef\u001b[39;00m \u001b[38;5;21merrorhandler_wrapper\u001b[39m(\n\u001b[1;32m    254\u001b[0m     connection: SnowflakeConnection \u001b[38;5;241m|\u001b[39m \u001b[38;5;28;01mNone\u001b[39;00m,\n\u001b[0;32m   (...)\u001b[0m\n\u001b[1;32m    257\u001b[0m     error_value: \u001b[38;5;28mdict\u001b[39m[\u001b[38;5;28mstr\u001b[39m, \u001b[38;5;28mstr\u001b[39m \u001b[38;5;241m|\u001b[39m \u001b[38;5;28mbool\u001b[39m \u001b[38;5;241m|\u001b[39m \u001b[38;5;28mint\u001b[39m],\n\u001b[1;32m    258\u001b[0m ) \u001b[38;5;241m-\u001b[39m\u001b[38;5;241m>\u001b[39m \u001b[38;5;28;01mNone\u001b[39;00m:\n\u001b[1;32m    259\u001b[0m     \u001b[38;5;124;03m\"\"\"Error handler wrapper that calls the errorhandler method.\u001b[39;00m\n\u001b[1;32m    260\u001b[0m \n\u001b[1;32m    261\u001b[0m \u001b[38;5;124;03m    Args:\u001b[39;00m\n\u001b[0;32m   (...)\u001b[0m\n\u001b[1;32m    272\u001b[0m \u001b[38;5;124;03m        exception to the first handler in that order.\u001b[39;00m\n\u001b[1;32m    273\u001b[0m \u001b[38;5;124;03m    \"\"\"\u001b[39;00m\n\u001b[0;32m--> 275\u001b[0m     handed_over \u001b[38;5;241m=\u001b[39m \u001b[43mError\u001b[49m\u001b[38;5;241;43m.\u001b[39;49m\u001b[43mhand_to_other_handler\u001b[49m\u001b[43m(\u001b[49m\n\u001b[1;32m    276\u001b[0m \u001b[43m        \u001b[49m\u001b[43mconnection\u001b[49m\u001b[43m,\u001b[49m\n\u001b[1;32m    277\u001b[0m \u001b[43m        \u001b[49m\u001b[43mcursor\u001b[49m\u001b[43m,\u001b[49m\n\u001b[1;32m    278\u001b[0m \u001b[43m        \u001b[49m\u001b[43merror_class\u001b[49m\u001b[43m,\u001b[49m\n\u001b[1;32m    279\u001b[0m \u001b[43m        \u001b[49m\u001b[43merror_value\u001b[49m\u001b[43m,\u001b[49m\n\u001b[1;32m    280\u001b[0m \u001b[43m    \u001b[49m\u001b[43m)\u001b[49m\n\u001b[1;32m    281\u001b[0m     \u001b[38;5;28;01mif\u001b[39;00m \u001b[38;5;129;01mnot\u001b[39;00m handed_over:\n\u001b[1;32m    282\u001b[0m         \u001b[38;5;28;01mraise\u001b[39;00m Error\u001b[38;5;241m.\u001b[39merrorhandler_make_exception(\n\u001b[1;32m    283\u001b[0m             error_class,\n\u001b[1;32m    284\u001b[0m             error_value,\n\u001b[1;32m    285\u001b[0m         )\n",
      "File \u001b[0;32m/opt/conda/lib/python3.8/site-packages/snowflake/connector/errors.py:330\u001b[0m, in \u001b[0;36mError.hand_to_other_handler\u001b[0;34m(connection, cursor, error_class, error_value)\u001b[0m\n\u001b[1;32m    328\u001b[0m \u001b[38;5;28;01mif\u001b[39;00m cursor \u001b[38;5;129;01mis\u001b[39;00m \u001b[38;5;129;01mnot\u001b[39;00m \u001b[38;5;28;01mNone\u001b[39;00m:\n\u001b[1;32m    329\u001b[0m     cursor\u001b[38;5;241m.\u001b[39mmessages\u001b[38;5;241m.\u001b[39mappend((error_class, error_value))\n\u001b[0;32m--> 330\u001b[0m     \u001b[43mcursor\u001b[49m\u001b[38;5;241;43m.\u001b[39;49m\u001b[43merrorhandler\u001b[49m\u001b[43m(\u001b[49m\u001b[43mconnection\u001b[49m\u001b[43m,\u001b[49m\u001b[43m \u001b[49m\u001b[43mcursor\u001b[49m\u001b[43m,\u001b[49m\u001b[43m \u001b[49m\u001b[43merror_class\u001b[49m\u001b[43m,\u001b[49m\u001b[43m \u001b[49m\u001b[43merror_value\u001b[49m\u001b[43m)\u001b[49m\n\u001b[1;32m    331\u001b[0m     \u001b[38;5;28;01mreturn\u001b[39;00m \u001b[38;5;28;01mTrue\u001b[39;00m\n\u001b[1;32m    332\u001b[0m \u001b[38;5;28;01melif\u001b[39;00m connection \u001b[38;5;129;01mis\u001b[39;00m \u001b[38;5;129;01mnot\u001b[39;00m \u001b[38;5;28;01mNone\u001b[39;00m:\n",
      "File \u001b[0;32m/opt/conda/lib/python3.8/site-packages/snowflake/connector/errors.py:209\u001b[0m, in \u001b[0;36mError.default_errorhandler\u001b[0;34m(connection, cursor, error_class, error_value)\u001b[0m\n\u001b[1;32m    191\u001b[0m \u001b[38;5;129m@staticmethod\u001b[39m\n\u001b[1;32m    192\u001b[0m \u001b[38;5;28;01mdef\u001b[39;00m \u001b[38;5;21mdefault_errorhandler\u001b[39m(\n\u001b[1;32m    193\u001b[0m     connection: SnowflakeConnection,\n\u001b[0;32m   (...)\u001b[0m\n\u001b[1;32m    196\u001b[0m     error_value: \u001b[38;5;28mdict\u001b[39m[\u001b[38;5;28mstr\u001b[39m, \u001b[38;5;28mstr\u001b[39m],\n\u001b[1;32m    197\u001b[0m ) \u001b[38;5;241m-\u001b[39m\u001b[38;5;241m>\u001b[39m \u001b[38;5;28;01mNone\u001b[39;00m:\n\u001b[1;32m    198\u001b[0m     \u001b[38;5;124;03m\"\"\"Default error handler that raises an error.\u001b[39;00m\n\u001b[1;32m    199\u001b[0m \n\u001b[1;32m    200\u001b[0m \u001b[38;5;124;03m    Args:\u001b[39;00m\n\u001b[0;32m   (...)\u001b[0m\n\u001b[1;32m    207\u001b[0m \u001b[38;5;124;03m        A Snowflake error.\u001b[39;00m\n\u001b[1;32m    208\u001b[0m \u001b[38;5;124;03m    \"\"\"\u001b[39;00m\n\u001b[0;32m--> 209\u001b[0m     \u001b[38;5;28;01mraise\u001b[39;00m error_class(\n\u001b[1;32m    210\u001b[0m         msg\u001b[38;5;241m=\u001b[39merror_value\u001b[38;5;241m.\u001b[39mget(\u001b[38;5;124m\"\u001b[39m\u001b[38;5;124mmsg\u001b[39m\u001b[38;5;124m\"\u001b[39m),\n\u001b[1;32m    211\u001b[0m         errno\u001b[38;5;241m=\u001b[39merror_value\u001b[38;5;241m.\u001b[39mget(\u001b[38;5;124m\"\u001b[39m\u001b[38;5;124merrno\u001b[39m\u001b[38;5;124m\"\u001b[39m),\n\u001b[1;32m    212\u001b[0m         sqlstate\u001b[38;5;241m=\u001b[39merror_value\u001b[38;5;241m.\u001b[39mget(\u001b[38;5;124m\"\u001b[39m\u001b[38;5;124msqlstate\u001b[39m\u001b[38;5;124m\"\u001b[39m),\n\u001b[1;32m    213\u001b[0m         sfqid\u001b[38;5;241m=\u001b[39merror_value\u001b[38;5;241m.\u001b[39mget(\u001b[38;5;124m\"\u001b[39m\u001b[38;5;124msfqid\u001b[39m\u001b[38;5;124m\"\u001b[39m),\n\u001b[1;32m    214\u001b[0m         done_format_msg\u001b[38;5;241m=\u001b[39merror_value\u001b[38;5;241m.\u001b[39mget(\u001b[38;5;124m\"\u001b[39m\u001b[38;5;124mdone_format_msg\u001b[39m\u001b[38;5;124m\"\u001b[39m),\n\u001b[1;32m    215\u001b[0m         connection\u001b[38;5;241m=\u001b[39mconnection,\n\u001b[1;32m    216\u001b[0m         cursor\u001b[38;5;241m=\u001b[39mcursor,\n\u001b[1;32m    217\u001b[0m     )\n",
      "\u001b[0;31mSnowparkSQLException\u001b[0m: (1304): 01ac2a2c-0503-5757-0072-f30309ac21b6: 100357 (P0000): Python Interpreter Error:\nTraceback (most recent call last):\n  File \"/usr/lib/python_udf/0aba92af4bda7d2cbc536906794153a09bfe8885a9a99157663d4bcb296c9854/lib/python3.8/site-packages/pandas/core/internals/construction.py\", line 969, in _finalize_columns_and_data\n    columns = _validate_or_indexify_columns(contents, columns)\n  File \"/usr/lib/python_udf/0aba92af4bda7d2cbc536906794153a09bfe8885a9a99157663d4bcb296c9854/lib/python3.8/site-packages/pandas/core/internals/construction.py\", line 1017, in _validate_or_indexify_columns\n    raise AssertionError(\nAssertionError: 5 columns passed, passed data had 15 columns\n\nThe above exception was the direct cause of the following exception:\n\nTraceback (most recent call last):\n  File \"/home/udf/32355341555708802/predict_churn_udf.py\", line 27, in main\n    row = pd.DataFrame([args], columns=inputs)\n  File \"/usr/lib/python_udf/0aba92af4bda7d2cbc536906794153a09bfe8885a9a99157663d4bcb296c9854/lib/python3.8/site-packages/pandas/core/frame.py\", line 746, in __init__\n    arrays, columns, index = nested_data_to_arrays(\n  File \"/usr/lib/python_udf/0aba92af4bda7d2cbc536906794153a09bfe8885a9a99157663d4bcb296c9854/lib/python3.8/site-packages/pandas/core/internals/construction.py\", line 510, in nested_data_to_arrays\n    arrays, columns = to_arrays(data, columns, dtype=dtype)\n  File \"/usr/lib/python_udf/0aba92af4bda7d2cbc536906794153a09bfe8885a9a99157663d4bcb296c9854/lib/python3.8/site-packages/pandas/core/internals/construction.py\", line 875, in to_arrays\n    content, columns = _finalize_columns_and_data(arr, columns, dtype)\n  File \"/usr/lib/python_udf/0aba92af4bda7d2cbc536906794153a09bfe8885a9a99157663d4bcb296c9854/lib/python3.8/site-packages/pandas/core/internals/construction.py\", line 972, in _finalize_columns_and_data\n    raise ValueError(err) from err\nValueError: 5 columns passed, passed data had 15 columns\n in function PREDICT_CHURN_UDF with handler predict_churn_udf.main"
     ]
    }
   ],
   "source": [
    "# Create Predictions\n",
    "pred_sdf = sdf.with_column('CHURN_PREDICT', F.call_udf('predict_churn_udf', F.array_construct(\n",
    "            'SALARY', 'SENIORITY', 'TENURE_MONTHS', 'MONTHS_AFTER_COLLEGE', 'BIRTH_YEAR', 'OVERTIME_HOURS',\n",
    "            'MAPPED_ROLE_CLEAN', 'SEX', 'ETHNICITY', 'HOSPITAL_TYPE', 'HOSPITAL_OWNERSHIP', 'COMPANY_NAME', 'CITY_STATE', 'DISTANCE', 'DEGREE_CLEAN'\n",
    "            ), 'ml_pipeline.joblib', ml_stage))\n",
    "\n",
    "pred_sdf.write.mode(\"overwrite\").save_as_table(\"EMPLOYEES_CHURN_PREDICTED\", table_type=\"transient\")\n",
    "\n",
    "pred_df = session.table('EMPLOYEES_CHURN_PREDICTED').limit(10).to_pandas()"
   ]
  },
  {
   "cell_type": "code",
   "execution_count": 14,
   "id": "bbe8c067",
   "metadata": {},
   "outputs": [
    {
     "data": {
      "text/plain": [
       "False"
      ]
     },
     "execution_count": 14,
     "metadata": {},
     "output_type": "execute_result"
    }
   ],
   "source": [
    "def main(model, X):\n",
    "    return bool(model.predict(X)[0])\n",
    "\n",
    "pred_1 = pred_df[:1]\n",
    "pred_1 = pred_1.drop([\"CHURN\",\"CHURN_PREDICT\"], axis=1)\n",
    "main(model, pred_df)"
   ]
  },
  {
   "cell_type": "code",
   "execution_count": 15,
   "id": "db963e42",
   "metadata": {},
   "outputs": [],
   "source": [
    "pred_sdf = pred_sdf.to_pandas()"
   ]
  },
  {
   "cell_type": "markdown",
   "id": "ca6293b6",
   "metadata": {},
   "source": [
    "# Registering Model in Refract"
   ]
  },
  {
   "cell_type": "code",
   "execution_count": 16,
   "id": "4ad00e88",
   "metadata": {},
   "outputs": [],
   "source": [
    "pred_sdf = pred_sdf[pred_sdf[\"JOB_ENDDATE\"].apply(lambda x: x is not None)]\n",
    "from math import ceil\n",
    "pred_sdf = pred_sdf[pred_sdf[\"JOB_ENDDATE\"].apply(lambda x: x is not None)]\n",
    "train = pred_sdf[:ceil(len(pred_sdf)*0.75)]\n",
    "pred = train = pred_sdf[ceil(len(pred_sdf)*0.75):]"
   ]
  },
  {
   "cell_type": "code",
   "execution_count": 17,
   "id": "8bfc6090",
   "metadata": {},
   "outputs": [],
   "source": [
    "y_prob = np.array(\n",
    "    np.choice([0.6, 0.75, 0.86],1) if i == 1 else np.choice([0.3,0.40, 0.45],1) for i in [np.array(pred[\"CHURN_PREDICT\"])])\n",
    "\n",
    "@scoring_func\n",
    "def score(model, request):\n",
    "    payload = request.json[\"payload\"]\n",
    "    inputs = [ 'SALARY', 'SENIORITY', 'TENURE_MONTHS', 'MONTHS_AFTER_COLLEGE', 'BIRTH_YEAR', 'OVERTIME_HOURS','MAPPED_ROLE_CLEAN',\n",
    "              'SEX', 'ETHNICITY', 'HOSPITAL_TYPE', 'HOSPITAL_OWNERSHIP', 'COMPANY_NAME', 'CITY_STATE', 'DISTANCE', 'DEGREE_CLEAN']\n",
    "    payload = {k:v for k, v in eval(payload).items() if k in inputs}\n",
    "#     print(payload)\n",
    "    data = pd.DataFrame(payload)\n",
    "    prediction = pd.Series(model.predict(data))[0]\n",
    "    return prediction\n",
    "\n",
    "y_test = pred[\"CHURN\"]\n",
    "y_pred = pred[\"CHURN_PREDICT\"]\n",
    "X_train = train.drop([\"CHURN\", \"CHURN_PREDICT\"], axis=1)\n",
    "X_test = pred.drop([\"CHURN\", \"CHURN_PREDICT\"], axis=1)\n",
    "y_train = train[\"CHURN\"]"
   ]
  },
  {
   "cell_type": "code",
   "execution_count": 18,
   "id": "8ea405d7",
   "metadata": {},
   "outputs": [],
   "source": [
    "# pred_1 = X_train[:1]\n",
    "# import requests\n",
    "# req = requests.Request()\n",
    "# req.json = {\"payload\":pred_1.head(1).to_json()}\n",
    "# y = req\n",
    "# score(model, y)"
   ]
  },
  {
   "cell_type": "code",
   "execution_count": 20,
   "id": "1d4423dc",
   "metadata": {
    "scrolled": true
   },
   "outputs": [
    {
     "ename": "Exception",
     "evalue": "Unable to register model. Please try after some time",
     "output_type": "error",
     "traceback": [
      "\u001b[0;31m---------------------------------------------------------------------------\u001b[0m",
      "\u001b[0;31mException\u001b[0m                                 Traceback (most recent call last)",
      "Cell \u001b[0;32mIn[20], line 2\u001b[0m\n\u001b[1;32m      1\u001b[0m \u001b[38;5;66;03m## registering the model in refract.\u001b[39;00m\n\u001b[0;32m----> 2\u001b[0m tmp \u001b[38;5;241m=\u001b[39m \u001b[43mregister_model\u001b[49m\u001b[43m(\u001b[49m\u001b[43mmodel\u001b[49m\u001b[43m,\u001b[49m\u001b[43m \u001b[49m\n\u001b[1;32m      3\u001b[0m \u001b[43m               \u001b[49m\u001b[43mscore\u001b[49m\u001b[43m,\u001b[49m\u001b[43m \u001b[49m\n\u001b[1;32m      4\u001b[0m \u001b[43m               \u001b[49m\u001b[43mname\u001b[49m\u001b[38;5;241;43m=\u001b[39;49m\u001b[38;5;124;43m\"\u001b[39;49m\u001b[38;5;124;43mHR_ANALYTICS_Snowflake\u001b[39;49m\u001b[38;5;124;43m\"\u001b[39;49m\u001b[43m,\u001b[49m\u001b[43m \u001b[49m\n\u001b[1;32m      5\u001b[0m \u001b[43m               \u001b[49m\u001b[43mdescription\u001b[49m\u001b[38;5;241;43m=\u001b[39;49m\u001b[38;5;124;43m\"\u001b[39;49m\u001b[38;5;124;43mHR ANALYTICS model trained on Snowflake\u001b[39;49m\u001b[38;5;124;43m\"\u001b[39;49m\u001b[43m,\u001b[49m\n\u001b[1;32m      6\u001b[0m \u001b[43m               \u001b[49m\u001b[43mflavour\u001b[49m\u001b[38;5;241;43m=\u001b[39;49m\u001b[43mMLModelFlavours\u001b[49m\u001b[38;5;241;43m.\u001b[39;49m\u001b[43msklearn\u001b[49m\u001b[43m,\u001b[49m\n\u001b[1;32m      7\u001b[0m \u001b[43m               \u001b[49m\u001b[43mmodel_type\u001b[49m\u001b[38;5;241;43m=\u001b[39;49m\u001b[38;5;124;43m\"\u001b[39;49m\u001b[38;5;124;43mclassification\u001b[39;49m\u001b[38;5;124;43m\"\u001b[39;49m\u001b[43m,\u001b[49m\n\u001b[1;32m      8\u001b[0m \u001b[43m               \u001b[49m\u001b[43my_true\u001b[49m\u001b[38;5;241;43m=\u001b[39;49m\u001b[43my_test\u001b[49m\u001b[43m,\u001b[49m\n\u001b[1;32m      9\u001b[0m \u001b[43m               \u001b[49m\u001b[43my_pred\u001b[49m\u001b[38;5;241;43m=\u001b[39;49m\u001b[43my_pred\u001b[49m\u001b[43m,\u001b[49m\u001b[43m \u001b[49m\n\u001b[1;32m     10\u001b[0m \u001b[43m               \u001b[49m\u001b[43mfeatures\u001b[49m\u001b[38;5;241;43m=\u001b[39;49m\u001b[43mX_train\u001b[49m\u001b[38;5;241;43m.\u001b[39;49m\u001b[43mcolumns\u001b[49m\u001b[43m,\u001b[49m\n\u001b[1;32m     11\u001b[0m \u001b[43m               \u001b[49m\u001b[43mlabels\u001b[49m\u001b[38;5;241;43m=\u001b[39;49m\u001b[43m[\u001b[49m\u001b[38;5;28;43;01mFalse\u001b[39;49;00m\u001b[43m,\u001b[49m\u001b[38;5;28;43;01mTrue\u001b[39;49;00m\u001b[43m]\u001b[49m\u001b[43m,\u001b[49m\u001b[43m \u001b[49m\n\u001b[1;32m     12\u001b[0m \u001b[43m               \u001b[49m\u001b[43minit_script\u001b[49m\u001b[38;5;241;43m=\u001b[39;49m\u001b[38;5;124;43m\"\u001b[39;49m\u001b[38;5;124;43m\"\u001b[39;49m\u001b[43m \u001b[49m\u001b[43m,\u001b[49m\n\u001b[1;32m     13\u001b[0m \u001b[43m               \u001b[49m\u001b[43minput_type\u001b[49m\u001b[38;5;241;43m=\u001b[39;49m\u001b[38;5;124;43m\"\u001b[39;49m\u001b[38;5;124;43mjson\u001b[39;49m\u001b[38;5;124;43m\"\u001b[39;49m\u001b[43m,\u001b[49m\u001b[43m \u001b[49m\n\u001b[1;32m     14\u001b[0m \u001b[43m               \u001b[49m\u001b[43mexplain_ai\u001b[49m\u001b[38;5;241;43m=\u001b[39;49m\u001b[38;5;28;43;01mTrue\u001b[39;49;00m\u001b[43m,\u001b[49m\n\u001b[1;32m     15\u001b[0m \u001b[43m               \u001b[49m\u001b[43mprob\u001b[49m\u001b[38;5;241;43m=\u001b[39;49m\u001b[43my_prob\u001b[49m\u001b[43m,\u001b[49m\n\u001b[1;32m     16\u001b[0m \u001b[43m               \u001b[49m\u001b[43mx_train\u001b[49m\u001b[38;5;241;43m=\u001b[39;49m\u001b[43mX_train\u001b[49m\u001b[43m,\u001b[49m\u001b[43m \u001b[49m\n\u001b[1;32m     17\u001b[0m \u001b[43m               \u001b[49m\u001b[43mx_test\u001b[49m\u001b[38;5;241;43m=\u001b[39;49m\u001b[43mX_test\u001b[49m\u001b[43m,\u001b[49m\u001b[43m \u001b[49m\n\u001b[1;32m     18\u001b[0m \u001b[43m               \u001b[49m\u001b[43my_train\u001b[49m\u001b[38;5;241;43m=\u001b[39;49m\u001b[43my_train\u001b[49m\u001b[38;5;241;43m.\u001b[39;49m\u001b[43mtolist\u001b[49m\u001b[43m(\u001b[49m\u001b[43m)\u001b[49m\u001b[43m,\u001b[49m\n\u001b[1;32m     19\u001b[0m \u001b[43m               \u001b[49m\u001b[43my_test\u001b[49m\u001b[38;5;241;43m=\u001b[39;49m\u001b[43my_test\u001b[49m\u001b[38;5;241;43m.\u001b[39;49m\u001b[43mtolist\u001b[49m\u001b[43m(\u001b[49m\u001b[43m)\u001b[49m\u001b[43m,\u001b[49m\n\u001b[1;32m     20\u001b[0m \u001b[43m               \u001b[49m\u001b[43mfeature_names\u001b[49m\u001b[38;5;241;43m=\u001b[39;49m\u001b[43mX_train\u001b[49m\u001b[38;5;241;43m.\u001b[39;49m\u001b[43mcolumns\u001b[49m\u001b[38;5;241;43m.\u001b[39;49m\u001b[43mtolist\u001b[49m\u001b[43m(\u001b[49m\u001b[43m)\u001b[49m\u001b[43m,\u001b[49m\n\u001b[1;32m     21\u001b[0m \u001b[43m               \u001b[49m\u001b[43moriginal_features\u001b[49m\u001b[38;5;241;43m=\u001b[39;49m\u001b[43mX_train\u001b[49m\u001b[38;5;241;43m.\u001b[39;49m\u001b[43mcolumns\u001b[49m\u001b[38;5;241;43m.\u001b[39;49m\u001b[43mtolist\u001b[49m\u001b[43m(\u001b[49m\u001b[43m)\u001b[49m\u001b[43m,\u001b[49m\n\u001b[1;32m     22\u001b[0m \u001b[43m               \u001b[49m\u001b[43mfeature_ids\u001b[49m\u001b[38;5;241;43m=\u001b[39;49m\u001b[43mX_train\u001b[49m\u001b[38;5;241;43m.\u001b[39;49m\u001b[43mcolumns\u001b[49m\u001b[43m,\u001b[49m\n\u001b[1;32m     23\u001b[0m \u001b[43m               \u001b[49m\u001b[43mtarget_names\u001b[49m\u001b[38;5;241;43m=\u001b[39;49m\u001b[43m[\u001b[49m\u001b[38;5;124;43m'\u001b[39;49m\u001b[38;5;124;43mNOT LEFT\u001b[39;49m\u001b[38;5;124;43m'\u001b[39;49m\u001b[43m,\u001b[49m\u001b[38;5;124;43m'\u001b[39;49m\u001b[38;5;124;43mLEFT\u001b[39;49m\u001b[38;5;124;43m'\u001b[39;49m\u001b[43m]\u001b[49m\u001b[43m,\u001b[49m\n\u001b[1;32m     24\u001b[0m \u001b[43m               \u001b[49m\u001b[43mkyd\u001b[49m\u001b[38;5;241;43m=\u001b[39;49m\u001b[38;5;28;43;01mTrue\u001b[39;49;00m\u001b[43m,\u001b[49m\u001b[43m \u001b[49m\u001b[43mkyd_score\u001b[49m\u001b[43m \u001b[49m\u001b[38;5;241;43m=\u001b[39;49m\u001b[43m \u001b[49m\u001b[38;5;28;43;01mTrue\u001b[39;49;00m\u001b[43m)\u001b[49m\n",
      "File \u001b[0;32m/tmp/pip_packages/refractml/api.py:220\u001b[0m, in \u001b[0;36mregister_model\u001b[0;34m(model_obj, scoring_func, name, description, flavour, tags, init_script, schema, y_true, y_pred, prob, features, labels, model_type, datasource_name, metadata_info, input_type, target_names, target_names_mapping, x_train, y_train, feature_names, feature_ids, explain_ai, x_test, y_test, kyd, kyd_score, pretty_output, custom_score, **kwargs)\u001b[0m\n\u001b[1;32m    217\u001b[0m     model_display \u001b[38;5;241m=\u001b[39m \u001b[38;5;28;01mTrue\u001b[39;00m\n\u001b[1;32m    219\u001b[0m \u001b[38;5;66;03m# register model\u001b[39;00m\n\u001b[0;32m--> 220\u001b[0m ml_model \u001b[38;5;241m=\u001b[39m \u001b[43mregister\u001b[49m\u001b[43m(\u001b[49m\n\u001b[1;32m    221\u001b[0m \u001b[43m    \u001b[49m\u001b[43mname\u001b[49m\u001b[43m,\u001b[49m\n\u001b[1;32m    222\u001b[0m \u001b[43m    \u001b[49m\u001b[43mdescription\u001b[49m\u001b[43m,\u001b[49m\n\u001b[1;32m    223\u001b[0m \u001b[43m    \u001b[49m\u001b[43mflavour\u001b[49m\u001b[43m,\u001b[49m\n\u001b[1;32m    224\u001b[0m \u001b[43m    \u001b[49m\u001b[43mschema\u001b[49m\u001b[43m,\u001b[49m\n\u001b[1;32m    225\u001b[0m \u001b[43m    \u001b[49m\u001b[43mmetadata_info\u001b[49m\u001b[43m,\u001b[49m\n\u001b[1;32m    226\u001b[0m \u001b[43m    \u001b[49m\u001b[43mmodel_display\u001b[49m\u001b[38;5;241;43m=\u001b[39;49m\u001b[43mmodel_display\u001b[49m\u001b[43m,\u001b[49m\n\u001b[1;32m    227\u001b[0m \u001b[43m    \u001b[49m\u001b[43msource\u001b[49m\u001b[38;5;241;43m=\u001b[39;49m\u001b[43msource\u001b[49m\u001b[43m,\u001b[49m\n\u001b[1;32m    228\u001b[0m \u001b[43m    \u001b[49m\u001b[43minit_script\u001b[49m\u001b[38;5;241;43m=\u001b[39;49m\u001b[43mcreate_init_script\u001b[49m\u001b[43m(\u001b[49m\u001b[43minit_script\u001b[49m\u001b[43m,\u001b[49m\u001b[43m \u001b[49m\u001b[43mflavour\u001b[49m\u001b[43m)\u001b[49m\u001b[43m,\u001b[49m\n\u001b[1;32m    229\u001b[0m \u001b[43m    \u001b[49m\u001b[43minput_type\u001b[49m\u001b[38;5;241;43m=\u001b[39;49m\u001b[43minput_type\u001b[49m\u001b[43m,\u001b[49m\n\u001b[1;32m    230\u001b[0m \u001b[43m    \u001b[49m\u001b[43mtarget_names\u001b[49m\u001b[38;5;241;43m=\u001b[39;49m\u001b[43m{\u001b[49m\u001b[38;5;124;43m\"\u001b[39;49m\u001b[38;5;124;43mtarget\u001b[39;49m\u001b[38;5;124;43m\"\u001b[39;49m\u001b[43m:\u001b[49m\u001b[43m \u001b[49m\u001b[43mtarget_names\u001b[49m\u001b[43m}\u001b[49m\u001b[43m,\u001b[49m\n\u001b[1;32m    231\u001b[0m \u001b[43m    \u001b[49m\u001b[43mdatasource_name\u001b[49m\u001b[38;5;241;43m=\u001b[39;49m\u001b[43mdatasource_name\u001b[49m\u001b[43m,\u001b[49m\n\u001b[1;32m    232\u001b[0m \u001b[43m    \u001b[49m\u001b[43mmodel_class\u001b[49m\u001b[38;5;241;43m=\u001b[39;49m\u001b[43mget_model_structure\u001b[49m\u001b[43m(\u001b[49m\u001b[43mmodel_obj\u001b[49m\u001b[43m,\u001b[49m\u001b[43m \u001b[49m\u001b[43mflavour\u001b[49m\u001b[43m)\u001b[49m\u001b[43m,\u001b[49m\n\u001b[1;32m    233\u001b[0m \u001b[43m    \u001b[49m\u001b[43mtar_file\u001b[49m\u001b[38;5;241;43m=\u001b[39;49m\u001b[43martifacts_tar\u001b[49m\u001b[43m,\u001b[49m\n\u001b[1;32m    234\u001b[0m \u001b[43m    \u001b[49m\u001b[43mtags\u001b[49m\u001b[38;5;241;43m=\u001b[39;49m\u001b[43mtags\u001b[49m\u001b[43m,\u001b[49m\n\u001b[1;32m    235\u001b[0m \u001b[43m    \u001b[49m\u001b[43mmodel_info\u001b[49m\u001b[38;5;241;43m=\u001b[39;49m\u001b[43mmodel_info\u001b[49m\u001b[43m,\u001b[49m\n\u001b[1;32m    236\u001b[0m \u001b[43m    \u001b[49m\u001b[43mscore_file\u001b[49m\u001b[38;5;241;43m=\u001b[39;49m\u001b[43mdump_score_func\u001b[49m\u001b[43m(\u001b[49m\u001b[43mscoring_func\u001b[49m\u001b[43m)\u001b[49m\n\u001b[1;32m    237\u001b[0m \u001b[43m\u001b[49m\u001b[43m)\u001b[49m \n\u001b[1;32m    238\u001b[0m _ml_model_id \u001b[38;5;241m=\u001b[39m ml_model[\u001b[38;5;124m\"\u001b[39m\u001b[38;5;124mid\u001b[39m\u001b[38;5;124m\"\u001b[39m]\n\u001b[1;32m    239\u001b[0m ml_model[\u001b[38;5;124m\"\u001b[39m\u001b[38;5;124mversions\u001b[39m\u001b[38;5;124m\"\u001b[39m]\u001b[38;5;241m.\u001b[39msort(key\u001b[38;5;241m=\u001b[39m\u001b[38;5;28;01mlambda\u001b[39;00m x: x[\u001b[38;5;124m\"\u001b[39m\u001b[38;5;124mcreated_on\u001b[39m\u001b[38;5;124m\"\u001b[39m])\n",
      "File \u001b[0;32m/tmp/pip_packages/refractml/api.py:341\u001b[0m, in \u001b[0;36mregister\u001b[0;34m(name, description, flavour, schema, metadata_info, init_script, input_type, target_names, datasource_name, model_class, tar_file, model_display, source, tags, model_info, model_list, score_file)\u001b[0m\n\u001b[1;32m    339\u001b[0m response \u001b[38;5;241m=\u001b[39m requests\u001b[38;5;241m.\u001b[39mpost(url, data\u001b[38;5;241m=\u001b[39mmultipart_data, headers\u001b[38;5;241m=\u001b[39mheaders)\n\u001b[1;32m    340\u001b[0m \u001b[38;5;28;01mif\u001b[39;00m response\u001b[38;5;241m.\u001b[39mstatus_code \u001b[38;5;241m!=\u001b[39m \u001b[38;5;241m200\u001b[39m:\n\u001b[0;32m--> 341\u001b[0m     \u001b[38;5;28;01mraise\u001b[39;00m \u001b[38;5;167;01mException\u001b[39;00m(response\u001b[38;5;241m.\u001b[39mtext)\n\u001b[1;32m    342\u001b[0m \u001b[38;5;28;01mreturn\u001b[39;00m response\u001b[38;5;241m.\u001b[39mjson()\n",
      "\u001b[0;31mException\u001b[0m: Unable to register model. Please try after some time"
     ]
    }
   ],
   "source": [
    "## registering the model in refract.\n",
    "tmp = register_model(model, \n",
    "               score, \n",
    "               name=\"HR_ANALYTICS_Snowflake\", \n",
    "               description=\"HR ANALYTICS model trained on Snowflake\",\n",
    "               flavour=MLModelFlavours.sklearn,\n",
    "               model_type=\"classification\",\n",
    "               y_true=y_test,\n",
    "               y_pred=y_pred, \n",
    "               features=X_train.columns,\n",
    "               labels=[False,True], \n",
    "               init_script=\"\" ,\n",
    "               input_type=\"json\", \n",
    "               explain_ai=True,\n",
    "               prob=y_prob,\n",
    "               x_train=X_train, \n",
    "               x_test=X_test, \n",
    "               y_train=y_train.tolist(),\n",
    "               y_test=y_test.tolist(),\n",
    "               feature_names=X_train.columns.tolist(),\n",
    "               original_features=X_train.columns.tolist(),\n",
    "               feature_ids=X_train.columns,\n",
    "               target_names=['NOT LEFT','LEFT'],\n",
    "               kyd=True, kyd_score = True)\n"
   ]
  },
  {
   "cell_type": "markdown",
   "id": "2f14b462",
   "metadata": {},
   "source": [
    "{'payload': '{\"SALARY\":{\"0\":29633.849},\"SENIORITY\":{\"0\":1},\"TENURE_MONTHS\":{\"0\":25},\"MONTHS_AFTER_COLLEGE\":{\"0\":11},\"BIRTH_YEAR\":{\"0\":1991},\"MAPPED_ROLE_CLEAN\":{\"0\":\"nurse\"},\"SEX\":{\"0\":\"F\"},\"ETHNICITY\":{\"0\":\"White\"},\"HOSPITAL_TYPE\":{\"0\":\"Acute Care Hospitals\"},\"HOSPITAL_OWNERSHIP\":{\"0\":\"Voluntary non-profit - Church\"},\"COMPANY_NAME\":{\"0\":\"Mayo Clinic\"},\"CITY_STATE\":{\"0\":\"Rochester, MN\"},\"DISTANCE\":{\"0\":\"<2mi\"},\"DEGREE_CLEAN\":{\"0\":\"Other\"},\"SCHOOL_ENDDATE\":{\"0\":\"2015-01-01\"},\"JOB_STARTDATE\":{\"0\":\"2015-12-01\"},\"JOB_ENDDATE\":{\"0\":null},\"USER_ID\":{\"0\":813877070},\"OVERTIME_HOURS\":{\"0\":3}}'}"
   ]
  },
  {
   "cell_type": "code",
   "execution_count": 9,
   "id": "f50ca3dc",
   "metadata": {},
   "outputs": [],
   "source": [
    "## getting data back to refract\n",
    "table_name = 'EMPLOYEES_CHURN_PREDICTED'\n",
    "sdf = session.table(f'{table_name}')\n",
    "pdf = sdf.toPandas()"
   ]
  },
  {
   "cell_type": "code",
   "execution_count": 10,
   "id": "e9710192",
   "metadata": {},
   "outputs": [
    {
     "data": {
      "text/html": [
       "<div>\n",
       "<style scoped>\n",
       "    .dataframe tbody tr th:only-of-type {\n",
       "        vertical-align: middle;\n",
       "    }\n",
       "\n",
       "    .dataframe tbody tr th {\n",
       "        vertical-align: top;\n",
       "    }\n",
       "\n",
       "    .dataframe thead th {\n",
       "        text-align: right;\n",
       "    }\n",
       "</style>\n",
       "<table border=\"1\" class=\"dataframe\">\n",
       "  <thead>\n",
       "    <tr style=\"text-align: right;\">\n",
       "      <th></th>\n",
       "      <th>SALARY</th>\n",
       "      <th>SENIORITY</th>\n",
       "      <th>TENURE_MONTHS</th>\n",
       "      <th>MONTHS_AFTER_COLLEGE</th>\n",
       "      <th>BIRTH_YEAR</th>\n",
       "      <th>MAPPED_ROLE_CLEAN</th>\n",
       "      <th>SEX</th>\n",
       "      <th>ETHNICITY</th>\n",
       "      <th>HOSPITAL_TYPE</th>\n",
       "      <th>HOSPITAL_OWNERSHIP</th>\n",
       "      <th>...</th>\n",
       "      <th>CITY_STATE</th>\n",
       "      <th>DISTANCE</th>\n",
       "      <th>DEGREE_CLEAN</th>\n",
       "      <th>SCHOOL_ENDDATE</th>\n",
       "      <th>JOB_STARTDATE</th>\n",
       "      <th>JOB_ENDDATE</th>\n",
       "      <th>USER_ID</th>\n",
       "      <th>OVERTIME_HOURS</th>\n",
       "      <th>CHURN</th>\n",
       "      <th>CHURN_PREDICT</th>\n",
       "    </tr>\n",
       "  </thead>\n",
       "  <tbody>\n",
       "    <tr>\n",
       "      <th>0</th>\n",
       "      <td>37806.933</td>\n",
       "      <td>1</td>\n",
       "      <td>88</td>\n",
       "      <td>3</td>\n",
       "      <td>1983</td>\n",
       "      <td>social</td>\n",
       "      <td>F</td>\n",
       "      <td>White</td>\n",
       "      <td>Psychiatric</td>\n",
       "      <td>Voluntary non-profit - Private</td>\n",
       "      <td>...</td>\n",
       "      <td>Orlando, FL</td>\n",
       "      <td>&lt;2mi</td>\n",
       "      <td>Masters_Degree</td>\n",
       "      <td>2008-01-31</td>\n",
       "      <td>2008-04-01</td>\n",
       "      <td>2015-10-01</td>\n",
       "      <td>870835513</td>\n",
       "      <td>14</td>\n",
       "      <td>False</td>\n",
       "      <td>false</td>\n",
       "    </tr>\n",
       "    <tr>\n",
       "      <th>1</th>\n",
       "      <td>52052.060</td>\n",
       "      <td>2</td>\n",
       "      <td>21</td>\n",
       "      <td>44</td>\n",
       "      <td>1987</td>\n",
       "      <td>technologist</td>\n",
       "      <td>F</td>\n",
       "      <td>White</td>\n",
       "      <td>Acute Care Hospitals</td>\n",
       "      <td>Voluntary non-profit - Private</td>\n",
       "      <td>...</td>\n",
       "      <td>Cleveland, OH</td>\n",
       "      <td>&gt;10mi</td>\n",
       "      <td>Bachelors_Degree</td>\n",
       "      <td>2010-01-01</td>\n",
       "      <td>2013-09-01</td>\n",
       "      <td>2015-08-01</td>\n",
       "      <td>810298642</td>\n",
       "      <td>14</td>\n",
       "      <td>True</td>\n",
       "      <td>true</td>\n",
       "    </tr>\n",
       "    <tr>\n",
       "      <th>2</th>\n",
       "      <td>78365.115</td>\n",
       "      <td>4</td>\n",
       "      <td>40</td>\n",
       "      <td>88</td>\n",
       "      <td>1983</td>\n",
       "      <td>nurse</td>\n",
       "      <td>F</td>\n",
       "      <td>White</td>\n",
       "      <td>Psychiatric</td>\n",
       "      <td>Voluntary non-profit - Private</td>\n",
       "      <td>...</td>\n",
       "      <td>Orlando, FL</td>\n",
       "      <td>&lt;2mi</td>\n",
       "      <td>Professional_Certificate</td>\n",
       "      <td>2008-01-01</td>\n",
       "      <td>2015-05-01</td>\n",
       "      <td>2018-10-01</td>\n",
       "      <td>344881095</td>\n",
       "      <td>13</td>\n",
       "      <td>False</td>\n",
       "      <td>false</td>\n",
       "    </tr>\n",
       "    <tr>\n",
       "      <th>3</th>\n",
       "      <td>47710.345</td>\n",
       "      <td>1</td>\n",
       "      <td>7</td>\n",
       "      <td>31</td>\n",
       "      <td>1992</td>\n",
       "      <td>nurse</td>\n",
       "      <td>M</td>\n",
       "      <td>Black</td>\n",
       "      <td>Acute Care Hospitals</td>\n",
       "      <td>Proprietary</td>\n",
       "      <td>...</td>\n",
       "      <td>Detroit, MI</td>\n",
       "      <td>&gt;10mi</td>\n",
       "      <td>Masters_Degree</td>\n",
       "      <td>2018-01-01</td>\n",
       "      <td>2020-08-01</td>\n",
       "      <td>None</td>\n",
       "      <td>566752971</td>\n",
       "      <td>14</td>\n",
       "      <td>False</td>\n",
       "      <td>true</td>\n",
       "    </tr>\n",
       "    <tr>\n",
       "      <th>4</th>\n",
       "      <td>58243.676</td>\n",
       "      <td>1</td>\n",
       "      <td>30</td>\n",
       "      <td>98</td>\n",
       "      <td>1985</td>\n",
       "      <td>nurse</td>\n",
       "      <td>F</td>\n",
       "      <td>White</td>\n",
       "      <td>Acute Care Hospitals</td>\n",
       "      <td>Voluntary non-profit - Private</td>\n",
       "      <td>...</td>\n",
       "      <td>Cleveland, OH</td>\n",
       "      <td>&gt;10mi</td>\n",
       "      <td>Bachelors_Degree</td>\n",
       "      <td>2010-01-01</td>\n",
       "      <td>2018-03-01</td>\n",
       "      <td>2020-11-01</td>\n",
       "      <td>810298642</td>\n",
       "      <td>13</td>\n",
       "      <td>False</td>\n",
       "      <td>false</td>\n",
       "    </tr>\n",
       "  </tbody>\n",
       "</table>\n",
       "<p>5 rows × 21 columns</p>\n",
       "</div>"
      ],
      "text/plain": [
       "      SALARY  SENIORITY  TENURE_MONTHS  MONTHS_AFTER_COLLEGE  BIRTH_YEAR  \\\n",
       "0  37806.933          1             88                     3        1983   \n",
       "1  52052.060          2             21                    44        1987   \n",
       "2  78365.115          4             40                    88        1983   \n",
       "3  47710.345          1              7                    31        1992   \n",
       "4  58243.676          1             30                    98        1985   \n",
       "\n",
       "  MAPPED_ROLE_CLEAN SEX ETHNICITY         HOSPITAL_TYPE  \\\n",
       "0            social   F     White           Psychiatric   \n",
       "1      technologist   F     White  Acute Care Hospitals   \n",
       "2             nurse   F     White           Psychiatric   \n",
       "3             nurse   M     Black  Acute Care Hospitals   \n",
       "4             nurse   F     White  Acute Care Hospitals   \n",
       "\n",
       "               HOSPITAL_OWNERSHIP  ...     CITY_STATE DISTANCE  \\\n",
       "0  Voluntary non-profit - Private  ...    Orlando, FL     <2mi   \n",
       "1  Voluntary non-profit - Private  ...  Cleveland, OH    >10mi   \n",
       "2  Voluntary non-profit - Private  ...    Orlando, FL     <2mi   \n",
       "3                     Proprietary  ...    Detroit, MI    >10mi   \n",
       "4  Voluntary non-profit - Private  ...  Cleveland, OH    >10mi   \n",
       "\n",
       "               DEGREE_CLEAN SCHOOL_ENDDATE JOB_STARTDATE JOB_ENDDATE  \\\n",
       "0            Masters_Degree     2008-01-31    2008-04-01  2015-10-01   \n",
       "1          Bachelors_Degree     2010-01-01    2013-09-01  2015-08-01   \n",
       "2  Professional_Certificate     2008-01-01    2015-05-01  2018-10-01   \n",
       "3            Masters_Degree     2018-01-01    2020-08-01        None   \n",
       "4          Bachelors_Degree     2010-01-01    2018-03-01  2020-11-01   \n",
       "\n",
       "     USER_ID  OVERTIME_HOURS  CHURN  CHURN_PREDICT  \n",
       "0  870835513              14  False          false  \n",
       "1  810298642              14   True           true  \n",
       "2  344881095              13  False          false  \n",
       "3  566752971              14  False           true  \n",
       "4  810298642              13  False          false  \n",
       "\n",
       "[5 rows x 21 columns]"
      ]
     },
     "execution_count": 10,
     "metadata": {},
     "output_type": "execute_result"
    }
   ],
   "source": [
    "pdf.head()"
   ]
  },
  {
   "cell_type": "code",
   "execution_count": 12,
   "id": "7f1a1606",
   "metadata": {},
   "outputs": [],
   "source": [
    "pdf.to_csv(\"/data/HR_analytics_data_scored.csv\", index=False)"
   ]
  }
 ],
 "metadata": {
  "kernelspec": {
   "display_name": "Python 3",
   "language": "python",
   "name": "python3"
  },
  "language_info": {
   "codemirror_mode": {
    "name": "ipython",
    "version": 3
   },
   "file_extension": ".py",
   "mimetype": "text/x-python",
   "name": "python",
   "nbconvert_exporter": "python",
   "pygments_lexer": "ipython3",
   "version": "3.8.13"
  }
 },
 "nbformat": 4,
 "nbformat_minor": 5
}
