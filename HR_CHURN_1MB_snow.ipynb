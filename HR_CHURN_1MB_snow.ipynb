{
 "cells": [
  {
   "cell_type": "code",
   "execution_count": null,
   "id": "19de00fe-38a2-4d1d-bc02-eb0f7eaa5697",
   "metadata": {},
   "outputs": [],
   "source": [
    "# pip install fosforml"
   ]
  },
  {
   "cell_type": "code",
   "execution_count": null,
   "id": "faf8bdc6-6edf-462a-ad7a-1ad706ac594b",
   "metadata": {},
   "outputs": [],
   "source": [
    "# pip show fosforml"
   ]
  },
  {
   "cell_type": "code",
   "execution_count": null,
   "id": "50b98d50",
   "metadata": {},
   "outputs": [],
   "source": [
    "from fosforml.model_manager.snowflakesession import get_session\n",
    "session = get_session()\n",
    "session\n",
    "s_df = session.sql(\"SELECT * FROM FDC_INSIGHTS_PT.INSIGHT_SPCS_SCHEMA.HR_CHURN_LATEST1MB\")\n",
    "s_df.collect()\n",
    "# s_df = session.sql(\"SELECT * FROM SPCS_AMIT.SCHEMA_SPCS_AMIT.FDC_MODEL_MONITORING_AMIT\")\n",
    "# s_df.collect()"
   ]
  },
  {
   "cell_type": "code",
   "execution_count": 8,
   "id": "68fac18e",
   "metadata": {},
   "outputs": [],
   "source": [
    "from snowflake.snowpark.session import Session,col\n",
    "import snowflake.snowpark.functions\n",
    "from snowflake.ml.modeling.metrics import confusion_matrix, accuracy_score, f1_score, recall_score,precision_score\n",
    "from snowflake.ml.modeling.preprocessing import LabelEncoder, StandardScaler\n",
    "from snowflake.ml.modeling.impute import SimpleImputer\n",
    "from snowflake.ml.modeling.ensemble import RandomForestRegressor\n",
    "from snowflake.ml.modeling.pipeline import Pipeline\n",
    "import snowflake"
   ]
  },
  {
   "cell_type": "code",
   "execution_count": 9,
   "id": "49d41f5e",
   "metadata": {},
   "outputs": [],
   "source": [
    "def apply_label_encoding(input_data_frame):\n",
    "    for i in input_data_frame.dtypes:\n",
    "        if i[1].find('string') >= 0:\n",
    "            label_encoder = LabelEncoder(input_cols=i[0],output_cols=i[0],drop_input_cols=True)\n",
    "            input_data_frame = label_encoder.fit(input_data_frame).transform(input_data_frame)\n",
    "    return input_data_frame"
   ]
  },
  {
   "cell_type": "code",
   "execution_count": 10,
   "id": "ae7f5cbe",
   "metadata": {},
   "outputs": [],
   "source": [
    "# import pandas as pd\n",
    "# df = pd.read_csv(\"/notebooks/notebooks/HR_CHURN_LATEST.csv\")\n",
    "# snow_df = session.create_dataframe(df)\n",
    "\n",
    "input_data_frame, test_df = s_df.randomSplit([0.75, 0.25])"
   ]
  },
  {
   "cell_type": "code",
   "execution_count": 12,
   "id": "1f02d4b3",
   "metadata": {
    "scrolled": true
   },
   "outputs": [
    {
     "ename": "NotImplementedError",
     "evalue": "(0000) Column(\"DEPARTMENT\" = LITERAL)._ast is None due to the use of a Snowpark API which does not support AST logging yet.",
     "output_type": "error",
     "traceback": [
      "\u001b[0;31m---------------------------------------------------------------------------\u001b[0m",
      "\u001b[0;31mNotImplementedError\u001b[0m                       Traceback (most recent call last)",
      "File \u001b[0;32m/opt/conda/lib/python3.10/site-packages/snowflake/ml/_internal/telemetry.py:368\u001b[0m, in \u001b[0;36msend_api_usage_telemetry.<locals>.decorator.<locals>.wrap\u001b[0;34m(*args, **kwargs)\u001b[0m\n\u001b[1;32m    367\u001b[0m \u001b[38;5;28;01mtry\u001b[39;00m:\n\u001b[0;32m--> 368\u001b[0m     res \u001b[38;5;241m=\u001b[39m \u001b[43mfunc\u001b[49m\u001b[43m(\u001b[49m\u001b[38;5;241;43m*\u001b[39;49m\u001b[43margs\u001b[49m\u001b[43m,\u001b[49m\u001b[43m \u001b[49m\u001b[38;5;241;43m*\u001b[39;49m\u001b[38;5;241;43m*\u001b[39;49m\u001b[43mkwargs\u001b[49m\u001b[43m)\u001b[49m\n\u001b[1;32m    369\u001b[0m \u001b[38;5;28;01mexcept\u001b[39;00m \u001b[38;5;167;01mException\u001b[39;00m \u001b[38;5;28;01mas\u001b[39;00m e:\n",
      "File \u001b[0;32m/opt/conda/lib/python3.10/site-packages/snowflake/ml/modeling/preprocessing/label_encoder.py:154\u001b[0m, in \u001b[0;36mLabelEncoder.transform\u001b[0;34m(self, dataset)\u001b[0m\n\u001b[1;32m    153\u001b[0m     \u001b[38;5;28;01massert\u001b[39;00m \u001b[38;5;28mself\u001b[39m\u001b[38;5;241m.\u001b[39m_ordinal_encoder \u001b[38;5;129;01mis\u001b[39;00m \u001b[38;5;129;01mnot\u001b[39;00m \u001b[38;5;28;01mNone\u001b[39;00m\n\u001b[0;32m--> 154\u001b[0m     output_df \u001b[38;5;241m=\u001b[39m \u001b[38;5;28;43mself\u001b[39;49m\u001b[38;5;241;43m.\u001b[39;49m\u001b[43m_ordinal_encoder\u001b[49m\u001b[38;5;241;43m.\u001b[39;49m\u001b[43mtransform\u001b[49m\u001b[43m(\u001b[49m\u001b[43mdataset\u001b[49m\u001b[43m)\u001b[49m\u001b[38;5;241;43m.\u001b[39;49m\u001b[43mna\u001b[49m\u001b[38;5;241;43m.\u001b[39;49m\u001b[43mreplace\u001b[49m\u001b[43m(\u001b[49m\n\u001b[1;32m    155\u001b[0m \u001b[43m        \u001b[49m\u001b[38;5;28;43mfloat\u001b[39;49m\u001b[43m(\u001b[49m\u001b[38;5;124;43m\"\u001b[39;49m\u001b[38;5;124;43mnan\u001b[39;49m\u001b[38;5;124;43m\"\u001b[39;49m\u001b[43m)\u001b[49m\u001b[43m,\u001b[49m\n\u001b[1;32m    156\u001b[0m \u001b[43m        \u001b[49m\u001b[38;5;28;43mlen\u001b[39;49m\u001b[43m(\u001b[49m\u001b[38;5;28;43mself\u001b[39;49m\u001b[38;5;241;43m.\u001b[39;49m\u001b[43mclasses_\u001b[49m\u001b[43m)\u001b[49m\u001b[43m \u001b[49m\u001b[38;5;241;43m-\u001b[39;49m\u001b[43m \u001b[49m\u001b[38;5;241;43m1\u001b[39;49m\u001b[43m,\u001b[49m\u001b[43m  \u001b[49m\u001b[38;5;66;43;03m# type: ignore[arg-type]\u001b[39;49;00m\n\u001b[1;32m    157\u001b[0m \u001b[43m        \u001b[49m\u001b[43msubset\u001b[49m\u001b[38;5;241;43m=\u001b[39;49m\u001b[38;5;28;43mself\u001b[39;49m\u001b[38;5;241;43m.\u001b[39;49m\u001b[43moutput_cols\u001b[49m\u001b[43m,\u001b[49m\n\u001b[1;32m    158\u001b[0m \u001b[43m    \u001b[49m\u001b[43m)\u001b[49m\n\u001b[1;32m    159\u001b[0m \u001b[38;5;28;01melse\u001b[39;00m:\n",
      "File \u001b[0;32m/opt/conda/lib/python3.10/site-packages/snowflake/snowpark/_internal/utils.py:960\u001b[0m, in \u001b[0;36mpublicapi.<locals>.func_call_wrapper\u001b[0;34m(*args, **kwargs)\u001b[0m\n\u001b[1;32m    958\u001b[0m \u001b[38;5;66;03m# TODO: Could modify internal docstring to display that users should not modify the _emit_ast parameter.\u001b[39;00m\n\u001b[0;32m--> 960\u001b[0m \u001b[38;5;28;01mreturn\u001b[39;00m \u001b[43mfunc\u001b[49m\u001b[43m(\u001b[49m\u001b[38;5;241;43m*\u001b[39;49m\u001b[43margs\u001b[49m\u001b[43m,\u001b[49m\u001b[43m \u001b[49m\u001b[38;5;241;43m*\u001b[39;49m\u001b[38;5;241;43m*\u001b[39;49m\u001b[43mkwargs\u001b[49m\u001b[43m)\u001b[49m\n",
      "File \u001b[0;32m/opt/conda/lib/python3.10/site-packages/snowflake/snowpark/dataframe_na_functions.py:678\u001b[0m, in \u001b[0;36mDataFrameNaFunctions.replace\u001b[0;34m(self, to_replace, value, subset, _emit_ast)\u001b[0m\n\u001b[1;32m    674\u001b[0m     replace_value \u001b[38;5;241m=\u001b[39m lit(\u001b[38;5;28;01mNone\u001b[39;00m) \u001b[38;5;28;01mif\u001b[39;00m value \u001b[38;5;129;01mis\u001b[39;00m \u001b[38;5;28;01mNone\u001b[39;00m \u001b[38;5;28;01melse\u001b[39;00m lit(value)\n\u001b[1;32m    675\u001b[0m     case_when \u001b[38;5;241m=\u001b[39m (\n\u001b[1;32m    676\u001b[0m         case_when\u001b[38;5;241m.\u001b[39mwhen(cond, replace_value)\n\u001b[1;32m    677\u001b[0m         \u001b[38;5;28;01mif\u001b[39;00m case_when \u001b[38;5;129;01mis\u001b[39;00m \u001b[38;5;129;01mnot\u001b[39;00m \u001b[38;5;28;01mNone\u001b[39;00m\n\u001b[0;32m--> 678\u001b[0m         \u001b[38;5;28;01melse\u001b[39;00m \u001b[43mwhen\u001b[49m\u001b[43m(\u001b[49m\u001b[43mcond\u001b[49m\u001b[43m,\u001b[49m\u001b[43m \u001b[49m\u001b[43mreplace_value\u001b[49m\u001b[43m)\u001b[49m\n\u001b[1;32m    679\u001b[0m     )\n\u001b[1;32m    680\u001b[0m \u001b[38;5;28;01melse\u001b[39;00m:\n",
      "File \u001b[0;32m/opt/conda/lib/python3.10/site-packages/snowflake/snowpark/_internal/utils.py:960\u001b[0m, in \u001b[0;36mpublicapi.<locals>.func_call_wrapper\u001b[0;34m(*args, **kwargs)\u001b[0m\n\u001b[1;32m    958\u001b[0m \u001b[38;5;66;03m# TODO: Could modify internal docstring to display that users should not modify the _emit_ast parameter.\u001b[39;00m\n\u001b[0;32m--> 960\u001b[0m \u001b[38;5;28;01mreturn\u001b[39;00m \u001b[43mfunc\u001b[49m\u001b[43m(\u001b[49m\u001b[38;5;241;43m*\u001b[39;49m\u001b[43margs\u001b[49m\u001b[43m,\u001b[49m\u001b[43m \u001b[49m\u001b[38;5;241;43m*\u001b[39;49m\u001b[38;5;241;43m*\u001b[39;49m\u001b[43mkwargs\u001b[49m\u001b[43m)\u001b[49m\n",
      "File \u001b[0;32m/opt/conda/lib/python3.10/site-packages/snowflake/snowpark/functions.py:7947\u001b[0m, in \u001b[0;36mwhen\u001b[0;34m(condition, value, _emit_ast)\u001b[0m\n\u001b[1;32m   7946\u001b[0m case_expr \u001b[38;5;241m=\u001b[39m with_src_position(expr\u001b[38;5;241m.\u001b[39mcases\u001b[38;5;241m.\u001b[39madd())\n\u001b[0;32m-> 7947\u001b[0m \u001b[43mbuild_expr_from_snowpark_column_or_sql_str\u001b[49m\u001b[43m(\u001b[49m\u001b[43mcase_expr\u001b[49m\u001b[38;5;241;43m.\u001b[39;49m\u001b[43mcondition\u001b[49m\u001b[43m,\u001b[49m\u001b[43m \u001b[49m\u001b[43mcondition\u001b[49m\u001b[43m)\u001b[49m\n\u001b[1;32m   7948\u001b[0m build_expr_from_snowpark_column_or_python_val(case_expr\u001b[38;5;241m.\u001b[39mvalue, value)\n",
      "File \u001b[0;32m/opt/conda/lib/python3.10/site-packages/snowflake/snowpark/_internal/ast/utils.py:750\u001b[0m, in \u001b[0;36mbuild_expr_from_snowpark_column_or_sql_str\u001b[0;34m(expr_builder, value)\u001b[0m\n\u001b[1;32m    749\u001b[0m \u001b[38;5;28;01mif\u001b[39;00m \u001b[38;5;28misinstance\u001b[39m(value, snowflake\u001b[38;5;241m.\u001b[39msnowpark\u001b[38;5;241m.\u001b[39mColumn):\n\u001b[0;32m--> 750\u001b[0m     \u001b[43mbuild_expr_from_snowpark_column\u001b[49m\u001b[43m(\u001b[49m\u001b[43mexpr_builder\u001b[49m\u001b[43m,\u001b[49m\u001b[43m \u001b[49m\u001b[43mvalue\u001b[49m\u001b[43m)\u001b[49m\n\u001b[1;32m    751\u001b[0m \u001b[38;5;28;01melif\u001b[39;00m \u001b[38;5;28misinstance\u001b[39m(value, \u001b[38;5;28mstr\u001b[39m):\n",
      "File \u001b[0;32m/opt/conda/lib/python3.10/site-packages/snowflake/snowpark/_internal/ast/utils.py:705\u001b[0m, in \u001b[0;36mbuild_expr_from_snowpark_column\u001b[0;34m(expr_builder, value)\u001b[0m\n\u001b[1;32m    704\u001b[0m \u001b[38;5;28;01mif\u001b[39;00m value\u001b[38;5;241m.\u001b[39m_ast \u001b[38;5;129;01mis\u001b[39;00m \u001b[38;5;28;01mNone\u001b[39;00m \u001b[38;5;129;01mand\u001b[39;00m FAIL_ON_MISSING_AST:  \u001b[38;5;66;03m# type: ignore[attr-defined] # TODO(SNOW-1491199) # \"Column\" has no attribute \"_ast\"; maybe \"_cast\"?\u001b[39;00m\n\u001b[0;32m--> 705\u001b[0m     \u001b[38;5;28;01mraise\u001b[39;00m \u001b[38;5;167;01mNotImplementedError\u001b[39;00m(\n\u001b[1;32m    706\u001b[0m         \u001b[38;5;124mf\u001b[39m\u001b[38;5;124m\"\u001b[39m\u001b[38;5;124mColumn(\u001b[39m\u001b[38;5;132;01m{\u001b[39;00mvalue\u001b[38;5;241m.\u001b[39m_expression\u001b[38;5;132;01m}\u001b[39;00m\u001b[38;5;124m)._ast is None due to the use of a Snowpark API which does not support AST logging yet.\u001b[39m\u001b[38;5;124m\"\u001b[39m\n\u001b[1;32m    707\u001b[0m     )\n\u001b[1;32m    708\u001b[0m \u001b[38;5;28;01melif\u001b[39;00m value\u001b[38;5;241m.\u001b[39m_ast \u001b[38;5;129;01mis\u001b[39;00m \u001b[38;5;129;01mnot\u001b[39;00m \u001b[38;5;28;01mNone\u001b[39;00m:  \u001b[38;5;66;03m# type: ignore[attr-defined] # TODO(SNOW-1491199) # \"Column\" has no attribute \"_ast\"; maybe \"_cast\"?\u001b[39;00m\n",
      "\u001b[0;31mNotImplementedError\u001b[0m: Column(\"DEPARTMENT\" = LITERAL)._ast is None due to the use of a Snowpark API which does not support AST logging yet.",
      "\nThe above exception was the direct cause of the following exception:\n",
      "\u001b[0;31mNotImplementedError\u001b[0m                       Traceback (most recent call last)",
      "Cell \u001b[0;32mIn[12], line 2\u001b[0m\n\u001b[1;32m      1\u001b[0m label_encoder_column \u001b[38;5;241m=\u001b[39m []     \n\u001b[0;32m----> 2\u001b[0m input_data_frame \u001b[38;5;241m=\u001b[39m \u001b[43mapply_label_encoding\u001b[49m\u001b[43m(\u001b[49m\u001b[43minput_data_frame\u001b[49m\u001b[43m)\u001b[49m\n\u001b[1;32m      3\u001b[0m feature_cols \u001b[38;5;241m=\u001b[39m input_data_frame\u001b[38;5;241m.\u001b[39mcolumns\n\u001b[1;32m      4\u001b[0m target_col \u001b[38;5;241m=\u001b[39m \u001b[38;5;124m\"\u001b[39m\u001b[38;5;124mSALARY\u001b[39m\u001b[38;5;124m\"\u001b[39m\n",
      "Cell \u001b[0;32mIn[9], line 5\u001b[0m, in \u001b[0;36mapply_label_encoding\u001b[0;34m(input_data_frame)\u001b[0m\n\u001b[1;32m      3\u001b[0m     \u001b[38;5;28;01mif\u001b[39;00m i[\u001b[38;5;241m1\u001b[39m]\u001b[38;5;241m.\u001b[39mfind(\u001b[38;5;124m'\u001b[39m\u001b[38;5;124mstring\u001b[39m\u001b[38;5;124m'\u001b[39m) \u001b[38;5;241m>\u001b[39m\u001b[38;5;241m=\u001b[39m \u001b[38;5;241m0\u001b[39m:\n\u001b[1;32m      4\u001b[0m         label_encoder \u001b[38;5;241m=\u001b[39m LabelEncoder(input_cols\u001b[38;5;241m=\u001b[39mi[\u001b[38;5;241m0\u001b[39m],output_cols\u001b[38;5;241m=\u001b[39mi[\u001b[38;5;241m0\u001b[39m],drop_input_cols\u001b[38;5;241m=\u001b[39m\u001b[38;5;28;01mTrue\u001b[39;00m)\n\u001b[0;32m----> 5\u001b[0m         input_data_frame \u001b[38;5;241m=\u001b[39m \u001b[43mlabel_encoder\u001b[49m\u001b[38;5;241;43m.\u001b[39;49m\u001b[43mfit\u001b[49m\u001b[43m(\u001b[49m\u001b[43minput_data_frame\u001b[49m\u001b[43m)\u001b[49m\u001b[38;5;241;43m.\u001b[39;49m\u001b[43mtransform\u001b[49m\u001b[43m(\u001b[49m\u001b[43minput_data_frame\u001b[49m\u001b[43m)\u001b[49m\n\u001b[1;32m      6\u001b[0m \u001b[38;5;28;01mreturn\u001b[39;00m input_data_frame\n",
      "File \u001b[0;32m/opt/conda/lib/python3.10/site-packages/snowflake/ml/_internal/telemetry.py:390\u001b[0m, in \u001b[0;36msend_api_usage_telemetry.<locals>.decorator.<locals>.wrap\u001b[0;34m(*args, **kwargs)\u001b[0m\n\u001b[1;32m    388\u001b[0m         \u001b[38;5;28;01mraise\u001b[39;00m me\u001b[38;5;241m.\u001b[39moriginal_exception \u001b[38;5;28;01mfrom\u001b[39;00m \u001b[38;5;28;01mNone\u001b[39;00m\n\u001b[1;32m    389\u001b[0m     \u001b[38;5;28;01melse\u001b[39;00m:\n\u001b[0;32m--> 390\u001b[0m         \u001b[38;5;28;01mraise\u001b[39;00m me\u001b[38;5;241m.\u001b[39moriginal_exception \u001b[38;5;28;01mfrom\u001b[39;00m \u001b[38;5;21;01me\u001b[39;00m\n\u001b[1;32m    391\u001b[0m \u001b[38;5;28;01melse\u001b[39;00m:\n\u001b[1;32m    392\u001b[0m     \u001b[38;5;28;01mreturn\u001b[39;00m update_stmt_params_if_snowpark_df(res, statement_params)\n",
      "\u001b[0;31mNotImplementedError\u001b[0m: (0000) Column(\"DEPARTMENT\" = LITERAL)._ast is None due to the use of a Snowpark API which does not support AST logging yet."
     ]
    }
   ],
   "source": [
    "label_encoder_column = []     \n",
    "input_data_frame = apply_label_encoding(input_data_frame)\n",
    "feature_cols = input_data_frame.columns\n",
    "target_col = \"SALARY\"\n",
    "feature_cols.remove(target_col)\n",
    "OUTPUT_COLS = [target_col + '_PREDICTION']\n",
    "input_data_frame.show()"
   ]
  },
  {
   "cell_type": "code",
   "execution_count": null,
   "id": "2d08d49c",
   "metadata": {},
   "outputs": [],
   "source": [
    "pipeline = RandomForestRegressor(input_cols=feature_cols, label_cols=target_col)\n",
    "pipeline.fit(input_data_frame)"
   ]
  },
  {
   "cell_type": "code",
   "execution_count": null,
   "id": "d0e05f10",
   "metadata": {},
   "outputs": [],
   "source": [
    "pred_snow_df = pipeline.predict(apply_label_encoding(test_df))"
   ]
  },
  {
   "cell_type": "code",
   "execution_count": null,
   "id": "1cc192e6",
   "metadata": {},
   "outputs": [],
   "source": [
    "from fosforml import register_model"
   ]
  },
  {
   "cell_type": "code",
   "execution_count": null,
   "id": "cf512a51",
   "metadata": {},
   "outputs": [],
   "source": [
    "register_model(\n",
    "  model_obj=pipeline,\n",
    "  session=session,\n",
    "  snowflake_df=pred_snow_df,\n",
    "  name=\"HR_Churn_1MB\",\n",
    "  description=\"This is a test model\",\n",
    "  flavour=\"snowflake\",\n",
    "    dataset_source=\"HR_CHURN\",\n",
    "  dataset_name=\"Hr_churn\",\n",
    "  datasource_name=\"Hr_churn\",\n",
    "  model_type=\"regression\",\n",
    "  conda_dependencies=[\"scikit-learn==1.3.2\"],\n",
    "  source=\"Notebook\"\n",
    ")"
   ]
  },
  {
   "cell_type": "code",
   "execution_count": null,
   "id": "d151bb10",
   "metadata": {},
   "outputs": [],
   "source": [
    "# register_model(\n",
    "#   model_obj=pipeline,\n",
    "#   session=session,\n",
    "#   snowflake_df=pred_snow_df,\n",
    "#   name=\"HR_Churn_2_3_10\",\n",
    "#   description=\"This is a test model\",\n",
    "#   flavour=\"snowflake\",\n",
    "#     dataset_source=\"HR_CHURN\",\n",
    "#   dataset_name=\"Hr_churn\",\n",
    "#   datasource_name=\"Hr_churn\",\n",
    "#   model_type=\"regression\",\n",
    "#   conda_dependencies=[\"scikit-learn==1.3.2\"],\n",
    "#   source=\"Notebook\"\n",
    "# )"
   ]
  },
  {
   "cell_type": "code",
   "execution_count": null,
   "id": "4f0da57e",
   "metadata": {},
   "outputs": [],
   "source": [
    "# register_model(\n",
    "#   model_obj=pipeline,\n",
    "#   session=session,\n",
    "#   snowflake_df=pred_snow_df,\n",
    "#   name=\"HR_Churn_3_3_10\",\n",
    "#   description=\"This is a test model\",\n",
    "#   flavour=\"snowflake\",\n",
    "#     dataset_source=\"HR_CHURN\",\n",
    "#   dataset_name=\"Hr_churn\",\n",
    "#   datasource_name=\"Hr_churn\",\n",
    "#   model_type=\"regression\",\n",
    "#   conda_dependencies=[\"scikit-learn==1.3.2\"],\n",
    "#   source=\"Notebook\"\n",
    "# )"
   ]
  },
  {
   "cell_type": "code",
   "execution_count": null,
   "id": "4255d32d",
   "metadata": {},
   "outputs": [],
   "source": [
    "# register_model(\n",
    "#   model_obj=pipeline,\n",
    "#   session=session,\n",
    "#   snowflake_df=pred_snow_df,\n",
    "#   name=\"HR_Churn_4_3_10\",\n",
    "#   description=\"This is a test model\",\n",
    "#   flavour=\"snowflake\",\n",
    "#     dataset_source=\"HR_CHURN\",\n",
    "#   dataset_name=\"Hr_churn\",\n",
    "#   datasource_name=\"Hr_churn\",\n",
    "#   model_type=\"regression\",\n",
    "#   conda_dependencies=[\"scikit-learn==1.3.2\"],\n",
    "#   source=\"Notebook\"\n",
    "# )"
   ]
  },
  {
   "cell_type": "code",
   "execution_count": null,
   "id": "b5f4d3e8",
   "metadata": {},
   "outputs": [],
   "source": [
    "# register_model(\n",
    "#   model_obj=pipeline,\n",
    "#   session=session,\n",
    "#   snowflake_df=pred_snow_df,\n",
    "#   name=\"HR_Churn_5_3_10\",\n",
    "#   description=\"This is a test model\",\n",
    "#   flavour=\"snowflake\",\n",
    "#     dataset_source=\"HR_CHURN\",\n",
    "#   dataset_name=\"Hr_churn\",\n",
    "#   datasource_name=\"Hr_churn\",\n",
    "#   model_type=\"regression\",\n",
    "#   conda_dependencies=[\"scikit-learn==1.3.2\"],\n",
    "#   source=\"Notebook\"\n",
    "# )"
   ]
  }
 ],
 "metadata": {
  "kernelspec": {
   "display_name": "Python 3",
   "language": "python",
   "name": "python3"
  },
  "language_info": {
   "codemirror_mode": {
    "name": "ipython",
    "version": 3
   },
   "file_extension": ".py",
   "mimetype": "text/x-python",
   "name": "python",
   "nbconvert_exporter": "python",
   "pygments_lexer": "ipython3",
   "version": "3.10.15"
  }
 },
 "nbformat": 4,
 "nbformat_minor": 5
}
