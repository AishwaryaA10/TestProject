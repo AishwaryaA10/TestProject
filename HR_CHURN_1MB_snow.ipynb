{
 "cells": [
  {
   "cell_type": "code",
   "execution_count": null,
   "id": "19de00fe-38a2-4d1d-bc02-eb0f7eaa5697",
   "metadata": {},
   "outputs": [],
   "source": [
    "# pip install fosforml"
   ]
  },
  {
   "cell_type": "code",
   "execution_count": null,
   "id": "faf8bdc6-6edf-462a-ad7a-1ad706ac594b",
   "metadata": {},
   "outputs": [],
   "source": [
    "# pip show fosforml"
   ]
  },
  {
   "cell_type": "code",
   "execution_count": null,
   "id": "50b98d50",
   "metadata": {},
   "outputs": [],
   "source": [
    "from fosforml.model_manager.snowflakesession import get_session\n",
    "session = get_session()\n",
    "session\n",
    "s_df = session.sql(\"SELECT * FROM FDC_INSIGHTS_PT.INSIGHT_SPCS_SCHEMA.HR_CHURN_LATEST1MB\")\n",
    "s_df.collect()\n",
    "# s_df = session.sql(\"SELECT * FROM SPCS_AMIT.SCHEMA_SPCS_AMIT.FDC_MODEL_MONITORING_AMIT\")\n",
    "# s_df.collect()"
   ]
  },
  {
   "cell_type": "code",
   "execution_count": 3,
   "id": "68fac18e",
   "metadata": {},
   "outputs": [],
   "source": [
    "from snowflake.snowpark.session import Session,col\n",
    "import snowflake.snowpark.functions\n",
    "from snowflake.ml.modeling.metrics import confusion_matrix, accuracy_score, f1_score, recall_score,precision_score\n",
    "from snowflake.ml.modeling.preprocessing import LabelEncoder, StandardScaler\n",
    "from snowflake.ml.modeling.impute import SimpleImputer\n",
    "from snowflake.ml.modeling.ensemble import RandomForestRegressor\n",
    "from snowflake.ml.modeling.pipeline import Pipeline\n",
    "import snowflake"
   ]
  },
  {
   "cell_type": "code",
   "execution_count": 4,
   "id": "49d41f5e",
   "metadata": {},
   "outputs": [],
   "source": [
    "def apply_label_encoding(input_data_frame):\n",
    "    for i in input_data_frame.dtypes:\n",
    "        if i[1].find('string') >= 0:\n",
    "            label_encoder = LabelEncoder(input_cols=i[0],output_cols=i[0],drop_input_cols=True)\n",
    "            input_data_frame = label_encoder.fit(input_data_frame).transform(input_data_frame)\n",
    "    return input_data_frame"
   ]
  },
  {
   "cell_type": "code",
   "execution_count": 6,
   "id": "ae7f5cbe",
   "metadata": {},
   "outputs": [],
   "source": [
    "# import pandas as pd\n",
    "# df = pd.read_csv(\"/notebooks/notebooks/HR_CHURN_LATEST.csv\")\n",
    "# snow_df = session.create_dataframe(df)\n",
    "\n",
    "input_data_frame, test_df = s_df.randomSplit([0.75, 0.25])"
   ]
  },
  {
   "cell_type": "code",
   "execution_count": 7,
   "id": "1f02d4b3",
   "metadata": {
    "scrolled": true
   },
   "outputs": [
    {
     "name": "stdout",
     "output_type": "stream",
     "text": [
      "------------------------------------------------------------------------------------------------------------------------------------------------------------------------------------------------------------------\n",
      "|\"SALARY\"  |\"DEPARTMENT\"  |\"SR_NO\"  |\"SATISFACTION_LEVEL\"  |\"LAST_EVALUATION\"  |\"NUMBER_PROJECTS\"  |\"AVERAGE_MONTHLY_HOURS\"  |\"TIME_SPEND_COMPANY\"  |\"WORK_ACCIDENT\"  |\"LEFT_COMPANY\"  |\"PROMOTION_LAST_5YEARS\"  |\n",
      "------------------------------------------------------------------------------------------------------------------------------------------------------------------------------------------------------------------\n",
      "|1.0       |7.0           |1        |0.98                  |0.3                |7                  |220                      |3                     |1                |1               |1                        |\n",
      "|0.0       |6.0           |2        |0.41                  |0.9                |6                  |284                      |10                    |1                |0               |1                        |\n",
      "|0.0       |8.0           |3        |0.76                  |0.7                |6                  |190                      |10                    |0                |1               |0                        |\n",
      "|0.0       |5.0           |4        |0.14                  |0.3                |6                  |170                      |6                     |1                |1               |0                        |\n",
      "|2.0       |7.0           |5        |0.54                  |1.0                |5                  |292                      |5                     |1                |0               |1                        |\n",
      "|0.0       |4.0           |7        |0.96                  |0.6                |5                  |143                      |3                     |1                |0               |1                        |\n",
      "|1.0       |8.0           |8        |0.63                  |0.4                |5                  |190                      |5                     |1                |1               |1                        |\n",
      "|2.0       |2.0           |9        |0.19                  |0.7                |2                  |235                      |4                     |0                |0               |0                        |\n",
      "|1.0       |7.0           |12       |0.45                  |0.4                |5                  |131                      |9                     |1                |1               |0                        |\n",
      "|1.0       |3.0           |13       |0.5                   |0.5                |2                  |169                      |5                     |0                |1               |1                        |\n",
      "------------------------------------------------------------------------------------------------------------------------------------------------------------------------------------------------------------------\n",
      "\n"
     ]
    }
   ],
   "source": [
    "label_encoder_column = []     \n",
    "input_data_frame = apply_label_encoding(input_data_frame)\n",
    "feature_cols = input_data_frame.columns\n",
    "target_col = \"SALARY\"\n",
    "feature_cols.remove(target_col)\n",
    "OUTPUT_COLS = [target_col + '_PREDICTION']\n",
    "input_data_frame.show()"
   ]
  },
  {
   "cell_type": "code",
   "execution_count": 8,
   "id": "2d08d49c",
   "metadata": {},
   "outputs": [
    {
     "name": "stderr",
     "output_type": "stream",
     "text": [
      "The version of package 'snowflake-snowpark-python' in the local environment is 1.26.0, which does not fit the criteria for the requirement 'snowflake-snowpark-python'. Your UDF might not work when the package version is different between the server and your local environment.\n",
      "The version of package 'scikit-learn' in the local environment is 1.3.2, which does not fit the criteria for the requirement 'scikit-learn==1.3.0'. Your UDF might not work when the package version is different between the server and your local environment.\n"
     ]
    },
    {
     "ename": "",
     "evalue": "",
     "output_type": "error",
     "traceback": [
      "\u001b[1;31mThe Kernel crashed while executing code in the current cell or a previous cell. \n",
      "\u001b[1;31mPlease review the code in the cell(s) to identify a possible cause of the failure. \n",
      "\u001b[1;31mClick <a href='https://aka.ms/vscodeJupyterKernelCrash'>here</a> for more info. \n",
      "\u001b[1;31mView Jupyter <a href='command:jupyter.viewOutput'>log</a> for further details."
     ]
    }
   ],
   "source": [
    "pipeline = RandomForestRegressor(input_cols=feature_cols, label_cols=target_col)\n",
    "pipeline.fit(input_data_frame)"
   ]
  },
  {
   "cell_type": "code",
   "execution_count": 7,
   "id": "d0e05f10",
   "metadata": {},
   "outputs": [
    {
     "name": "stderr",
     "output_type": "stream",
     "text": [
      "The version of package 'scikit-learn' in the local environment is 1.3.2, which does not fit the criteria for the requirement 'scikit-learn==1.3.0'. Your UDF might not work when the package version is different between the server and your local environment.\n"
     ]
    },
    {
     "ename": "",
     "evalue": "",
     "output_type": "error",
     "traceback": [
      "\u001b[1;31mThe Kernel crashed while executing code in the current cell or a previous cell. \n",
      "\u001b[1;31mPlease review the code in the cell(s) to identify a possible cause of the failure. \n",
      "\u001b[1;31mClick <a href='https://aka.ms/vscodeJupyterKernelCrash'>here</a> for more info. \n",
      "\u001b[1;31mView Jupyter <a href='command:jupyter.viewOutput'>log</a> for further details."
     ]
    }
   ],
   "source": [
    "pred_snow_df = pipeline.predict(apply_label_encoding(test_df))"
   ]
  },
  {
   "cell_type": "code",
   "execution_count": null,
   "id": "1cc192e6",
   "metadata": {},
   "outputs": [],
   "source": [
    "from fosforml import register_model"
   ]
  },
  {
   "cell_type": "code",
   "execution_count": null,
   "id": "cf512a51",
   "metadata": {},
   "outputs": [
    {
     "name": "stdout",
     "output_type": "stream",
     "text": [
      "Calculating build time metrics\n",
      "\n",
      "Progress: ██████████████████                                                     25.0%\n"
     ]
    },
    {
     "name": "stderr",
     "output_type": "stream",
     "text": [
      "The version of package 'scikit-learn' in the local environment is 1.3.2, which does not fit the criteria for the requirement 'scikit-learn==1.3.*'. Your UDF might not work when the package version is different between the server and your local environment.\n",
      "The version of package 'snowflake-snowpark-python' in the local environment is 1.26.0, which does not fit the criteria for the requirement 'snowflake-snowpark-python'. Your UDF might not work when the package version is different between the server and your local environment.\n"
     ]
    },
    {
     "name": "stdout",
     "output_type": "stream",
     "text": [
      "Calculating build time metrics\n",
      "\n",
      "Progress: ███████████████████████████████████                                    50.0%\n",
      "Calculating build time metrics\n",
      "\n",
      "Progress: ████████████████████████████████████████████████████                   75.0%\n",
      "Calculating build time metrics\n",
      "\n",
      "Progress: ██████████████████████████████████████████████████████████████████████ 100.0%\n"
     ]
    },
    {
     "data": {
      "text/plain": [
       "\"Model 'MODEL_9FEB4029_B86E_4724_B4E6_7016390DCFF1_FDC_SNOW_12DEC_HR_CHURN_SNOW_3_10' registered successfully.\""
      ]
     },
     "execution_count": 14,
     "metadata": {},
     "output_type": "execute_result"
    },
    {
     "ename": "",
     "evalue": "",
     "output_type": "error",
     "traceback": [
      "\u001b[1;31mThe Kernel crashed while executing code in the current cell or a previous cell. \n",
      "\u001b[1;31mPlease review the code in the cell(s) to identify a possible cause of the failure. \n",
      "\u001b[1;31mClick <a href='https://aka.ms/vscodeJupyterKernelCrash'>here</a> for more info. \n",
      "\u001b[1;31mView Jupyter <a href='command:jupyter.viewOutput'>log</a> for further details."
     ]
    }
   ],
   "source": [
    "register_model(\n",
    "  model_obj=pipeline,\n",
    "  session=session,\n",
    "  snowflake_df=pred_snow_df,\n",
    "  name=\"HR_Churn_1MB\",\n",
    "  description=\"This is a test model\",\n",
    "  flavour=\"snowflake\",\n",
    "    dataset_source=\"HR_CHURN\",\n",
    "  dataset_name=\"Hr_churn\",\n",
    "  datasource_name=\"Hr_churn\",\n",
    "  model_type=\"regression\",\n",
    "  conda_dependencies=[\"scikit-learn==1.3.2\"],\n",
    "  source=\"Notebook\"\n",
    ")"
   ]
  },
  {
   "cell_type": "code",
   "execution_count": null,
   "id": "d151bb10",
   "metadata": {},
   "outputs": [],
   "source": [
    "# register_model(\n",
    "#   model_obj=pipeline,\n",
    "#   session=session,\n",
    "#   snowflake_df=pred_snow_df,\n",
    "#   name=\"HR_Churn_2_3_10\",\n",
    "#   description=\"This is a test model\",\n",
    "#   flavour=\"snowflake\",\n",
    "#     dataset_source=\"HR_CHURN\",\n",
    "#   dataset_name=\"Hr_churn\",\n",
    "#   datasource_name=\"Hr_churn\",\n",
    "#   model_type=\"regression\",\n",
    "#   conda_dependencies=[\"scikit-learn==1.3.2\"],\n",
    "#   source=\"Notebook\"\n",
    "# )"
   ]
  },
  {
   "cell_type": "code",
   "execution_count": null,
   "id": "4f0da57e",
   "metadata": {},
   "outputs": [],
   "source": [
    "# register_model(\n",
    "#   model_obj=pipeline,\n",
    "#   session=session,\n",
    "#   snowflake_df=pred_snow_df,\n",
    "#   name=\"HR_Churn_3_3_10\",\n",
    "#   description=\"This is a test model\",\n",
    "#   flavour=\"snowflake\",\n",
    "#     dataset_source=\"HR_CHURN\",\n",
    "#   dataset_name=\"Hr_churn\",\n",
    "#   datasource_name=\"Hr_churn\",\n",
    "#   model_type=\"regression\",\n",
    "#   conda_dependencies=[\"scikit-learn==1.3.2\"],\n",
    "#   source=\"Notebook\"\n",
    "# )"
   ]
  },
  {
   "cell_type": "code",
   "execution_count": null,
   "id": "4255d32d",
   "metadata": {},
   "outputs": [],
   "source": [
    "# register_model(\n",
    "#   model_obj=pipeline,\n",
    "#   session=session,\n",
    "#   snowflake_df=pred_snow_df,\n",
    "#   name=\"HR_Churn_4_3_10\",\n",
    "#   description=\"This is a test model\",\n",
    "#   flavour=\"snowflake\",\n",
    "#     dataset_source=\"HR_CHURN\",\n",
    "#   dataset_name=\"Hr_churn\",\n",
    "#   datasource_name=\"Hr_churn\",\n",
    "#   model_type=\"regression\",\n",
    "#   conda_dependencies=[\"scikit-learn==1.3.2\"],\n",
    "#   source=\"Notebook\"\n",
    "# )"
   ]
  },
  {
   "cell_type": "code",
   "execution_count": null,
   "id": "b5f4d3e8",
   "metadata": {},
   "outputs": [],
   "source": [
    "# register_model(\n",
    "#   model_obj=pipeline,\n",
    "#   session=session,\n",
    "#   snowflake_df=pred_snow_df,\n",
    "#   name=\"HR_Churn_5_3_10\",\n",
    "#   description=\"This is a test model\",\n",
    "#   flavour=\"snowflake\",\n",
    "#     dataset_source=\"HR_CHURN\",\n",
    "#   dataset_name=\"Hr_churn\",\n",
    "#   datasource_name=\"Hr_churn\",\n",
    "#   model_type=\"regression\",\n",
    "#   conda_dependencies=[\"scikit-learn==1.3.2\"],\n",
    "#   source=\"Notebook\"\n",
    "# )"
   ]
  }
 ],
 "metadata": {
  "kernelspec": {
   "display_name": "Python 3",
   "language": "python",
   "name": "python3"
  },
  "language_info": {
   "codemirror_mode": {
    "name": "ipython",
    "version": 3
   },
   "file_extension": ".py",
   "mimetype": "text/x-python",
   "name": "python",
   "nbconvert_exporter": "python",
   "pygments_lexer": "ipython3",
   "version": "3.10.15"
  }
 },
 "nbformat": 4,
 "nbformat_minor": 5
}
