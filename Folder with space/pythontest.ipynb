{
 "cells": [
  {
   "cell_type": "code",
   "execution_count": 1,
   "id": "0b4b54c4",
   "metadata": {},
   "outputs": [
    {
     "name": "stdout",
     "output_type": "stream",
     "text": [
      "user\n"
     ]
    }
   ],
   "source": [
    "import os\n",
    "print(os.environ.get(\"testing\"))"
   ]
  },
  {
   "cell_type": "code",
   "execution_count": 2,
   "id": "e2561606",
   "metadata": {},
   "outputs": [
    {
     "name": "stdout",
     "output_type": "stream",
     "text": [
      "secure testing\n"
     ]
    }
   ],
   "source": [
    "#manual\n",
    "import os\n",
    "print(os.environ.get(\"secured\"))"
   ]
  }
 ],
 "metadata": {
  "kernelspec": {
   "display_name": "Python 3",
   "language": "python",
   "name": "python3"
  },
  "language_info": {
   "codemirror_mode": {
    "name": "ipython",
    "version": 3
   },
   "file_extension": ".py",
   "mimetype": "text/x-python",
   "name": "python",
   "nbconvert_exporter": "python",
   "pygments_lexer": "ipython3",
   "version": "3.7.12"
  }
 },
 "nbformat": 4,
 "nbformat_minor": 5
}
