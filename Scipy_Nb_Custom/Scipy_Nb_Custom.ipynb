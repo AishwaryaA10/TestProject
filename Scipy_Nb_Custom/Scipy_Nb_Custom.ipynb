{
 "cells": [
  {
   "cell_type": "code",
   "execution_count": 1,
   "metadata": {
    "ExecuteTime": {
     "end_time": "2021-03-11T05:32:54.415680Z",
     "start_time": "2021-03-11T05:32:54.407250Z"
    }
   },
   "outputs": [
    {
     "name": "stdout",
     "output_type": "stream",
     "text": [
      "   2\n",
      "1 x + 2 x + 3\n",
      "\n",
      "Squaring the polynomial: \n",
      "\n",
      "   4     3      2\n",
      "1 x + 4 x + 10 x + 12 x + 9\n",
      "\n",
      "Integrating the polynomial: \n",
      "\n",
      "        3     2\n",
      "0.3333 x + 1 x + 3 x + 3\n",
      "\n",
      "Finding derivative of the polynomial: \n",
      "\n",
      " \n",
      "2 x + 2\n",
      "\n",
      "Solving the polynomial for 2: \n",
      "\n",
      "11\n"
     ]
    }
   ],
   "source": [
    "from numpy import poly1d\n",
    "\n",
    "# We'll use some functions from numpy remember!!\n",
    "# Creating a simple polynomial object using coefficients\n",
    "somePolynomial = poly1d([1,2,3])\n",
    "\n",
    "# Printing the result\n",
    "# Notice how easy it is to read the polynomial this way\n",
    "print(somePolynomial)\n",
    "\n",
    "# Let's perform some manipulations\n",
    "print(\"\\nSquaring the polynomial: \\n\")\n",
    "print(somePolynomial* somePolynomial)\n",
    "\n",
    "#How about integration, we just have to call a function\n",
    "# We just have to pass a constant say 3\n",
    "print(\"\\nIntegrating the polynomial: \\n\")\n",
    "print(somePolynomial.integ(k=3))\n",
    "\n",
    "#We can also find derivatives in similar way\n",
    "print(\"\\nFinding derivative of the polynomial: \\n\")\n",
    "print(somePolynomial.deriv())\n",
    "\n",
    "# We can also solve the polynomial for some value, \n",
    "# let's try to solve it for 2\n",
    "print(\"\\nSolving the polynomial for 2: \\n\")\n",
    "print(somePolynomial(2))"
   ]
  },
  {
   "cell_type": "code",
   "execution_count": null,
   "metadata": {},
   "outputs": [],
   "source": []
  }
 ],
 "metadata": {
  "hide_input": false,
  "kernelspec": {
   "display_name": "Python 3",
   "language": "python",
   "name": "python3"
  },
  "language_info": {
   "codemirror_mode": {
    "name": "ipython",
    "version": 3
   },
   "file_extension": ".py",
   "mimetype": "text/x-python",
   "name": "python",
   "nbconvert_exporter": "python",
   "pygments_lexer": "ipython3",
   "version": "3.6.2"
  },
  "toc": {
   "base_numbering": 1,
   "nav_menu": {},
   "number_sections": true,
   "sideBar": true,
   "skip_h1_title": false,
   "title_cell": "Table of Contents",
   "title_sidebar": "Contents",
   "toc_cell": false,
   "toc_position": {},
   "toc_section_display": true,
   "toc_window_display": false
  },
  "varInspector": {
   "cols": {
    "lenName": 16,
    "lenType": 16,
    "lenVar": 40
   },
   "kernels_config": {
    "python": {
     "delete_cmd_postfix": "",
     "delete_cmd_prefix": "del ",
     "library": "var_list.py",
     "varRefreshCmd": "print(var_dic_list())"
    },
    "r": {
     "delete_cmd_postfix": ") ",
     "delete_cmd_prefix": "rm(",
     "library": "var_list.r",
     "varRefreshCmd": "cat(var_dic_list()) "
    }
   },
   "types_to_exclude": [
    "module",
    "function",
    "builtin_function_or_method",
    "instance",
    "_Feature"
   ],
   "window_display": false
  }
 },
 "nbformat": 4,
 "nbformat_minor": 4
}
