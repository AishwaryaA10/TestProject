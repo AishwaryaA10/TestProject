{
 "cells": [
  {
   "cell_type": "code",
   "execution_count": 1,
   "metadata": {
    "ExecuteTime": {
     "end_time": "2021-05-12T11:05:45.510153Z",
     "start_time": "2021-05-12T11:05:42.575666Z"
    }
   },
   "outputs": [],
   "source": [
    "import pandas as pd\n",
    "import numpy as np\n",
    "from sklearn.ensemble import GradientBoostingRegressor\n",
    "import matplotlib.pyplot as plt\n",
    "from sklearn import preprocessing\n",
    "from sklearn.ensemble import RandomForestRegressor\n",
    "import pickle\n",
    "from mosaicml import *\n",
    "from mosaicml.constants import MLModelFlavours"
   ]
  },
  {
   "cell_type": "code",
   "execution_count": 2,
   "metadata": {
    "ExecuteTime": {
     "end_time": "2021-05-12T11:06:26.846246Z",
     "start_time": "2021-05-12T11:06:26.761639Z"
    }
   },
   "outputs": [
    {
     "data": {
      "text/html": [
       "<div>\n",
       "<style scoped>\n",
       "    .dataframe tbody tr th:only-of-type {\n",
       "        vertical-align: middle;\n",
       "    }\n",
       "\n",
       "    .dataframe tbody tr th {\n",
       "        vertical-align: top;\n",
       "    }\n",
       "\n",
       "    .dataframe thead th {\n",
       "        text-align: right;\n",
       "    }\n",
       "</style>\n",
       "<table border=\"1\" class=\"dataframe\">\n",
       "  <thead>\n",
       "    <tr style=\"text-align: right;\">\n",
       "      <th></th>\n",
       "      <th>fixed acidity</th>\n",
       "      <th>volatile acidity</th>\n",
       "      <th>citric acid</th>\n",
       "      <th>residual sugar</th>\n",
       "      <th>chlorides</th>\n",
       "      <th>free sulfur dioxide</th>\n",
       "      <th>total sulfur dioxide</th>\n",
       "      <th>density</th>\n",
       "      <th>pH</th>\n",
       "      <th>sulphates</th>\n",
       "      <th>alcohol</th>\n",
       "      <th>quality</th>\n",
       "    </tr>\n",
       "  </thead>\n",
       "  <tbody>\n",
       "    <tr>\n",
       "      <td>0</td>\n",
       "      <td>7.4</td>\n",
       "      <td>0.70</td>\n",
       "      <td>0.00</td>\n",
       "      <td>1.9</td>\n",
       "      <td>0.076</td>\n",
       "      <td>11.0</td>\n",
       "      <td>34.0</td>\n",
       "      <td>0.9978</td>\n",
       "      <td>3.51</td>\n",
       "      <td>0.56</td>\n",
       "      <td>9.4</td>\n",
       "      <td>5</td>\n",
       "    </tr>\n",
       "    <tr>\n",
       "      <td>1</td>\n",
       "      <td>7.8</td>\n",
       "      <td>0.88</td>\n",
       "      <td>0.00</td>\n",
       "      <td>2.6</td>\n",
       "      <td>0.098</td>\n",
       "      <td>25.0</td>\n",
       "      <td>67.0</td>\n",
       "      <td>0.9968</td>\n",
       "      <td>3.20</td>\n",
       "      <td>0.68</td>\n",
       "      <td>9.8</td>\n",
       "      <td>5</td>\n",
       "    </tr>\n",
       "    <tr>\n",
       "      <td>2</td>\n",
       "      <td>7.8</td>\n",
       "      <td>0.76</td>\n",
       "      <td>0.04</td>\n",
       "      <td>2.3</td>\n",
       "      <td>0.092</td>\n",
       "      <td>15.0</td>\n",
       "      <td>54.0</td>\n",
       "      <td>0.9970</td>\n",
       "      <td>3.26</td>\n",
       "      <td>0.65</td>\n",
       "      <td>9.8</td>\n",
       "      <td>5</td>\n",
       "    </tr>\n",
       "    <tr>\n",
       "      <td>3</td>\n",
       "      <td>11.2</td>\n",
       "      <td>0.28</td>\n",
       "      <td>0.56</td>\n",
       "      <td>1.9</td>\n",
       "      <td>0.075</td>\n",
       "      <td>17.0</td>\n",
       "      <td>60.0</td>\n",
       "      <td>0.9980</td>\n",
       "      <td>3.16</td>\n",
       "      <td>0.58</td>\n",
       "      <td>9.8</td>\n",
       "      <td>6</td>\n",
       "    </tr>\n",
       "    <tr>\n",
       "      <td>4</td>\n",
       "      <td>7.4</td>\n",
       "      <td>0.70</td>\n",
       "      <td>0.00</td>\n",
       "      <td>1.9</td>\n",
       "      <td>0.076</td>\n",
       "      <td>11.0</td>\n",
       "      <td>34.0</td>\n",
       "      <td>0.9978</td>\n",
       "      <td>3.51</td>\n",
       "      <td>0.56</td>\n",
       "      <td>9.4</td>\n",
       "      <td>5</td>\n",
       "    </tr>\n",
       "    <tr>\n",
       "      <td>5</td>\n",
       "      <td>7.4</td>\n",
       "      <td>0.66</td>\n",
       "      <td>0.00</td>\n",
       "      <td>1.8</td>\n",
       "      <td>0.075</td>\n",
       "      <td>13.0</td>\n",
       "      <td>40.0</td>\n",
       "      <td>0.9978</td>\n",
       "      <td>3.51</td>\n",
       "      <td>0.56</td>\n",
       "      <td>9.4</td>\n",
       "      <td>5</td>\n",
       "    </tr>\n",
       "    <tr>\n",
       "      <td>6</td>\n",
       "      <td>7.9</td>\n",
       "      <td>0.60</td>\n",
       "      <td>0.06</td>\n",
       "      <td>1.6</td>\n",
       "      <td>0.069</td>\n",
       "      <td>15.0</td>\n",
       "      <td>59.0</td>\n",
       "      <td>0.9964</td>\n",
       "      <td>3.30</td>\n",
       "      <td>0.46</td>\n",
       "      <td>9.4</td>\n",
       "      <td>5</td>\n",
       "    </tr>\n",
       "    <tr>\n",
       "      <td>7</td>\n",
       "      <td>7.3</td>\n",
       "      <td>0.65</td>\n",
       "      <td>0.00</td>\n",
       "      <td>1.2</td>\n",
       "      <td>0.065</td>\n",
       "      <td>15.0</td>\n",
       "      <td>21.0</td>\n",
       "      <td>0.9946</td>\n",
       "      <td>3.39</td>\n",
       "      <td>0.47</td>\n",
       "      <td>10.0</td>\n",
       "      <td>7</td>\n",
       "    </tr>\n",
       "    <tr>\n",
       "      <td>8</td>\n",
       "      <td>7.8</td>\n",
       "      <td>0.58</td>\n",
       "      <td>0.02</td>\n",
       "      <td>2.0</td>\n",
       "      <td>0.073</td>\n",
       "      <td>9.0</td>\n",
       "      <td>18.0</td>\n",
       "      <td>0.9968</td>\n",
       "      <td>3.36</td>\n",
       "      <td>0.57</td>\n",
       "      <td>9.5</td>\n",
       "      <td>7</td>\n",
       "    </tr>\n",
       "    <tr>\n",
       "      <td>9</td>\n",
       "      <td>7.5</td>\n",
       "      <td>0.50</td>\n",
       "      <td>0.36</td>\n",
       "      <td>6.1</td>\n",
       "      <td>0.071</td>\n",
       "      <td>17.0</td>\n",
       "      <td>102.0</td>\n",
       "      <td>0.9978</td>\n",
       "      <td>3.35</td>\n",
       "      <td>0.80</td>\n",
       "      <td>10.5</td>\n",
       "      <td>5</td>\n",
       "    </tr>\n",
       "  </tbody>\n",
       "</table>\n",
       "</div>"
      ],
      "text/plain": [
       "   fixed acidity  volatile acidity  citric acid  residual sugar  chlorides  \\\n",
       "0            7.4              0.70         0.00             1.9      0.076   \n",
       "1            7.8              0.88         0.00             2.6      0.098   \n",
       "2            7.8              0.76         0.04             2.3      0.092   \n",
       "3           11.2              0.28         0.56             1.9      0.075   \n",
       "4            7.4              0.70         0.00             1.9      0.076   \n",
       "5            7.4              0.66         0.00             1.8      0.075   \n",
       "6            7.9              0.60         0.06             1.6      0.069   \n",
       "7            7.3              0.65         0.00             1.2      0.065   \n",
       "8            7.8              0.58         0.02             2.0      0.073   \n",
       "9            7.5              0.50         0.36             6.1      0.071   \n",
       "\n",
       "   free sulfur dioxide  total sulfur dioxide  density    pH  sulphates  \\\n",
       "0                 11.0                  34.0   0.9978  3.51       0.56   \n",
       "1                 25.0                  67.0   0.9968  3.20       0.68   \n",
       "2                 15.0                  54.0   0.9970  3.26       0.65   \n",
       "3                 17.0                  60.0   0.9980  3.16       0.58   \n",
       "4                 11.0                  34.0   0.9978  3.51       0.56   \n",
       "5                 13.0                  40.0   0.9978  3.51       0.56   \n",
       "6                 15.0                  59.0   0.9964  3.30       0.46   \n",
       "7                 15.0                  21.0   0.9946  3.39       0.47   \n",
       "8                  9.0                  18.0   0.9968  3.36       0.57   \n",
       "9                 17.0                 102.0   0.9978  3.35       0.80   \n",
       "\n",
       "   alcohol  quality  \n",
       "0      9.4        5  \n",
       "1      9.8        5  \n",
       "2      9.8        5  \n",
       "3      9.8        6  \n",
       "4      9.4        5  \n",
       "5      9.4        5  \n",
       "6      9.4        5  \n",
       "7     10.0        7  \n",
       "8      9.5        7  \n",
       "9     10.5        5  "
      ]
     },
     "execution_count": 2,
     "metadata": {},
     "output_type": "execute_result"
    }
   ],
   "source": [
    "df = pd.read_csv(\"/data/winequality.csv\")\n",
    "df.head(10)"
   ]
  },
  {
   "cell_type": "code",
   "execution_count": 3,
   "metadata": {
    "ExecuteTime": {
     "end_time": "2021-05-12T11:06:29.967011Z",
     "start_time": "2021-05-12T11:06:29.875394Z"
    }
   },
   "outputs": [],
   "source": [
    "# The target variable is 'quality'.\n",
    "Y = df['quality']\n",
    "X = df[['fixed acidity', 'volatile acidity', 'citric acid', 'residual sugar','chlorides', 'free sulfur dioxide', 'total sulfur dioxide', 'density','pH', 'sulphates', 'alcohol']]\n",
    "\n",
    "\n",
    "# Split the data into train and test data:\n",
    "from sklearn.model_selection import train_test_split\n",
    "import os\n",
    "\n",
    "#split_percentage = float(os.getenv(\"split_percentage\"))\n",
    "split_percentage = 0.2\n",
    "X_train, X_test, Y_train, Y_test = train_test_split(X, Y, test_size = split_percentage)\n",
    "X_train = X_train.to_numpy()\n",
    "Y_train = Y_train.to_numpy()\n",
    "\n",
    "\n",
    "# Use ML Algorithm\n",
    "from sklearn.ensemble import RandomForestRegressor\n",
    "\n",
    "my_model = RandomForestRegressor(max_depth=6, random_state=0, n_estimators=10)\n",
    "my_model.fit(X_train,Y_train)\n",
    "\n",
    "@scoring_func\n",
    "def score(model, request):\n",
    "    payload = request.json[\"payload\"]\n",
    "    data_list = payload\n",
    "    data_array = np.asarray(data_list)\n",
    "    try:\n",
    "        prediction = model.predict(data_array)\n",
    "    except:\n",
    "        prediction = model.predict(data_array.reshape(1, -1))\n",
    "    return prediction.tolist()"
   ]
  },
  {
   "cell_type": "code",
   "execution_count": 4,
   "metadata": {
    "ExecuteTime": {
     "end_time": "2021-05-12T11:06:33.145935Z",
     "start_time": "2021-05-12T11:06:33.134126Z"
    }
   },
   "outputs": [
    {
     "data": {
      "text/plain": [
       "[6.2661212930670995]"
      ]
     },
     "execution_count": 4,
     "metadata": {},
     "output_type": "execute_result"
    }
   ],
   "source": [
    "import requests\n",
    "req = requests.Request()\n",
    "req.json = {\"payload\":[ 7.4   ,  0.35  ,  0.33  ,  2.4   ,  0.068 ,  9    , 26    ,\n",
    "        0.9947,  3.36  ,  0.6   , 11.9   ]}\n",
    "\n",
    "score(my_model,req)"
   ]
  },
  {
   "cell_type": "code",
   "execution_count": 5,
   "metadata": {
    "ExecuteTime": {
     "end_time": "2021-05-12T11:07:00.631719Z",
     "start_time": "2021-05-12T11:06:35.415856Z"
    }
   },
   "outputs": [
    {
     "name": "stderr",
     "output_type": "stream",
     "text": [
      "2021-05-12 11:06:41,652 - skater.core.explanations - WARNING - Progress bars slow down runs by 10-20%. For slightly \n",
      "faster runs, do progressbar=False\n",
      "2021-05-12 11:06:41,657 - skater.core.explanations - WARNING - Multiprocessing failed, going single process\n"
     ]
    },
    {
     "name": "stdout",
     "output_type": "stream",
     "text": [
      "[29/29] grid cells ████████████████████ Time elapsed: 1 seconds"
     ]
    },
    {
     "name": "stderr",
     "output_type": "stream",
     "text": [
      "2021-05-12 11:06:43,297 - skater.core.explanations - WARNING - Progress bars slow down runs by 10-20%. For slightly \n",
      "faster runs, do progressbar=False\n",
      "2021-05-12 11:06:43,301 - skater.core.explanations - WARNING - Multiprocessing failed, going single process\n"
     ]
    },
    {
     "name": "stdout",
     "output_type": "stream",
     "text": [
      "[30/30] grid cells ████████████████████ Time elapsed: 0 seconds"
     ]
    },
    {
     "name": "stderr",
     "output_type": "stream",
     "text": [
      "2021-05-12 11:06:44,828 - skater.core.explanations - WARNING - Progress bars slow down runs by 10-20%. For slightly \n",
      "faster runs, do progressbar=False\n",
      "2021-05-12 11:06:44,832 - skater.core.explanations - WARNING - Multiprocessing failed, going single process\n"
     ]
    },
    {
     "name": "stdout",
     "output_type": "stream",
     "text": [
      "[29/29] grid cells ████████████████████ Time elapsed: 0 seconds"
     ]
    },
    {
     "name": "stderr",
     "output_type": "stream",
     "text": [
      "2021-05-12 11:06:46,292 - skater.core.explanations - WARNING - Progress bars slow down runs by 10-20%. For slightly \n",
      "faster runs, do progressbar=False\n",
      "2021-05-12 11:06:46,296 - skater.core.explanations - WARNING - Multiprocessing failed, going single process\n"
     ]
    },
    {
     "name": "stdout",
     "output_type": "stream",
     "text": [
      "[19/19] grid cells ████████████████████ Time elapsed: 0 seconds"
     ]
    },
    {
     "name": "stderr",
     "output_type": "stream",
     "text": [
      "2021-05-12 11:06:47,625 - skater.core.explanations - WARNING - Progress bars slow down runs by 10-20%. For slightly \n",
      "faster runs, do progressbar=False\n",
      "2021-05-12 11:06:47,628 - skater.core.explanations - WARNING - Multiprocessing failed, going single process\n"
     ]
    },
    {
     "name": "stdout",
     "output_type": "stream",
     "text": [
      "[29/29] grid cells ████████████████████ Time elapsed: 0 seconds"
     ]
    },
    {
     "name": "stderr",
     "output_type": "stream",
     "text": [
      "2021-05-12 11:06:49,153 - skater.core.explanations - WARNING - Progress bars slow down runs by 10-20%. For slightly \n",
      "faster runs, do progressbar=False\n",
      "2021-05-12 11:06:49,157 - skater.core.explanations - WARNING - Multiprocessing failed, going single process\n"
     ]
    },
    {
     "name": "stdout",
     "output_type": "stream",
     "text": [
      "[24/24] grid cells ████████████████████ Time elapsed: 0 seconds"
     ]
    },
    {
     "name": "stderr",
     "output_type": "stream",
     "text": [
      "2021-05-12 11:06:50,593 - skater.core.explanations - WARNING - Progress bars slow down runs by 10-20%. For slightly \n",
      "faster runs, do progressbar=False\n",
      "2021-05-12 11:06:50,596 - skater.core.explanations - WARNING - Multiprocessing failed, going single process\n"
     ]
    },
    {
     "name": "stdout",
     "output_type": "stream",
     "text": [
      "[30/30] grid cells ████████████████████ Time elapsed: 1 seconds"
     ]
    },
    {
     "name": "stderr",
     "output_type": "stream",
     "text": [
      "2021-05-12 11:06:52,300 - skater.core.explanations - WARNING - Progress bars slow down runs by 10-20%. For slightly \n",
      "faster runs, do progressbar=False\n",
      "2021-05-12 11:06:52,304 - skater.core.explanations - WARNING - Multiprocessing failed, going single process\n"
     ]
    },
    {
     "name": "stdout",
     "output_type": "stream",
     "text": [
      "[30/30] grid cells ████████████████████ Time elapsed: 1 seconds"
     ]
    },
    {
     "name": "stderr",
     "output_type": "stream",
     "text": [
      "2021-05-12 11:06:54,084 - skater.core.explanations - WARNING - Progress bars slow down runs by 10-20%. For slightly \n",
      "faster runs, do progressbar=False\n",
      "2021-05-12 11:06:54,089 - skater.core.explanations - WARNING - Multiprocessing failed, going single process\n"
     ]
    },
    {
     "name": "stdout",
     "output_type": "stream",
     "text": [
      "[30/30] grid cells ████████████████████ Time elapsed: 0 seconds"
     ]
    },
    {
     "name": "stderr",
     "output_type": "stream",
     "text": [
      "2021-05-12 11:06:55,606 - skater.core.explanations - WARNING - Progress bars slow down runs by 10-20%. For slightly \n",
      "faster runs, do progressbar=False\n",
      "2021-05-12 11:06:55,610 - skater.core.explanations - WARNING - Multiprocessing failed, going single process\n"
     ]
    },
    {
     "name": "stdout",
     "output_type": "stream",
     "text": [
      "[30/30] grid cells ████████████████████ Time elapsed: 1 seconds"
     ]
    },
    {
     "name": "stderr",
     "output_type": "stream",
     "text": [
      "2021-05-12 11:06:57,225 - skater.core.explanations - WARNING - Progress bars slow down runs by 10-20%. For slightly \n",
      "faster runs, do progressbar=False\n",
      "2021-05-12 11:06:57,229 - skater.core.explanations - WARNING - Multiprocessing failed, going single process\n"
     ]
    },
    {
     "name": "stdout",
     "output_type": "stream",
     "text": [
      "[24/24] grid cells ████████████████████ Time elapsed: 0 seconds"
     ]
    },
    {
     "name": "stderr",
     "output_type": "stream",
     "text": [
      "2021-05-12 11:06:58,496 - skater.core.explanations - WARNING - Progress bars slow down runs by 10-20%. For slightly \n",
      "faster runs, do progress_bar=False\n",
      "2021-05-12 11:06:58,502 - skater.core.explanations - WARNING - Multiprocessing failed, going single process\n"
     ]
    },
    {
     "name": "stdout",
     "output_type": "stream",
     "text": [
      "[11/11] features ████████████████████ Time elapsed: 0 seconds"
     ]
    },
    {
     "name": "stderr",
     "output_type": "stream",
     "text": [
      "2021-05-12 11:06:59,809 - skater.core.global_interpretation.tree_surrogate - INFO - post pruning applied ...\n",
      "2021-05-12 11:06:59,828 - skater.core.global_interpretation.tree_surrogate - INFO - Scorer used MAE\n",
      "2021-05-12 11:06:59,830 - skater.core.global_interpretation.tree_surrogate - INFO - original score using base model 0.07129492784800076\n",
      "2021-05-12 11:06:59,884 - skater.core.global_interpretation.tree_surrogate - INFO - Summary: childrens of the following nodes are removed [8, 13, 23, 24, 40, 55, 73, 105, 115, 128, 160]\n",
      "2021-05-12 11:06:59,886 - skater.core.global_interpretation.tree_surrogate - INFO - Done generating prediction using the surrogate, shape (1279,)\n",
      "2021-05-12 11:06:59,887 - skater.core.global_interpretation.tree_surrogate - INFO - Done scoring, surrogate score 0.08; oracle score 0.403\n",
      "2021-05-12 11:06:59,888 - skater.core.global_interpretation.tree_surrogate - WARNING - impurity score: 0.323 of the surrogate model is higher than the impurity threshold: 0.01. The higher the impurity score, lower is the fidelity/faithfulness of the surrogate model\n"
     ]
    },
    {
     "data": {
      "text/plain": [
       "{'created_by': 'aishwarya_10',\n",
       " 'created_on': '2021-05-12T11:06:38+00:00',\n",
       " 'deploymentstatus': False,\n",
       " 'description': 'wine_quality_regression_notebook',\n",
       " 'flavour': 'sklearn',\n",
       " 'id': 'fffdf222-96e1-41f7-90e9-038756712ebf',\n",
       " 'last_modified_by': 'aishwarya_10',\n",
       " 'last_modified_on': '2021-05-12T11:06:38+00:00',\n",
       " 'model_display': True,\n",
       " 'name': 'wine_quality_regression_notebook',\n",
       " 'project_id': '6b8bc4b9-66eb-4be0-8984-2c70fdbc2108',\n",
       " 'source': '',\n",
       " 'tags': None,\n",
       " 'type': 'model',\n",
       " 'versions': [{'created_by': 'aishwarya_10',\n",
       "   'created_on': '2021-05-12T11:06:38+00:00',\n",
       "   'datasource_name': '',\n",
       "   'dependent_model': None,\n",
       "   'deploy_info': None,\n",
       "   'deployments': [],\n",
       "   'description': None,\n",
       "   'docker_image_url': 'registry.lti-aiq.in:443/mosaic-ai-logistics/mosaic-ai-serving:1.0.0Python3.7-03252021',\n",
       "   'gpu_docker_image_url': 'registry.lti-aiq.in:443/mosaic-ai-logistics/mosaic-ai-serving:gpu-1.0.0-07122021',\n",
       "   'id': '21bb4915-2285-4cbe-bf1b-051fe5c0a7d9',\n",
       "   'init_script': '\"pip install --user -i https://pypi.org/simple absl-py==0.12.0\\\\n pip install --user -i https://pypi.org/simple alembic==1.5.7\\\\n pip install --user -i https://pypi.org/simple alibi-detect==0.5.1\\\\n pip install --user -i https://pypi.org/simple argon2-cffi==20.1.0\\\\n pip install --user -i https://pypi.org/simple astroid==2.3.3\\\\n pip install --user -i https://pypi.org/simple astunparse==1.6.3\\\\n pip install --user -i https://pypi.org/simple async-generator==1.10\\\\n pip install --user -i https://pypi.org/simple attrs==20.3.0\\\\n pip install --user -i https://pypi.org/simple backcall==0.2.0\\\\n pip install --user -i https://pypi.org/simple beautifulsoup4==4.9.3\\\\n pip install --user -i https://pypi.org/simple bleach==3.3.0\\\\n pip install --user -i https://pypi.org/simple blis==0.4.1\\\\n pip install --user -i https://pypi.org/simple bokeh==2.1.1\\\\n pip install --user -i https://pypi.org/simple bs4==0.0.1\\\\n pip install --user -i https://pypi.org/simple cached-property==1.5.2\\\\n pip install --user -i https://pypi.org/simple cachetools==4.2.1\\\\n pip install --user -i https://pypi.org/simple category-encoders==2.2.2\\\\n pip install --user -i https://pypi.org/simple certifi==2020.12.5\\\\n pip install --user -i https://pypi.org/simple cffi==1.14.4\\\\n pip install --user -i https://pypi.org/simple chardet==3.0.4\\\\n pip install --user -i https://pypi.org/simple click==7.1.2\\\\n pip install --user -i https://pypi.org/simple cloudpickle==1.2.2\\\\n pip install --user -i https://pypi.org/simple colorama==0.4.4\\\\n pip install --user -i https://pypi.org/simple colorcet==2.0.6\\\\n pip install --user -i https://pypi.org/simple commonmark==0.9.1\\\\n pip install --user -i https://pypi.org/simple cycler==0.10.0\\\\n pip install --user -i https://pypi.org/simple cymem==2.0.5\\\\n pip install --user -i https://pypi.org/simple dask==2021.3.0\\\\n pip install --user -i https://pypi.org/simple deap==1.3.1\\\\n pip install --user -i https://pypi.org/simple decorator==4.4.2\\\\n pip install --user -i https://pypi.org/simple defusedxml==0.6.0\\\\n pip install --user -i https://pypi.org/simple dill==0.3.3\\\\n pip install --user -i https://pypi.org/simple dm-tree==0.1.5\\\\n pip install --user -i https://pypi.org/simple entrypoints==0.3\\\\n pip install --user -i https://pypi.org/simple filelock==3.0.12\\\\n pip install --user -i https://pypi.org/simple flasgger==0.9.3\\\\n pip install --user -i https://pypi.org/simple Flask==1.1.1\\\\n pip install --user -i https://pypi.org/simple Flask-Cors==3.0.8\\\\n pip install --user -i https://pypi.org/simple Flask-SQLAlchemy==2.4.4\\\\n pip install --user -i https://pypi.org/simple flatbuffers==1.12\\\\n pip install --user -i https://pypi.org/simple fonttools==4.21.1\\\\n pip install --user -i https://pypi.org/simple future==0.18.2\\\\n pip install --user -i https://pypi.org/simple gast==0.3.3\\\\n pip install --user -i https://pypi.org/simple gitdb2==2.0.6\\\\n pip install --user -i https://pypi.org/simple GitPython==3.0.4\\\\n pip install --user -i https://pypi.org/simple google-auth==1.27.1\\\\n pip install --user -i https://pypi.org/simple google-auth-oauthlib==0.4.3\\\\n pip install --user -i https://pypi.org/simple google-pasta==0.2.0\\\\n pip install --user -i https://pypi.org/simple grpcio==1.32.0\\\\n pip install --user -i https://pypi.org/simple gunicorn==19.9.0\\\\n pip install --user -i https://pypi.org/simple h5py==2.10.0\\\\n pip install --user -i https://pypi.org/simple holoviews==1.14.2\\\\n pip install --user -i https://pypi.org/simple idna==2.8\\\\n pip install --user -i https://pypi.org/simple imageio==2.9.0\\\\n pip install --user -i https://pypi.org/simple importlib-metadata==3.4.0\\\\n pip install --user -i https://pypi.org/simple ipykernel==5.4.3\\\\n pip install --user -i https://pypi.org/simple ipyplot==1.1.0\\\\n pip install --user -i https://pypi.org/simple ipython==7.20.0\\\\n pip install --user -i https://pypi.org/simple ipython-genutils==0.2.0\\\\n pip install --user -i https://pypi.org/simple ipywidgets==7.6.3\\\\n pip install --user -i https://pypi.org/simple isort==4.3.21\\\\n pip install --user -i https://pypi.org/simple itsdangerous==1.1.0\\\\n pip install --user -i https://pypi.org/simple jedi==0.18.0\\\\n pip install --user -i https://pypi.org/simple Jinja2==2.11.3\\\\n pip install --user -i https://pypi.org/simple joblib==1.0.1\\\\n pip install --user -i https://pypi.org/simple jsonpickle==1.2\\\\n pip install --user -i https://pypi.org/simple jsonschema==2.6.0\\\\n pip install --user -i https://pypi.org/simple jupyter==1.0.0\\\\n pip install --user -i https://pypi.org/simple jupyter-client==6.1.11\\\\n pip install --user -i https://pypi.org/simple jupyter-console==6.2.0\\\\n pip install --user -i https://pypi.org/simple jupyter-contrib-core==0.3.3\\\\n pip install --user -i https://pypi.org/simple jupyter-contrib-nbextensions==0.5.1\\\\n pip install --user -i https://pypi.org/simple jupyter-core==4.7.1\\\\n pip install --user -i https://pypi.org/simple jupyter-highlight-selected-word==0.2.0\\\\n pip install --user -i https://pypi.org/simple jupyter-latex-envs==1.4.6\\\\n pip install --user -i https://pypi.org/simple jupyter-nbextensions-configurator==0.4.1\\\\n pip install --user -i https://pypi.org/simple jupyterhub==0.9.4\\\\n pip install --user -i https://pypi.org/simple jupyterlab-pygments==0.1.2\\\\n pip install --user -i https://pypi.org/simple jupyterlab-widgets==1.0.0\\\\n pip install --user -i https://pypi.org/simple Keras==2.2.4\\\\n pip install --user -i https://pypi.org/simple Keras-Applications==1.0.8\\\\n pip install --user -i https://pypi.org/simple Keras-Preprocessing==1.1.2\\\\n pip install --user -i https://pypi.org/simple kiwisolver==1.3.1\\\\n pip install --user -i https://pypi.org/simple kubernetes==9.0.0\\\\n pip install --user -i https://pypi.org/simple kyd==0.1.8\\\\n pip install --user -i https://pypi.org/simple lazy-object-proxy==1.4.3\\\\n pip install --user -i https://pypi.org/simple lime==0.2.0.1\\\\n pip install --user -i https://pypi.org/simple lxml==4.6.2\\\\n pip install --user -i https://pypi.org/simple Mako==1.1.4\\\\n pip install --user -i https://pypi.org/simple Markdown==3.3.4\\\\n pip install --user -i https://pypi.org/simple MarkupSafe==1.1.1\\\\n pip install --user -i https://pypi.org/simple matplotlib==3.1.1\\\\n pip install --user -i https://pypi.org/simple mccabe==0.6.1\\\\n pip install --user -i https://pypi.org/simple minio==4.0.18\\\\n pip install --user -i https://pypi.org/simple mistune==0.8.4\\\\n pip install --user -i https://pypi.org/simple multiprocess==0.70.11.1\\\\n pip install --user -i https://pypi.org/simple murmurhash==1.0.5\\\\n pip install --user -i https://pypi.org/simple mysql-connector-python==8.0.17\\\\n pip install --user -i https://pypi.org/simple mysql-connector-python-rf==2.2.2\\\\n pip install --user -i https://pypi.org/simple nbclient==0.5.2\\\\n pip install --user -i https://pypi.org/simple nbconvert==6.0.7\\\\n pip install --user -i https://pypi.org/simple nbformat==5.1.2\\\\n pip install --user -i https://pypi.org/simple nest-asyncio==1.5.1\\\\n pip install --user -i https://pypi.org/simple networkx==2.5\\\\n pip install --user -i https://pypi.org/simple nltk==3.5\\\\n pip install --user -i https://pypi.org/simple notebook==5.7.0\\\\n pip install --user -i https://pypi.org/simple numpy==1.16.5\\\\n pip install --user -i https://pypi.org/simple oauthlib==3.1.0\\\\n pip install --user -i https://pypi.org/simple opencv-python==4.2.0.34\\\\n pip install --user -i https://pypi.org/simple opt-einsum==3.3.0\\\\n pip install --user -i https://pypi.org/simple packaging==20.9\\\\n pip install --user -i https://pypi.org/simple pamela==1.0.0\\\\n pip install --user -i https://pypi.org/simple pandas==0.25.1\\\\n pip install --user -i https://pypi.org/simple pandocfilters==1.4.3\\\\n pip install --user -i https://pypi.org/simple panel==0.11.1\\\\n pip install --user -i https://pypi.org/simple param==1.10.1\\\\n pip install --user -i https://pypi.org/simple parso==0.8.1\\\\n pip install --user -i https://pypi.org/simple patsy==0.5.1\\\\n pip install --user -i https://pypi.org/simple pexpect==4.8.0\\\\n pip install --user -i https://pypi.org/simple pickleshare==0.7.5\\\\n pip install --user -i https://pypi.org/simple Pillow==8.1.2\\\\n pip install --user -i https://pypi.org/simple plac==1.1.3\\\\n pip install --user -i https://pypi.org/simple plotly==4.14.3\\\\n pip install --user -i https://pypi.org/simple preshed==3.0.5\\\\n pip install --user -i https://pypi.org/simple prometheus-client==0.9.0\\\\n pip install --user -i https://pypi.org/simple prompt-toolkit==3.0.14\\\\n pip install --user -i https://pypi.org/simple protobuf==3.15.6\\\\n pip install --user -i https://pypi.org/simple ptyprocess==0.7.0\\\\n pip install --user -i https://pypi.org/simple py4j==0.10.7\\\\n pip install --user -i https://pypi.org/simple pyasn1==0.4.8\\\\n pip install --user -i https://pypi.org/simple pyasn1-modules==0.2.8\\\\n pip install --user -i https://pypi.org/simple pycparser==2.20\\\\n pip install --user -i https://pypi.org/simple pyct==0.4.8\\\\n pip install --user -i https://pypi.org/simple pydotplus==2.0.2\\\\n pip install --user -i https://pypi.org/simple Pygments==2.7.4\\\\n pip install --user -i https://pypi.org/simple PyJWT==1.7.1\\\\n pip install --user -i https://pypi.org/simple pylint==2.4.4\\\\n pip install --user -i https://pypi.org/simple pyparsing==2.4.7\\\\n pip install --user -i https://pypi.org/simple pyrsistent==0.17.3\\\\n pip install --user -i https://pypi.org/simple pyspark==2.4.6\\\\n pip install --user -i https://pypi.org/simple python-dateutil==2.8.1\\\\n pip install --user -i https://pypi.org/simple python-dummy==0.1.0\\\\n pip install --user -i https://pypi.org/simple python-editor==1.0.4\\\\n pip install --user -i https://pypi.org/simple python-oauth2==1.1.1\\\\n pip install --user -i https://pypi.org/simple pytz==2021.1\\\\n pip install --user -i https://pypi.org/simple pyviz-comms==2.0.1\\\\n pip install --user -i https://pypi.org/simple PyWavelets==1.1.1\\\\n pip install --user -i https://pypi.org/simple PyYAML==5.1.2\\\\n pip install --user -i https://pypi.org/simple pyzmq==22.0.2\\\\n pip install --user -i https://pypi.org/simple qgrid==1.3.1\\\\n pip install --user -i https://pypi.org/simple qtconsole==5.0.2\\\\n pip install --user -i https://pypi.org/simple QtPy==1.9.0\\\\n pip install --user -i https://pypi.org/simple regex==2020.11.13\\\\n pip install --user -i https://pypi.org/simple requests==2.22.0\\\\n pip install --user -i https://pypi.org/simple requests-oauthlib==1.3.0\\\\n pip install --user -i https://pypi.org/simple requests-toolbelt==0.9.1\\\\n pip install --user -i https://pypi.org/simple retrying==1.3.3\\\\n pip install --user -i https://pypi.org/simple rich==9.13.0\\\\n pip install --user -i https://pypi.org/simple rsa==4.7.2\\\\n pip install --user -i https://pypi.org/simple sacremoses==0.0.43\\\\n pip install --user -i https://pypi.org/simple scikit-image==0.15.0\\\\n pip install --user -i https://pypi.org/simple scikit-learn==0.21.3\\\\n pip install --user -i https://pypi.org/simple scipy==1.6.1\\\\n pip install --user -i https://pypi.org/simple Send2Trash==1.5.0\\\\n pip install --user -i https://pypi.org/simple setuptools==53.0.0\\\\n pip install --user -i https://pypi.org/simple shortuuid==1.0.1\\\\n pip install --user -i https://pypi.org/simple simplejson==3.16.0\\\\n pip install --user -i https://pypi.org/simple six==1.15.0\\\\n pip install --user -i https://pypi.org/simple skater==1.1.2b1\\\\n pip install --user -i https://pypi.org/simple sklearn==0.0\\\\n pip install --user -i https://pypi.org/simple smmap==4.0.0\\\\n pip install --user -i https://pypi.org/simple smmap2==3.0.1\\\\n pip install --user -i https://pypi.org/simple socketIO-client==0.7.2\\\\n pip install --user -i https://pypi.org/simple soupsieve==2.2\\\\n pip install --user -i https://pypi.org/simple spacy==2.2.2\\\\n pip install --user -i https://pypi.org/simple SQLAlchemy==1.3.23\\\\n pip install --user -i https://pypi.org/simple srsly==1.0.5\\\\n pip install --user -i https://pypi.org/simple statsmodels==0.12.2\\\\n pip install --user -i https://pypi.org/simple stopit==1.1.2\\\\n pip install --user -i https://pypi.org/simple tabulate==0.8.9\\\\n pip install --user -i https://pypi.org/simple tensorboard==2.4.1\\\\n pip install --user -i https://pypi.org/simple tensorboard-plugin-wit==1.8.0\\\\n pip install --user -i https://pypi.org/simple tensorflow==2.4.1\\\\n pip install --user -i https://pypi.org/simple tensorflow-estimator==2.4.0\\\\n pip install --user -i https://pypi.org/simple tensorflow-probability==0.12.1\\\\n pip install --user -i https://pypi.org/simple termcolor==1.1.0\\\\n pip install --user -i https://pypi.org/simple terminado==0.9.2\\\\n pip install --user -i https://pypi.org/simple testpath==0.4.4\\\\n pip install --user -i https://pypi.org/simple thinc==7.3.1\\\\n pip install --user -i https://pypi.org/simple tokenizers==0.10.1\\\\n pip install --user -i https://pypi.org/simple toolz==0.11.1\\\\n pip install --user -i https://pypi.org/simple torch==1.2.0\\\\n pip install --user -i https://pypi.org/simple torchvision==0.4.0\\\\n pip install --user -i https://pypi.org/simple tornado==5.1.1\\\\n pip install --user -i https://pypi.org/simple tqdm==4.59.0\\\\n pip install --user -i https://pypi.org/simple traitlets==5.0.5\\\\n pip install --user -i https://pypi.org/simple transformers==4.3.3\\\\n pip install --user -i https://pypi.org/simple typed-ast==1.4.2\\\\n pip install --user -i https://pypi.org/simple typing-extensions==3.7.4.3\\\\n pip install --user -i https://pypi.org/simple update-checker==0.18.0\\\\n pip install --user -i https://pypi.org/simple urllib3==1.25.11\\\\n pip install --user -i https://pypi.org/simple wasabi==0.8.2\\\\n pip install --user -i https://pypi.org/simple wcwidth==0.2.5\\\\n pip install --user -i https://pypi.org/simple webencodings==0.5.1\\\\n pip install --user -i https://pypi.org/simple websocket-client==0.58.0\\\\n pip install --user -i https://pypi.org/simple Werkzeug==1.0.1\\\\n pip install --user -i https://pypi.org/simple wheel==0.36.2\\\\n pip install --user -i https://pypi.org/simple widgetsnbextension==3.5.1\\\\n pip install --user -i https://pypi.org/simple wordcloud==1.8.1\\\\n pip install --user -i https://pypi.org/simple wrapt==1.12.1\\\\n pip install --user -i https://pypi.org/simple xgboost==0.90\\\\n pip install --user -i https://pypi.org/simple zipp==3.4.0\\\\n \\\\nmkdir abc \\\\n cd abc \\\\n touch abc.txt\"',\n",
       "   'input_type': 'json',\n",
       "   'last_modified_by': 'aishwarya_10',\n",
       "   'last_modified_on': '2021-05-12T11:06:41+00:00',\n",
       "   'metadata_info': None,\n",
       "   'ml_model_id': 'fffdf222-96e1-41f7-90e9-038756712ebf',\n",
       "   'model_class': {'base_estimator': \"DecisionTreeRegressor(criterion='mse', max_depth=None, max_features=None,\\n                      max_leaf_nodes=None, min_impurity_decrease=0.0,\\n                      min_impurity_split=None, min_samples_leaf=1,\\n                      min_samples_split=2, min_weight_fraction_leaf=0.0,\\n                      presort=False, random_state=None, splitter='best')\",\n",
       "    'base_estimator_': \"DecisionTreeRegressor(criterion='mse', max_depth=None, max_features=None,\\n                      max_leaf_nodes=None, min_impurity_decrease=0.0,\\n                      min_impurity_split=None, min_samples_leaf=1,\\n                      min_samples_split=2, min_weight_fraction_leaf=0.0,\\n                      presort=False, random_state=None, splitter='best')\",\n",
       "    'bootstrap': True,\n",
       "    'class': 'sklearn.ensemble.forest.RandomForestRegressor',\n",
       "    'class_weight': None,\n",
       "    'criterion': 'mse',\n",
       "    'estimator_params': ['criterion',\n",
       "     'max_depth',\n",
       "     'min_samples_split',\n",
       "     'min_samples_leaf',\n",
       "     'min_weight_fraction_leaf',\n",
       "     'max_features',\n",
       "     'max_leaf_nodes',\n",
       "     'min_impurity_decrease',\n",
       "     'min_impurity_split',\n",
       "     'random_state'],\n",
       "    'estimators_': [\"DecisionTreeRegressor(criterion='mse', max_depth=6, max_features='auto',\\n                      max_leaf_nodes=None, min_impurity_decrease=0.0,\\n                      min_impurity_split=None, min_samples_leaf=1,\\n                      min_samples_split=2, min_weight_fraction_leaf=0.0,\\n                      presort=False, random_state=209652396, splitter='best')\",\n",
       "     \"DecisionTreeRegressor(criterion='mse', max_depth=6, max_features='auto',\\n                      max_leaf_nodes=None, min_impurity_decrease=0.0,\\n                      min_impurity_split=None, min_samples_leaf=1,\\n                      min_samples_split=2, min_weight_fraction_leaf=0.0,\\n                      presort=False, random_state=398764591, splitter='best')\",\n",
       "     \"DecisionTreeRegressor(criterion='mse', max_depth=6, max_features='auto',\\n                      max_leaf_nodes=None, min_impurity_decrease=0.0,\\n                      min_impurity_split=None, min_samples_leaf=1,\\n                      min_samples_split=2, min_weight_fraction_leaf=0.0,\\n                      presort=False, random_state=924231285, splitter='best')\",\n",
       "     \"DecisionTreeRegressor(criterion='mse', max_depth=6, max_features='auto',\\n                      max_leaf_nodes=None, min_impurity_decrease=0.0,\\n                      min_impurity_split=None, min_samples_leaf=1,\\n                      min_samples_split=2, min_weight_fraction_leaf=0.0,\\n                      presort=False, random_state=1478610112, splitter='best')\",\n",
       "     \"DecisionTreeRegressor(criterion='mse', max_depth=6, max_features='auto',\\n                      max_leaf_nodes=None, min_impurity_decrease=0.0,\\n                      min_impurity_split=None, min_samples_leaf=1,\\n                      min_samples_split=2, min_weight_fraction_leaf=0.0,\\n                      presort=False, random_state=441365315, splitter='best')\",\n",
       "     \"DecisionTreeRegressor(criterion='mse', max_depth=6, max_features='auto',\\n                      max_leaf_nodes=None, min_impurity_decrease=0.0,\\n                      min_impurity_split=None, min_samples_leaf=1,\\n                      min_samples_split=2, min_weight_fraction_leaf=0.0,\\n                      presort=False, random_state=1537364731, splitter='best')\",\n",
       "     \"DecisionTreeRegressor(criterion='mse', max_depth=6, max_features='auto',\\n                      max_leaf_nodes=None, min_impurity_decrease=0.0,\\n                      min_impurity_split=None, min_samples_leaf=1,\\n                      min_samples_split=2, min_weight_fraction_leaf=0.0,\\n                      presort=False, random_state=192771779, splitter='best')\",\n",
       "     \"DecisionTreeRegressor(criterion='mse', max_depth=6, max_features='auto',\\n                      max_leaf_nodes=None, min_impurity_decrease=0.0,\\n                      min_impurity_split=None, min_samples_leaf=1,\\n                      min_samples_split=2, min_weight_fraction_leaf=0.0,\\n                      presort=False, random_state=1491434855, splitter='best')\",\n",
       "     \"DecisionTreeRegressor(criterion='mse', max_depth=6, max_features='auto',\\n                      max_leaf_nodes=None, min_impurity_decrease=0.0,\\n                      min_impurity_split=None, min_samples_leaf=1,\\n                      min_samples_split=2, min_weight_fraction_leaf=0.0,\\n                      presort=False, random_state=1819583497, splitter='best')\",\n",
       "     \"DecisionTreeRegressor(criterion='mse', max_depth=6, max_features='auto',\\n                      max_leaf_nodes=None, min_impurity_decrease=0.0,\\n                      min_impurity_split=None, min_samples_leaf=1,\\n                      min_samples_split=2, min_weight_fraction_leaf=0.0,\\n                      presort=False, random_state=530702035, splitter='best')\"],\n",
       "    'max_depth': 6,\n",
       "    'max_features': 'auto',\n",
       "    'max_leaf_nodes': None,\n",
       "    'min_impurity_decrease': 0,\n",
       "    'min_impurity_split': None,\n",
       "    'min_samples_leaf': 1,\n",
       "    'min_samples_split': 2,\n",
       "    'min_weight_fraction_leaf': 0,\n",
       "    'n_estimators': 10,\n",
       "    'n_features_': 11,\n",
       "    'n_jobs': None,\n",
       "    'n_outputs_': 1,\n",
       "    'oob_score': False,\n",
       "    'random_state': 0,\n",
       "    'verbose': 0,\n",
       "    'warm_start': False},\n",
       "   'model_info': {'deep_learning_model': False,\n",
       "    'feature_names': ['fixed acidity',\n",
       "     'volatile acidity',\n",
       "     'citric acid',\n",
       "     'residual sugar',\n",
       "     'chlorides',\n",
       "     'free sulfur dioxide',\n",
       "     'total sulfur dioxide',\n",
       "     'density',\n",
       "     'pH',\n",
       "     'sulphates',\n",
       "     'alcohol'],\n",
       "    'min_max_features': [{'data_type': 'numerical',\n",
       "      'feature_name': 'fixed acidity',\n",
       "      'max': 15,\n",
       "      'min': 4},\n",
       "     {'data_type': 'numerical',\n",
       "      'feature_name': 'volatile acidity',\n",
       "      'max': 1,\n",
       "      'min': 0},\n",
       "     {'data_type': 'numerical',\n",
       "      'feature_name': 'citric acid',\n",
       "      'max': 1,\n",
       "      'min': 0},\n",
       "     {'data_type': 'numerical',\n",
       "      'feature_name': 'residual sugar',\n",
       "      'max': 15,\n",
       "      'min': 0},\n",
       "     {'data_type': 'numerical',\n",
       "      'feature_name': 'chlorides',\n",
       "      'max': 0,\n",
       "      'min': 0},\n",
       "     {'data_type': 'numerical',\n",
       "      'feature_name': 'free sulfur dioxide',\n",
       "      'max': 72,\n",
       "      'min': 1},\n",
       "     {'data_type': 'numerical',\n",
       "      'feature_name': 'total sulfur dioxide',\n",
       "      'max': 278,\n",
       "      'min': 6},\n",
       "     {'data_type': 'numerical', 'feature_name': 'density', 'max': 1, 'min': 0},\n",
       "     {'data_type': 'numerical', 'feature_name': 'pH', 'max': 4, 'min': 2},\n",
       "     {'data_type': 'numerical',\n",
       "      'feature_name': 'sulphates',\n",
       "      'max': 2,\n",
       "      'min': 0},\n",
       "     {'data_type': 'numerical',\n",
       "      'feature_name': 'alcohol',\n",
       "      'max': 14,\n",
       "      'min': 8}],\n",
       "    'mode': None,\n",
       "    'number_of_features': 11,\n",
       "    'target_names': ['wine_quality'],\n",
       "    'temp_dir': ''},\n",
       "   'object_url': 'fffdf222-96e1-41f7-90e9-038756712ebf/21bb4915-2285-4cbe-bf1b-051fe5c0a7d9/ml_model.tar.gz',\n",
       "   'profiling': [],\n",
       "   'schema': {},\n",
       "   'status': 'active',\n",
       "   'target_names': {'target': ['wine_quality']},\n",
       "   'version_no': 1,\n",
       "   'detailed_matrix': {}}]}"
      ]
     },
     "execution_count": 5,
     "metadata": {},
     "output_type": "execute_result"
    }
   ],
   "source": [
    "register_model(my_model,\n",
    "                score,\n",
    "                \"wine quality\",\n",
    "                \"wine_quality_regression_notebook\",\n",
    "                MLModelFlavours.sklearn,\n",
    "                init_script=\"mkdir abc \\\\n cd abc \\\\n touch abc.txt\",\n",
    "                input_type=\"json\",\n",
    "                explain_ai=True,\n",
    "                x_train=X_train, \n",
    "                y_train=Y_train, \n",
    "                feature_names=['fixed acidity', 'volatile acidity', 'citric acid', 'residual sugar','chlorides', 'free sulfur dioxide', 'total sulfur dioxide', 'density','pH', 'sulphates', 'alcohol'], \n",
    "                feature_ids=['fixed acidity', 'volatile acidity', 'citric acid', 'residual sugar','chlorides', 'free sulfur dioxide', 'total sulfur dioxide', 'density','pH', 'sulphates', 'alcohol'],\n",
    "                target_names=[\"wine_quality\"]\n",
    "              )"
   ]
  },
  {
   "cell_type": "code",
   "execution_count": null,
   "metadata": {},
   "outputs": [],
   "source": []
  }
 ],
 "metadata": {
  "hide_input": false,
  "kernelspec": {
   "display_name": "Python 3",
   "language": "python",
   "name": "python3"
  },
  "language_info": {
   "codemirror_mode": {
    "name": "ipython",
    "version": 3
   },
   "file_extension": ".py",
   "mimetype": "text/x-python",
   "name": "python",
   "nbconvert_exporter": "python",
   "pygments_lexer": "ipython3",
   "version": "3.6.13"
  },
  "toc": {
   "base_numbering": 1,
   "nav_menu": {},
   "number_sections": true,
   "sideBar": true,
   "skip_h1_title": false,
   "title_cell": "Table of Contents",
   "title_sidebar": "Contents",
   "toc_cell": false,
   "toc_position": {},
   "toc_section_display": true,
   "toc_window_display": false
  },
  "varInspector": {
   "cols": {
    "lenName": 16,
    "lenType": 16,
    "lenVar": 40
   },
   "kernels_config": {
    "python": {
     "delete_cmd_postfix": "",
     "delete_cmd_prefix": "del ",
     "library": "var_list.py",
     "varRefreshCmd": "print(var_dic_list())"
    },
    "r": {
     "delete_cmd_postfix": ") ",
     "delete_cmd_prefix": "rm(",
     "library": "var_list.r",
     "varRefreshCmd": "cat(var_dic_list()) "
    }
   },
   "types_to_exclude": [
    "module",
    "function",
    "builtin_function_or_method",
    "instance",
    "_Feature"
   ],
   "window_display": false
  }
 },
 "nbformat": 4,
 "nbformat_minor": 4
}
