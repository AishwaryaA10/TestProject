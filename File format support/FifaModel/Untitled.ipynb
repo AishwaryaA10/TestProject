{
 "cells": [
  {
   "cell_type": "code",
   "execution_count": 1,
   "id": "75226e37-0f6d-4b9d-af4c-a2aae8cabe5c",
   "metadata": {},
   "outputs": [
    {
     "name": "stdout",
     "output_type": "stream",
     "text": [
      "auto commit\n"
     ]
    }
   ],
   "source": [
    "print(\"auto commit\")"
   ]
  },
  {
   "cell_type": "code",
   "execution_count": 2,
   "id": "112e60e4-e0cc-4b17-b2c7-db43f343ad3b",
   "metadata": {},
   "outputs": [
    {
     "name": "stdout",
     "output_type": "stream",
     "text": [
      "manual commit\n"
     ]
    }
   ],
   "source": [
    "print(\"manual commit11111\")"
   ]
  },
  {
   "cell_type": "code",
   "execution_count": null,
   "id": "d1f1d577-4c52-42c9-a3a0-aed92dfbf25e",
   "metadata": {},
   "outputs": [],
   "source": []
  }
 ],
 "metadata": {
  "kernelspec": {
   "display_name": "Python 3",
   "language": "python",
   "name": "python3"
  },
  "language_info": {
   "codemirror_mode": {
    "name": "ipython",
    "version": 3
   },
   "file_extension": ".py",
   "mimetype": "text/x-python",
   "name": "python",
   "nbconvert_exporter": "python",
   "pygments_lexer": "ipython3",
   "version": "3.7.12"
  }
 },
 "nbformat": 4,
 "nbformat_minor": 5
}
