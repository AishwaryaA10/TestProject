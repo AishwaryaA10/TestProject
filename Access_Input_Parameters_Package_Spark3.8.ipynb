{
 "cells": [
  {
   "cell_type": "code",
   "execution_count": 1,
   "id": "92f1d6c1",
   "metadata": {},
   "outputs": [],
   "source": [
    "import category_encoders\n",
    "import sklearn\n",
    "import sanic"
   ]
  },
  {
   "cell_type": "code",
   "execution_count": 4,
   "id": "6a155c82",
   "metadata": {},
   "outputs": [],
   "source": [
    "assert category_encoders.__version__ == \"2.4.0\"\n",
    "assert sklearn.__version__ is not None\n",
    "assert sanic.__version__ == \"20.9.1\""
   ]
  },
  {
   "cell_type": "code",
   "execution_count": 5,
   "id": "f400bdf8",
   "metadata": {},
   "outputs": [],
   "source": [
    "assert \"/tmp\" in category_encoders.__file__\n",
    "assert \"/tmp\" in sklearn.__file__\n",
    "assert \"/packages\" in sanic.__file__"
   ]
  },
  {
   "cell_type": "code",
   "execution_count": null,
   "id": "57056eb0",
   "metadata": {},
   "outputs": [],
   "source": []
  }
 ],
 "metadata": {
  "kernelspec": {
   "display_name": "Python 3 (ipykernel)",
   "language": "python",
   "name": "python3"
  },
  "language_info": {
   "codemirror_mode": {
    "name": "ipython",
    "version": 3
   },
   "file_extension": ".py",
   "mimetype": "text/x-python",
   "name": "python",
   "nbconvert_exporter": "python",
   "pygments_lexer": "ipython3",
   "version": "3.8.12"
  }
 },
 "nbformat": 4,
 "nbformat_minor": 5
}
