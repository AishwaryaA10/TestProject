{
 "cells": [
  {
   "cell_type": "code",
   "execution_count": null,
   "id": "db33b803",
   "metadata": {},
   "outputs": [],
   "source": [
    "from connector.mosaicio import MosaicioConnector\n",
    "ioConnector = MosaicioConnector()\n",
    "dataset = ioConnector.getPandasDataFrame(name=\"Linegaefuzzyfile.csv\")"
   ]
  }
 ],
 "metadata": {
  "kernelspec": {
   "display_name": "Python 3",
   "language": "python",
   "name": "python3"
  },
  "language_info": {
   "codemirror_mode": {
    "name": "ipython",
    "version": 3
   },
   "file_extension": ".py",
   "mimetype": "text/x-python",
   "name": "python",
   "nbconvert_exporter": "python",
   "pygments_lexer": "ipython3",
   "version": "3.6.13"
  }
 },
 "nbformat": 4,
 "nbformat_minor": 5
}
