{
 "cells": [
  {
   "cell_type": "code",
   "execution_count": 1,
   "id": "86ea7451",
   "metadata": {},
   "outputs": [
    {
     "name": "stdout",
     "output_type": "stream",
     "text": [
      "auto commits\n"
     ]
    }
   ],
   "source": [
    "print(\"auto commits\")"
   ]
  },
  {
   "cell_type": "code",
   "execution_count": 2,
   "id": "afecb191",
   "metadata": {},
   "outputs": [
    {
     "name": "stdout",
     "output_type": "stream",
     "text": [
      "manual commit\n"
     ]
    }
   ],
   "source": [
    "print(\"manual commit\")"
   ]
  }
 ],
 "metadata": {
  "kernelspec": {
   "display_name": "Python 3",
   "language": "python",
   "name": "python3"
  },
  "language_info": {
   "codemirror_mode": {
    "name": "ipython",
    "version": 3
   },
   "file_extension": ".py",
   "mimetype": "text/x-python",
   "name": "python",
   "nbconvert_exporter": "python",
   "pygments_lexer": "ipython3",
   "version": "3.7.12"
  }
 },
 "nbformat": 4,
 "nbformat_minor": 5
}
