{
 "cells": [
  {
   "cell_type": "code",
   "execution_count": 1,
   "id": "d41412c6",
   "metadata": {},
   "outputs": [
    {
     "name": "stdout",
     "output_type": "stream",
     "text": [
      "auto commits\n"
     ]
    }
   ],
   "source": [
    "print(\"auto commits\")"
   ]
  },
  {
   "cell_type": "code",
   "execution_count": 2,
   "id": "2085c73a",
   "metadata": {},
   "outputs": [
    {
     "name": "stdout",
     "output_type": "stream",
     "text": [
      "namual commits\n"
     ]
    }
   ],
   "source": [
    "print(\"namual commits\")"
   ]
  }
 ],
 "metadata": {
  "kernelspec": {
   "display_name": "Python 3",
   "language": "python",
   "name": "python3"
  },
  "language_info": {
   "codemirror_mode": {
    "name": "ipython",
    "version": 3
   },
   "file_extension": ".py",
   "mimetype": "text/x-python",
   "name": "python",
   "nbconvert_exporter": "python",
   "pygments_lexer": "ipython3",
   "version": "3.7.12"
  }
 },
 "nbformat": 4,
 "nbformat_minor": 5
}
