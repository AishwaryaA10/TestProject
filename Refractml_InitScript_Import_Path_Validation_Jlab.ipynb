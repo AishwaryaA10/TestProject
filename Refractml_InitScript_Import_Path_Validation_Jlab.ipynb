{
 "cells": [
  {
   "cell_type": "code",
   "execution_count": 1,
   "id": "2f527011",
   "metadata": {},
   "outputs": [
    {
     "name": "stderr",
     "output_type": "stream",
     "text": [
      "/opt/conda/lib/python3.8/site-packages/_distutils_hack/__init__.py:33: UserWarning: Setuptools is replacing distutils.\n",
      "  warnings.warn(\"Setuptools is replacing distutils.\")\n"
     ]
    }
   ],
   "source": [
    "import refractml\n",
    "from importlib.metadata import version"
   ]
  },
  {
   "cell_type": "code",
   "execution_count": 2,
   "id": "08eabe1b",
   "metadata": {},
   "outputs": [],
   "source": [
    "assert \"tmp\" in refractml.__file__"
   ]
  },
  {
   "cell_type": "code",
   "execution_count": 3,
   "id": "53426355",
   "metadata": {},
   "outputs": [],
   "source": [
    "assert \"1.0.3\" in version('refractml')"
   ]
  },
  {
   "cell_type": "code",
   "execution_count": null,
   "id": "a02f855e",
   "metadata": {},
   "outputs": [],
   "source": []
  }
 ],
 "metadata": {
  "kernelspec": {
   "display_name": "Python 3",
   "language": "python",
   "name": "python3"
  },
  "language_info": {
   "codemirror_mode": {
    "name": "ipython",
    "version": 3
   },
   "file_extension": ".py",
   "mimetype": "text/x-python",
   "name": "python",
   "nbconvert_exporter": "python",
   "pygments_lexer": "ipython3",
   "version": "3.7.10"
  }
 },
 "nbformat": 4,
 "nbformat_minor": 5
}
