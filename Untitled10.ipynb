{
 "cells": [
  {
   "cell_type": "code",
   "execution_count": 1,
   "id": "e1056e27",
   "metadata": {},
   "outputs": [
    {
     "name": "stdout",
     "output_type": "stream",
     "text": [
      "testing_user level\n"
     ]
    }
   ],
   "source": [
    "import os\n",
    "print(os.environ.get(\"parameter_test\"))"
   ]
  },
  {
   "cell_type": "code",
   "execution_count": 2,
   "id": "94058c44",
   "metadata": {},
   "outputs": [
    {
     "name": "stdout",
     "output_type": "stream",
     "text": [
      "1223\n",
      "testing1234\n"
     ]
    }
   ],
   "source": [
    "print(os.environ.get(\"int_test\"))\n",
    "print(os.environ.get(\"test_parameter\"))"
   ]
  },
  {
   "cell_type": "code",
   "execution_count": null,
   "id": "c277d5bb",
   "metadata": {},
   "outputs": [],
   "source": []
  }
 ],
 "metadata": {
  "kernelspec": {
   "display_name": "Python 3",
   "language": "python",
   "name": "python3"
  },
  "language_info": {
   "codemirror_mode": {
    "name": "ipython",
    "version": 3
   },
   "file_extension": ".py",
   "mimetype": "text/x-python",
   "name": "python",
   "nbconvert_exporter": "python",
   "pygments_lexer": "ipython3",
   "version": "3.6.15"
  }
 },
 "nbformat": 4,
 "nbformat_minor": 5
}
