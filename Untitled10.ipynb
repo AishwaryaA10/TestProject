{
 "cells": [
  {
   "cell_type": "code",
   "execution_count": 1,
   "id": "689679c5",
   "metadata": {},
   "outputs": [
    {
     "name": "stdout",
     "output_type": "stream",
     "text": [
      "testing_user level\n"
     ]
    }
   ],
   "source": [
    "import os\n",
    "print(os.environ.get(\"parameter_test\"))"
   ]
  },
  {
   "cell_type": "code",
   "execution_count": 2,
   "id": "912af58a",
   "metadata": {},
   "outputs": [
    {
     "name": "stdout",
     "output_type": "stream",
     "text": [
      "1223\n",
      "testing1234\n"
     ]
    }
   ],
   "source": [
    "print(os.environ.get(\"int_test\"))\n",
    "print(os.environ.get(\"test_parameter\"))"
   ]
  },
  {
   "cell_type": "code",
   "execution_count": 3,
   "id": "8f84dedc",
   "metadata": {},
   "outputs": [
    {
     "name": "stdout",
     "output_type": "stream",
     "text": [
      "testing parameter\n"
     ]
    }
   ],
   "source": [
    "print(os.environ.get(\"template_level\"))"
   ]
  },
  {
   "cell_type": "code",
   "execution_count": null,
   "id": "20a174fe",
   "metadata": {},
   "outputs": [],
   "source": []
  }
 ],
 "metadata": {
  "kernelspec": {
   "display_name": "Python 3",
   "language": "python",
   "name": "python3"
  },
  "language_info": {
   "codemirror_mode": {
    "name": "ipython",
    "version": 3
   },
   "file_extension": ".py",
   "mimetype": "text/x-python",
   "name": "python",
   "nbconvert_exporter": "python",
   "pygments_lexer": "ipython3",
   "version": "3.6.15"
  }
 },
 "nbformat": 4,
 "nbformat_minor": 5
}
