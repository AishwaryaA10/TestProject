{
 "cells": [
  {
   "cell_type": "code",
   "execution_count": 1,
   "id": "e350d2ff",
   "metadata": {},
   "outputs": [
    {
     "name": "stdout",
     "output_type": "stream",
     "text": [
      "[Row(created_on=datetime.datetime(2022, 1, 17, 4, 54, 13, 802000, tzinfo=<StaticTzInfo 'Etc/UTC'>), name='FOSFOR_REFRACT', is_default='N', is_current='N', origin='', owner='ACCOUNTADMIN', comment='DB for Refract', options='', retention_time='1', kind='STANDARD', budget=None, owner_role_type='ROLE'), Row(created_on=datetime.datetime(2022, 11, 14, 11, 4, 12, 720000, tzinfo=<StaticTzInfo 'Etc/UTC'>), name='REFRACT_SNOWFLAKE_INTEGRATION', is_default='N', is_current='N', origin='', owner='FOSFOR_REFRACT', comment='This database contains stored procedures, UDFs, tables which are required for integrating refract with Snowflake. This integration is focused on 1)pushing the execution to snowflake and 2)create an APP marketplace.', options='', retention_time='1', kind='STANDARD', budget=None, owner_role_type='ROLE'), Row(created_on=datetime.datetime(2021, 11, 29, 12, 52, 40, 59000, tzinfo=<StaticTzInfo 'Etc/UTC'>), name='SNOWFLAKE', is_default='N', is_current='N', origin='SNOWFLAKE.ACCOUNT_USAGE', owner='', comment='', options='', retention_time='0', kind='APPLICATION', budget=None, owner_role_type=''), Row(created_on=datetime.datetime(2023, 12, 4, 9, 16, 33, 710000, tzinfo=<StaticTzInfo 'Etc/UTC'>), name='SNOWFLAKE$GDS', is_default='N', is_current='N', origin='', owner='AUTO_FULFILLMENT_EXECUTOR', comment='', options='', retention_time='1', kind='STANDARD', budget=None, owner_role_type='ROLE'), Row(created_on=datetime.datetime(2022, 7, 3, 10, 42, 29, 737000, tzinfo=<StaticTzInfo 'Etc/UTC'>), name='SNOWFLAKE_SAMPLE_DATA', is_default='N', is_current='N', origin='SFSALESSHARED.SFC_SAMPLES_AWS_US_EAST_1_2.SAMPLE_DATA', owner='ACCOUNTADMIN', comment='', options='', retention_time='0', kind='IMPORTED DATABASE', budget=None, owner_role_type='ROLE')]\n"
     ]
    }
   ],
   "source": [
    "from snowflake.snowpark.session import Session\n",
    "\n",
    "connection_params = {'user': \"REFRACT.FOSFOR@LNTINFOTECH.COM\", 'password': \"Password321\", 'account':\"fya62509.us-east-1\", 'role':\"FOSFOR_REFRACT\", 'warehouse': \"FOSFOR_REFRACT\"}\n",
    "\n",
    "session = Session.builder.configs(connection_params).create()\n",
    "data = session.sql(\"SHOW DATABASES;\").collect()\n",
    "print(data)\n",
    "session.close()"
   ]
  }
 ],
 "metadata": {
  "kernelspec": {
   "display_name": "Python 3",
   "language": "python",
   "name": "python3"
  },
  "language_info": {
   "codemirror_mode": {
    "name": "ipython",
    "version": 3
   },
   "file_extension": ".py",
   "mimetype": "text/x-python",
   "name": "python",
   "nbconvert_exporter": "python",
   "pygments_lexer": "ipython3",
   "version": "3.8.18"
  }
 },
 "nbformat": 4,
 "nbformat_minor": 5
}
