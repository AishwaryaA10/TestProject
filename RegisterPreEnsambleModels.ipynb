{
 "cells": [
  {
   "cell_type": "markdown",
   "id": "69bd37e0",
   "metadata": {},
   "source": [
    "# IRIS Classification"
   ]
  },
  {
   "cell_type": "code",
   "execution_count": 1,
   "id": "fadaa62f",
   "metadata": {},
   "outputs": [
    {
     "name": "stderr",
     "output_type": "stream",
     "text": [
      "/opt/conda/lib/python3.7/site-packages/_distutils_hack/__init__.py:33: UserWarning: Setuptools is replacing distutils.\n",
      "  warnings.warn(\"Setuptools is replacing distutils.\")\n"
     ]
    }
   ],
   "source": [
    "from mosaicml import *\n",
    "from mosaicml.constants import MLModelFlavours\n",
    "from sklearn.model_selection import train_test_split\n",
    "from sklearn.ensemble import RandomForestClassifier\n",
    "from sklearn import datasets\n",
    "from sklearn import svm"
   ]
  },
  {
   "cell_type": "code",
   "execution_count": 2,
   "id": "061b7bd3",
   "metadata": {},
   "outputs": [],
   "source": [
    "iris = datasets.load_iris()\n",
    "digits = datasets.load_digits()\n",
    "X = iris.data\n",
    "y = iris.target"
   ]
  },
  {
   "cell_type": "markdown",
   "id": "86d2087f",
   "metadata": {},
   "source": [
    "# IRIS First Model Creation"
   ]
  },
  {
   "cell_type": "code",
   "execution_count": 3,
   "id": "58e3be71",
   "metadata": {},
   "outputs": [],
   "source": [
    "clf = RandomForestClassifier(random_state=0, n_jobs=-1)"
   ]
  },
  {
   "cell_type": "code",
   "execution_count": 4,
   "id": "0b36f8aa",
   "metadata": {},
   "outputs": [],
   "source": [
    "xtrain, xtest, ytrain, ytest = train_test_split(X,y,test_size=0.2, random_state=0)\n",
    "clf = clf.fit(xtrain, ytrain)"
   ]
  },
  {
   "cell_type": "code",
   "execution_count": 5,
   "id": "7a66b8a6",
   "metadata": {},
   "outputs": [
    {
     "name": "stdout",
     "output_type": "stream",
     "text": [
      "(30, 4)\n",
      "(30,)\n",
      "(120, 4)\n",
      "(120,)\n"
     ]
    }
   ],
   "source": [
    "y_pred=clf.predict(xtest)\n",
    "print(xtest.shape)\n",
    "print(ytest.shape)\n",
    "print(xtrain.shape)\n",
    "print(ytrain.shape)"
   ]
  },
  {
   "cell_type": "code",
   "execution_count": 6,
   "id": "c1622705",
   "metadata": {},
   "outputs": [],
   "source": [
    "prob=clf.predict_proba(xtest)\n",
    "#print(prob)\n",
    "prob1=prob[:,1]"
   ]
  },
  {
   "cell_type": "markdown",
   "id": "042ca295",
   "metadata": {},
   "source": [
    "# Iris Second Model Creation"
   ]
  },
  {
   "cell_type": "code",
   "execution_count": 7,
   "id": "bbac28bd",
   "metadata": {},
   "outputs": [
    {
     "name": "stdout",
     "output_type": "stream",
     "text": [
      "(38, 4)\n",
      "(38,)\n",
      "(112, 4)\n",
      "(112,)\n"
     ]
    }
   ],
   "source": [
    "clf_2 = RandomForestClassifier(random_state=123, n_jobs=10)\n",
    "xtrain2, xtest2, ytrain2, ytest2 = train_test_split(X,y,test_size=0.25, random_state=123)\n",
    "clf_2 = clf_2.fit(xtrain2, ytrain2)\n",
    "y_pred2=clf_2.predict(xtest2)\n",
    "print(xtest2.shape)\n",
    "print(ytest2.shape)\n",
    "print(xtrain2.shape)\n",
    "print(ytrain2.shape)\n",
    "prob_2=clf_2.predict_proba(xtest2)[:,1]"
   ]
  },
  {
   "cell_type": "markdown",
   "id": "a5209f0f",
   "metadata": {},
   "source": [
    "# score 1st Model"
   ]
  },
  {
   "cell_type": "code",
   "execution_count": 8,
   "id": "2b7ff4b1",
   "metadata": {},
   "outputs": [],
   "source": [
    "@scoring_func\n",
    "def score_1(model, request):\n",
    "    import numpy\n",
    "    payload = request.json[\"payload\"]\n",
    "    data_list = payload\n",
    "    data_array = numpy.asarray(data_list)\n",
    "    prediction = model.predict(data_array)\n",
    "    return prediction.tolist()"
   ]
  },
  {
   "cell_type": "markdown",
   "id": "c1b45181",
   "metadata": {},
   "source": [
    "# score 2nd Model"
   ]
  },
  {
   "cell_type": "code",
   "execution_count": 9,
   "id": "178c402c",
   "metadata": {},
   "outputs": [],
   "source": [
    "@scoring_func\n",
    "def score_2(model, request):\n",
    "    import numpy\n",
    "    payload = request.json[\"payload\"]\n",
    "    data_list = payload\n",
    "    data_array = numpy.asarray(data_list)\n",
    "    prediction = model.predict(data_array)\n",
    "    return prediction.tolist()"
   ]
  },
  {
   "cell_type": "code",
   "execution_count": 10,
   "id": "00ca0347",
   "metadata": {},
   "outputs": [],
   "source": [
    "import requests\n",
    "req = requests.Request()\n",
    "req.json = {\"payload\":[[5.8, 2.8, 5.1, 2.4],\n",
    "       [6.0 , 2.2, 4.0 , 1.0 ]]}"
   ]
  },
  {
   "cell_type": "code",
   "execution_count": 11,
   "id": "51618435",
   "metadata": {},
   "outputs": [
    {
     "data": {
      "text/plain": [
       "array([[5.8, 2.8, 5.1, 2.4],\n",
       "       [6. , 2.2, 4. , 1. ]])"
      ]
     },
     "execution_count": 11,
     "metadata": {},
     "output_type": "execute_result"
    }
   ],
   "source": [
    "xtest[:2]"
   ]
  },
  {
   "cell_type": "code",
   "execution_count": 12,
   "id": "8fd14a01",
   "metadata": {},
   "outputs": [],
   "source": [
    "we=score_1(clf,req)"
   ]
  },
  {
   "cell_type": "code",
   "execution_count": 13,
   "id": "453610a6",
   "metadata": {},
   "outputs": [],
   "source": [
    "import numpy as np\n",
    "per = np.array(we)"
   ]
  },
  {
   "cell_type": "code",
   "execution_count": 14,
   "id": "3801d2cf",
   "metadata": {},
   "outputs": [
    {
     "data": {
      "text/plain": [
       "array([1. , 0.5])"
      ]
     },
     "execution_count": 14,
     "metadata": {},
     "output_type": "execute_result"
    }
   ],
   "source": [
    "per*0.5"
   ]
  },
  {
   "cell_type": "code",
   "execution_count": 15,
   "id": "643ca4a4",
   "metadata": {},
   "outputs": [
    {
     "data": {
      "text/plain": [
       "array([6.3, 2.5, 4.9, 1.5])"
      ]
     },
     "execution_count": 15,
     "metadata": {},
     "output_type": "execute_result"
    }
   ],
   "source": [
    "xtest2[0]"
   ]
  },
  {
   "cell_type": "code",
   "execution_count": 16,
   "id": "d497a9d1",
   "metadata": {},
   "outputs": [],
   "source": [
    "import requests\n",
    "req2 = requests.Request()\n",
    "req2.json = {\"payload\":[[6.3, 2.5, 4.9, 1.5]]}"
   ]
  },
  {
   "cell_type": "code",
   "execution_count": 17,
   "id": "be4ed393",
   "metadata": {},
   "outputs": [
    {
     "data": {
      "text/plain": [
       "[1]"
      ]
     },
     "execution_count": 17,
     "metadata": {},
     "output_type": "execute_result"
    }
   ],
   "source": [
    "score_2(clf_2,req2)"
   ]
  },
  {
   "cell_type": "markdown",
   "id": "43495681",
   "metadata": {},
   "source": [
    "# Registering 1st model"
   ]
  },
  {
   "cell_type": "code",
   "execution_count": 18,
   "id": "aab480a1",
   "metadata": {},
   "outputs": [
    {
     "name": "stdout",
     "output_type": "stream",
     "text": [
      "Calculating build time metrics\n",
      "\n",
      "Progress: ██████████████████████████████████████████████████████████████████████ 100.0%\n"
     ]
    },
    {
     "data": {
      "application/vnd.jupyter.widget-view+json": {
       "model_id": "8ee153483b4a4a73aa7fcb20997d3ed8",
       "version_major": 2,
       "version_minor": 0
      },
      "text/plain": [
       "VBox(children=(HTML(value='<style>.grad_1{background: #2468a4;} .grad_2{ color:white; background: #2468a4;}</s…"
      ]
     },
     "metadata": {},
     "output_type": "display_data"
    }
   ],
   "source": [
    "register_model(clf,\n",
    "                score_1,\n",
    "                \"sklearn_iris_v11_a\",\n",
    "                \"sklearn_iris_v11_a\",\n",
    "                MLModelFlavours.sklearn,\n",
    "                input_type=\"json\",\n",
    "                explain_ai=False,\n",
    "                x_train=xtrain, \n",
    "                y_train=ytrain,\n",
    "                y_true=ytest,\n",
    "                y_pred=y_pred,\n",
    "                model_type=\"classification\",\n",
    "                prob=prob1,\n",
    "                feature_names=iris.feature_names,\n",
    "                feature_ids=iris.feature_names,\n",
    "                target_names=iris.target_names.tolist()\n",
    "              )"
   ]
  },
  {
   "cell_type": "markdown",
   "id": "8fd5dedf",
   "metadata": {},
   "source": [
    "# Registering 2nd model"
   ]
  },
  {
   "cell_type": "code",
   "execution_count": 19,
   "id": "678a46f8",
   "metadata": {},
   "outputs": [
    {
     "name": "stdout",
     "output_type": "stream",
     "text": [
      "Calculating build time metrics\n",
      "\n",
      "Progress: ██████████████████████████████████████████████████████████████████████ 100.0%\n"
     ]
    },
    {
     "data": {
      "application/vnd.jupyter.widget-view+json": {
       "model_id": "b1a59e58fb7641eea5325e9ff8ca969e",
       "version_major": 2,
       "version_minor": 0
      },
      "text/plain": [
       "VBox(children=(HTML(value='<style>.grad_1{background: #2468a4;} .grad_2{ color:white; background: #2468a4;}</s…"
      ]
     },
     "metadata": {},
     "output_type": "display_data"
    }
   ],
   "source": [
    "register_model(clf_2,\n",
    "                score_2,\n",
    "                \"sklearn_iris_v22_a\",\n",
    "                \"sklearn_iris_v22_a\",\n",
    "                MLModelFlavours.sklearn,\n",
    "                input_type=\"json\",\n",
    "                explain_ai=False,\n",
    "                x_train=xtrain2, \n",
    "                y_train=ytrain2,\n",
    "                y_true=ytest2,\n",
    "                y_pred=y_pred2,\n",
    "                model_type=\"classification\",\n",
    "                prob=prob_2,\n",
    "                feature_names=iris.feature_names,\n",
    "                feature_ids=iris.feature_names,\n",
    "                target_names=iris.target_names.tolist()\n",
    "              )"
   ]
  },
  {
   "cell_type": "code",
   "execution_count": null,
   "id": "d96628b4",
   "metadata": {},
   "outputs": [],
   "source": []
  }
 ],
 "metadata": {
  "kernelspec": {
   "display_name": "Python 3",
   "language": "python",
   "name": "python3"
  },
  "language_info": {
   "codemirror_mode": {
    "name": "ipython",
    "version": 3
   },
   "file_extension": ".py",
   "mimetype": "text/x-python",
   "name": "python",
   "nbconvert_exporter": "python",
   "pygments_lexer": "ipython3",
   "version": "3.7.10"
  }
 },
 "nbformat": 4,
 "nbformat_minor": 5
}
