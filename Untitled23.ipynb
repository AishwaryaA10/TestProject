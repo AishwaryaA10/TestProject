{
 "cells": [
  {
   "cell_type": "code",
   "execution_count": null,
   "id": "6d7800ca",
   "metadata": {},
   "outputs": [],
   "source": [
    "from multiprocessing import Pool\n",
    "from multiprocessing import cpu_count\n",
    "\n",
    "def f(x):\n",
    "    import time\n",
    "    t_end = time.time() + 60 * 15\n",
    "    while time.time() < t_end:\n",
    "        x*x\n",
    "\n",
    "if __name__ == '__main__':\n",
    "    processes = cpu_count()\n",
    "    pool = Pool(processes)\n",
    "    pool.map(f, range(processes))"
   ]
  },
  {
   "cell_type": "code",
   "execution_count": null,
   "id": "3a63045d",
   "metadata": {},
   "outputs": [],
   "source": []
  }
 ],
 "metadata": {
  "kernelspec": {
   "display_name": "Python 3",
   "language": "python",
   "name": "python3"
  },
  "language_info": {
   "codemirror_mode": {
    "name": "ipython",
    "version": 3
   },
   "file_extension": ".py",
   "mimetype": "text/x-python",
   "name": "python",
   "nbconvert_exporter": "python",
   "pygments_lexer": "ipython3",
   "version": "3.9.17"
  }
 },
 "nbformat": 4,
 "nbformat_minor": 5
}
