{
 "cells": [
  {
   "cell_type": "markdown",
   "metadata": {},
   "source": [
    "<img src=\"fifa.jpeg\" style=\"float:left\">"
   ]
  },
  {
   "cell_type": "markdown",
   "metadata": {},
   "source": [
    "# Fifa 19 Dataset - Transfer Value predicting Regression Model"
   ]
  },
  {
   "cell_type": "markdown",
   "metadata": {},
   "source": [
    "# Importing required Packages"
   ]
  },
  {
   "cell_type": "code",
   "execution_count": null,
   "metadata": {},
   "outputs": [],
   "source": [
    "!pip install refractml"
   ]
  },
  {
   "cell_type": "code",
   "execution_count": null,
   "metadata": {},
   "outputs": [],
   "source": [
    "!pip show refractml"
   ]
  },
  {
   "cell_type": "code",
   "execution_count": null,
   "metadata": {},
   "outputs": [],
   "source": [
    "!pip uninstall -y urllib3"
   ]
  },
  {
   "cell_type": "code",
   "execution_count": null,
   "metadata": {},
   "outputs": [],
   "source": [
    "!pip show urllib3"
   ]
  },
  {
   "cell_type": "code",
   "execution_count": 1,
   "metadata": {
    "ExecuteTime": {
     "end_time": "2021-05-12T06:20:22.397861Z",
     "start_time": "2021-05-12T06:20:06.142282Z"
    }
   },
   "outputs": [
    {
     "name": "stderr",
     "output_type": "stream",
     "text": [
      "/opt/conda/lib/python3.8/site-packages/_distutils_hack/__init__.py:33: UserWarning: Setuptools is replacing distutils.\n",
      "  warnings.warn(\"Setuptools is replacing distutils.\")\n"
     ]
    }
   ],
   "source": [
    "import numpy as np\n",
    "import pandas as pd\n",
    "\n",
    "from sklearn.ensemble import GradientBoostingRegressor, GradientBoostingClassifier\n",
    "from sklearn.model_selection import train_test_split\n",
    "from sklearn.model_selection import RandomizedSearchCV\n",
    "from refractml import *\n",
    "from refractml.constants import MLModelFlavours\n",
    "\n",
    "import warnings\n",
    "warnings.filterwarnings('ignore')"
   ]
  },
  {
   "cell_type": "markdown",
   "metadata": {},
   "source": [
    "# Loading Dataset"
   ]
  },
  {
   "cell_type": "code",
   "execution_count": 2,
   "metadata": {
    "ExecuteTime": {
     "end_time": "2021-05-12T06:20:26.597934Z",
     "start_time": "2021-05-12T06:20:25.686643Z"
    }
   },
   "outputs": [
    {
     "data": {
      "text/html": [
       "<div>\n",
       "<style scoped>\n",
       "    .dataframe tbody tr th:only-of-type {\n",
       "        vertical-align: middle;\n",
       "    }\n",
       "\n",
       "    .dataframe tbody tr th {\n",
       "        vertical-align: top;\n",
       "    }\n",
       "\n",
       "    .dataframe thead th {\n",
       "        text-align: right;\n",
       "    }\n",
       "</style>\n",
       "<table border=\"1\" class=\"dataframe\">\n",
       "  <thead>\n",
       "    <tr style=\"text-align: right;\">\n",
       "      <th></th>\n",
       "      <th>short_name</th>\n",
       "      <th>nationality</th>\n",
       "      <th>overall</th>\n",
       "      <th>potential</th>\n",
       "      <th>wage_eur</th>\n",
       "      <th>value_eur</th>\n",
       "      <th>age</th>\n",
       "      <th>height_cm</th>\n",
       "      <th>weight_kg</th>\n",
       "      <th>attacking_crossing</th>\n",
       "      <th>...</th>\n",
       "      <th>mentality_penalties</th>\n",
       "      <th>mentality_composure</th>\n",
       "      <th>defending_marking</th>\n",
       "      <th>defending_standing_tackle</th>\n",
       "      <th>defending_sliding_tackle</th>\n",
       "      <th>goalkeeping_diving</th>\n",
       "      <th>goalkeeping_handling</th>\n",
       "      <th>goalkeeping_kicking</th>\n",
       "      <th>goalkeeping_positioning</th>\n",
       "      <th>goalkeeping_reflexes</th>\n",
       "    </tr>\n",
       "  </thead>\n",
       "  <tbody>\n",
       "    <tr>\n",
       "      <th>0</th>\n",
       "      <td>L. Messi</td>\n",
       "      <td>Argentina</td>\n",
       "      <td>94</td>\n",
       "      <td>94</td>\n",
       "      <td>565000</td>\n",
       "      <td>95500000</td>\n",
       "      <td>32</td>\n",
       "      <td>170</td>\n",
       "      <td>72</td>\n",
       "      <td>88</td>\n",
       "      <td>...</td>\n",
       "      <td>75</td>\n",
       "      <td>96</td>\n",
       "      <td>33</td>\n",
       "      <td>37</td>\n",
       "      <td>26</td>\n",
       "      <td>6</td>\n",
       "      <td>11</td>\n",
       "      <td>15</td>\n",
       "      <td>14</td>\n",
       "      <td>8</td>\n",
       "    </tr>\n",
       "    <tr>\n",
       "      <th>1</th>\n",
       "      <td>Cristiano Ronaldo</td>\n",
       "      <td>Portugal</td>\n",
       "      <td>93</td>\n",
       "      <td>93</td>\n",
       "      <td>405000</td>\n",
       "      <td>58500000</td>\n",
       "      <td>34</td>\n",
       "      <td>187</td>\n",
       "      <td>83</td>\n",
       "      <td>84</td>\n",
       "      <td>...</td>\n",
       "      <td>85</td>\n",
       "      <td>95</td>\n",
       "      <td>28</td>\n",
       "      <td>32</td>\n",
       "      <td>24</td>\n",
       "      <td>7</td>\n",
       "      <td>11</td>\n",
       "      <td>15</td>\n",
       "      <td>14</td>\n",
       "      <td>11</td>\n",
       "    </tr>\n",
       "    <tr>\n",
       "      <th>2</th>\n",
       "      <td>Neymar Jr</td>\n",
       "      <td>Brazil</td>\n",
       "      <td>92</td>\n",
       "      <td>92</td>\n",
       "      <td>290000</td>\n",
       "      <td>105500000</td>\n",
       "      <td>27</td>\n",
       "      <td>175</td>\n",
       "      <td>68</td>\n",
       "      <td>87</td>\n",
       "      <td>...</td>\n",
       "      <td>90</td>\n",
       "      <td>94</td>\n",
       "      <td>27</td>\n",
       "      <td>26</td>\n",
       "      <td>29</td>\n",
       "      <td>9</td>\n",
       "      <td>9</td>\n",
       "      <td>15</td>\n",
       "      <td>15</td>\n",
       "      <td>11</td>\n",
       "    </tr>\n",
       "    <tr>\n",
       "      <th>3</th>\n",
       "      <td>J. Oblak</td>\n",
       "      <td>Slovenia</td>\n",
       "      <td>91</td>\n",
       "      <td>93</td>\n",
       "      <td>125000</td>\n",
       "      <td>77500000</td>\n",
       "      <td>26</td>\n",
       "      <td>188</td>\n",
       "      <td>87</td>\n",
       "      <td>13</td>\n",
       "      <td>...</td>\n",
       "      <td>11</td>\n",
       "      <td>68</td>\n",
       "      <td>27</td>\n",
       "      <td>12</td>\n",
       "      <td>18</td>\n",
       "      <td>87</td>\n",
       "      <td>92</td>\n",
       "      <td>78</td>\n",
       "      <td>90</td>\n",
       "      <td>89</td>\n",
       "    </tr>\n",
       "    <tr>\n",
       "      <th>4</th>\n",
       "      <td>E. Hazard</td>\n",
       "      <td>Belgium</td>\n",
       "      <td>91</td>\n",
       "      <td>91</td>\n",
       "      <td>470000</td>\n",
       "      <td>90000000</td>\n",
       "      <td>28</td>\n",
       "      <td>175</td>\n",
       "      <td>74</td>\n",
       "      <td>81</td>\n",
       "      <td>...</td>\n",
       "      <td>88</td>\n",
       "      <td>91</td>\n",
       "      <td>34</td>\n",
       "      <td>27</td>\n",
       "      <td>22</td>\n",
       "      <td>11</td>\n",
       "      <td>12</td>\n",
       "      <td>6</td>\n",
       "      <td>8</td>\n",
       "      <td>8</td>\n",
       "    </tr>\n",
       "    <tr>\n",
       "      <th>5</th>\n",
       "      <td>K. De Bruyne</td>\n",
       "      <td>Belgium</td>\n",
       "      <td>91</td>\n",
       "      <td>91</td>\n",
       "      <td>370000</td>\n",
       "      <td>90000000</td>\n",
       "      <td>28</td>\n",
       "      <td>181</td>\n",
       "      <td>70</td>\n",
       "      <td>93</td>\n",
       "      <td>...</td>\n",
       "      <td>79</td>\n",
       "      <td>91</td>\n",
       "      <td>68</td>\n",
       "      <td>58</td>\n",
       "      <td>51</td>\n",
       "      <td>15</td>\n",
       "      <td>13</td>\n",
       "      <td>5</td>\n",
       "      <td>10</td>\n",
       "      <td>13</td>\n",
       "    </tr>\n",
       "    <tr>\n",
       "      <th>6</th>\n",
       "      <td>M. ter Stegen</td>\n",
       "      <td>Germany</td>\n",
       "      <td>90</td>\n",
       "      <td>93</td>\n",
       "      <td>250000</td>\n",
       "      <td>67500000</td>\n",
       "      <td>27</td>\n",
       "      <td>187</td>\n",
       "      <td>85</td>\n",
       "      <td>18</td>\n",
       "      <td>...</td>\n",
       "      <td>25</td>\n",
       "      <td>70</td>\n",
       "      <td>25</td>\n",
       "      <td>13</td>\n",
       "      <td>10</td>\n",
       "      <td>88</td>\n",
       "      <td>85</td>\n",
       "      <td>88</td>\n",
       "      <td>88</td>\n",
       "      <td>90</td>\n",
       "    </tr>\n",
       "    <tr>\n",
       "      <th>7</th>\n",
       "      <td>V. van Dijk</td>\n",
       "      <td>Netherlands</td>\n",
       "      <td>90</td>\n",
       "      <td>91</td>\n",
       "      <td>200000</td>\n",
       "      <td>78000000</td>\n",
       "      <td>27</td>\n",
       "      <td>193</td>\n",
       "      <td>92</td>\n",
       "      <td>53</td>\n",
       "      <td>...</td>\n",
       "      <td>62</td>\n",
       "      <td>89</td>\n",
       "      <td>91</td>\n",
       "      <td>92</td>\n",
       "      <td>85</td>\n",
       "      <td>13</td>\n",
       "      <td>10</td>\n",
       "      <td>13</td>\n",
       "      <td>11</td>\n",
       "      <td>11</td>\n",
       "    </tr>\n",
       "    <tr>\n",
       "      <th>8</th>\n",
       "      <td>L. Modric</td>\n",
       "      <td>Croatia</td>\n",
       "      <td>90</td>\n",
       "      <td>90</td>\n",
       "      <td>340000</td>\n",
       "      <td>45000000</td>\n",
       "      <td>33</td>\n",
       "      <td>172</td>\n",
       "      <td>66</td>\n",
       "      <td>86</td>\n",
       "      <td>...</td>\n",
       "      <td>82</td>\n",
       "      <td>92</td>\n",
       "      <td>68</td>\n",
       "      <td>76</td>\n",
       "      <td>71</td>\n",
       "      <td>13</td>\n",
       "      <td>9</td>\n",
       "      <td>7</td>\n",
       "      <td>14</td>\n",
       "      <td>9</td>\n",
       "    </tr>\n",
       "    <tr>\n",
       "      <th>9</th>\n",
       "      <td>M. Salah</td>\n",
       "      <td>Egypt</td>\n",
       "      <td>90</td>\n",
       "      <td>90</td>\n",
       "      <td>240000</td>\n",
       "      <td>80500000</td>\n",
       "      <td>27</td>\n",
       "      <td>175</td>\n",
       "      <td>71</td>\n",
       "      <td>79</td>\n",
       "      <td>...</td>\n",
       "      <td>77</td>\n",
       "      <td>91</td>\n",
       "      <td>38</td>\n",
       "      <td>43</td>\n",
       "      <td>41</td>\n",
       "      <td>14</td>\n",
       "      <td>14</td>\n",
       "      <td>9</td>\n",
       "      <td>11</td>\n",
       "      <td>14</td>\n",
       "    </tr>\n",
       "  </tbody>\n",
       "</table>\n",
       "<p>10 rows × 43 columns</p>\n",
       "</div>"
      ],
      "text/plain": [
       "          short_name  nationality  overall  potential  wage_eur  value_eur   \n",
       "0           L. Messi    Argentina       94         94    565000   95500000  \\\n",
       "1  Cristiano Ronaldo     Portugal       93         93    405000   58500000   \n",
       "2          Neymar Jr       Brazil       92         92    290000  105500000   \n",
       "3           J. Oblak     Slovenia       91         93    125000   77500000   \n",
       "4          E. Hazard      Belgium       91         91    470000   90000000   \n",
       "5       K. De Bruyne      Belgium       91         91    370000   90000000   \n",
       "6      M. ter Stegen      Germany       90         93    250000   67500000   \n",
       "7        V. van Dijk  Netherlands       90         91    200000   78000000   \n",
       "8          L. Modric      Croatia       90         90    340000   45000000   \n",
       "9           M. Salah        Egypt       90         90    240000   80500000   \n",
       "\n",
       "   age  height_cm  weight_kg  attacking_crossing  ...  mentality_penalties   \n",
       "0   32        170         72                  88  ...                   75  \\\n",
       "1   34        187         83                  84  ...                   85   \n",
       "2   27        175         68                  87  ...                   90   \n",
       "3   26        188         87                  13  ...                   11   \n",
       "4   28        175         74                  81  ...                   88   \n",
       "5   28        181         70                  93  ...                   79   \n",
       "6   27        187         85                  18  ...                   25   \n",
       "7   27        193         92                  53  ...                   62   \n",
       "8   33        172         66                  86  ...                   82   \n",
       "9   27        175         71                  79  ...                   77   \n",
       "\n",
       "   mentality_composure  defending_marking  defending_standing_tackle   \n",
       "0                   96                 33                         37  \\\n",
       "1                   95                 28                         32   \n",
       "2                   94                 27                         26   \n",
       "3                   68                 27                         12   \n",
       "4                   91                 34                         27   \n",
       "5                   91                 68                         58   \n",
       "6                   70                 25                         13   \n",
       "7                   89                 91                         92   \n",
       "8                   92                 68                         76   \n",
       "9                   91                 38                         43   \n",
       "\n",
       "   defending_sliding_tackle  goalkeeping_diving  goalkeeping_handling   \n",
       "0                        26                   6                    11  \\\n",
       "1                        24                   7                    11   \n",
       "2                        29                   9                     9   \n",
       "3                        18                  87                    92   \n",
       "4                        22                  11                    12   \n",
       "5                        51                  15                    13   \n",
       "6                        10                  88                    85   \n",
       "7                        85                  13                    10   \n",
       "8                        71                  13                     9   \n",
       "9                        41                  14                    14   \n",
       "\n",
       "   goalkeeping_kicking  goalkeeping_positioning  goalkeeping_reflexes  \n",
       "0                   15                       14                     8  \n",
       "1                   15                       14                    11  \n",
       "2                   15                       15                    11  \n",
       "3                   78                       90                    89  \n",
       "4                    6                        8                     8  \n",
       "5                    5                       10                    13  \n",
       "6                   88                       88                    90  \n",
       "7                   13                       11                    11  \n",
       "8                    7                       14                     9  \n",
       "9                    9                       11                    14  \n",
       "\n",
       "[10 rows x 43 columns]"
      ]
     },
     "execution_count": 2,
     "metadata": {},
     "output_type": "execute_result"
    }
   ],
   "source": [
    "# Load the data\n",
    "data = pd.read_csv(\"/notebooks/notebooks/fifa.csv\")\n",
    "data.head(10)"
   ]
  },
  {
   "cell_type": "markdown",
   "metadata": {},
   "source": [
    "# Seperating Dataset into Training and Test"
   ]
  },
  {
   "cell_type": "code",
   "execution_count": 3,
   "metadata": {
    "ExecuteTime": {
     "end_time": "2021-01-18T14:45:40.036396Z",
     "start_time": "2021-01-18T14:45:39.800380Z"
    }
   },
   "outputs": [
    {
     "name": "stderr",
     "output_type": "stream",
     "text": [
      "Matplotlib created a temporary cache directory at /tmp/matplotlib-68_1v2gf because the default path (/home/mosaic-ai/.cache/matplotlib) is not a writable directory; it is highly recommended to set the MPLCONFIGDIR environment variable to a writable directory, in particular to speed up the import of Matplotlib and to better support multiprocessing.\n"
     ]
    },
    {
     "data": {
      "image/png": "[encoded data removed]",
      "text/plain": [
       "<Figure size 640x480 with 1 Axes>"
      ]
     },
     "metadata": {},
     "output_type": "display_data"
    }
   ],
   "source": [
    "X = data[['age','height_cm','weight_kg','skill_dribbling','attacking_crossing','attacking_finishing','movement_acceleration','movement_sprint_speed','power_shot_power','mentality_aggression','defending_marking','defending_standing_tackle','goalkeeping_diving','goalkeeping_handling','overall','potential']]\n",
    "y = data['value_eur']\n",
    "ylog = np.log(y)\n",
    "\n",
    "%matplotlib inline\n",
    "import matplotlib.pyplot as plt\n",
    "plt.hist(ylog, bins='auto')\n",
    "plt.title(\"ln(value_eur)\")\n",
    "plt.show()\n",
    "\n",
    "X_train, X_test, ylog_train, ylog_test, y_train, y_test = train_test_split(X, ylog, y, test_size=0.25, random_state=4)"
   ]
  },
  {
   "cell_type": "markdown",
   "metadata": {},
   "source": [
    "# Training the Model"
   ]
  },
  {
   "cell_type": "code",
   "execution_count": null,
   "metadata": {
    "ExecuteTime": {
     "end_time": "2021-01-18T14:45:59.616525Z",
     "start_time": "2021-01-18T14:45:59.358332Z"
    }
   },
   "outputs": [],
   "source": [
    "gbm_default = GradientBoostingRegressor()\n",
    "gbm_default.fit(X_train, y_train)"
   ]
  },
  {
   "cell_type": "markdown",
   "metadata": {},
   "source": [
    "# Defining a Score Function"
   ]
  },
  {
   "cell_type": "code",
   "execution_count": null,
   "metadata": {
    "ExecuteTime": {
     "end_time": "2021-01-18T14:46:05.658614Z",
     "start_time": "2021-01-18T14:46:05.654094Z"
    }
   },
   "outputs": [],
   "source": [
    "@scoring_func\n",
    "def score(model, request):\n",
    "    payload = request.json[\"payload\"]\n",
    "    data_list = payload\n",
    "    data_array = np.asarray(data_list)\n",
    "    try:\n",
    "        prediction = model.predict(data_array)\n",
    "    except:\n",
    "        prediction = model.predict(data_array.reshape(1, -1))\n",
    "    return prediction.tolist()\n"
   ]
  },
  {
   "cell_type": "markdown",
   "metadata": {},
   "source": [
    "# Testing Score Function"
   ]
  },
  {
   "cell_type": "code",
   "execution_count": null,
   "metadata": {
    "ExecuteTime": {
     "end_time": "2021-01-18T14:46:08.439094Z",
     "start_time": "2021-01-18T14:46:08.412822Z"
    }
   },
   "outputs": [],
   "source": [
    "# to verify if score func works\n",
    "\n",
    "import requests\n",
    "req = requests.Request()\n",
    "req.json = {\"payload\":X_test}\n",
    "\n",
    "'''\n",
    "Reference Sample Payload \n",
    "\n",
    "req.json = {\"payload\": [ 25, 185,  88,  78,  65,  81,  77,  75,  81,  63,  37,  26,   9,\n",
    "        10,  79,  82]}\n",
    "        \n",
    "'''\n",
    "score(gbm_default, req)"
   ]
  },
  {
   "cell_type": "markdown",
   "metadata": {},
   "source": [
    "# Calculating Y_true and Y_pred"
   ]
  },
  {
   "cell_type": "code",
   "execution_count": null,
   "metadata": {
    "ExecuteTime": {
     "end_time": "2021-01-18T14:46:13.651600Z",
     "start_time": "2021-01-18T14:46:13.645554Z"
    }
   },
   "outputs": [],
   "source": [
    "Y_true = y_test\n",
    "\n",
    "Y_pred = gbm_default.predict(X_test)\n",
    "features = list(X_train)"
   ]
  },
  {
   "cell_type": "code",
   "execution_count": null,
   "metadata": {},
   "outputs": [],
   "source": [
    "!pip show scikit-learn"
   ]
  },
  {
   "cell_type": "markdown",
   "metadata": {},
   "source": [
    "# Registering the Model"
   ]
  },
  {
   "cell_type": "code",
   "execution_count": null,
   "metadata": {
    "ExecuteTime": {
     "end_time": "2021-01-18T14:47:10.999488Z",
     "start_time": "2021-01-18T14:46:21.839086Z"
    },
    "scrolled": true
   },
   "outputs": [],
   "source": [
    "register_model(\n",
    "    gbm_default,\n",
    "    score,\n",
    "    \"fifa_model_v4_21mar\",\n",
    "    \"fifa_regression\",\n",
    "    MLModelFlavours.sklearn,\n",
    "    init_script=\"pip install scikit-learn==1.3.2\",\n",
    "    input_type=\"json\",\n",
    "    explain_ai=True,\n",
    "    x_train=X_train, \n",
    "    y_train=y_train, \n",
    "    y_true=Y_true,\n",
    "    y_pred=Y_pred,\n",
    "    feature_names=features,\n",
    "    feature_ids=features,\n",
    "    target_names=[\"Value\"],\n",
    "    model_type=\"regression\"\n",
    ")"
   ]
  },
  {
   "cell_type": "code",
   "execution_count": null,
   "metadata": {},
   "outputs": [],
   "source": [
    "! pip freeze | grep -i scikit-learn"
   ]
  },
  {
   "cell_type": "code",
   "execution_count": null,
   "metadata": {},
   "outputs": [],
   "source": [
    "! pip install appengine-python-standard"
   ]
  },
  {
   "cell_type": "code",
   "execution_count": null,
   "metadata": {},
   "outputs": [],
   "source": [
    "data"
   ]
  },
  {
   "cell_type": "code",
   "execution_count": null,
   "metadata": {},
   "outputs": [],
   "source": []
  }
 ],
 "metadata": {
  "hide_input": false,
  "kernelspec": {
   "display_name": "Python 3",
   "language": "python",
   "name": "python3"
  },
  "language_info": {
   "codemirror_mode": {
    "name": "ipython",
    "version": 3
   },
   "file_extension": ".py",
   "mimetype": "text/x-python",
   "name": "python",
   "nbconvert_exporter": "python",
   "pygments_lexer": "ipython3",
   "version": "3.8.18"
  },
  "toc": {
   "base_numbering": 1,
   "nav_menu": {},
   "number_sections": true,
   "sideBar": true,
   "skip_h1_title": false,
   "title_cell": "Table of Contents",
   "title_sidebar": "Contents",
   "toc_cell": false,
   "toc_position": {},
   "toc_section_display": true,
   "toc_window_display": false
  },
  "varInspector": {
   "cols": {
    "lenName": 16,
    "lenType": 16,
    "lenVar": 40
   },
   "kernels_config": {
    "python": {
     "delete_cmd_postfix": "",
     "delete_cmd_prefix": "del ",
     "library": "var_list.py",
     "varRefreshCmd": "print(var_dic_list())"
    },
    "r": {
     "delete_cmd_postfix": ") ",
     "delete_cmd_prefix": "rm(",
     "library": "var_list.r",
     "varRefreshCmd": "cat(var_dic_list()) "
    }
   },
   "types_to_exclude": [
    "module",
    "function",
    "builtin_function_or_method",
    "instance",
    "_Feature"
   ],
   "window_display": false
  }
 },
 "nbformat": 4,
 "nbformat_minor": 4
}
