{
 "cells": [
  {
   "cell_type": "code",
   "execution_count": 7,
   "id": "06be0dde",
   "metadata": {},
   "outputs": [
    {
     "name": "stdout",
     "output_type": "stream",
     "text": [
      "<connection object at 0x7d548d180a40; dsn: 'user=postgres password=xxx dbname=postgres host=10.212.176.2 port=5432', closed: 0>\n",
      "Data from Database:-  [('ai_logistics', 758138, 1), ('ai_logistics', 1497522, 1), ('ai_logistics', 1672853, 1), ('ai_logistics', 2049111, 1), ('ai_logistics', 2243125, 1)]\n"
     ]
    }
   ],
   "source": [
    "import psycopg2\n",
    " \n",
    "connection = psycopg2.connect(database=\"postgres\", user=\"postgres\", password=\"Password@123\", host=\"10.212.176.2\", port=5432)\n",
    " \n",
    "print(connection)\n",
    "cursor = connection.cursor()\n",
    "\n",
    "cursor.execute(\"SELECT datname,pid,count(*) from pg_stat_activity where client_addr in ('10.240.11.41','10.240.11.44') and datname='ai_logistics' and state='idle' group by datname,pid\")\n",
    "\n",
    "# Fetch all rows from database\n",
    "record = cursor.fetchall()\n",
    "\n",
    "print(\"Data from Database:- \", record)"
   ]
  },
  {
   "cell_type": "code",
   "execution_count": 13,
   "id": "b4c4ddcc",
   "metadata": {},
   "outputs": [
    {
     "name": "stdout",
     "output_type": "stream",
     "text": [
      "<connection object at 0x7d549f387d80; dsn: 'user=postgres password=xxx dbname=postgres host=10.212.176.2 port=5432', closed: 0>\n",
      "Data from Database:-  []\n"
     ]
    }
   ],
   "source": [
    "import psycopg2\n",
    " \n",
    "connection = psycopg2.connect(database=\"postgres\", user=\"postgres\", password=\"Password@123\", host=\"10.212.176.2\", port=5432)\n",
    " \n",
    "print(connection)\n",
    "cursor = connection.cursor()\n",
    "\n",
    "cursor.execute(\"SELECT pg_terminate_backend(2243125) FROM pg_stat_activity WHERE datname = 'mydb';\")\n",
    "# cursor.commit();\n",
    "# Fetch all rows from database\n",
    "record = cursor.fetchall()\n",
    "\n",
    "print(\"Data from Database:- \", record)"
   ]
  },
  {
   "cell_type": "code",
   "execution_count": null,
   "id": "f91b0c58",
   "metadata": {},
   "outputs": [],
   "source": []
  }
 ],
 "metadata": {
  "kernelspec": {
   "display_name": "Python 3",
   "language": "python",
   "name": "python3"
  },
  "language_info": {
   "codemirror_mode": {
    "name": "ipython",
    "version": 3
   },
   "file_extension": ".py",
   "mimetype": "text/x-python",
   "name": "python",
   "nbconvert_exporter": "python",
   "pygments_lexer": "ipython3",
   "version": "3.10.13"
  }
 },
 "nbformat": 4,
 "nbformat_minor": 5
}
