{
 "cells": [
  {
   "cell_type": "code",
   "execution_count": 4,
   "id": "705ce006",
   "metadata": {},
   "outputs": [
    {
     "name": "stdout",
     "output_type": "stream",
     "text": [
      "<connection object at 0x7d548d180040; dsn: 'user=postgres password=xxx dbname=postgres host=10.212.176.2 port=5432', closed: 0>\n",
      "Data from Database:-  [('ai_logistics', 3638553, 'idle', '10.240.3.55', 1), ('ai_logistics', 3638773, 'idle', '10.240.3.55', 1), ('ai_logistics', 3638826, 'idle', '10.240.3.55', 1), ('ai_logistics', 3638922, 'idle', '10.240.3.55', 1), ('ai_logistics', 3638931, 'idle', '10.240.3.55', 1), ('ai_logistics', 3629045, 'idle', '10.240.3.56', 1), ('ai_logistics', 3633590, 'idle', '10.240.3.56', 1), ('ai_logistics', 3636691, 'idle', '10.240.3.56', 1), ('ai_logistics', 3636774, 'idle', '10.240.3.56', 1), ('ai_logistics', 3638194, 'idle', '10.240.3.56', 1), ('ai_logistics', 42294, 'idle', '10.240.3.57', 1), ('ai_logistics', 43041, 'idle', '10.240.3.57', 1), ('ai_logistics', 43326, 'idle', '10.240.3.57', 1), ('ai_logistics', 43340, 'idle', '10.240.3.57', 1), ('ai_logistics', 43791, 'idle', '10.240.3.57', 1), ('ai_logistics', 3531699, 'idle', '10.240.10.133', 1), ('ai_logistics', 3540229, 'idle', '10.240.10.133', 1), ('ai_logistics', 3634826, 'idle', '10.240.10.133', 1), ('ai_logistics', 3636496, 'idle', '10.240.10.133', 1), ('ai_logistics', 3636528, 'idle', '10.240.10.133', 1), ('ai_logistics', 3638560, 'idle', '10.240.10.134', 1), ('ai_logistics', 3638740, 'idle', '10.240.10.134', 1), ('ai_logistics', 3638815, 'idle', '10.240.10.134', 1), ('ai_logistics', 3638834, 'idle', '10.240.10.134', 1), ('ai_logistics', 3638904, 'idle', '10.240.10.134', 1), ('ai_logistics', 3516715, 'idle', '10.240.10.136', 1), ('ai_logistics', 3526026, 'idle', '10.240.10.136', 1), ('ai_logistics', 3636211, 'idle', '10.240.10.136', 1), ('ai_logistics', 3636664, 'idle', '10.240.10.136', 1), ('ai_logistics', 3631502, 'idle', '10.240.10.137', 1), ('ai_logistics', 3636688, 'idle', '10.240.10.137', 1), ('ai_logistics', 3637484, 'idle', '10.240.10.137', 1), ('ai_logistics', 3637840, 'idle', '10.240.10.137', 1), ('ai_logistics', 3638901, 'idle', '10.240.10.137', 1), ('ai_logistics', 41880, 'idle', '10.240.11.14', 1), ('ai_logistics', 42134, 'idle', '10.240.11.14', 1), ('ai_logistics', 42736, 'idle', '10.240.11.14', 1), ('ai_logistics', 43030, 'idle', '10.240.11.14', 1), ('ai_logistics', 43115, 'idle', '10.240.11.14', 1), ('ai_logistics', 596830, 'idle', '10.240.11.14', 1), ('ai_logistics', 2243125, 'idle', '10.240.11.41', 1), ('ai_logistics', 758138, 'idle', '10.240.11.44', 1), ('ai_logistics', 1497522, 'idle', '10.240.11.44', 1), ('ai_logistics', 1672853, 'idle', '10.240.11.44', 1), ('ai_logistics', 2049111, 'idle', '10.240.11.44', 1), ('azkaban', 777431, 'idle', '10.240.3.137', 1), ('azkaban', 777432, 'idle', '10.240.3.137', 1), ('azkaban', 777954, 'idle', '10.240.3.137', 1), ('azkaban', 777955, 'idle', '10.240.3.137', 1), ('azkaban', 778001, 'idle', '10.240.3.137', 1), ('azkaban', 783194, 'idle', '10.240.3.137', 1), ('azkaban', 791337, 'idle', '10.240.3.137', 1), ('azkaban', 823521, 'idle', '10.240.3.137', 1), ('azkaban', 823523, 'idle', '10.240.3.137', 1), ('azkaban', 1553251, 'idle', '10.240.3.137', 1), ('azkaban', 37900, 'idle', '10.240.11.41', 1), ('azkaban', 39768, 'idle', '10.240.11.41', 1), ('azkaban', 40143, 'idle', '10.240.11.41', 1), ('cloudsqladmin', 1656873, 'idle', '127.0.0.1', 1), ('cloudsqladmin', 3638860, 'idle', '127.0.0.1', 1), ('copilot_db', 3489596, 'idle', '10.240.10.133', 1), ('copilot_db', 3498753, 'idle', '10.240.10.136', 1), ('copilot_db', 2215456, 'idle', '10.240.11.41', 1), ('dag_schema', 3637234, 'idle', '10.240.10.124', 1), ('dag_schema', 3637317, 'idle', '10.240.10.124', 1), ('dag_schema', 3637586, 'idle', '10.240.10.124', 1), ('dag_schema', 3637606, 'idle', '10.240.10.124', 1), ('dag_schema', 3637695, 'idle', '10.240.10.124', 1), ('dag_schema', 3637845, 'idle', '10.240.10.124', 1), ('dag_schema', 3638020, 'idle', '10.240.10.124', 1), ('dag_schema', 3638027, 'idle', '10.240.10.124', 1), ('dag_schema', 3638036, 'idle', '10.240.10.124', 1), ('dag_schema', 3638055, 'idle', '10.240.10.124', 1), ('dag_schema', 3638411, 'idle', '10.240.10.124', 1), ('dag_schema', 3638476, 'idle', '10.240.10.124', 1), ('dag_schema', 3638480, 'idle', '10.240.10.124', 1), ('dag_schema', 3638505, 'idle', '10.240.10.124', 1), ('dag_schema', 3638587, 'idle', '10.240.10.124', 1), ('dag_schema', 1788, 'idle', '10.240.11.41', 1), ('dag_schema', 2133, 'idle', '10.240.11.41', 1), ('dag_schema', 1671766, 'idle', '10.240.11.41', 1), ('dag_schema', 1673382, 'idle', '10.240.11.41', 1), ('dag_schema', 1984618, 'idle', '10.240.11.41', 1), ('dag_schema', 2933931, 'idle', '10.240.11.41', 1), ('dag_schema', 2950159, 'idle', '10.240.11.41', 1), ('dag_schema', 3445107, 'idle', '10.240.11.41', 1), ('dag_schema', 3449182, 'idle', '10.240.11.41', 1), ('dag_schema', 3462050, 'idle', '10.240.11.41', 1), ('dag_schema', 3462148, 'idle', '10.240.11.41', 1), ('dag_schema', 1550595, 'idle', '10.240.11.44', 1), ('dag_schema', 1550987, 'idle', '10.240.11.44', 1), ('dag_schema', 1900686, 'idle', '10.240.11.44', 1), ('dag_schema', 2050315, 'idle', '10.240.11.44', 1), ('input_parameter', 3633713, 'idle', '10.240.10.35', 1), ('input_parameter', 3634307, 'idle', '10.240.10.35', 1), ('input_parameter', 3634549, 'idle', '10.240.10.35', 1), ('input_parameter', 3635347, 'idle', '10.240.10.35', 1), ('input_parameter', 3635442, 'idle', '10.240.10.35', 1), ('input_parameter', 3635502, 'idle', '10.240.10.35', 1), ('input_parameter', 3636051, 'idle', '10.240.10.35', 1), ('input_parameter', 3636794, 'idle', '10.240.10.35', 1), ('input_parameter', 3636864, 'idle', '10.240.10.35', 1), ('input_parameter', 3638771, 'idle', '10.240.10.35', 1), ('keycloak_dev', 3635601, 'idle', '10.240.3.177', 1), ('keycloak_dev', 3635779, 'idle', '10.240.3.177', 1), ('keycloak_dev', 3635848, 'idle', '10.240.3.177', 1), ('keycloak_dev', 3635996, 'idle', '10.240.3.177', 1), ('keycloak_dev', 3636050, 'idle', '10.240.3.177', 1), ('keycloak_dev', 3636061, 'idle', '10.240.3.177', 1), ('keycloak_dev', 3636068, 'idle', '10.240.3.177', 1), ('keycloak_dev', 3636076, 'idle', '10.240.3.177', 1), ('keycloak_dev', 3636249, 'idle', '10.240.3.177', 1), ('keycloak_dev', 3636424, 'idle', '10.240.3.177', 1), ('keycloak_dev', 3636141, 'idle', '10.240.3.233', 1), ('keycloak_dev', 3635155, 'idle', '10.240.10.184', 1), ('keycloak_dev', 3636147, 'idle', '10.240.10.184', 1), ('keycloak_dev', 3636252, 'idle', '10.240.10.184', 1), ('keycloak_dev', 3636306, 'idle', '10.240.10.184', 1), ('keycloak_dev', 3636307, 'idle', '10.240.10.184', 1), ('keycloak_dev', 3636333, 'idle', '10.240.10.184', 1), ('keycloak_dev', 3636421, 'idle', '10.240.10.184', 1), ('keycloak_dev', 3636766, 'idle', '10.240.10.184', 1), ('keycloak_dev', 3636858, 'idle', '10.240.10.184', 1), ('keycloak_dev', 3636876, 'idle', '10.240.10.184', 1), ('lineage_schema', 3634561, 'idle', '10.240.3.208', 1), ('lineage_schema', 3634735, 'idle', '10.240.3.208', 1), ('lineage_schema', 3635185, 'idle', '10.240.3.208', 1), ('lineage_schema', 3636058, 'idle', '10.240.3.208', 1), ('lineage_schema', 3636222, 'idle', '10.240.3.208', 1), ('lineage_schema', 3636231, 'idle', '10.240.3.208', 1), ('lineage_schema', 3636801, 'idle', '10.240.3.208', 1), ('lineage_schema', 3637315, 'idle', '10.240.3.208', 1), ('lineage_schema', 3637758, 'idle', '10.240.3.208', 1), ('lineage_schema', 3638019, 'idle', '10.240.3.208', 1), ('metering', 3589281, 'idle', '10.240.3.36', 1), ('metering', 3637143, 'idle', '10.240.3.36', 1), ('metering', 3638200, 'idle', '10.240.3.36', 1), ('metering', 3638201, 'idle', '10.240.3.36', 1), ('metering', 3638564, 'idle', '10.240.3.36', 1), ('metering', 3638899, 'idle', '10.240.3.36', 1), ('metering', 3591894, 'idle in transaction', '10.240.3.36', 1), ('metering', 3591895, 'idle in transaction', '10.240.3.36', 1), ('metering', 3591896, 'idle in transaction', '10.240.3.36', 1), ('metering', 3591898, 'idle in transaction', '10.240.3.36', 1), ('metering', 3602326, 'idle in transaction', '10.240.3.36', 1), ('metering', 3589280, 'idle', '10.240.11.232', 1), ('metering', 3637481, 'idle', '10.240.11.232', 1), ('metering', 3638192, 'idle', '10.240.11.232', 1), ('metering', 3638556, 'idle', '10.240.11.232', 1), ('metering', 3638562, 'idle', '10.240.11.232', 1), ('metering', 3638911, 'idle', '10.240.11.232', 1), ('metering', 3638914, 'idle', '10.240.11.232', 1), ('metering', 3591893, 'idle in transaction', '10.240.11.232', 1), ('metering', 3591897, 'idle in transaction', '10.240.11.232', 1), ('metering', 3591899, 'idle in transaction', '10.240.11.232', 1), ('metering', 3591900, 'idle in transaction', '10.240.11.232', 1), ('metering', 3602327, 'idle in transaction', '10.240.11.232', 1), ('ml_flow', 2401645, 'idle', '10.240.10.27', 1), ('ml_flow', 2401646, 'idle', '10.240.10.27', 1), ('ml_flow', 2867361, 'idle', '10.240.10.27', 1), ('ml_flow', 2867488, 'idle', '10.240.10.27', 1), ('ml_flow', 2870246, 'idle', '10.240.10.27', 1), ('ml_flow', 2870250, 'idle', '10.240.10.27', 1), ('ml_flow', 2923454, 'idle', '10.240.10.27', 1), ('ml_flow', 2923467, 'idle', '10.240.10.27', 1), ('ml_flow', 2923468, 'idle', '10.240.10.27', 1), ('ml_flow', 3088756, 'idle', '10.240.10.27', 1), ('ml_flow', 3088799, 'idle', '10.240.10.27', 1), ('ml_flow', 3459417, 'idle', '10.240.10.27', 1), ('ml_flow', 3459418, 'idle', '10.240.10.27', 1), ('ml_flow', 3459426, 'idle', '10.240.10.27', 1), ('mosaic_console', 3634220, 'idle', '10.240.10.35', 1), ('mosaic_console', 3634401, 'idle', '10.240.10.35', 1), ('mosaic_console', 3635709, 'idle', '10.240.10.35', 1), ('mosaic_console', 3636247, 'idle', '10.240.10.35', 1), ('mosaic_console', 3636505, 'idle', '10.240.10.35', 1), ('mosaic_console', 3636699, 'idle', '10.240.10.35', 1), ('mosaic_console', 3637404, 'idle', '10.240.10.35', 1), ('mosaic_console', 3637854, 'idle', '10.240.10.35', 1), ('mosaic_console', 3638375, 'idle', '10.240.10.35', 1), ('mosaic_console', 3638816, 'idle', '10.240.10.35', 1), ('mosaic_monitor', 3635795, 'idle', '10.240.3.43', 1), ('mosaic_monitor', 3635871, 'idle', '10.240.3.43', 1), ('mosaic_monitor', 3635877, 'idle', '10.240.3.43', 1), ('mosaic_monitor', 3636033, 'idle', '10.240.3.43', 1), ('mosaic_monitor', 3636788, 'idle', '10.240.3.43', 1), ('mosaic_monitor', 3457993, 'idle', '10.240.11.41', 1), ('mosaic_monitor', 3635166, 'idle', '10.240.11.74', 1), ('mosaic_monitor', 3635352, 'idle', '10.240.11.74', 1), ('mosaic_monitor', 3635862, 'idle', '10.240.11.74', 1), ('mosaic_monitor', 3635944, 'idle', '10.240.11.74', 1), ('mosaic_monitor', 3636519, 'idle', '10.240.11.74', 1), ('postgres', 3638941, 'active', '10.240.3.121', 1), ('postgres', 3638311, 'idle in transaction (aborted)', '10.240.3.121', 1), ('postgres', 3638912, 'idle in transaction (aborted)', '10.240.3.121', 1), ('postgres', 1498917, 'idle', '10.240.11.41', 1), ('postgres', 1508006, 'idle', '10.240.11.44', 1), ('postgres', 1681883, 'idle', '10.240.11.44', 1), ('postgres', 2618848, 'idle', '10.240.11.44', 1), ('postgres', 2638299, 'idle', '10.240.11.44', 1), ('postgres', 3490631, 'idle', '10.240.11.44', 1), ('postgres', 3619767, 'idle', '10.240.11.44', 1), ('postgres', 3620225, 'idle', '10.240.11.44', 1), ('postgres', 3638395, 'idle', '10.240.11.44', 1), ('preposthook', 3634617, 'idle', '10.240.3.208', 1), ('preposthook', 3635695, 'idle', '10.240.3.208', 1), ('preposthook', 3636233, 'idle', '10.240.3.208', 1), ('preposthook', 3636602, 'idle', '10.240.3.208', 1), ('preposthook', 3636670, 'idle', '10.240.3.208', 1), ('preposthook', 3637064, 'idle', '10.240.3.208', 1), ('preposthook', 3637236, 'idle', '10.240.3.208', 1), ('preposthook', 3637410, 'idle', '10.240.3.208', 1), ('preposthook', 3638328, 'idle', '10.240.3.208', 1), ('preposthook', 3638390, 'idle', '10.240.3.208', 1), ('project_manager', 33977, 'idle', '10.240.11.41', 1), ('project_manager', 3638847, 'idle', '10.240.11.101', 1), ('project_manager', 3638848, 'idle', '10.240.11.101', 1), ('project_manager', 3638849, 'idle', '10.240.11.101', 1), ('project_manager', 3638850, 'idle', '10.240.11.101', 1), ('project_manager', 3638852, 'idle', '10.240.11.101', 1), ('project_manager', 3638853, 'idle', '10.240.11.101', 1), ('project_manager', 3638854, 'idle', '10.240.11.101', 1), ('project_manager', 3638916, 'idle', '10.240.11.101', 1), ('project_manager', 3638918, 'idle', '10.240.11.101', 1), ('project_manager', 3638920, 'idle', '10.240.11.101', 1), ('project_manager', 3638923, 'idle', '10.240.11.101', 1), ('project_manager', 3638926, 'idle', '10.240.11.101', 1), ('project_manager', 3638927, 'idle', '10.240.11.101', 1), ('project_manager', 3638928, 'idle', '10.240.11.101', 1), ('project_manager', 3638930, 'idle', '10.240.11.101', 1), ('project_manager', 3638932, 'idle', '10.240.11.101', 1), ('project_manager', 3638934, 'idle', '10.240.11.101', 1), ('project_manager', 3638937, 'idle', '10.240.11.101', 1), ('project_manager', 3638939, 'idle', '10.240.11.101', 1), ('project_manager', 3638940, 'idle', '10.240.11.101', 1), ('scheduler', 3634822, 'idle', '10.240.10.174', 1), ('scheduler', 3634928, 'idle', '10.240.10.174', 1), ('scheduler', 3634995, 'idle', '10.240.10.174', 1), ('scheduler', 3635163, 'idle', '10.240.10.174', 1), ('scheduler', 3635186, 'idle', '10.240.10.174', 1), ('scheduler', 3635260, 'idle', '10.240.10.174', 1), ('scheduler', 3635320, 'idle', '10.240.10.174', 1), ('scheduler', 3635431, 'idle', '10.240.10.174', 1), ('scheduler', 3635433, 'idle', '10.240.10.174', 1), ('scheduler', 3635859, 'idle', '10.240.10.174', 1), ('scheduler', 3684876, 'idle', '10.240.11.41', 1), ('vault', 2402571, 'idle', '10.240.11.66', 1), ('vault', 2405063, 'idle', '10.240.11.66', 1), ('workflow', 3633774, 'idle', '10.240.3.251', 1), ('workflow', 3633822, 'idle', '10.240.3.251', 1), ('workflow', 3634208, 'idle', '10.240.3.251', 1), ('workflow', 3634232, 'idle', '10.240.3.251', 1), ('workflow', 3636227, 'idle', '10.240.3.251', 1), ('workflow', 3636237, 'idle', '10.240.3.251', 1), ('workflow', 3636698, 'idle', '10.240.3.251', 1), ('workflow', 3636985, 'idle', '10.240.3.251', 1), ('workflow', 3637057, 'idle', '10.240.3.251', 1), ('workflow', 3637073, 'idle', '10.240.3.251', 1), ('workflow', 3637161, 'idle', '10.240.3.251', 1), ('workflow', 3637245, 'idle', '10.240.3.251', 1), ('workflow', 3637583, 'idle', '10.240.3.251', 1), ('workflow', 3637593, 'idle', '10.240.3.251', 1), ('workflow', 3637699, 'idle', '10.240.3.251', 1), ('workflow', 3638290, 'idle', '10.240.3.251', 1), ('workflow', 3638313, 'idle', '10.240.3.251', 1), ('workflow', 3638647, 'idle', '10.240.3.251', 1), ('workflow', 3638744, 'idle', '10.240.3.251', 1), ('workflow', 3638857, 'idle', '10.240.3.251', 1), ('workflow', 3634311, 'idle', '10.240.11.243', 1), ('workflow', 3634925, 'idle', '10.240.11.243', 1), ('workflow', 3635253, 'idle', '10.240.11.243', 1), ('workflow', 3635605, 'idle', '10.240.11.243', 1), ('workflow', 3635684, 'idle', '10.240.11.243', 1), ('workflow', 3636053, 'idle', '10.240.11.243', 1), ('workflow', 3636127, 'idle', '10.240.11.243', 1), ('workflow', 3636403, 'idle', '10.240.11.243', 1), ('workflow', 3636413, 'idle', '10.240.11.243', 1), ('workflow', 3636415, 'idle', '10.240.11.243', 1), ('workflow', 3636507, 'idle', '10.240.11.243', 1), ('workflow', 3636596, 'idle', '10.240.11.243', 1), ('workflow', 3636693, 'idle', '10.240.11.243', 1), ('workflow', 3636770, 'idle', '10.240.11.243', 1), ('workflow', 3637055, 'idle', '10.240.11.243', 1), ('workflow', 3637147, 'idle', '10.240.11.243', 1), ('workflow', 3637239, 'idle', '10.240.11.243', 1), ('workflow', 3637882, 'idle', '10.240.11.243', 1), ('workflow', 3638051, 'idle', '10.240.11.243', 1), ('workflow', 3638753, 'idle', '10.240.11.243', 1), (None, 19, None, None, 1), (None, 20, None, None, 1), (None, 23, None, None, 1), (None, 24, None, None, 1), (None, 25, None, None, 1), (None, 26, None, None, 1)]\n"
     ]
    }
   ],
   "source": [
    "import psycopg2\n",
    " \n",
    "connection = psycopg2.connect(database=\"postgres\", user=\"postgres\", password=\"Password@123\", host=\"10.212.176.2\", port=5432)\n",
    " \n",
    "print(connection)\n",
    "cursor = connection.cursor()\n",
    "\n",
    "cursor.execute(\"SELECT datname,pid, state, client_addr,count(*) from pg_stat_activity group by datname,state,client_addr,pid order by datname,client_addr;\")\n",
    "\n",
    "# Fetch all rows from database\n",
    "record = cursor.fetchall()\n",
    "\n",
    "print(\"Data from Database:- \", record)"
   ]
  },
  {
   "cell_type": "code",
   "execution_count": 2,
   "id": "bf8a7639",
   "metadata": {},
   "outputs": [
    {
     "name": "stdout",
     "output_type": "stream",
     "text": [
      "<connection object at 0x7d549f3874c0; dsn: 'user=postgres password=xxx dbname=postgres host=10.212.176.2 port=5432', closed: 0>\n"
     ]
    },
    {
     "ename": "ObjectNotInPrerequisiteState",
     "evalue": "cannot delete from view \"pg_stat_activity\"\nDETAIL:  Views that do not select from a single table or view are not automatically updatable.\nHINT:  To enable deleting from the view, provide an INSTEAD OF DELETE trigger or an unconditional ON DELETE DO INSTEAD rule.\n",
     "output_type": "error",
     "traceback": [
      "\u001b[0;31m---------------------------------------------------------------------------\u001b[0m",
      "\u001b[0;31mObjectNotInPrerequisiteState\u001b[0m              Traceback (most recent call last)",
      "Cell \u001b[0;32mIn[2], line 8\u001b[0m\n\u001b[1;32m      5\u001b[0m \u001b[38;5;28mprint\u001b[39m(connection)\n\u001b[1;32m      6\u001b[0m cursor \u001b[38;5;241m=\u001b[39m connection\u001b[38;5;241m.\u001b[39mcursor()\n\u001b[0;32m----> 8\u001b[0m \u001b[43mcursor\u001b[49m\u001b[38;5;241;43m.\u001b[39;49m\u001b[43mexecute\u001b[49m\u001b[43m(\u001b[49m\u001b[38;5;124;43m\"\u001b[39;49m\u001b[38;5;124;43mDELETE FROM pg_stat_activity where client_addr=\u001b[39;49m\u001b[38;5;124;43m'\u001b[39;49m\u001b[38;5;124;43m10.240.11.41\u001b[39;49m\u001b[38;5;124;43m'\u001b[39;49m\u001b[38;5;124;43m or client_addr=\u001b[39;49m\u001b[38;5;124;43m'\u001b[39;49m\u001b[38;5;124;43m10.240.11.44\u001b[39;49m\u001b[38;5;124;43m'\u001b[39;49m\u001b[38;5;124;43m and datname=\u001b[39;49m\u001b[38;5;124;43m'\u001b[39;49m\u001b[38;5;124;43mai_logistics\u001b[39;49m\u001b[38;5;124;43m'\u001b[39;49m\u001b[38;5;124;43m and state=\u001b[39;49m\u001b[38;5;124;43m'\u001b[39;49m\u001b[38;5;124;43midle\u001b[39;49m\u001b[38;5;124;43m'\u001b[39;49m\u001b[38;5;124;43m\"\u001b[39;49m\u001b[43m)\u001b[49m\n\u001b[1;32m      9\u001b[0m cursor\u001b[38;5;241m.\u001b[39mcommit();\n\u001b[1;32m     10\u001b[0m \u001b[38;5;66;03m# Fetch all rows from database\u001b[39;00m\n",
      "\u001b[0;31mObjectNotInPrerequisiteState\u001b[0m: cannot delete from view \"pg_stat_activity\"\nDETAIL:  Views that do not select from a single table or view are not automatically updatable.\nHINT:  To enable deleting from the view, provide an INSTEAD OF DELETE trigger or an unconditional ON DELETE DO INSTEAD rule.\n"
     ]
    }
   ],
   "source": [
    "import psycopg2\n",
    " \n",
    "connection = psycopg2.connect(database=\"postgres\", user=\"postgres\", password=\"Password@123\", host=\"10.212.176.2\", port=5432)\n",
    " \n",
    "print(connection)\n",
    "cursor = connection.cursor()\n",
    "\n",
    "cursor.execute(\"SELECT pg_terminate_backend(pid) FROM pg_stat_activity WHERE datname = 'mydb';\")\n",
    "cursor.commit();\n",
    "# Fetch all rows from database\n",
    "record = cursor.fetchall()\n",
    "\n",
    "print(\"Data from Database:- \", record)"
   ]
  },
  {
   "cell_type": "code",
   "execution_count": null,
   "id": "90339643",
   "metadata": {},
   "outputs": [],
   "source": []
  }
 ],
 "metadata": {
  "kernelspec": {
   "display_name": "Python 3",
   "language": "python",
   "name": "python3"
  },
  "language_info": {
   "codemirror_mode": {
    "name": "ipython",
    "version": 3
   },
   "file_extension": ".py",
   "mimetype": "text/x-python",
   "name": "python",
   "nbconvert_exporter": "python",
   "pygments_lexer": "ipython3",
   "version": "3.10.13"
  }
 },
 "nbformat": 4,
 "nbformat_minor": 5
}
