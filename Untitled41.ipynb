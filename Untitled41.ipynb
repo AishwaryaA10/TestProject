{
 "cells": [
  {
   "cell_type": "code",
   "execution_count": 5,
   "id": "5188b37d",
   "metadata": {},
   "outputs": [
    {
     "name": "stdout",
     "output_type": "stream",
     "text": [
      "<connection object at 0x7d548d180540; dsn: 'user=postgres password=xxx dbname=postgres host=10.212.176.2 port=5432', closed: 0>\n"
     ]
    },
    {
     "ename": "SyntaxError",
     "evalue": "syntax error at or near \"where\"\nLINE 1: ...unt(*) from pg_stat_activity group by datname,pid where clie...\n                                                             ^\n",
     "output_type": "error",
     "traceback": [
      "\u001b[0;31m---------------------------------------------------------------------------\u001b[0m",
      "\u001b[0;31mSyntaxError\u001b[0m                               Traceback (most recent call last)",
      "Cell \u001b[0;32mIn[5], line 8\u001b[0m\n\u001b[1;32m      5\u001b[0m \u001b[38;5;28mprint\u001b[39m(connection)\n\u001b[1;32m      6\u001b[0m cursor \u001b[38;5;241m=\u001b[39m connection\u001b[38;5;241m.\u001b[39mcursor()\n\u001b[0;32m----> 8\u001b[0m \u001b[43mcursor\u001b[49m\u001b[38;5;241;43m.\u001b[39;49m\u001b[43mexecute\u001b[49m\u001b[43m(\u001b[49m\u001b[38;5;124;43m\"\u001b[39;49m\u001b[38;5;124;43mSELECT datname,pid,count(*) from pg_stat_activity group by datname,pid where client_addr in (\u001b[39;49m\u001b[38;5;124;43m'\u001b[39;49m\u001b[38;5;124;43m10.240.11.41\u001b[39;49m\u001b[38;5;124;43m'\u001b[39;49m\u001b[38;5;124;43m,\u001b[39;49m\u001b[38;5;124;43m'\u001b[39;49m\u001b[38;5;124;43m10.240.11.44\u001b[39;49m\u001b[38;5;124;43m'\u001b[39;49m\u001b[38;5;124;43m) and datname=\u001b[39;49m\u001b[38;5;124;43m'\u001b[39;49m\u001b[38;5;124;43mai_logistics\u001b[39;49m\u001b[38;5;124;43m'\u001b[39;49m\u001b[38;5;124;43m and state=\u001b[39;49m\u001b[38;5;124;43m'\u001b[39;49m\u001b[38;5;124;43midle\u001b[39;49m\u001b[38;5;124;43m'\u001b[39;49m\u001b[38;5;124;43m\"\u001b[39;49m\u001b[43m)\u001b[49m\n\u001b[1;32m     10\u001b[0m \u001b[38;5;66;03m# Fetch all rows from database\u001b[39;00m\n\u001b[1;32m     11\u001b[0m record \u001b[38;5;241m=\u001b[39m cursor\u001b[38;5;241m.\u001b[39mfetchall()\n",
      "\u001b[0;31mSyntaxError\u001b[0m: syntax error at or near \"where\"\nLINE 1: ...unt(*) from pg_stat_activity group by datname,pid where clie...\n                                                             ^\n"
     ]
    }
   ],
   "source": [
    "import psycopg2\n",
    " \n",
    "connection = psycopg2.connect(database=\"postgres\", user=\"postgres\", password=\"Password@123\", host=\"10.212.176.2\", port=5432)\n",
    " \n",
    "print(connection)\n",
    "cursor = connection.cursor()\n",
    "\n",
    "cursor.execute(\"SELECT datname,pid,count(*) from pg_stat_activity group by datname,pid where client_addr in ('10.240.11.41','10.240.11.44') and datname='ai_logistics' and state='idle'\")\n",
    "\n",
    "# Fetch all rows from database\n",
    "record = cursor.fetchall()\n",
    "\n",
    "print(\"Data from Database:- \", record)"
   ]
  },
  {
   "cell_type": "code",
   "execution_count": 2,
   "id": "404fb335",
   "metadata": {},
   "outputs": [
    {
     "name": "stdout",
     "output_type": "stream",
     "text": [
      "<connection object at 0x7d549f3874c0; dsn: 'user=postgres password=xxx dbname=postgres host=10.212.176.2 port=5432', closed: 0>\n"
     ]
    },
    {
     "ename": "ObjectNotInPrerequisiteState",
     "evalue": "cannot delete from view \"pg_stat_activity\"\nDETAIL:  Views that do not select from a single table or view are not automatically updatable.\nHINT:  To enable deleting from the view, provide an INSTEAD OF DELETE trigger or an unconditional ON DELETE DO INSTEAD rule.\n",
     "output_type": "error",
     "traceback": [
      "\u001b[0;31m---------------------------------------------------------------------------\u001b[0m",
      "\u001b[0;31mObjectNotInPrerequisiteState\u001b[0m              Traceback (most recent call last)",
      "Cell \u001b[0;32mIn[2], line 8\u001b[0m\n\u001b[1;32m      5\u001b[0m \u001b[38;5;28mprint\u001b[39m(connection)\n\u001b[1;32m      6\u001b[0m cursor \u001b[38;5;241m=\u001b[39m connection\u001b[38;5;241m.\u001b[39mcursor()\n\u001b[0;32m----> 8\u001b[0m \u001b[43mcursor\u001b[49m\u001b[38;5;241;43m.\u001b[39;49m\u001b[43mexecute\u001b[49m\u001b[43m(\u001b[49m\u001b[38;5;124;43m\"\u001b[39;49m\u001b[38;5;124;43mDELETE FROM pg_stat_activity where client_addr=\u001b[39;49m\u001b[38;5;124;43m'\u001b[39;49m\u001b[38;5;124;43m10.240.11.41\u001b[39;49m\u001b[38;5;124;43m'\u001b[39;49m\u001b[38;5;124;43m or client_addr=\u001b[39;49m\u001b[38;5;124;43m'\u001b[39;49m\u001b[38;5;124;43m10.240.11.44\u001b[39;49m\u001b[38;5;124;43m'\u001b[39;49m\u001b[38;5;124;43m and datname=\u001b[39;49m\u001b[38;5;124;43m'\u001b[39;49m\u001b[38;5;124;43mai_logistics\u001b[39;49m\u001b[38;5;124;43m'\u001b[39;49m\u001b[38;5;124;43m and state=\u001b[39;49m\u001b[38;5;124;43m'\u001b[39;49m\u001b[38;5;124;43midle\u001b[39;49m\u001b[38;5;124;43m'\u001b[39;49m\u001b[38;5;124;43m\"\u001b[39;49m\u001b[43m)\u001b[49m\n\u001b[1;32m      9\u001b[0m cursor\u001b[38;5;241m.\u001b[39mcommit();\n\u001b[1;32m     10\u001b[0m \u001b[38;5;66;03m# Fetch all rows from database\u001b[39;00m\n",
      "\u001b[0;31mObjectNotInPrerequisiteState\u001b[0m: cannot delete from view \"pg_stat_activity\"\nDETAIL:  Views that do not select from a single table or view are not automatically updatable.\nHINT:  To enable deleting from the view, provide an INSTEAD OF DELETE trigger or an unconditional ON DELETE DO INSTEAD rule.\n"
     ]
    }
   ],
   "source": [
    "import psycopg2\n",
    " \n",
    "connection = psycopg2.connect(database=\"postgres\", user=\"postgres\", password=\"Password@123\", host=\"10.212.176.2\", port=5432)\n",
    " \n",
    "print(connection)\n",
    "cursor = connection.cursor()\n",
    "\n",
    "cursor.execute(\"SELECT pg_terminate_backend(pid) FROM pg_stat_activity WHERE datname = 'mydb';\")\n",
    "cursor.commit();\n",
    "# Fetch all rows from database\n",
    "record = cursor.fetchall()\n",
    "\n",
    "print(\"Data from Database:- \", record)"
   ]
  },
  {
   "cell_type": "code",
   "execution_count": null,
   "id": "0b82f2e8",
   "metadata": {},
   "outputs": [],
   "source": []
  }
 ],
 "metadata": {
  "kernelspec": {
   "display_name": "Python 3",
   "language": "python",
   "name": "python3"
  },
  "language_info": {
   "codemirror_mode": {
    "name": "ipython",
    "version": 3
   },
   "file_extension": ".py",
   "mimetype": "text/x-python",
   "name": "python",
   "nbconvert_exporter": "python",
   "pygments_lexer": "ipython3",
   "version": "3.10.13"
  }
 },
 "nbformat": 4,
 "nbformat_minor": 5
}
