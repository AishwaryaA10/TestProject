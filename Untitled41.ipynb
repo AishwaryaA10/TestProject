{
 "cells": [
  {
   "cell_type": "code",
   "execution_count": 1,
   "id": "f2a1cddd",
   "metadata": {},
   "outputs": [
    {
     "name": "stdout",
     "output_type": "stream",
     "text": [
      "<connection object at 0x7d549f387380; dsn: 'user=postgres password=xxx dbname=postgres host=10.212.176.2 port=5432', closed: 0>\n",
      "Data from Database:-  [('ai_logistics', 'idle', '10.240.3.55', 5), ('ai_logistics', 'idle', '10.240.3.56', 5), ('ai_logistics', 'idle', '10.240.3.57', 5), ('ai_logistics', 'idle', '10.240.10.133', 5), ('ai_logistics', 'idle', '10.240.10.134', 5), ('ai_logistics', 'idle', '10.240.10.136', 4), ('ai_logistics', 'idle', '10.240.10.137', 5), ('ai_logistics', 'idle', '10.240.11.14', 6), ('ai_logistics', 'idle', '10.240.11.41', 1), ('ai_logistics', 'idle', '10.240.11.44', 4), ('azkaban', 'idle', '10.240.3.137', 10), ('azkaban', 'idle', '10.240.11.41', 3), ('cloudsqladmin', 'idle', '127.0.0.1', 2), ('copilot_db', 'idle', '10.240.10.133', 1), ('copilot_db', 'idle', '10.240.10.136', 1), ('copilot_db', 'idle', '10.240.11.41', 1), ('dag_schema', 'idle', '10.240.10.124', 15), ('dag_schema', 'idle', '10.240.11.41', 11), ('dag_schema', 'idle', '10.240.11.44', 4), ('input_parameter', 'idle', '10.240.10.35', 10), ('keycloak_dev', 'idle', '10.240.3.177', 10), ('keycloak_dev', 'idle', '10.240.3.233', 1), ('keycloak_dev', 'idle', '10.240.10.184', 10), ('lineage_schema', 'idle', '10.240.3.208', 10), ('metering', 'idle', '10.240.3.36', 6), ('metering', 'idle in transaction', '10.240.3.36', 5), ('metering', 'idle', '10.240.11.232', 7), ('metering', 'idle in transaction', '10.240.11.232', 5), ('ml_flow', 'idle', '10.240.10.27', 14), ('mosaic_console', 'idle', '10.240.10.35', 10), ('mosaic_monitor', 'idle', '10.240.3.43', 5), ('mosaic_monitor', 'idle', '10.240.11.41', 1), ('mosaic_monitor', 'idle', '10.240.11.74', 5), ('postgres', 'active', '10.240.3.121', 1), ('postgres', 'idle', '10.240.11.41', 1), ('postgres', 'idle', '10.240.11.44', 8), ('preposthook', 'idle', '10.240.3.208', 10), ('project_manager', 'idle', '10.240.11.41', 1), ('project_manager', 'idle', '10.240.11.101', 20), ('scheduler', 'idle', '10.240.10.174', 10), ('scheduler', 'idle', '10.240.11.41', 1), ('vault', 'idle', '10.240.11.66', 2), ('workflow', 'idle', '10.240.3.251', 20), ('workflow', 'idle', '10.240.11.243', 20), (None, None, None, 6)]\n"
     ]
    }
   ],
   "source": [
    "import psycopg2\n",
    " \n",
    "connection = psycopg2.connect(database=\"postgres\", user=\"postgres\", password=\"Password@123\", host=\"10.212.176.2\", port=5432)\n",
    " \n",
    "print(connection)\n",
    "cursor = connection.cursor()\n",
    "\n",
    "cursor.execute(\"SELECT datname,state, client_addr,count(*) from pg_stat_activity group by datname,state,client_addr order by datname,client_addr;\")\n",
    "\n",
    "# Fetch all rows from database\n",
    "record = cursor.fetchall()\n",
    "\n",
    "print(\"Data from Database:- \", record)"
   ]
  },
  {
   "cell_type": "code",
   "execution_count": null,
   "id": "8d3bf2ba",
   "metadata": {},
   "outputs": [],
   "source": []
  }
 ],
 "metadata": {
  "kernelspec": {
   "display_name": "Python 3",
   "language": "python",
   "name": "python3"
  },
  "language_info": {
   "codemirror_mode": {
    "name": "ipython",
    "version": 3
   },
   "file_extension": ".py",
   "mimetype": "text/x-python",
   "name": "python",
   "nbconvert_exporter": "python",
   "pygments_lexer": "ipython3",
   "version": "3.10.13"
  }
 },
 "nbformat": 4,
 "nbformat_minor": 5
}
