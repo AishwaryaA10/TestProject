{
 "cells": [
  {
   "cell_type": "code",
   "execution_count": null,
   "id": "4594ee13",
   "metadata": {},
   "outputs": [],
   "source": [
    "# !pip install refractml==1.0.3 --target /packages/Python-3.8/de678bea-42c4-42fe-88b0-04bfdecd1b35/3.8 --upgrade\n",
    "# !pip install scikit-learn==0.24.2 --target /packages/Python-3.8/de678bea-42c4-42fe-88b0-04bfdecd1b35/3.8 --upgrade"
   ]
  },
  {
   "cell_type": "code",
   "execution_count": null,
   "id": "b9a2c678",
   "metadata": {},
   "outputs": [],
   "source": [
    "!sudo pip install scikit-learn==0.24.2 --target /packages/Python-3.8/de678bea-42c4-42fe-88b0-04bfdecd1b35/3.8 --upgrade"
   ]
  },
  {
   "cell_type": "code",
   "execution_count": null,
   "id": "753ae09c",
   "metadata": {},
   "outputs": [],
   "source": [
    "# !pip uninstall urllib3 -y"
   ]
  },
  {
   "cell_type": "code",
   "execution_count": null,
   "id": "e9fda071",
   "metadata": {},
   "outputs": [],
   "source": [
    "# !pip install urllib3==1.26.15"
   ]
  },
  {
   "cell_type": "code",
   "execution_count": 1,
   "id": "1fd0ad28",
   "metadata": {},
   "outputs": [
    {
     "ename": "ModuleNotFoundError",
     "evalue": "No module named 'sklearn._config'",
     "output_type": "error",
     "traceback": [
      "\u001b[0;31m---------------------------------------------------------------------------\u001b[0m",
      "\u001b[0;31mModuleNotFoundError\u001b[0m                       Traceback (most recent call last)",
      "Cell \u001b[0;32mIn[1], line 4\u001b[0m\n\u001b[1;32m      2\u001b[0m \u001b[38;5;28;01mimport\u001b[39;00m \u001b[38;5;21;01mnumpy\u001b[39;00m \u001b[38;5;28;01mas\u001b[39;00m \u001b[38;5;21;01mnp\u001b[39;00m\n\u001b[1;32m      3\u001b[0m \u001b[38;5;66;03m# import category_encoders as ce\u001b[39;00m\n\u001b[0;32m----> 4\u001b[0m \u001b[38;5;28;01mfrom\u001b[39;00m \u001b[38;5;21;01msklearn\u001b[39;00m\u001b[38;5;21;01m.\u001b[39;00m\u001b[38;5;21;01mmodel_selection\u001b[39;00m \u001b[38;5;28;01mimport\u001b[39;00m train_test_split\n\u001b[1;32m      5\u001b[0m \u001b[38;5;28;01mfrom\u001b[39;00m \u001b[38;5;21;01msklearn\u001b[39;00m\u001b[38;5;21;01m.\u001b[39;00m\u001b[38;5;21;01mtree\u001b[39;00m \u001b[38;5;28;01mimport\u001b[39;00m DecisionTreeClassifier\n\u001b[1;32m      6\u001b[0m \u001b[38;5;28;01mimport\u001b[39;00m \u001b[38;5;21;01mrequests\u001b[39;00m\n",
      "File \u001b[0;32m/packages/Python-3.8/de678bea-42c4-42fe-88b0-04bfdecd1b35/3.8/sklearn/__init__.py:20\u001b[0m\n\u001b[1;32m     17\u001b[0m \u001b[38;5;28;01mimport\u001b[39;00m \u001b[38;5;21;01mrandom\u001b[39;00m\n\u001b[1;32m     18\u001b[0m \u001b[38;5;28;01mimport\u001b[39;00m \u001b[38;5;21;01msys\u001b[39;00m\n\u001b[0;32m---> 20\u001b[0m \u001b[38;5;28;01mfrom\u001b[39;00m \u001b[38;5;21;01m.\u001b[39;00m\u001b[38;5;21;01m_config\u001b[39;00m \u001b[38;5;28;01mimport\u001b[39;00m config_context, get_config, set_config\n\u001b[1;32m     22\u001b[0m logger \u001b[38;5;241m=\u001b[39m logging\u001b[38;5;241m.\u001b[39mgetLogger(\u001b[38;5;18m__name__\u001b[39m)\n\u001b[1;32m     25\u001b[0m \u001b[38;5;66;03m# PEP0440 compatible formatted version, see:\u001b[39;00m\n\u001b[1;32m     26\u001b[0m \u001b[38;5;66;03m# https://www.python.org/dev/peps/pep-0440/\u001b[39;00m\n\u001b[1;32m     27\u001b[0m \u001b[38;5;66;03m#\u001b[39;00m\n\u001b[0;32m   (...)\u001b[0m\n\u001b[1;32m     39\u001b[0m \u001b[38;5;66;03m# 'X.Y.dev0' is the canonical version of 'X.Y.dev'\u001b[39;00m\n\u001b[1;32m     40\u001b[0m \u001b[38;5;66;03m#\u001b[39;00m\n",
      "\u001b[0;31mModuleNotFoundError\u001b[0m: No module named 'sklearn._config'"
     ]
    }
   ],
   "source": [
    "import pandas as pd\n",
    "import numpy as np\n",
    "# import category_encoders as ce\n",
    "from sklearn.model_selection import train_test_split\n",
    "from sklearn.tree import DecisionTreeClassifier\n",
    "import requests\n",
    "from refractml import *\n",
    "from refractml.constants import MLModelFlavours"
   ]
  },
  {
   "cell_type": "code",
   "execution_count": null,
   "id": "08edccc2",
   "metadata": {},
   "outputs": [],
   "source": [
    "!find / -name \"libopenblasp-r0-41284840.3.18.so\""
   ]
  },
  {
   "cell_type": "code",
   "execution_count": 3,
   "id": "7b53e07e",
   "metadata": {},
   "outputs": [
    {
     "name": "stdout",
     "output_type": "stream",
     "text": [
      "drwxr-xr-x  2 mosaic-ai mosaic-ai    0 Mar  7 13:54 scikit_learn-1.3.2.dist-info\r\n",
      "drwxr-xr-x  2 mosaic-ai mosaic-ai    0 Mar  7 14:07 scikit_learn.libs\r\n"
     ]
    }
   ],
   "source": [
    "!ls -ltrh /packages/Python-3.8/de678bea-42c4-42fe-88b0-04bfdecd1b35/3.8 | grep -i scikit"
   ]
  },
  {
   "cell_type": "code",
   "execution_count": 10,
   "id": "2ebe24bb",
   "metadata": {},
   "outputs": [
    {
     "name": "stdout",
     "output_type": "stream",
     "text": [
      "rm: cannot remove '/packages/Python-3.8/de678bea-42c4-42fe-88b0-04bfdecd1b35/3.8/scikit_learn.libs/.nfs000000000256b75b00000006': Device or resource busy\r\n"
     ]
    }
   ],
   "source": [
    "!rm -rf /packages/Python-3.8/de678bea-42c4-42fe-88b0-04bfdecd1b35/3.8/scikit_learn-1.3.2.dist-info\n",
    "!rm -rf /packages/Python-3.8/de678bea-42c4-42fe-88b0-04bfdecd1b35/3.8/scikit_learn.libs"
   ]
  },
  {
   "cell_type": "code",
   "execution_count": 11,
   "id": "83087c08",
   "metadata": {},
   "outputs": [
    {
     "name": "stdout",
     "output_type": "stream",
     "text": [
      "rm: cannot remove '/packages/Python-3.8/de678bea-42c4-42fe-88b0-04bfdecd1b35/3.8/scikit_learn.libs/.nfs000000000256b75b00000006': Device or resource busy\r\n"
     ]
    }
   ],
   "source": [
    "!rm -f /packages/Python-3.8/de678bea-42c4-42fe-88b0-04bfdecd1b35/3.8/scikit_learn.libs/.nfs000000000256b75b00000006"
   ]
  },
  {
   "cell_type": "code",
   "execution_count": 9,
   "id": "b6f7561c",
   "metadata": {},
   "outputs": [],
   "source": [
    "!lsof /packages/Python-3.8/de678bea-42c4-42fe-88b0-04bfdecd1b35/3.8/scikit_learn.libs/.nfs000000000256b75b00000006"
   ]
  },
  {
   "cell_type": "code",
   "execution_count": 8,
   "id": "969af78e",
   "metadata": {},
   "outputs": [
    {
     "name": "stdout",
     "output_type": "stream",
     "text": [
      "Updating Subscription Management repositories.\n",
      "Unable to read consumer identity\n",
      "\n",
      "This system is not registered with an entitlement server. You can use subscription-manager to register.\n",
      "\n",
      "Last metadata expiration check: 0:00:16 ago on Fri Mar 15 06:04:44 2024.\n",
      "Dependencies resolved.\n",
      "================================================================================\n",
      " Package        Architecture Version              Repository               Size\n",
      "================================================================================\n",
      "Installing:\n",
      " \u001b[1m\u001b[32mlsof          \u001b[m x86_64       4.94.0-3.el9         ubi-9-baseos-rpms       241 k\n",
      "Installing dependencies:\n",
      " \u001b[1m\u001b[32mlibtirpc      \u001b[m x86_64       1.3.3-2.el9          ubi-9-baseos-rpms        96 k\n",
      "\n",
      "Transaction Summary\n",
      "================================================================================\n",
      "Install  2 Packages\n",
      "\n",
      "Total download size: 337 k\n",
      "Installed size: 826 k\n",
      "Downloading Packages:\n",
      "(1/2): libtirpc-1.3.3-2.el9.x86_64.rpm          615 kB/s |  96 kB     00:00    \n",
      "(2/2): lsof-4.94.0-3.el9.x86_64.rpm             1.2 MB/s | 241 kB     00:00    \n",
      "--------------------------------------------------------------------------------\n",
      "Total                                           1.7 MB/s | 337 kB     00:00     \n",
      "Running transaction check\n",
      "Transaction check succeeded.\n",
      "Running transaction test\n",
      "Transaction test succeeded.\n",
      "Running transaction\n",
      "  Preparing        :                                                        1/1 \n",
      "  Installing       : libtirpc-1.3.3-2.el9.x86_64                            1/2 \n",
      "  Installing       : lsof-4.94.0-3.el9.x86_64                               2/2 \n",
      "  Running scriptlet: lsof-4.94.0-3.el9.x86_64                               2/2 \n",
      "  Verifying        : libtirpc-1.3.3-2.el9.x86_64                            1/2 \n",
      "  Verifying        : lsof-4.94.0-3.el9.x86_64                               2/2 \n",
      "Installed products updated.\n",
      "\n",
      "Installed:\n",
      "  libtirpc-1.3.3-2.el9.x86_64              lsof-4.94.0-3.el9.x86_64             \n",
      "\n",
      "Complete!\n"
     ]
    }
   ],
   "source": [
    "!sudo yum install lsof -y"
   ]
  },
  {
   "cell_type": "code",
   "execution_count": null,
   "id": "48860c3b",
   "metadata": {},
   "outputs": [],
   "source": [
    "cars = pd.read_csv(\"car_new.csv\")\n",
    "cars"
   ]
  },
  {
   "cell_type": "code",
   "execution_count": null,
   "id": "fe4e765d",
   "metadata": {},
   "outputs": [],
   "source": [
    "Y = cars['class_num']\n",
    "X = cars.drop (['class_num'], axis=1)\n",
    "X_train, X_test, y_train, y_test = train_test_split(X, Y, test_size=0.18, shuffle=True, random_state=25)\n",
    "print (X_train.shape, X_test.shape, y_train.shape, y_test.shape)"
   ]
  },
  {
   "cell_type": "code",
   "execution_count": null,
   "id": "f3cd7a5e",
   "metadata": {},
   "outputs": [],
   "source": [
    "first_tree = DecisionTreeClassifier()\n",
    "model=first_tree.fit(X_train, y_train)\n",
    "model"
   ]
  },
  {
   "cell_type": "code",
   "execution_count": null,
   "id": "d0440e51",
   "metadata": {},
   "outputs": [],
   "source": [
    "y_pred = model.predict(X_test)\n",
    "first_tree.score(X_test, y_test)\n",
    "y_prob = model.predict_proba(X_test)[:,1]"
   ]
  },
  {
   "cell_type": "code",
   "execution_count": null,
   "id": "8442ecdd",
   "metadata": {},
   "outputs": [],
   "source": [
    "@scoring_func\n",
    "def score(model, request):\n",
    "    payload = request.json[\"payload\"]\n",
    "    data = pd.DataFrame(eval(payload))\n",
    "    prediction = pd.Series(model.predict(data))\n",
    "    return prediction.tolist()"
   ]
  },
  {
   "cell_type": "code",
   "execution_count": null,
   "id": "e02e374f",
   "metadata": {},
   "outputs": [],
   "source": [
    "req = requests.Request()\n",
    "req.json = {\"payload\":X_train.head(1).to_json()}\n",
    "\n",
    "sch = generate_schema(score,(model, req), X_train)\n",
    "print(sch)"
   ]
  },
  {
   "cell_type": "code",
   "execution_count": null,
   "id": "4356ced1",
   "metadata": {},
   "outputs": [],
   "source": [
    "!pip show scikit-learn"
   ]
  },
  {
   "cell_type": "code",
   "execution_count": null,
   "id": "d82a1543",
   "metadata": {},
   "outputs": [],
   "source": [
    "register_model(model, \n",
    "               score, \n",
    "               name='Refractml_Sklearn_Python_38_test_packages', \n",
    "               description='car evaluation classification model using sklearn', \n",
    "               flavour=MLModelFlavours.sklearn,\n",
    "               schema=sch,\n",
    "               y_true=y_test, \n",
    "               y_pred=y_pred,\n",
    "               y_train=y_train, \n",
    "               y_test=y_test,\n",
    "               x_train=X_train, \n",
    "               x_test=X_test, \n",
    "               prob=y_prob,\n",
    "               labels=[0,1], \n",
    "               init_script=\"\",\n",
    "               model_type=\"classification\",\n",
    "               input_type=\"json\", \n",
    "               explain_ai=False, \n",
    "               feature_names=list(X_train), \n",
    "               feature_ids=list(X_train),\n",
    "               target_names=[0,1,2,3], \n",
    "               kyd=True, \n",
    "               kyd_score = False\n",
    "              )"
   ]
  }
 ],
 "metadata": {
  "kernelspec": {
   "display_name": "Python 3",
   "language": "python",
   "name": "python3"
  },
  "language_info": {
   "codemirror_mode": {
    "name": "ipython",
    "version": 3
   },
   "file_extension": ".py",
   "mimetype": "text/x-python",
   "name": "python",
   "nbconvert_exporter": "python",
   "pygments_lexer": "ipython3",
   "version": "3.8.18"
  }
 },
 "nbformat": 4,
 "nbformat_minor": 5
}
