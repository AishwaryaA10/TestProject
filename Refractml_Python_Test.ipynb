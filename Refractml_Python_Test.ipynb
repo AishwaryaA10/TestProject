{
 "cells": [
  {
   "cell_type": "code",
   "execution_count": null,
   "id": "4594ee13",
   "metadata": {},
   "outputs": [],
   "source": [
    "# !pip install refractml==1.0.3 --target /packages/Python-3.8/de678bea-42c4-42fe-88b0-04bfdecd1b35/3.8 --upgrade\n",
    "# !pip install scikit-learn==0.24.2 --target /packages/Python-3.8/de678bea-42c4-42fe-88b0-04bfdecd1b35/3.8 --upgrade"
   ]
  },
  {
   "cell_type": "code",
   "execution_count": null,
   "id": "7ade9f41",
   "metadata": {},
   "outputs": [],
   "source": [
    "!pip install scikit-learn==0.24.2 --target /packages/Python-3.8/de678bea-42c4-42fe-88b0-04bfdecd1b35/3.8 --upgrade"
   ]
  },
  {
   "cell_type": "code",
   "execution_count": null,
   "id": "753ae09c",
   "metadata": {},
   "outputs": [],
   "source": [
    "# !pip uninstall urllib3 -y"
   ]
  },
  {
   "cell_type": "code",
   "execution_count": null,
   "id": "e9fda071",
   "metadata": {},
   "outputs": [],
   "source": [
    "# !pip install urllib3==1.26.15"
   ]
  },
  {
   "cell_type": "code",
   "execution_count": 1,
   "id": "1fd0ad28",
   "metadata": {},
   "outputs": [
    {
     "ename": "ModuleNotFoundError",
     "evalue": "No module named 'sklearn._config'",
     "output_type": "error",
     "traceback": [
      "\u001b[0;31m---------------------------------------------------------------------------\u001b[0m",
      "\u001b[0;31mModuleNotFoundError\u001b[0m                       Traceback (most recent call last)",
      "Cell \u001b[0;32mIn[1], line 4\u001b[0m\n\u001b[1;32m      2\u001b[0m \u001b[38;5;28;01mimport\u001b[39;00m \u001b[38;5;21;01mnumpy\u001b[39;00m \u001b[38;5;28;01mas\u001b[39;00m \u001b[38;5;21;01mnp\u001b[39;00m\n\u001b[1;32m      3\u001b[0m \u001b[38;5;66;03m# import category_encoders as ce\u001b[39;00m\n\u001b[0;32m----> 4\u001b[0m \u001b[38;5;28;01mfrom\u001b[39;00m \u001b[38;5;21;01msklearn\u001b[39;00m\u001b[38;5;21;01m.\u001b[39;00m\u001b[38;5;21;01mmodel_selection\u001b[39;00m \u001b[38;5;28;01mimport\u001b[39;00m train_test_split\n\u001b[1;32m      5\u001b[0m \u001b[38;5;28;01mfrom\u001b[39;00m \u001b[38;5;21;01msklearn\u001b[39;00m\u001b[38;5;21;01m.\u001b[39;00m\u001b[38;5;21;01mtree\u001b[39;00m \u001b[38;5;28;01mimport\u001b[39;00m DecisionTreeClassifier\n\u001b[1;32m      6\u001b[0m \u001b[38;5;28;01mimport\u001b[39;00m \u001b[38;5;21;01mrequests\u001b[39;00m\n",
      "File \u001b[0;32m/packages/Python-3.8/de678bea-42c4-42fe-88b0-04bfdecd1b35/3.8/sklearn/__init__.py:20\u001b[0m\n\u001b[1;32m     17\u001b[0m \u001b[38;5;28;01mimport\u001b[39;00m \u001b[38;5;21;01mrandom\u001b[39;00m\n\u001b[1;32m     18\u001b[0m \u001b[38;5;28;01mimport\u001b[39;00m \u001b[38;5;21;01msys\u001b[39;00m\n\u001b[0;32m---> 20\u001b[0m \u001b[38;5;28;01mfrom\u001b[39;00m \u001b[38;5;21;01m.\u001b[39;00m\u001b[38;5;21;01m_config\u001b[39;00m \u001b[38;5;28;01mimport\u001b[39;00m config_context, get_config, set_config\n\u001b[1;32m     22\u001b[0m logger \u001b[38;5;241m=\u001b[39m logging\u001b[38;5;241m.\u001b[39mgetLogger(\u001b[38;5;18m__name__\u001b[39m)\n\u001b[1;32m     25\u001b[0m \u001b[38;5;66;03m# PEP0440 compatible formatted version, see:\u001b[39;00m\n\u001b[1;32m     26\u001b[0m \u001b[38;5;66;03m# https://www.python.org/dev/peps/pep-0440/\u001b[39;00m\n\u001b[1;32m     27\u001b[0m \u001b[38;5;66;03m#\u001b[39;00m\n\u001b[0;32m   (...)\u001b[0m\n\u001b[1;32m     39\u001b[0m \u001b[38;5;66;03m# 'X.Y.dev0' is the canonical version of 'X.Y.dev'\u001b[39;00m\n\u001b[1;32m     40\u001b[0m \u001b[38;5;66;03m#\u001b[39;00m\n",
      "\u001b[0;31mModuleNotFoundError\u001b[0m: No module named 'sklearn._config'"
     ]
    }
   ],
   "source": [
    "import pandas as pd\n",
    "import numpy as np\n",
    "# import category_encoders as ce\n",
    "from sklearn.model_selection import train_test_split\n",
    "from sklearn.tree import DecisionTreeClassifier\n",
    "import requests\n",
    "from refractml import *\n",
    "from refractml.constants import MLModelFlavours"
   ]
  },
  {
   "cell_type": "code",
   "execution_count": null,
   "id": "55ba6f75",
   "metadata": {},
   "outputs": [
    {
     "name": "stdout",
     "output_type": "stream",
     "text": [
      "/tmp/pip_packages/scipy.libs/libopenblasp-r0-41284840.3.18.so\n",
      "find: ‘/home/miniconda’: Permission denied\n",
      "find: ‘/proc/tty/driver’: Permission denied\n",
      "find: ‘/lost+found’: Permission denied\n",
      "find: ‘/var/lib/rhsm’: Permission denied\n",
      "find: ‘/var/lib/private’: Permission denied\n",
      "find: ‘/var/db/sudo’: Permission denied\n",
      "find: ‘/var/cache/ldconfig’: Permission denied\n",
      "find: ‘/root’: Permission denied\n",
      "find: ‘/etc/sudoers.d’: Permission denied\n",
      "/packages/Python-3.8/7ba5239c-5fc2-48ab-8a2b-5408f2ab126b/3.8/scipy.libs/libopenblasp-r0-41284840.3.18.so\n",
      "/packages/Python-3.8/696b47a1-e8f4-4207-aba3-c50d2a847703/3.8/scipy.libs/libopenblasp-r0-41284840.3.18.so\n",
      "/packages/Python-3.8/c687b99d-7dc0-4bbf-b1fc-a307bc39851e/3.8/scipy.libs/libopenblasp-r0-41284840.3.18.so\n",
      "/packages/Python-3.8/a0a61d35-777c-48a1-bf65-dbf5a988374d/3.8/scipy.libs/libopenblasp-r0-41284840.3.18.so\n",
      "/packages/Python-3.8/480cbb8a-576b-4c95-be08-18b7b6fd97f5/3.8/scipy.libs/libopenblasp-r0-41284840.3.18.so\n",
      "/packages/Python-3.8/3a4ff4e6-7857-4656-b645-3026a503b714/3.8/scipy.libs/libopenblasp-r0-41284840.3.18.so\n",
      "/packages/Python-3.8/5d94b7ba-7cf3-4576-91ae-76437c018059/3.8/scipy.libs/libopenblasp-r0-41284840.3.18.so\n",
      "/packages/Python-3.8/5d000c33-0823-49b9-bf54-0ed8fc4c2b41/3.8/scipy.libs/libopenblasp-r0-41284840.3.18.so\n",
      "/packages/Python-3.8/8fdd46dc-d758-42aa-9794-3de873f52e58/3.8/scipy.libs/libopenblasp-r0-41284840.3.18.so\n",
      "/packages/Python-3.8/86d3b275-2309-4935-8813-8c6dbd7477ac/3.8/scipy.libs/libopenblasp-r0-41284840.3.18.so\n",
      "/packages/Python-3.8/1a4b03ee-9983-4fbe-88e1-4a334d28fcf3/3.8/scipy.libs/libopenblasp-r0-41284840.3.18.so\n",
      "/packages/Python-3.8/19cfc939-2e5c-4256-b625-a0ac4f5fca52/3.8/scipy.libs/libopenblasp-r0-41284840.3.18.so\n",
      "/packages/Python-3.8/7fda9413-fe56-4033-8f53-4c85dbf965a9/3.8/scipy.libs/libopenblasp-r0-41284840.3.18.so\n",
      "/packages/Python-3.8/39d2f91f-e641-4883-937b-192f4a424c96/3.8/scipy.libs/libopenblasp-r0-41284840.3.18.so\n",
      "/packages/Python-3.8/9c730871-5d82-4fe4-8a17-5d50d85b07ab/3.8/scipy.libs/libopenblasp-r0-41284840.3.18.so\n",
      "/packages/Python-3.8/de678bea-42c4-42fe-88b0-04bfdecd1b35/3.8/scipy.libs/libopenblasp-r0-41284840.3.18.so\n",
      "/packages/Python/ef946f38-01cb-4e87-9b58-17bd7f484a06/417861e3/scipy.libs/libopenblasp-r0-41284840.3.18.so\n",
      "/packages/Python/f6907ffb-9b59-4046-a14c-fd29d872eb4d/c8d7e02b/scipy.libs/libopenblasp-r0-41284840.3.18.so\n",
      "/packages/Python/0b1b7b0f-7899-4561-82f8-d59301ab60fd/3ee6bcf0/scipy.libs/libopenblasp-r0-41284840.3.18.so\n",
      "/packages/Python/dcf7bb44-aa2a-4561-99f8-1f6792ead49a/56566287/scipy.libs/libopenblasp-r0-41284840.3.18.so\n",
      "/packages/Python/ea62a21b-6139-43da-b8c6-fb4a201a3b89/d8c01e5a/scipy.libs/libopenblasp-r0-41284840.3.18.so\n",
      "/packages/Python/d44fca96-3951-416e-bdc5-bd4ba9162419/0173ffca/scipy.libs/libopenblasp-r0-41284840.3.18.so\n",
      "/packages/Python/6bb626fb-decc-4aba-87e9-88dcd63dc3a8/c70736b9/scipy.libs/libopenblasp-r0-41284840.3.18.so\n",
      "/packages/Python/0b2d4f07-b631-4c36-9302-d91847f61827/a88383ed/scipy.libs/libopenblasp-r0-41284840.3.18.so\n",
      "/packages/Python/0b2d4f07-b631-4c36-9302-d91847f61827/0945a3fc/scipy.libs/libopenblasp-r0-41284840.3.18.so\n"
     ]
    }
   ],
   "source": [
    "!find / -name \"libopenblasp-r0-41284840.3.18.so\""
   ]
  },
  {
   "cell_type": "code",
   "execution_count": null,
   "id": "48ed7684",
   "metadata": {},
   "outputs": [],
   "source": []
  },
  {
   "cell_type": "code",
   "execution_count": null,
   "id": "48860c3b",
   "metadata": {},
   "outputs": [],
   "source": [
    "cars = pd.read_csv(\"car_new.csv\")\n",
    "cars"
   ]
  },
  {
   "cell_type": "code",
   "execution_count": null,
   "id": "fe4e765d",
   "metadata": {},
   "outputs": [],
   "source": [
    "Y = cars['class_num']\n",
    "X = cars.drop (['class_num'], axis=1)\n",
    "X_train, X_test, y_train, y_test = train_test_split(X, Y, test_size=0.18, shuffle=True, random_state=25)\n",
    "print (X_train.shape, X_test.shape, y_train.shape, y_test.shape)"
   ]
  },
  {
   "cell_type": "code",
   "execution_count": null,
   "id": "f3cd7a5e",
   "metadata": {},
   "outputs": [],
   "source": [
    "first_tree = DecisionTreeClassifier()\n",
    "model=first_tree.fit(X_train, y_train)\n",
    "model"
   ]
  },
  {
   "cell_type": "code",
   "execution_count": null,
   "id": "d0440e51",
   "metadata": {},
   "outputs": [],
   "source": [
    "y_pred = model.predict(X_test)\n",
    "first_tree.score(X_test, y_test)\n",
    "y_prob = model.predict_proba(X_test)[:,1]"
   ]
  },
  {
   "cell_type": "code",
   "execution_count": null,
   "id": "8442ecdd",
   "metadata": {},
   "outputs": [],
   "source": [
    "@scoring_func\n",
    "def score(model, request):\n",
    "    payload = request.json[\"payload\"]\n",
    "    data = pd.DataFrame(eval(payload))\n",
    "    prediction = pd.Series(model.predict(data))\n",
    "    return prediction.tolist()"
   ]
  },
  {
   "cell_type": "code",
   "execution_count": null,
   "id": "e02e374f",
   "metadata": {},
   "outputs": [],
   "source": [
    "req = requests.Request()\n",
    "req.json = {\"payload\":X_train.head(1).to_json()}\n",
    "\n",
    "sch = generate_schema(score,(model, req), X_train)\n",
    "print(sch)"
   ]
  },
  {
   "cell_type": "code",
   "execution_count": null,
   "id": "4356ced1",
   "metadata": {},
   "outputs": [],
   "source": [
    "!pip show scikit-learn"
   ]
  },
  {
   "cell_type": "code",
   "execution_count": null,
   "id": "d82a1543",
   "metadata": {},
   "outputs": [],
   "source": [
    "register_model(model, \n",
    "               score, \n",
    "               name='Refractml_Sklearn_Python_38_test_packages', \n",
    "               description='car evaluation classification model using sklearn', \n",
    "               flavour=MLModelFlavours.sklearn,\n",
    "               schema=sch,\n",
    "               y_true=y_test, \n",
    "               y_pred=y_pred,\n",
    "               y_train=y_train, \n",
    "               y_test=y_test,\n",
    "               x_train=X_train, \n",
    "               x_test=X_test, \n",
    "               prob=y_prob,\n",
    "               labels=[0,1], \n",
    "               init_script=\"\",\n",
    "               model_type=\"classification\",\n",
    "               input_type=\"json\", \n",
    "               explain_ai=False, \n",
    "               feature_names=list(X_train), \n",
    "               feature_ids=list(X_train),\n",
    "               target_names=[0,1,2,3], \n",
    "               kyd=True, \n",
    "               kyd_score = False\n",
    "              )"
   ]
  }
 ],
 "metadata": {
  "kernelspec": {
   "display_name": "Python 3",
   "language": "python",
   "name": "python3"
  },
  "language_info": {
   "codemirror_mode": {
    "name": "ipython",
    "version": 3
   },
   "file_extension": ".py",
   "mimetype": "text/x-python",
   "name": "python",
   "nbconvert_exporter": "python",
   "pygments_lexer": "ipython3",
   "version": "3.8.18"
  }
 },
 "nbformat": 4,
 "nbformat_minor": 5
}
