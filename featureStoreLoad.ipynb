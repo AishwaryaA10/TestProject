{
 "cells": [
  {
   "cell_type": "code",
   "execution_count": null,
   "id": "a0469e65",
   "metadata": {},
   "outputs": [],
   "source": [
    "from refractio import fs\n",
    "store = fs.get_feature_store(\"fsInt\", \"617776fd-397c-426a-a51a-bda45471f6d6\")\n",
    "print(store)"
   ]
  },
  {
   "cell_type": "code",
   "execution_count": null,
   "id": "c137f736",
   "metadata": {},
   "outputs": [],
   "source": []
  }
 ],
 "metadata": {
  "kernelspec": {
   "display_name": "Python 3",
   "language": "python",
   "name": "python3"
  }
 },
 "nbformat": 4,
 "nbformat_minor": 5
}
