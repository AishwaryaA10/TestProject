{
 "cells": [
  {
   "cell_type": "code",
   "execution_count": 3,
   "id": "5b1d1a43",
   "metadata": {},
   "outputs": [
    {
     "name": "stdout",
     "output_type": "stream",
     "text": [
      "Manual commit!!\n"
     ]
    }
   ],
   "source": [
    "print(\"Manual commit!!\")"
   ]
  },
  {
   "cell_type": "code",
   "execution_count": null,
   "id": "f7db59d3",
   "metadata": {},
   "outputs": [],
   "source": [
    "print(\"Auto commit\")"
   ]
  },
  {
   "cell_type": "code",
   "execution_count": 4,
   "id": "9da0a66d",
   "metadata": {},
   "outputs": [
    {
     "name": "stdout",
     "output_type": "stream",
     "text": [
      "Auto commit\n"
     ]
    }
   ],
   "source": [
    "print(\"Auto commit\")"
   ]
  }
 ],
 "metadata": {
  "kernelspec": {
   "display_name": "Python 3",
   "language": "python",
   "name": "python3"
  },
  "language_info": {
   "codemirror_mode": {
    "name": "ipython",
    "version": 3
   },
   "file_extension": ".py",
   "mimetype": "text/x-python",
   "name": "python",
   "nbconvert_exporter": "python",
   "pygments_lexer": "ipython3",
   "version": "3.7.12"
  }
 },
 "nbformat": 4,
 "nbformat_minor": 5
}
