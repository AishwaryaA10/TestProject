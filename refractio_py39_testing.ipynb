{
 "cells": [
  {
   "cell_type": "code",
   "execution_count": 2,
   "id": "a3f9f0d9",
   "metadata": {},
   "outputs": [
    {
     "name": "stdout",
     "output_type": "stream",
     "text": [
      "\u001b[33mWARNING: Package(s) not found: refractio\u001b[0m\r\n"
     ]
    }
   ],
   "source": [
    "!pip show refractio"
   ]
  },
  {
   "cell_type": "code",
   "execution_count": 4,
   "id": "97a73015",
   "metadata": {},
   "outputs": [
    {
     "name": "stdout",
     "output_type": "stream",
     "text": [
      "Name: pandas\r\n",
      "Version: 2.2.0\r\n",
      "Summary: Powerful data structures for data analysis, time series, and statistics\r\n",
      "Home-page: https://pandas.pydata.org\r\n",
      "Author: None\r\n",
      "Author-email: The Pandas Development Team <pandas-dev@python.org>\r\n",
      "License: BSD 3-Clause License\r\n",
      "        \r\n",
      "        Copyright (c) 2008-2011, AQR Capital Management, LLC, Lambda Foundry, Inc. and PyData Development Team\r\n",
      "        All rights reserved.\r\n",
      "        \r\n",
      "        Copyright (c) 2011-2023, Open source contributors.\r\n",
      "        \r\n",
      "        Redistribution and use in source and binary forms, with or without\r\n",
      "        modification, are permitted provided that the following conditions are met:\r\n",
      "        \r\n",
      "        * Redistributions of source code must retain the above copyright notice, this\r\n",
      "          list of conditions and the following disclaimer.\r\n",
      "        \r\n",
      "        * Redistributions in binary form must reproduce the above copyright notice,\r\n",
      "          this list of conditions and the following disclaimer in the documentation\r\n",
      "          and/or other materials provided with the distribution.\r\n",
      "        \r\n",
      "        * Neither the name of the copyright holder nor the names of its\r\n",
      "          contributors may be used to endorse or promote products derived from\r\n",
      "          this software without specific prior written permission.\r\n",
      "        \r\n",
      "        THIS SOFTWARE IS PROVIDED BY THE COPYRIGHT HOLDERS AND CONTRIBUTORS \"AS IS\"\r\n",
      "        AND ANY EXPRESS OR IMPLIED WARRANTIES, INCLUDING, BUT NOT LIMITED TO, THE\r\n",
      "        IMPLIED WARRANTIES OF MERCHANTABILITY AND FITNESS FOR A PARTICULAR PURPOSE ARE\r\n",
      "        DISCLAIMED. IN NO EVENT SHALL THE COPYRIGHT HOLDER OR CONTRIBUTORS BE LIABLE\r\n",
      "        FOR ANY DIRECT, INDIRECT, INCIDENTAL, SPECIAL, EXEMPLARY, OR CONSEQUENTIAL\r\n",
      "        DAMAGES (INCLUDING, BUT NOT LIMITED TO, PROCUREMENT OF SUBSTITUTE GOODS OR\r\n",
      "        SERVICES; LOSS OF USE, DATA, OR PROFITS; OR BUSINESS INTERRUPTION) HOWEVER\r\n",
      "        CAUSED AND ON ANY THEORY OF LIABILITY, WHETHER IN CONTRACT, STRICT LIABILITY,\r\n",
      "        OR TORT (INCLUDING NEGLIGENCE OR OTHERWISE) ARISING IN ANY WAY OUT OF THE USE\r\n",
      "        OF THIS SOFTWARE, EVEN IF ADVISED OF THE POSSIBILITY OF SUCH DAMAGE.\r\n",
      "Location: /opt/conda/lib/python3.9/site-packages\r\n",
      "Requires: numpy, tzdata, python-dateutil, pytz\r\n",
      "Required-by: skater, shap, bqplot\r\n"
     ]
    }
   ],
   "source": [
    "!pip show "
   ]
  },
  {
   "cell_type": "code",
   "execution_count": null,
   "id": "81213a49",
   "metadata": {},
   "outputs": [],
   "source": [
    "!pip install refractio[snowflake]"
   ]
  }
 ],
 "metadata": {
  "kernelspec": {
   "display_name": "Python 3",
   "language": "python",
   "name": "python3"
  },
  "language_info": {
   "codemirror_mode": {
    "name": "ipython",
    "version": 3
   },
   "file_extension": ".py",
   "mimetype": "text/x-python",
   "name": "python",
   "nbconvert_exporter": "python",
   "pygments_lexer": "ipython3",
   "version": "3.9.18"
  }
 },
 "nbformat": 4,
 "nbformat_minor": 5
}
