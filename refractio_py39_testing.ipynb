{
 "cells": [
  {
   "cell_type": "code",
   "execution_count": 2,
   "id": "6e5b1fbb",
   "metadata": {},
   "outputs": [
    {
     "name": "stdout",
     "output_type": "stream",
     "text": [
      "\u001b[33mWARNING: Package(s) not found: refractio\u001b[0m\r\n"
     ]
    }
   ],
   "source": [
    "!pip show refractio"
   ]
  },
  {
   "cell_type": "code",
   "execution_count": 6,
   "id": "12d5ade4",
   "metadata": {},
   "outputs": [
    {
     "name": "stdout",
     "output_type": "stream",
     "text": [
      "Name: ipywidgets\r\n",
      "Version: 8.0.4\r\n",
      "Summary: Jupyter interactive widgets\r\n",
      "Home-page: http://jupyter.org\r\n",
      "Author: Jupyter Development Team\r\n",
      "Author-email: jupyter@googlegroups.com\r\n",
      "License: BSD 3-Clause License\r\n",
      "Location: /opt/conda/lib/python3.9/site-packages\r\n",
      "Requires: traitlets, jupyterlab-widgets, widgetsnbextension, ipykernel, ipython\r\n",
      "Required-by: bqplot\r\n"
     ]
    }
   ],
   "source": [
    "!pip install refractio[snowflake]"
   ]
  },
  {
   "cell_type": "code",
   "execution_count": null,
   "id": "21f397fc",
   "metadata": {},
   "outputs": [],
   "source": [
    "!pip install refractio"
   ]
  }
 ],
 "metadata": {
  "kernelspec": {
   "display_name": "Python 3",
   "language": "python",
   "name": "python3"
  },
  "language_info": {
   "codemirror_mode": {
    "name": "ipython",
    "version": 3
   },
   "file_extension": ".py",
   "mimetype": "text/x-python",
   "name": "python",
   "nbconvert_exporter": "python",
   "pygments_lexer": "ipython3",
   "version": "3.9.18"
  }
 },
 "nbformat": 4,
 "nbformat_minor": 5
}
