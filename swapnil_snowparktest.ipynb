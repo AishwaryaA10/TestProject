{
 "cells": [
  {
   "cell_type": "code",
   "execution_count": 11,
   "id": "bc55c1a0",
   "metadata": {},
   "outputs": [
    {
     "name": "stdout",
     "output_type": "stream",
     "text": [
      "[Row(number of rows inserted=5)]\n"
     ]
    }
   ],
   "source": [
    "from snowflake.snowpark.session import Session\n",
    "\n",
    "connection_params = {'user': \"REFRACT.FOSFOR@LNTINFOTECH.COM\", 'password': \"Password321\", 'account':\"fya62509.us-east-1\", 'role':\"FOSFOR_REFRACT\", 'warehouse': \"FOSFOR_REFRACT\"}\n",
    "\n",
    "session = Session.builder.configs(connection_params).create()\n",
    "session.sql(\"USE FOSFOR_REFRACT;\").collect()\n",
    "\n",
    "#data = session.sql(\"SHOW TABLES;\").collect()\n",
    "#print(data)\n",
    "\n",
    "#data= session.sql(\"SELECT * from BIAS.BIASED_TABLE limit 1;\").collect()\n",
    "#print(data)\n",
    "\n",
    "session.sql('CREATE OR REPLACE TABLE BIAS.sample_product_data (id INT, parent_id INT, category_id INT, name VARCHAR, serial_number VARCHAR, key INT, \"3rd\" INT);').collect()\n",
    "r1=session.sql(\"\"\"\n",
    "    INSERT INTO BIAS.sample_product_data VALUES\n",
    "    (1, 0, 5, 'Product 1', 'prod-1', 1, 10),\n",
    "    (2, 1, 5, 'Product 1A', 'prod-1-A', 1, 20),\n",
    "    (3, 1, 5, 'Product 1B', 'prod-1-B', 1, 30),\n",
    "    (4, 0, 10, 'Product 2', 'prod-2', 2, 40),\n",
    "    (5, 4, 10, 'Product 2A', 'prod-2-A', 2, 50)\n",
    "    \"\"\").collect()\n",
    "print(r1)\n",
    "\n",
    "session.close()"
   ]
  },
  {
   "cell_type": "code",
   "execution_count": 12,
   "id": "6122205c",
   "metadata": {},
   "outputs": [
    {
     "name": "stdout",
     "output_type": "stream",
     "text": [
      "-------------------------------------------------------------------------------------\n",
      "|\"ID\"  |\"PARENT_ID\"  |\"CATEGORY_ID\"  |\"NAME\"      |\"SERIAL_NUMBER\"  |\"KEY\"  |\"3rd\"  |\n",
      "-------------------------------------------------------------------------------------\n",
      "|1     |0            |5              |Product 1   |prod-1           |1      |10     |\n",
      "|2     |1            |5              |Product 1A  |prod-1-A         |1      |20     |\n",
      "|3     |1            |5              |Product 1B  |prod-1-B         |1      |30     |\n",
      "|4     |0            |10             |Product 2   |prod-2           |2      |40     |\n",
      "|5     |4            |10             |Product 2A  |prod-2-A         |2      |50     |\n",
      "-------------------------------------------------------------------------------------\n",
      "\n",
      "---------------------------------------\n",
      "|\"ID\"  |\"NAME\"      |\"SERIAL_NUMBER\"  |\n",
      "---------------------------------------\n",
      "|1     |Product 1   |prod-1           |\n",
      "|2     |Product 1A  |prod-1-A         |\n",
      "|3     |Product 1B  |prod-1-B         |\n",
      "|4     |Product 2   |prod-2           |\n",
      "|5     |Product 2A  |prod-2-A         |\n",
      "---------------------------------------\n",
      "\n"
     ]
    }
   ],
   "source": [
    "from snowflake.snowpark.functions import col\n",
    "\n",
    "session = Session.builder.configs(connection_params).create()\n",
    "session.sql(\"USE FOSFOR_REFRACT;\").collect()\n",
    "\n",
    "df_table = session.table(\"BIAS.sample_product_data\")\n",
    "df_table1 = session.table(\"BIAS.sample_product_data\").select(col(\"id\"), col(\"name\"), col(\"serial_number\"))\n",
    "#df1 = session.create_dataframe([1, 2, 3, 4]).to_df(\"a\")\n",
    "df_table.show()\n",
    "df_table1.show()\n",
    "\n",
    "\n",
    "session.close()"
   ]
  },
  {
   "cell_type": "code",
   "execution_count": 38,
   "id": "bfff5749",
   "metadata": {},
   "outputs": [
    {
     "name": "stderr",
     "output_type": "stream",
     "text": [
      "The version of package numpy in the local environment is 1.21.1, which does not fit the criteria for the requirement numpy. Your UDF might not work when the package version is different between the server and your local environment\n"
     ]
    },
    {
     "ename": "SnowparkSessionException",
     "evalue": "(1409): More than one active session is detected. When you call function 'udf' or use decorator '@udf', you must specify the 'session' parameter if you created multiple sessions.Alternatively, you can use 'session.udf.register' to register UDFs",
     "output_type": "error",
     "traceback": [
      "\u001b[0;31m---------------------------------------------------------------------------\u001b[0m",
      "\u001b[0;31mSnowparkSessionException\u001b[0m                  Traceback (most recent call last)",
      "Cell \u001b[0;32mIn[38], line 13\u001b[0m\n\u001b[1;32m      8\u001b[0m \u001b[38;5;66;03m#def custom_udf(arg1: col, arg2: col): col=(\u001b[39;00m\n\u001b[1;32m      9\u001b[0m \u001b[38;5;66;03m#    arg1 + arg2\u001b[39;00m\n\u001b[1;32m     10\u001b[0m \u001b[38;5;66;03m#)\u001b[39;00m\n\u001b[1;32m     12\u001b[0m session\u001b[38;5;241m.\u001b[39madd_packages(\u001b[38;5;124m\"\u001b[39m\u001b[38;5;124mnumpy\u001b[39m\u001b[38;5;124m\"\u001b[39m)\n\u001b[0;32m---> 13\u001b[0m add_one_udf \u001b[38;5;241m=\u001b[39m \u001b[43mudf\u001b[49m\u001b[43m(\u001b[49m\u001b[38;5;28;43;01mlambda\u001b[39;49;00m\u001b[43m \u001b[49m\u001b[43mx\u001b[49m\u001b[43m:\u001b[49m\u001b[43m \u001b[49m\u001b[43mx\u001b[49m\u001b[38;5;241;43m+\u001b[39;49m\u001b[38;5;241;43m1\u001b[39;49m\u001b[43m,\u001b[49m\u001b[43m \u001b[49m\u001b[43mreturn_type\u001b[49m\u001b[38;5;241;43m=\u001b[39;49m\u001b[43mIntegerType\u001b[49m\u001b[43m(\u001b[49m\u001b[43m)\u001b[49m\u001b[43m,\u001b[49m\u001b[43m \u001b[49m\u001b[43minput_types\u001b[49m\u001b[38;5;241;43m=\u001b[39;49m\u001b[43m[\u001b[49m\u001b[43mIntegerType\u001b[49m\u001b[43m(\u001b[49m\u001b[43m)\u001b[49m\u001b[43m]\u001b[49m\u001b[43m)\u001b[49m\n\u001b[1;32m     16\u001b[0m \u001b[38;5;66;03m#select(add_one_udf(\"id\")).to_df(\"col1\").collect()\u001b[39;00m\n\u001b[1;32m     19\u001b[0m df \u001b[38;5;241m=\u001b[39m session\u001b[38;5;241m.\u001b[39mtable((\u001b[38;5;124m\"\u001b[39m\u001b[38;5;124mBIAS.sample_product_data\u001b[39m\u001b[38;5;124m\"\u001b[39m))\n",
      "File \u001b[0;32m/opt/conda/lib/python3.8/site-packages/snowflake/snowpark/functions.py:3114\u001b[0m, in \u001b[0;36mudf\u001b[0;34m(func, return_type, input_types, name, is_permanent, stage_location, imports, packages, replace, session, parallel, max_batch_size, statement_params, source_code_display, strict, secure)\u001b[0m\n\u001b[1;32m   2983\u001b[0m \u001b[38;5;28;01mdef\u001b[39;00m \u001b[38;5;21mudf\u001b[39m(\n\u001b[1;32m   2984\u001b[0m     func: Optional[Callable] \u001b[38;5;241m=\u001b[39m \u001b[38;5;28;01mNone\u001b[39;00m,\n\u001b[1;32m   2985\u001b[0m     \u001b[38;5;241m*\u001b[39m,\n\u001b[0;32m   (...)\u001b[0m\n\u001b[1;32m   3000\u001b[0m     secure: \u001b[38;5;28mbool\u001b[39m \u001b[38;5;241m=\u001b[39m \u001b[38;5;28;01mFalse\u001b[39;00m,\n\u001b[1;32m   3001\u001b[0m ) \u001b[38;5;241m-\u001b[39m\u001b[38;5;241m>\u001b[39m Union[UserDefinedFunction, functools\u001b[38;5;241m.\u001b[39mpartial]:\n\u001b[1;32m   3002\u001b[0m \u001b[38;5;250m    \u001b[39m\u001b[38;5;124;03m\"\"\"Registers a Python function as a Snowflake Python UDF and returns the UDF.\u001b[39;00m\n\u001b[1;32m   3003\u001b[0m \n\u001b[1;32m   3004\u001b[0m \u001b[38;5;124;03m    It can be used as either a function call or a decorator. In most cases you work with a single session.\u001b[39;00m\n\u001b[0;32m   (...)\u001b[0m\n\u001b[1;32m   3112\u001b[0m \u001b[38;5;124;03m        :class:`~snowflake.snowpark.udf.UDFRegistration`\u001b[39;00m\n\u001b[1;32m   3113\u001b[0m \u001b[38;5;124;03m    \"\"\"\u001b[39;00m\n\u001b[0;32m-> 3114\u001b[0m     session \u001b[38;5;241m=\u001b[39m session \u001b[38;5;129;01mor\u001b[39;00m \u001b[43msnowflake\u001b[49m\u001b[38;5;241;43m.\u001b[39;49m\u001b[43msnowpark\u001b[49m\u001b[38;5;241;43m.\u001b[39;49m\u001b[43msession\u001b[49m\u001b[38;5;241;43m.\u001b[39;49m\u001b[43m_get_active_session\u001b[49m\u001b[43m(\u001b[49m\u001b[43m)\u001b[49m\n\u001b[1;32m   3115\u001b[0m     \u001b[38;5;28;01mif\u001b[39;00m func \u001b[38;5;129;01mis\u001b[39;00m \u001b[38;5;28;01mNone\u001b[39;00m:\n\u001b[1;32m   3116\u001b[0m         \u001b[38;5;28;01mreturn\u001b[39;00m functools\u001b[38;5;241m.\u001b[39mpartial(\n\u001b[1;32m   3117\u001b[0m             session\u001b[38;5;241m.\u001b[39mudf\u001b[38;5;241m.\u001b[39mregister,\n\u001b[1;32m   3118\u001b[0m             return_type\u001b[38;5;241m=\u001b[39mreturn_type,\n\u001b[0;32m   (...)\u001b[0m\n\u001b[1;32m   3131\u001b[0m             secure\u001b[38;5;241m=\u001b[39msecure,\n\u001b[1;32m   3132\u001b[0m         )\n",
      "File \u001b[0;32m/opt/conda/lib/python3.8/site-packages/snowflake/snowpark/session.py:140\u001b[0m, in \u001b[0;36m_get_active_session\u001b[0;34m()\u001b[0m\n\u001b[1;32m    138\u001b[0m     \u001b[38;5;28;01mreturn\u001b[39;00m \u001b[38;5;28mnext\u001b[39m(\u001b[38;5;28miter\u001b[39m(_active_sessions))\n\u001b[1;32m    139\u001b[0m \u001b[38;5;28;01melif\u001b[39;00m \u001b[38;5;28mlen\u001b[39m(_active_sessions) \u001b[38;5;241m>\u001b[39m \u001b[38;5;241m1\u001b[39m:\n\u001b[0;32m--> 140\u001b[0m     \u001b[38;5;28;01mraise\u001b[39;00m SnowparkClientExceptionMessages\u001b[38;5;241m.\u001b[39mMORE_THAN_ONE_ACTIVE_SESSIONS()\n\u001b[1;32m    141\u001b[0m \u001b[38;5;28;01melse\u001b[39;00m:\n\u001b[1;32m    142\u001b[0m     \u001b[38;5;28;01mraise\u001b[39;00m SnowparkClientExceptionMessages\u001b[38;5;241m.\u001b[39mSERVER_NO_DEFAULT_SESSION()\n",
      "\u001b[0;31mSnowparkSessionException\u001b[0m: (1409): More than one active session is detected. When you call function 'udf' or use decorator '@udf', you must specify the 'session' parameter if you created multiple sessions.Alternatively, you can use 'session.udf.register' to register UDFs"
     ]
    }
   ],
   "source": [
    "from snowflake.snowpark.types import IntegerType\n",
    "from snowflake.snowpark.functions import udf\n",
    "from snowflake.snowpark.functions import col\n",
    "\n",
    "session = Session.builder.configs(connection_params).create()\n",
    "session.sql(\"USE FOSFOR_REFRACT;\").collect()\n",
    "\n",
    "    \n",
    "session.add_packages(\"numpy\")\n",
    "add_one_udf = udf(lambda x: x+1, return_type=IntegerType(), input_types=[IntegerType()])\n",
    "\n",
    "\n",
    "df = session.table((\"BIAS.sample_product_data\"))\n",
    "result = df.select(add_one_udf(\"id\")).to_df(\"col1\").collect()\n",
    "\n",
    "result.show()\n"
   ]
  }
 ],
 "metadata": {
  "kernelspec": {
   "display_name": "Python 3",
   "language": "python",
   "name": "python3"
  },
  "language_info": {
   "codemirror_mode": {
    "name": "ipython",
    "version": 3
   },
   "file_extension": ".py",
   "mimetype": "text/x-python",
   "name": "python",
   "nbconvert_exporter": "python",
   "pygments_lexer": "ipython3",
   "version": "3.8.18"
  }
 },
 "nbformat": 4,
 "nbformat_minor": 5
}
