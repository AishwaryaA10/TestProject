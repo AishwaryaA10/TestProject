{
 "cells": [
  {
   "cell_type": "code",
   "execution_count": 4,
   "id": "bc55c1a0",
   "metadata": {},
   "outputs": [
    {
     "name": "stdout",
     "output_type": "stream",
     "text": [
      "[Row(number of rows inserted=5)]\n"
     ]
    }
   ],
   "source": [
    "from snowflake.snowpark.session import Session\n",
    "\n",
    "connection_params = {\n",
    "    'user': \"REFRACT.FOSFOR@LNTINFOTECH.COM\", \n",
    "    'password': \"Password321\", \n",
    "    'account':\"fya62509.us-east-1\", \n",
    "    'role':\"FOSFOR_REFRACT\", \n",
    "    'warehouse': \"FOSFOR_REFRACT\"\n",
    "}\n",
    "\n",
    "session = Session.builder.configs(connection_params).create()\n",
    "session.sql(\"USE FOSFOR_REFRACT;\").collect()\n",
    "\n",
    "#data = session.sql(\"SHOW TABLES;\").collect()\n",
    "#print(data)\n",
    "\n",
    "#data= session.sql(\"SELECT * from BIAS.BIASED_TABLE limit 1;\").collect()\n",
    "#print(data)\n",
    "\n",
    "session.sql('CREATE OR REPLACE TABLE BIAS.sample_product_data (id INT, parent_id INT, category_id INT, name VARCHAR, serial_number VARCHAR, key INT, \"3rd\" INT);').collect()\n",
    "r1=session.sql(\"\"\"\n",
    "    INSERT INTO BIAS.sample_product_data VALUES\n",
    "    (1, 0, 5, 'Product 1', 'prod-1', 1, 10),\n",
    "    (2, 1, 5, 'Product 1A', 'prod-1-A', 1, 20),\n",
    "    (3, 1, 5, 'Product 1B', 'prod-1-B', 1, 30),\n",
    "    (4, 0, 10, 'Product 2', 'prod-2', 2, 40),\n",
    "    (5, 4, 10, 'Product 2A', 'prod-2-A', 2, 50)\n",
    "    \"\"\").collect()\n",
    "print(r1)\n",
    "\n",
    "session.close()"
   ]
  },
  {
   "cell_type": "code",
   "execution_count": 5,
   "id": "5b95a18e",
   "metadata": {},
   "outputs": [
    {
     "name": "stdout",
     "output_type": "stream",
     "text": [
      "-------------------------------------------------------------------------------------\n",
      "|\"ID\"  |\"PARENT_ID\"  |\"CATEGORY_ID\"  |\"NAME\"      |\"SERIAL_NUMBER\"  |\"KEY\"  |\"3rd\"  |\n",
      "-------------------------------------------------------------------------------------\n",
      "|1     |0            |5              |Product 1   |prod-1           |1      |10     |\n",
      "|2     |1            |5              |Product 1A  |prod-1-A         |1      |20     |\n",
      "|3     |1            |5              |Product 1B  |prod-1-B         |1      |30     |\n",
      "|4     |0            |10             |Product 2   |prod-2           |2      |40     |\n",
      "|5     |4            |10             |Product 2A  |prod-2-A         |2      |50     |\n",
      "-------------------------------------------------------------------------------------\n",
      "\n",
      "---------------------------------------\n",
      "|\"ID\"  |\"NAME\"      |\"SERIAL_NUMBER\"  |\n",
      "---------------------------------------\n",
      "|1     |Product 1   |prod-1           |\n",
      "|2     |Product 1A  |prod-1-A         |\n",
      "|3     |Product 1B  |prod-1-B         |\n",
      "|4     |Product 2   |prod-2           |\n",
      "|5     |Product 2A  |prod-2-A         |\n",
      "---------------------------------------\n",
      "\n"
     ]
    }
   ],
   "source": [
    "from snowflake.snowpark.functions import col\n",
    "\n",
    "session = Session.builder.configs(connection_params).create()\n",
    "session.sql(\"USE FOSFOR_REFRACT;\").collect()\n",
    "\n",
    "df_table = session.table(\"BIAS.sample_product_data\")\n",
    "df_table1 = session.table(\"BIAS.sample_product_data\").select(col(\"id\"), col(\"name\"), col(\"serial_number\"))\n",
    "#df1 = session.create_dataframe([1, 2, 3, 4]).to_df(\"a\")\n",
    "df_table.show()\n",
    "df_table1.show()\n",
    "\n",
    "\n",
    "session.close()"
   ]
  },
  {
   "cell_type": "code",
   "execution_count": null,
   "id": "ef23e9b4",
   "metadata": {},
   "outputs": [],
   "source": [
    "pip install refractio==2.1.5.4"
   ]
  },
  {
   "cell_type": "code",
   "execution_count": 6,
   "id": "28dd3e9e",
   "metadata": {},
   "outputs": [
    {
     "name": "stdout",
     "output_type": "stream",
     "text": [
      "Connection details fetched: {'errorCode': 'CNM-404', 'message': 'Asset not found', 'detailMessage': 'Datasource not found by name BIAS.sample_product_data', 'timeStamp': '2024-03-20 12:44:24.023', 'api': '/v1/external/getConnConfig/{dataSourceName}/{userId}/{projectId}'}\n",
      "Ex: 'params'\n",
      "Exception occurred in reading data_frame from snowflake connection: Exception occurred in creating snowflake connection: Datasource not found by name BIAS.sample_product_data\n"
     ]
    }
   ],
   "source": [
    "from refractio import snowflake\n",
    "snowflake.get_dataframe(\"BIAS.sample_product_data\")"
   ]
  },
  {
   "cell_type": "code",
   "execution_count": null,
   "id": "0d3e9118",
   "metadata": {},
   "outputs": [],
   "source": [
    "from snowflake.snowpark.types import IntegerType\n",
    "from snowflake.snowpark.functions import udf\n",
    "from snowflake.snowpark.functions import col\n",
    "\n",
    "session = Session.builder.configs(connection_params).create()\n",
    "session.sql(\"USE FOSFOR_REFRACT;\").collect()\n",
    "    \n",
    "\n",
    "add_one_udf = udf(lambda x: x+1, return_type=IntegerType(), input_types=[IntegerType()])\n",
    "\n",
    "\n",
    "df = session.table((\"BIAS.sample_product_data\"))\n",
    "result = df.select(add_one_udf(\"id\")).to_df(\"col1\").collect()\n",
    "\n",
    "result.show()\n"
   ]
  }
 ],
 "metadata": {
  "kernelspec": {
   "display_name": "Python 3",
   "language": "python",
   "name": "python3"
  },
  "language_info": {
   "codemirror_mode": {
    "name": "ipython",
    "version": 3
   },
   "file_extension": ".py",
   "mimetype": "text/x-python",
   "name": "python",
   "nbconvert_exporter": "python",
   "pygments_lexer": "ipython3",
   "version": "3.8.18"
  }
 },
 "nbformat": 4,
 "nbformat_minor": 5
}
