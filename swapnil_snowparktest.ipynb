{
 "cells": [
  {
   "cell_type": "code",
   "execution_count": 3,
   "id": "bc55c1a0",
   "metadata": {},
   "outputs": [
    {
     "ename": "NameError",
     "evalue": "name 'col' is not defined",
     "output_type": "error",
     "traceback": [
      "\u001b[0;31m---------------------------------------------------------------------------\u001b[0m",
      "\u001b[0;31mNameError\u001b[0m                                 Traceback (most recent call last)",
      "Cell \u001b[0;32mIn[3], line 24\u001b[0m\n\u001b[1;32m     10\u001b[0m \u001b[38;5;66;03m#data= session.sql(\"SELECT * from BIAS.BIASED_TABLE limit 1;\").collect()\u001b[39;00m\n\u001b[1;32m     11\u001b[0m \u001b[38;5;66;03m#print(data)\u001b[39;00m\n\u001b[1;32m     12\u001b[0m \u001b[38;5;66;03m#session.sql('CREATE OR REPLACE TABLE BIAS.sample_product_data (id INT, parent_id INT, category_id INT, name VARCHAR, serial_number VARCHAR, key INT, \"3rd\" INT);').collect()\u001b[39;00m\n\u001b[0;32m   (...)\u001b[0m\n\u001b[1;32m     20\u001b[0m \u001b[38;5;66;03m#    \"\"\").collect()\u001b[39;00m\n\u001b[1;32m     21\u001b[0m \u001b[38;5;66;03m#print(r1)\u001b[39;00m\n\u001b[1;32m     23\u001b[0m df_table \u001b[38;5;241m=\u001b[39m session\u001b[38;5;241m.\u001b[39mtable(\u001b[38;5;124m\"\u001b[39m\u001b[38;5;124mBIAS.sample_product_data\u001b[39m\u001b[38;5;124m\"\u001b[39m)\n\u001b[0;32m---> 24\u001b[0m df_table1 \u001b[38;5;241m=\u001b[39m session\u001b[38;5;241m.\u001b[39mtable(\u001b[38;5;124m\"\u001b[39m\u001b[38;5;124mBIAS.sample_product_data\u001b[39m\u001b[38;5;124m\"\u001b[39m)\u001b[38;5;241m.\u001b[39mselect(\u001b[43mcol\u001b[49m(\u001b[38;5;124m\"\u001b[39m\u001b[38;5;124mid\u001b[39m\u001b[38;5;124m\"\u001b[39m), col(\u001b[38;5;124m\"\u001b[39m\u001b[38;5;124mname\u001b[39m\u001b[38;5;124m\"\u001b[39m), col(\u001b[38;5;124m\"\u001b[39m\u001b[38;5;124mserial_number\u001b[39m\u001b[38;5;124m\"\u001b[39m))\n\u001b[1;32m     25\u001b[0m \u001b[38;5;66;03m#df1 = session.create_dataframe([1, 2, 3, 4]).to_df(\"a\")\u001b[39;00m\n\u001b[1;32m     26\u001b[0m df_table\u001b[38;5;241m.\u001b[39mshow()\n",
      "\u001b[0;31mNameError\u001b[0m: name 'col' is not defined"
     ]
    }
   ],
   "source": [
    "from snowflake.snowpark.session import Session\n",
    "\n",
    "connection_params = {'user': \"REFRACT.FOSFOR@LNTINFOTECH.COM\", 'password': \"Password321\", 'account':\"fya62509.us-east-1\", 'role':\"FOSFOR_REFRACT\", 'warehouse': \"FOSFOR_REFRACT\"}\n",
    "\n",
    "session = Session.builder.configs(connection_params).create()\n",
    "#data = session.sql(\"SHOW TABLES;\").collect()\n",
    "#print(data)\n",
    "\n",
    "session.sql(\"USE FOSFOR_REFRACT;\").collect()\n",
    "#data= session.sql(\"SELECT * from BIAS.BIASED_TABLE limit 1;\").collect()\n",
    "#print(data)\n",
    "#session.sql('CREATE OR REPLACE TABLE BIAS.sample_product_data (id INT, parent_id INT, category_id INT, name VARCHAR, serial_number VARCHAR, key INT, \"3rd\" INT);').collect()\n",
    "#r1=session.sql(\"\"\"\n",
    "#    INSERT INTO BIAS.sample_product_data VALUES\n",
    "#    (1, 0, 5, 'Product 1', 'prod-1', 1, 10),\n",
    "#    (2, 1, 5, 'Product 1A', 'prod-1-A', 1, 20),\n",
    "#    (3, 1, 5, 'Product 1B', 'prod-1-B', 1, 30),\n",
    "#    (4, 0, 10, 'Product 2', 'prod-2', 2, 40),\n",
    "#    (5, 4, 10, 'Product 2A', 'prod-2-A', 2, 50)\n",
    "#    \"\"\").collect()\n",
    "#print(r1)\n",
    "\n",
    "df_table = session.table(\"BIAS.sample_product_data\")\n",
    "df_table1 = session.table(\"BIAS.sample_product_data\").select(col(\"id\"), col(\"name\"), col(\"serial_number\"))\n",
    "#df1 = session.create_dataframe([1, 2, 3, 4]).to_df(\"a\")\n",
    "df_table.show()\n",
    "df_table1.show()\n",
    "\n",
    "#r1 = session.sql(\"SELECT * from df_table limit 1\").collect()\n",
    "#print(r1)\n",
    "\n",
    "\n",
    "session.close()"
   ]
  }
 ],
 "metadata": {
  "kernelspec": {
   "display_name": "Python 3",
   "language": "python",
   "name": "python3"
  },
  "language_info": {
   "codemirror_mode": {
    "name": "ipython",
    "version": 3
   },
   "file_extension": ".py",
   "mimetype": "text/x-python",
   "name": "python",
   "nbconvert_exporter": "python",
   "pygments_lexer": "ipython3",
   "version": "3.8.18"
  }
 },
 "nbformat": 4,
 "nbformat_minor": 5
}
