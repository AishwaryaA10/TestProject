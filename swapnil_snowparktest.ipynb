{
 "cells": [
  {
   "cell_type": "code",
   "execution_count": 11,
   "id": "bc55c1a0",
   "metadata": {},
   "outputs": [
    {
     "name": "stdout",
     "output_type": "stream",
     "text": [
      "[Row(number of rows inserted=5)]\n"
     ]
    }
   ],
   "source": [
    "from snowflake.snowpark.session import Session\n",
    "\n",
    "connection_params = {'user': \"REFRACT.FOSFOR@LNTINFOTECH.COM\", 'password': \"Password321\", 'account':\"fya62509.us-east-1\", 'role':\"FOSFOR_REFRACT\", 'warehouse': \"FOSFOR_REFRACT\"}\n",
    "\n",
    "session = Session.builder.configs(connection_params).create()\n",
    "session.sql(\"USE FOSFOR_REFRACT;\").collect()\n",
    "\n",
    "#data = session.sql(\"SHOW TABLES;\").collect()\n",
    "#print(data)\n",
    "\n",
    "#data= session.sql(\"SELECT * from BIAS.BIASED_TABLE limit 1;\").collect()\n",
    "#print(data)\n",
    "\n",
    "session.sql('CREATE OR REPLACE TABLE BIAS.sample_product_data (id INT, parent_id INT, category_id INT, name VARCHAR, serial_number VARCHAR, key INT, \"3rd\" INT);').collect()\n",
    "r1=session.sql(\"\"\"\n",
    "    INSERT INTO BIAS.sample_product_data VALUES\n",
    "    (1, 0, 5, 'Product 1', 'prod-1', 1, 10),\n",
    "    (2, 1, 5, 'Product 1A', 'prod-1-A', 1, 20),\n",
    "    (3, 1, 5, 'Product 1B', 'prod-1-B', 1, 30),\n",
    "    (4, 0, 10, 'Product 2', 'prod-2', 2, 40),\n",
    "    (5, 4, 10, 'Product 2A', 'prod-2-A', 2, 50)\n",
    "    \"\"\").collect()\n",
    "print(r1)\n",
    "\n",
    "session.close()"
   ]
  },
  {
   "cell_type": "code",
   "execution_count": 12,
   "id": "6d57f982",
   "metadata": {},
   "outputs": [
    {
     "name": "stdout",
     "output_type": "stream",
     "text": [
      "-------------------------------------------------------------------------------------\n",
      "|\"ID\"  |\"PARENT_ID\"  |\"CATEGORY_ID\"  |\"NAME\"      |\"SERIAL_NUMBER\"  |\"KEY\"  |\"3rd\"  |\n",
      "-------------------------------------------------------------------------------------\n",
      "|1     |0            |5              |Product 1   |prod-1           |1      |10     |\n",
      "|2     |1            |5              |Product 1A  |prod-1-A         |1      |20     |\n",
      "|3     |1            |5              |Product 1B  |prod-1-B         |1      |30     |\n",
      "|4     |0            |10             |Product 2   |prod-2           |2      |40     |\n",
      "|5     |4            |10             |Product 2A  |prod-2-A         |2      |50     |\n",
      "-------------------------------------------------------------------------------------\n",
      "\n",
      "---------------------------------------\n",
      "|\"ID\"  |\"NAME\"      |\"SERIAL_NUMBER\"  |\n",
      "---------------------------------------\n",
      "|1     |Product 1   |prod-1           |\n",
      "|2     |Product 1A  |prod-1-A         |\n",
      "|3     |Product 1B  |prod-1-B         |\n",
      "|4     |Product 2   |prod-2           |\n",
      "|5     |Product 2A  |prod-2-A         |\n",
      "---------------------------------------\n",
      "\n"
     ]
    }
   ],
   "source": [
    "from snowflake.snowpark.functions import col\n",
    "\n",
    "session = Session.builder.configs(connection_params).create()\n",
    "session.sql(\"USE FOSFOR_REFRACT;\").collect()\n",
    "\n",
    "df_table = session.table(\"BIAS.sample_product_data\")\n",
    "df_table1 = session.table(\"BIAS.sample_product_data\").select(col(\"id\"), col(\"name\"), col(\"serial_number\"))\n",
    "#df1 = session.create_dataframe([1, 2, 3, 4]).to_df(\"a\")\n",
    "df_table.show()\n",
    "df_table1.show()\n",
    "\n",
    "\n",
    "session.close()"
   ]
  },
  {
   "cell_type": "code",
   "execution_count": 36,
   "id": "325ccf07",
   "metadata": {},
   "outputs": [
    {
     "ename": "TypeError",
     "evalue": "Invalid function: not a function or callable (__call__ is not defined): <class 'str'>",
     "output_type": "error",
     "traceback": [
      "\u001b[0;31m---------------------------------------------------------------------------\u001b[0m",
      "\u001b[0;31mTypeError\u001b[0m                                 Traceback (most recent call last)",
      "Cell \u001b[0;32mIn[36], line 12\u001b[0m\n\u001b[1;32m      6\u001b[0m session\u001b[38;5;241m.\u001b[39msql(\u001b[38;5;124m\"\u001b[39m\u001b[38;5;124mUSE FOSFOR_REFRACT;\u001b[39m\u001b[38;5;124m\"\u001b[39m)\u001b[38;5;241m.\u001b[39mcollect()\n\u001b[1;32m      8\u001b[0m \u001b[38;5;28;01mdef\u001b[39;00m \u001b[38;5;21mcustom_udf\u001b[39m(arg1: col, arg2: col): col\u001b[38;5;241m=\u001b[39m(\n\u001b[1;32m      9\u001b[0m     arg1 \u001b[38;5;241m+\u001b[39m arg2\n\u001b[1;32m     10\u001b[0m )\n\u001b[0;32m---> 12\u001b[0m \u001b[43msession\u001b[49m\u001b[38;5;241;43m.\u001b[39;49m\u001b[43mudf\u001b[49m\u001b[38;5;241;43m.\u001b[39;49m\u001b[43mregister\u001b[49m\u001b[43m(\u001b[49m\u001b[38;5;124;43m\"\u001b[39;49m\u001b[38;5;124;43mcustom_udf\u001b[39;49m\u001b[38;5;124;43m\"\u001b[39;49m\u001b[43m,\u001b[49m\u001b[43m \u001b[49m\u001b[43mcustom_udf\u001b[49m\u001b[43m)\u001b[49m\n\u001b[1;32m     15\u001b[0m df \u001b[38;5;241m=\u001b[39m session\u001b[38;5;241m.\u001b[39mtable((\u001b[38;5;124m\"\u001b[39m\u001b[38;5;124mBIAS.sample_product_data\u001b[39m\u001b[38;5;124m\"\u001b[39m))\n\u001b[1;32m     16\u001b[0m result \u001b[38;5;241m=\u001b[39m df\u001b[38;5;241m.\u001b[39mselectExpr(\u001b[38;5;124m\"\u001b[39m\u001b[38;5;124mcustom_udf(column1, column2) as custom_result\u001b[39m\u001b[38;5;124m\"\u001b[39m)\n",
      "File \u001b[0;32m/opt/conda/lib/python3.8/site-packages/snowflake/snowpark/udf.py:556\u001b[0m, in \u001b[0;36mUDFRegistration.register\u001b[0;34m(self, func, return_type, input_types, name, is_permanent, stage_location, imports, packages, replace, parallel, max_batch_size, strict, secure, statement_params, source_code_display, **kwargs)\u001b[0m\n\u001b[1;32m    482\u001b[0m \u001b[38;5;250m\u001b[39m\u001b[38;5;124;03m\"\"\"\u001b[39;00m\n\u001b[1;32m    483\u001b[0m \u001b[38;5;124;03mRegisters a Python function as a Snowflake Python UDF and returns the UDF.\u001b[39;00m\n\u001b[1;32m    484\u001b[0m \u001b[38;5;124;03mThe usage, input arguments, and return value of this method are the same as\u001b[39;00m\n\u001b[0;32m   (...)\u001b[0m\n\u001b[1;32m    553\u001b[0m \u001b[38;5;124;03m    - :meth:`register_from_file`\u001b[39;00m\n\u001b[1;32m    554\u001b[0m \u001b[38;5;124;03m\"\"\"\u001b[39;00m\n\u001b[1;32m    555\u001b[0m \u001b[38;5;28;01mif\u001b[39;00m \u001b[38;5;129;01mnot\u001b[39;00m \u001b[38;5;28mcallable\u001b[39m(func):\n\u001b[0;32m--> 556\u001b[0m     \u001b[38;5;28;01mraise\u001b[39;00m \u001b[38;5;167;01mTypeError\u001b[39;00m(\n\u001b[1;32m    557\u001b[0m         \u001b[38;5;124m\"\u001b[39m\u001b[38;5;124mInvalid function: not a function or callable \u001b[39m\u001b[38;5;124m\"\u001b[39m\n\u001b[1;32m    558\u001b[0m         \u001b[38;5;124mf\u001b[39m\u001b[38;5;124m\"\u001b[39m\u001b[38;5;124m(__call__ is not defined): \u001b[39m\u001b[38;5;132;01m{\u001b[39;00m\u001b[38;5;28mtype\u001b[39m(func)\u001b[38;5;132;01m}\u001b[39;00m\u001b[38;5;124m\"\u001b[39m\n\u001b[1;32m    559\u001b[0m     )\n\u001b[1;32m    561\u001b[0m check_register_args(\n\u001b[1;32m    562\u001b[0m     TempObjectType\u001b[38;5;241m.\u001b[39mFUNCTION, name, is_permanent, stage_location, parallel\n\u001b[1;32m    563\u001b[0m )\n\u001b[1;32m    565\u001b[0m _from_pandas \u001b[38;5;241m=\u001b[39m kwargs\u001b[38;5;241m.\u001b[39mget(\u001b[38;5;124m\"\u001b[39m\u001b[38;5;124m_from_pandas_udf_function\u001b[39m\u001b[38;5;124m\"\u001b[39m, \u001b[38;5;28;01mFalse\u001b[39;00m)\n",
      "\u001b[0;31mTypeError\u001b[0m: Invalid function: not a function or callable (__call__ is not defined): <class 'str'>"
     ]
    }
   ],
   "source": [
    "from snowflake.snowpark.types import IntegerType\n",
    "from snowflake.snowpark.functions import udf\n",
    "from snowflake.snowpark.functions import col\n",
    "\n",
    "session = Session.builder.configs(connection_params).create()\n",
    "session.sql(\"USE FOSFOR_REFRACT;\").collect()\n",
    "\n",
    "def custom_udf(arg1: col, arg2: col): col=(\n",
    "    arg1 + arg2\n",
    ")\n",
    "    \n",
    "session.udf.register(\"custom_udf\", custom_udf)\n",
    "\n",
    "\n",
    "df = session.table((\"BIAS.sample_product_data\"))\n",
    "result = df.selectExpr(\"custom_udf(column1, column2) as custom_result\")\n",
    "\n",
    "result.show()\n"
   ]
  }
 ],
 "metadata": {
  "kernelspec": {
   "display_name": "Python 3",
   "language": "python",
   "name": "python3"
  },
  "language_info": {
   "codemirror_mode": {
    "name": "ipython",
    "version": 3
   },
   "file_extension": ".py",
   "mimetype": "text/x-python",
   "name": "python",
   "nbconvert_exporter": "python",
   "pygments_lexer": "ipython3",
   "version": "3.8.18"
  }
 },
 "nbformat": 4,
 "nbformat_minor": 5
}
