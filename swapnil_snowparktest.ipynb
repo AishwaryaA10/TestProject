{
 "cells": [
  {
   "cell_type": "code",
   "execution_count": null,
   "id": "bc55c1a0",
   "metadata": {},
   "outputs": [],
   "source": [
    "from snowflake.snowpark.session import Session\n",
    "\n",
    "connection_params = {'user': \"REFRACT.FOSFOR@LNTINFOTECH.COM\", 'password': \"Password321\", 'account':\"fya62509.us-east-1\", 'role':\"FOSFOR_REFRACT\", 'warehouse': \"FOSFOR_REFRACT\"}\n",
    "\n",
    "session = Session.builder.configs(connection_params).create()\n",
    "#data = session.sql(\"SHOW TABLES;\").collect()\n",
    "#print(data)\n",
    "\n",
    "session.sql(\"USE FOSFOR_REFRACT;\").collect()\n",
    "session.sql(\"\\dn\").collect()\n",
    "session.sql(\"SELECT count(10) from BIASED_TABLE;\").collect()\n",
    "#session.sql(\"USE SCHEMA;\").collect()\n",
    "session.sql('CREATE OR REPLACE TABLE sample_product_data (id INT, parent_id INT, category_id INT, name VARCHAR, serial_number VARCHAR, key INT, \"3rd\" INT);').collect()\n",
    "session.sql(\"\"\"\n",
    "... INSERT INTO sample_product_data VALUES\n",
    "... (1, 0, 5, 'Product 1', 'prod-1', 1, 10),\n",
    "... (2, 1, 5, 'Product 1A', 'prod-1-A', 1, 20),\n",
    "... (3, 1, 5, 'Product 1B', 'prod-1-B', 1, 30),\n",
    "... (4, 0, 10, 'Product 2', 'prod-2', 2, 40),\n",
    "... (5, 4, 10, 'Product 2A', 'prod-2-A', 2, 50),\n",
    "... (6, 4, 10, 'Product 2B', 'prod-2-B', 2, 60),\n",
    "... (7, 0, 20, 'Product 3', 'prod-3', 3, 70),\n",
    "... (8, 7, 20, 'Product 3A', 'prod-3-A', 3, 80),\n",
    "... (9, 7, 20, 'Product 3B', 'prod-3-B', 3, 90),\n",
    "... (10, 0, 50, 'Product 4', 'prod-4', 4, 100),\n",
    "... (11, 10, 50, 'Product 4A', 'prod-4-A', 4, 100),\n",
    "... (12, 10, 50, 'Product 4B', 'prod-4-B', 4, 100)\n",
    "... \"\"\").collect()\n",
    "\n",
    "\n",
    "#df_table = session.table(\"BIASED_TABLE\")\n",
    "#df_table.show()\n",
    "\n",
    "\n",
    "session.close()"
   ]
  }
 ],
 "metadata": {
  "kernelspec": {
   "display_name": "Python 3",
   "language": "python",
   "name": "python3"
  },
  "language_info": {
   "codemirror_mode": {
    "name": "ipython",
    "version": 3
   },
   "file_extension": ".py",
   "mimetype": "text/x-python",
   "name": "python",
   "nbconvert_exporter": "python",
   "pygments_lexer": "ipython3",
   "version": "3.8.18"
  }
 },
 "nbformat": 4,
 "nbformat_minor": 5
}
