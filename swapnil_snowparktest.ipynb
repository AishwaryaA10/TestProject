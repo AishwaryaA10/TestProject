{
 "cells": [
  {
   "cell_type": "code",
   "execution_count": 16,
   "id": "bc55c1a0",
   "metadata": {},
   "outputs": [
    {
     "name": "stdout",
     "output_type": "stream",
     "text": [
      "[Row(REGION=2, AGE=53, SEX=1, RACE='White', MARRY=5, FTSTU=-1, ACTDTY=2, HONRDC=2, RTHLTH=4, MNHLTH=3, HIBPDX=1, CHDDX=1, ANGIDX=1, MIDX=1, OHRTDX=1, STRKDX=2, EMPHDX=1, CHBRON=2, CHOLDX=1, CANCERDX=2, DIABDX=1, JTPAIN=1, ARTHDX=1, ARTHTYPE=3, ASTHDX=2, ADHDADDX=-1, PREGNT=-1, WLKLIM=2, ACTLIM=1, SOCLIM=2, COGLIM=2, DFHEAR42=2, DFSEE42=2, ADSMOK42=2, PCS42=25.93, MCS42=58.47, K6SUM42=3, PHQ242=0, EMPST=4, POVCAT=1, INSCOV=2, UTILIZATION=1, PERWT15F=21854.981705000002)]\n"
     ]
    }
   ],
   "source": [
    "from snowflake.snowpark.session import Session\n",
    "\n",
    "connection_params = {'user': \"REFRACT.FOSFOR@LNTINFOTECH.COM\", 'password': \"Password321\", 'account':\"fya62509.us-east-1\", 'role':\"FOSFOR_REFRACT\", 'warehouse': \"FOSFOR_REFRACT\"}\n",
    "\n",
    "session = Session.builder.configs(connection_params).create()\n",
    "#data = session.sql(\"SHOW TABLES;\").collect()\n",
    "#print(data)\n",
    "\n",
    "session.sql(\"USE FOSFOR_REFRACT;\").collect()\n",
    "data= session.sql(\"SELECT * from BIAS.BIASED_TABLE limit 1;\").collect()\n",
    "print(data)\n",
    "session.sql('CREATE OR REPLACE TABLE BIAS.sample_product_data (id INT, parent_id INT, category_id INT, name VARCHAR, serial_number VARCHAR, key INT, \"3rd\" INT);').collect()\n",
    "\n",
    "\n",
    "\n",
    "#df_table = session.table(\"BIASED_TABLE\")\n",
    "#df_table.show()\n",
    "\n",
    "\n",
    "session.close()"
   ]
  }
 ],
 "metadata": {
  "kernelspec": {
   "display_name": "Python 3",
   "language": "python",
   "name": "python3"
  },
  "language_info": {
   "codemirror_mode": {
    "name": "ipython",
    "version": 3
   },
   "file_extension": ".py",
   "mimetype": "text/x-python",
   "name": "python",
   "nbconvert_exporter": "python",
   "pygments_lexer": "ipython3",
   "version": "3.8.18"
  }
 },
 "nbformat": 4,
 "nbformat_minor": 5
}
