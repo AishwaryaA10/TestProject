{
 "cells": [
  {
   "cell_type": "code",
   "execution_count": 1,
   "id": "ad35b675",
   "metadata": {},
   "outputs": [],
   "source": [
    "import numpy as np # linear algebra\n",
    "import pandas as pd # data processing, CSV file I/O (e.g. pd.read_csv)\n",
    "from sklearn.model_selection import train_test_split\n",
    "# Input data files are available in the \"../input/\" directory.\n",
    "# For example, running this (by clicking run or pressing Shift+Enter) will list the files in the input directory\n",
    "import numpy\n",
    "import pandas\n",
    "import tensorflow as tf\n",
    "from tensorflow.keras.models import Sequential\n",
    "from tensorflow.keras.callbacks import EarlyStopping\n",
    "\n",
    "#from keras.models import Sequential\n",
    "from tensorflow.keras.layers import Dense ,Dropout,BatchNormalization\n",
    "from keras.wrappers.scikit_learn import KerasRegressor\n",
    "from sklearn.model_selection import cross_val_score\n",
    "from sklearn.model_selection import KFold\n",
    "from sklearn.preprocessing import StandardScaler\n",
    "from sklearn.pipeline import Pipeline"
   ]
  },
  {
   "cell_type": "code",
   "execution_count": 2,
   "id": "003ef58f",
   "metadata": {},
   "outputs": [
    {
     "data": {
      "text/html": [
       "<div>\n",
       "<style scoped>\n",
       "    .dataframe tbody tr th:only-of-type {\n",
       "        vertical-align: middle;\n",
       "    }\n",
       "\n",
       "    .dataframe tbody tr th {\n",
       "        vertical-align: top;\n",
       "    }\n",
       "\n",
       "    .dataframe thead th {\n",
       "        text-align: right;\n",
       "    }\n",
       "</style>\n",
       "<table border=\"1\" class=\"dataframe\">\n",
       "  <thead>\n",
       "    <tr style=\"text-align: right;\">\n",
       "      <th></th>\n",
       "      <th>GRE</th>\n",
       "      <th>TOEFL</th>\n",
       "      <th>University Rating</th>\n",
       "      <th>SOP</th>\n",
       "      <th>LOR</th>\n",
       "      <th>CGPA</th>\n",
       "      <th>Research</th>\n",
       "      <th>Admission_Chance</th>\n",
       "    </tr>\n",
       "  </thead>\n",
       "  <tbody>\n",
       "    <tr>\n",
       "      <th>0</th>\n",
       "      <td>337</td>\n",
       "      <td>118</td>\n",
       "      <td>4</td>\n",
       "      <td>4.5</td>\n",
       "      <td>4.5</td>\n",
       "      <td>9.65</td>\n",
       "      <td>1</td>\n",
       "      <td>0.92</td>\n",
       "    </tr>\n",
       "    <tr>\n",
       "      <th>1</th>\n",
       "      <td>324</td>\n",
       "      <td>107</td>\n",
       "      <td>4</td>\n",
       "      <td>4.0</td>\n",
       "      <td>4.5</td>\n",
       "      <td>8.87</td>\n",
       "      <td>1</td>\n",
       "      <td>0.76</td>\n",
       "    </tr>\n",
       "    <tr>\n",
       "      <th>2</th>\n",
       "      <td>316</td>\n",
       "      <td>104</td>\n",
       "      <td>3</td>\n",
       "      <td>3.0</td>\n",
       "      <td>3.5</td>\n",
       "      <td>8.00</td>\n",
       "      <td>1</td>\n",
       "      <td>0.72</td>\n",
       "    </tr>\n",
       "    <tr>\n",
       "      <th>3</th>\n",
       "      <td>322</td>\n",
       "      <td>110</td>\n",
       "      <td>3</td>\n",
       "      <td>3.5</td>\n",
       "      <td>2.5</td>\n",
       "      <td>8.67</td>\n",
       "      <td>1</td>\n",
       "      <td>0.80</td>\n",
       "    </tr>\n",
       "    <tr>\n",
       "      <th>4</th>\n",
       "      <td>314</td>\n",
       "      <td>103</td>\n",
       "      <td>2</td>\n",
       "      <td>2.0</td>\n",
       "      <td>3.0</td>\n",
       "      <td>8.21</td>\n",
       "      <td>0</td>\n",
       "      <td>0.65</td>\n",
       "    </tr>\n",
       "    <tr>\n",
       "      <th>5</th>\n",
       "      <td>330</td>\n",
       "      <td>115</td>\n",
       "      <td>5</td>\n",
       "      <td>4.5</td>\n",
       "      <td>3.0</td>\n",
       "      <td>9.34</td>\n",
       "      <td>1</td>\n",
       "      <td>0.90</td>\n",
       "    </tr>\n",
       "    <tr>\n",
       "      <th>6</th>\n",
       "      <td>321</td>\n",
       "      <td>109</td>\n",
       "      <td>3</td>\n",
       "      <td>3.0</td>\n",
       "      <td>4.0</td>\n",
       "      <td>8.20</td>\n",
       "      <td>1</td>\n",
       "      <td>0.75</td>\n",
       "    </tr>\n",
       "    <tr>\n",
       "      <th>7</th>\n",
       "      <td>308</td>\n",
       "      <td>101</td>\n",
       "      <td>2</td>\n",
       "      <td>3.0</td>\n",
       "      <td>4.0</td>\n",
       "      <td>7.90</td>\n",
       "      <td>0</td>\n",
       "      <td>0.68</td>\n",
       "    </tr>\n",
       "    <tr>\n",
       "      <th>8</th>\n",
       "      <td>302</td>\n",
       "      <td>102</td>\n",
       "      <td>1</td>\n",
       "      <td>2.0</td>\n",
       "      <td>1.5</td>\n",
       "      <td>8.00</td>\n",
       "      <td>0</td>\n",
       "      <td>0.50</td>\n",
       "    </tr>\n",
       "    <tr>\n",
       "      <th>9</th>\n",
       "      <td>323</td>\n",
       "      <td>108</td>\n",
       "      <td>3</td>\n",
       "      <td>3.5</td>\n",
       "      <td>3.0</td>\n",
       "      <td>8.60</td>\n",
       "      <td>0</td>\n",
       "      <td>0.45</td>\n",
       "    </tr>\n",
       "  </tbody>\n",
       "</table>\n",
       "</div>"
      ],
      "text/plain": [
       "   GRE  TOEFL  University Rating  SOP  LOR   CGPA  Research  Admission_Chance\n",
       "0  337    118                  4  4.5   4.5  9.65         1              0.92\n",
       "1  324    107                  4  4.0   4.5  8.87         1              0.76\n",
       "2  316    104                  3  3.0   3.5  8.00         1              0.72\n",
       "3  322    110                  3  3.5   2.5  8.67         1              0.80\n",
       "4  314    103                  2  2.0   3.0  8.21         0              0.65\n",
       "5  330    115                  5  4.5   3.0  9.34         1              0.90\n",
       "6  321    109                  3  3.0   4.0  8.20         1              0.75\n",
       "7  308    101                  2  3.0   4.0  7.90         0              0.68\n",
       "8  302    102                  1  2.0   1.5  8.00         0              0.50\n",
       "9  323    108                  3  3.5   3.0  8.60         0              0.45"
      ]
     },
     "execution_count": 2,
     "metadata": {},
     "output_type": "execute_result"
    }
   ],
   "source": [
    "df=pd.read_csv(\"/notebooks/notebooks/Admission_data.csv\")\n",
    "#changing names because previous names are little bit confusing\n",
    "df=df.rename(index=str, columns={\"GRE Score\": \"GRE\", \"TOEFL Score\": \"TOEFL\", \"Chance of Admit \": \"Admission_Chance\"})\n",
    "#we donot need serial number so its good to drop it because its just a number\n",
    "df=df.drop(\"Serial No.\",axis=1)\n",
    "df.head(10)"
   ]
  },
  {
   "cell_type": "code",
   "execution_count": 3,
   "id": "5cfbf930",
   "metadata": {},
   "outputs": [
    {
     "data": {
      "text/plain": [
       "61"
      ]
     },
     "execution_count": 3,
     "metadata": {},
     "output_type": "execute_result"
    }
   ],
   "source": [
    "admit=np.asarray(df[\"Admission_Chance\"])\n",
    "len(np.unique(admit))\n",
    "#we have 60 different values in the coloum [chance to predict]"
   ]
  },
  {
   "cell_type": "code",
   "execution_count": 4,
   "id": "d057533e",
   "metadata": {},
   "outputs": [],
   "source": [
    "X=np.asarray(df.drop(\"Admission_Chance\",axis=1))\n",
    "Y=np.asarray(df[\"Admission_Chance\"])\n",
    "\n",
    "X_train, X_test, y_train, y_test = train_test_split(\n",
    "     X,Y, test_size=0.2, random_state=0)\n",
    "from sklearn.preprocessing import MinMaxScaler\n",
    "scaler =  MinMaxScaler()\n",
    "X_train=scaler.fit_transform(X_train)\n",
    "X_test=scaler.fit_transform(X_test)"
   ]
  },
  {
   "cell_type": "code",
   "execution_count": 5,
   "id": "68976208",
   "metadata": {
    "scrolled": false
   },
   "outputs": [
    {
     "name": "stdout",
     "output_type": "stream",
     "text": [
      "Model: \"sequential\"\n",
      "_________________________________________________________________\n",
      " Layer (type)                Output Shape              Param #   \n",
      "=================================================================\n",
      " dense (Dense)               (None, 16)                128       \n",
      "                                                                 \n",
      " dense_1 (Dense)             (None, 8)                 136       \n",
      "                                                                 \n",
      " dense_2 (Dense)             (None, 1)                 9         \n",
      "                                                                 \n",
      "=================================================================\n",
      "Total params: 273\n",
      "Trainable params: 273\n",
      "Non-trainable params: 0\n",
      "_________________________________________________________________\n"
     ]
    }
   ],
   "source": [
    "model_keras = tf.keras.models.Sequential(\n",
    "    [\n",
    "        tf.keras.layers.Dense(16, input_dim=7, activation='relu'),\n",
    "        tf.keras.layers.Dense(8, input_dim=7, activation='relu'),\n",
    "        tf.keras.layers.Dense(1)  \n",
    "    ]\n",
    ")\n",
    "model_keras.summary()"
   ]
  },
  {
   "cell_type": "code",
   "execution_count": 6,
   "id": "c12bb511",
   "metadata": {},
   "outputs": [],
   "source": [
    "# Compile model\n",
    "model_keras.compile(\n",
    "    optimizer='adam',\n",
    "    #loss=tf.keras.losses.BinaryCrossentropy(from_logits=False),\n",
    "    loss=tf.keras.losses.MeanAbsolutePercentageError(),\n",
    "    metrics=[\"accuracy\"]\n",
    ")"
   ]
  },
  {
   "cell_type": "code",
   "execution_count": 7,
   "id": "e232ab4c",
   "metadata": {},
   "outputs": [
    {
     "name": "stdout",
     "output_type": "stream",
     "text": [
      "Epoch 1/20\n",
      "64/64 [==============================] - 1s 6ms/step - loss: 19.5927 - accuracy: 0.0000e+00 - val_loss: 16.8513 - val_accuracy: 0.0000e+00\n",
      "Epoch 2/20\n",
      "64/64 [==============================] - 0s 3ms/step - loss: 13.9202 - accuracy: 0.0000e+00 - val_loss: 13.5756 - val_accuracy: 0.0000e+00\n",
      "Epoch 3/20\n",
      "64/64 [==============================] - 0s 3ms/step - loss: 11.3385 - accuracy: 0.0000e+00 - val_loss: 11.1938 - val_accuracy: 0.0000e+00\n",
      "Epoch 4/20\n",
      "64/64 [==============================] - 0s 3ms/step - loss: 9.9388 - accuracy: 0.0000e+00 - val_loss: 11.2345 - val_accuracy: 0.0000e+00\n",
      "Epoch 5/20\n",
      "64/64 [==============================] - 0s 3ms/step - loss: 9.1329 - accuracy: 0.0000e+00 - val_loss: 9.5387 - val_accuracy: 0.0000e+00\n",
      "Epoch 6/20\n",
      "64/64 [==============================] - 0s 3ms/step - loss: 8.4438 - accuracy: 0.0000e+00 - val_loss: 9.2778 - val_accuracy: 0.0000e+00\n",
      "Epoch 7/20\n",
      "64/64 [==============================] - 0s 3ms/step - loss: 8.3122 - accuracy: 0.0000e+00 - val_loss: 8.6428 - val_accuracy: 0.0000e+00\n",
      "Epoch 8/20\n",
      "64/64 [==============================] - 0s 3ms/step - loss: 8.1205 - accuracy: 0.0000e+00 - val_loss: 8.6464 - val_accuracy: 0.0000e+00\n",
      "Epoch 9/20\n",
      "64/64 [==============================] - 0s 3ms/step - loss: 7.7576 - accuracy: 0.0000e+00 - val_loss: 8.2603 - val_accuracy: 0.0000e+00\n",
      "Epoch 10/20\n",
      "64/64 [==============================] - 0s 3ms/step - loss: 7.5101 - accuracy: 0.0000e+00 - val_loss: 8.1133 - val_accuracy: 0.0000e+00\n",
      "Epoch 11/20\n",
      "64/64 [==============================] - 0s 3ms/step - loss: 7.4471 - accuracy: 0.0000e+00 - val_loss: 8.0157 - val_accuracy: 0.0000e+00\n",
      "Epoch 12/20\n",
      "64/64 [==============================] - 0s 3ms/step - loss: 7.2365 - accuracy: 0.0000e+00 - val_loss: 7.7642 - val_accuracy: 0.0000e+00\n",
      "Epoch 13/20\n",
      "64/64 [==============================] - 0s 3ms/step - loss: 7.3681 - accuracy: 0.0000e+00 - val_loss: 7.6429 - val_accuracy: 0.0000e+00\n",
      "Epoch 14/20\n",
      "64/64 [==============================] - 0s 3ms/step - loss: 7.2074 - accuracy: 0.0000e+00 - val_loss: 7.3719 - val_accuracy: 0.0000e+00\n",
      "Epoch 15/20\n",
      "64/64 [==============================] - 0s 3ms/step - loss: 7.3119 - accuracy: 0.0000e+00 - val_loss: 7.7516 - val_accuracy: 0.0000e+00\n",
      "Epoch 16/20\n",
      "64/64 [==============================] - 0s 3ms/step - loss: 7.3421 - accuracy: 0.0000e+00 - val_loss: 8.0115 - val_accuracy: 0.0000e+00\n",
      "Epoch 17/20\n",
      "64/64 [==============================] - 0s 3ms/step - loss: 7.1069 - accuracy: 0.0000e+00 - val_loss: 7.6340 - val_accuracy: 0.0000e+00\n",
      "Epoch 18/20\n",
      "64/64 [==============================] - 0s 3ms/step - loss: 7.0707 - accuracy: 0.0000e+00 - val_loss: 7.4932 - val_accuracy: 0.0000e+00\n"
     ]
    },
    {
     "data": {
      "text/plain": [
       "<keras.callbacks.History at 0x7ff408480b50>"
      ]
     },
     "execution_count": 7,
     "metadata": {},
     "output_type": "execute_result"
    }
   ],
   "source": [
    "# Train model\n",
    "model_keras.fit(X_train, y_train, batch_size=5, epochs=20, validation_split=0.2,\n",
    "          callbacks=[EarlyStopping(monitor='val_loss', patience=4)])      "
   ]
  },
  {
   "cell_type": "code",
   "execution_count": 8,
   "id": "298f1ee8",
   "metadata": {},
   "outputs": [
    {
     "name": "stdout",
     "output_type": "stream",
     "text": [
      "4/4 - 0s - loss: 10.2722 - accuracy: 0.0000e+00 - 177ms/epoch - 44ms/step\n",
      "Test loss:  10.27215576171875\n",
      "Test accuracy:  0.0\n"
     ]
    }
   ],
   "source": [
    "# Test model\n",
    "test_scores = model_keras.evaluate(X_test, y_test, verbose=2)\n",
    "print(\"Test loss: \", test_scores[0])\n",
    "print(\"Test accuracy: \", test_scores[1])"
   ]
  },
  {
   "cell_type": "code",
   "execution_count": 9,
   "id": "6d58b3e7",
   "metadata": {},
   "outputs": [
    {
     "data": {
      "text/plain": [
       "\"\\ndef baseline_model():\\n    # create model\\n    model = Sequential()\\n    \\n    \\n    \\n    model.add(Dense(16, input_dim=7, activation='relu'))\\n    \\n    \\n    model.add(Dense(8, input_dim=7, activation='relu'))\\n    \\n    \\n    model.add(Dense(1))\\n    # Compile model\\n    model.compile(loss='mean_squared_error', optimizer='adam')\\n    return model\\n\""
      ]
     },
     "execution_count": 9,
     "metadata": {},
     "output_type": "execute_result"
    }
   ],
   "source": [
    "# define base model\n",
    "'''\n",
    "def baseline_model():\n",
    "    # create model\n",
    "    model = Sequential()\n",
    "    \n",
    "    \n",
    "    \n",
    "    model.add(Dense(16, input_dim=7, activation='relu'))\n",
    "    \n",
    "    \n",
    "    model.add(Dense(8, input_dim=7, activation='relu'))\n",
    "    \n",
    "    \n",
    "    model.add(Dense(1))\n",
    "    # Compile model\n",
    "    model.compile(loss='mean_squared_error', optimizer='adam')\n",
    "    return model\n",
    "'''"
   ]
  },
  {
   "cell_type": "code",
   "execution_count": 10,
   "id": "96c10b42",
   "metadata": {},
   "outputs": [],
   "source": [
    "#estimator = KerasRegressor(build_fn=baseline_model, epochs=30, batch_size=3, verbose=1)"
   ]
  },
  {
   "cell_type": "code",
   "execution_count": 11,
   "id": "caa367c0",
   "metadata": {},
   "outputs": [],
   "source": [
    "#estimator.fit(X_train,y_train)"
   ]
  },
  {
   "cell_type": "code",
   "execution_count": 12,
   "id": "d2034ecc",
   "metadata": {},
   "outputs": [
    {
     "name": "stdout",
     "output_type": "stream",
     "text": [
      "4/4 [==============================] - 0s 4ms/step\n"
     ]
    }
   ],
   "source": [
    "from sklearn.metrics import accuracy_score\n",
    "#prediction = model_kr.predict(X_test)\n",
    "prediction = model_keras.predict(X_test)"
   ]
  },
  {
   "cell_type": "code",
   "execution_count": 13,
   "id": "ed41e46d",
   "metadata": {},
   "outputs": [],
   "source": [
    "train_error =  np.abs(y_test - prediction)\n",
    "mean_error = np.mean(train_error)\n",
    "min_error = np.min(train_error)\n",
    "max_error = np.max(train_error)\n",
    "std_error = np.std(train_error)"
   ]
  },
  {
   "cell_type": "code",
   "execution_count": 14,
   "id": "5b2d8935",
   "metadata": {},
   "outputs": [
    {
     "name": "stdout",
     "output_type": "stream",
     "text": [
      "std_error:  0.11175566077630511\n",
      "mean_error:  0.15698066110038758\n",
      "min_error:  1.588821411135921e-05\n",
      "max_error:  0.5486811017990112\n"
     ]
    }
   ],
   "source": [
    "print(\"std_error: \",std_error)\n",
    "print(\"mean_error: \",mean_error)\n",
    "print(\"min_error: \",min_error)\n",
    "print(\"max_error: \",max_error)"
   ]
  },
  {
   "cell_type": "code",
   "execution_count": 15,
   "id": "296a1e00",
   "metadata": {},
   "outputs": [],
   "source": [
    "#Model function\n",
    "def model(algorithm,dtrain_X,dtrain_Y,dtest_X,dtest_Y,cols=None):\n",
    "\n",
    "    #algorithm.fit(dtrain_X,dtrain_Y)\n",
    "    predictions = algorithm.predict(dtest_X)\n",
    "    prediction_probabilities = algorithm.predict(dtest_X)\n",
    "    print (algorithm)\n",
    "    \n",
    "    return predictions,prediction_probabilities,algorithm"
   ]
  },
  {
   "cell_type": "code",
   "execution_count": 16,
   "id": "bb15d9dd",
   "metadata": {},
   "outputs": [
    {
     "name": "stdout",
     "output_type": "stream",
     "text": [
      "4/4 [==============================] - 0s 2ms/step\n",
      "4/4 [==============================] - 0s 2ms/step\n",
      "<keras.engine.sequential.Sequential object at 0x7ff4a4de9dd0>\n"
     ]
    }
   ],
   "source": [
    "#y_pred,y_prob,model_obj=model(estimator,X_train,y_train,X_test,y_test)\n",
    "y_pred,y_prob,model_obj=model(model_keras,X_train,y_train,X_test,y_test)"
   ]
  },
  {
   "cell_type": "code",
   "execution_count": 17,
   "id": "74374218",
   "metadata": {},
   "outputs": [
    {
     "name": "stderr",
     "output_type": "stream",
     "text": [
      "/tmp/pip_packages/_distutils_hack/__init__.py:33: UserWarning: Setuptools is replacing distutils.\n",
      "  warnings.warn(\"Setuptools is replacing distutils.\")\n"
     ]
    }
   ],
   "source": [
    "from mosaicml import *\n",
    "from mosaicml.constants import MLModelFlavours"
   ]
  },
  {
   "cell_type": "code",
   "execution_count": 18,
   "id": "9a7b3e33",
   "metadata": {},
   "outputs": [],
   "source": [
    "@scoring_func\n",
    "def score(model, request):\n",
    "    payload = request.json[\"payload\"]\n",
    "    data = pd.DataFrame(eval(payload))\n",
    "    prediction = model.predict(data)\n",
    "    #prediction = pd.Series(model.predict(data))\n",
    "    print (prediction)\n",
    "    #return prediction\n",
    "    return prediction.tolist()"
   ]
  },
  {
   "cell_type": "code",
   "execution_count": 19,
   "id": "14a2c862",
   "metadata": {},
   "outputs": [],
   "source": [
    "cols = ['GRE Score','TOEFL Score','University Rating','SOP','LOR','CGPA','Research']"
   ]
  },
  {
   "cell_type": "code",
   "execution_count": 20,
   "id": "94d4d67f",
   "metadata": {},
   "outputs": [],
   "source": [
    "X_temp = pd.DataFrame(X,columns=cols)"
   ]
  },
  {
   "cell_type": "code",
   "execution_count": 21,
   "id": "c080707b",
   "metadata": {},
   "outputs": [],
   "source": [
    "import requests\n",
    "req = requests.Request()\n",
    "req.json = {\"payload\":X_temp.head(1).to_json(orient = 'records')}"
   ]
  },
  {
   "cell_type": "code",
   "execution_count": 22,
   "id": "c951cfee",
   "metadata": {},
   "outputs": [
    {
     "data": {
      "text/plain": [
       "'[{\"GRE Score\":337.0,\"TOEFL Score\":118.0,\"University Rating\":4.0,\"SOP\":4.5,\"LOR\":4.5,\"CGPA\":9.65,\"Research\":1.0}]'"
      ]
     },
     "execution_count": 22,
     "metadata": {},
     "output_type": "execute_result"
    }
   ],
   "source": [
    "req.json['payload']"
   ]
  },
  {
   "cell_type": "code",
   "execution_count": 23,
   "id": "88ea61cd",
   "metadata": {},
   "outputs": [
    {
     "data": {
      "text/plain": [
       "{'payload': '[{\"GRE Score\":337.0,\"TOEFL Score\":118.0,\"University Rating\":4.0,\"SOP\":4.5,\"LOR\":4.5,\"CGPA\":9.65,\"Research\":1.0}]'}"
      ]
     },
     "execution_count": 23,
     "metadata": {},
     "output_type": "execute_result"
    }
   ],
   "source": [
    "req.json"
   ]
  },
  {
   "cell_type": "code",
   "execution_count": 24,
   "id": "7eff8b4e",
   "metadata": {
    "scrolled": true
   },
   "outputs": [
    {
     "name": "stdout",
     "output_type": "stream",
     "text": [
      "1/1 [==============================] - 0s 73ms/step\n",
      "[[61.5098]]\n",
      "{'input': {'type': 'pd.core.frame.DataFrame', 'items': {'type': 'object', 'properties': {'GRE Score': {'type': 'number', 'format': 'double'}, 'TOEFL Score': {'type': 'number', 'format': 'double'}, 'University Rating': {'type': 'number', 'format': 'double'}, 'SOP': {'type': 'number', 'format': 'double'}, 'LOR': {'type': 'number', 'format': 'double'}, 'CGPA': {'type': 'number', 'format': 'double'}, 'Research': {'type': 'number', 'format': 'double'}}}, 'example': [{'GRE Score': 337.0, 'TOEFL Score': 118.0, 'University Rating': 4.0, 'SOP': 4.5, 'LOR': 4.5, 'CGPA': 9.65, 'Research': 1.0}, {'GRE Score': 324.0, 'TOEFL Score': 107.0, 'University Rating': 4.0, 'SOP': 4.0, 'LOR': 4.5, 'CGPA': 8.87, 'Research': 1.0}]}, 'output': {'type': 'array', 'items': {'type': 'object'}, 'example': [[61.50979995727539]]}}\n"
     ]
    }
   ],
   "source": [
    "#sch = generate_schema(score,(model_obj, req),X_temp)\n",
    "sch = generate_schema(score,(model_keras, req),X_temp)\n",
    "print(sch)"
   ]
  },
  {
   "cell_type": "code",
   "execution_count": 25,
   "id": "de52e333",
   "metadata": {},
   "outputs": [
    {
     "data": {
      "text/plain": [
       "'name cannot be empty, blank or whitespace'"
      ]
     },
     "execution_count": 25,
     "metadata": {},
     "output_type": "execute_result"
    }
   ],
   "source": [
    "register_model(model_keras, score, name=\"\", \n",
    "                description=\"Identify chances of Admission\",\n",
    "                flavour=MLModelFlavours.keras)"
   ]
  },
  {
   "cell_type": "code",
   "execution_count": null,
   "id": "c13ab6c0",
   "metadata": {},
   "outputs": [],
   "source": []
  }
 ],
 "metadata": {
  "kernelspec": {
   "display_name": "Python 3",
   "language": "python",
   "name": "python3"
  },
  "language_info": {
   "codemirror_mode": {
    "name": "ipython",
    "version": 3
   },
   "file_extension": ".py",
   "mimetype": "text/x-python",
   "name": "python",
   "nbconvert_exporter": "python",
   "pygments_lexer": "ipython3",
   "version": "3.7.12"
  }
 },
 "nbformat": 4,
 "nbformat_minor": 5
}
