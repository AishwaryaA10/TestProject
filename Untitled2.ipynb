{
 "cells": [
  {
   "cell_type": "code",
   "execution_count": 1,
   "id": "c24c1ce3",
   "metadata": {},
   "outputs": [
    {
     "name": "stdout",
     "output_type": "stream",
     "text": [
      "Auto commit!!!\n"
     ]
    }
   ],
   "source": [
    "print(\"manual commit!!!\")"
   ]
  },
  {
   "cell_type": "code",
   "execution_count": 5,
   "id": "93146561",
   "metadata": {},
   "outputs": [
    {
     "name": "stdout",
     "output_type": "stream",
     "text": [
      "None\n"
     ]
    }
   ],
   "source": [
    "import os\n",
    "print(os.environ.get('test_secure'))"
   ]
  },
  {
   "cell_type": "code",
   "execution_count": 10,
   "id": "c3650c48",
   "metadata": {},
   "outputs": [
    {
     "name": "stdout",
     "output_type": "stream",
     "text": [
      "Manual commit\n"
     ]
    }
   ],
   "source": [
    "print(\"Manual commit\")"
   ]
  }
 ],
 "metadata": {
  "kernelspec": {
   "display_name": "Python 3",
   "language": "python",
   "name": "python3"
  },
  "language_info": {
   "codemirror_mode": {
    "name": "ipython",
    "version": 3
   },
   "file_extension": ".py",
   "mimetype": "text/x-python",
   "name": "python",
   "nbconvert_exporter": "python",
   "pygments_lexer": "ipython3",
   "version": "3.7.10"
  }
 },
 "nbformat": 4,
 "nbformat_minor": 5
}
